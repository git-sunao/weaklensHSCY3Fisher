{
 "cells": [
  {
   "cell_type": "code",
   "execution_count": 2,
   "metadata": {},
   "outputs": [
    {
     "name": "stdout",
     "output_type": "stream",
     "text": [
      "using dark_emulator at  /Users/sugiyamasunao/Documents/python_package/dark_emulator_public/dark_emulator/__init__.py\n"
     ]
    }
   ],
   "source": [
    "import numpy as np\n",
    "import hsc3x2pt"
   ]
  },
  {
   "cell_type": "markdown",
   "metadata": {},
   "source": [
    "## parameters of HSC Y3 analysis\n",
    "### SDSS"
   ]
  },
  {
   "cell_type": "code",
   "execution_count": 7,
   "metadata": {},
   "outputs": [
    {
     "name": "stdout",
     "output_type": "stream",
     "text": [
      "40.36144578313253 arcmin^-2\n",
      "20.06024096385542 arcmin^-2\n",
      "30.120481927710845 arcmin^-2\n"
     ]
    }
   ],
   "source": [
    "ng_lowz = 1.8 # (Mpc/h)^-3\n",
    "ng_cmass1 = 0.74\n",
    "ng_cmass2 = 0.45\n",
    "Om_boss = 8300.0 # deg^2\n",
    "v_lowz = 0.67 # Gpc/h^3\n",
    "v_cmass1 = 0.81\n",
    "v_cmass2 = 2\n",
    "\n",
    "ng2d_lowz   = ng_lowz*1e9*v_lowz   / (Om_boss*60.**2)\n",
    "ng2d_cmass1 = ng_cmass1*1e9*v_cmass1 / (Om_boss*60.**2)\n",
    "ng2d_cmass2 = ng_cmass2*1e9*v_cmass2 / (Om_boss*60.**2)\n",
    "\n",
    "print(f'{ng2d_lowz} arcmin^-2')\n",
    "print(f'{ng2d_cmass1} arcmin^-2')\n",
    "print(f'{ng2d_cmass2} arcmin^-2')"
   ]
  },
  {
   "cell_type": "markdown",
   "metadata": {},
   "source": [
    "### HSC Y1"
   ]
  },
  {
   "cell_type": "code",
   "execution_count": 8,
   "metadata": {},
   "outputs": [
    {
     "name": "stdout",
     "output_type": "stream",
     "text": [
      "103290218.99676953/rad^2\n"
     ]
    }
   ],
   "source": [
    "ns = 8.74 # arcmin^-2 Y1 single source bin\n",
    "Om_hsc_y1 = 140.0 # deg^2\n",
    "Om_hsc_y3 = 400.0 # deg^2\n",
    "e = 0.2"
   ]
  },
  {
   "cell_type": "code",
   "execution_count": null,
   "metadata": {},
   "outputs": [],
   "source": []
  }
 ],
 "metadata": {
  "kernelspec": {
   "display_name": "Python 3",
   "language": "python",
   "name": "python3"
  },
  "language_info": {
   "codemirror_mode": {
    "name": "ipython",
    "version": 3
   },
   "file_extension": ".py",
   "mimetype": "text/x-python",
   "name": "python",
   "nbconvert_exporter": "python",
   "pygments_lexer": "ipython3",
   "version": "3.7.3"
  }
 },
 "nbformat": 4,
 "nbformat_minor": 4
}
