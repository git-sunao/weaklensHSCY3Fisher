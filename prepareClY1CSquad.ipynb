{
 "cells": [
  {
   "cell_type": "code",
   "execution_count": 1,
   "metadata": {},
   "outputs": [
    {
     "name": "stdout",
     "output_type": "stream",
     "text": [
      "Populating the interactive namespace from numpy and matplotlib\n"
     ]
    }
   ],
   "source": [
    "%load_ext autoreload\n",
    "%autoreload 2\n",
    "%pylab inline"
   ]
  },
  {
   "cell_type": "code",
   "execution_count": 2,
   "metadata": {},
   "outputs": [
    {
     "name": "stdout",
     "output_type": "stream",
     "text": [
      "using dark_emulator at  /Users/sugiyamasunao/Documents/python_package/dark_emulator_public/dark_emulator/__init__.py\n"
     ]
    }
   ],
   "source": [
    "import numpy as np\n",
    "from dark_emulator_public import dark_emulator\n",
    "import os, sys, time, json\n",
    "import matplotlib.pyplot as plt\n",
    "from collections import OrderedDict as od\n",
    "from scipy.interpolate import InterpolatedUnivariateSpline as ius\n",
    "from scipy.interpolate import interp2d, interp1d\n",
    "from scipy.integrate import simps\n",
    "from tqdm import tqdm\n",
    "import hsc3x2pt"
   ]
  },
  {
   "cell_type": "markdown",
   "metadata": {},
   "source": [
    "## Preparation for Fisher\n",
    "Computation of $C(l)$ takes ~20 sec for each cosmology.\n",
    "So this notebook pre-compute $C(l)$ for cosmologies needed for Fisher analysis.\n",
    "\n",
    "Model parameters of **Cosmic Shear** analysis with quadruple source redshift bins are\n",
    "- comsology: 5\n",
    "- photo-z: 1x4\n",
    "- multiplicative bais: 1x4\n",
    "\n",
    "13 parameters in total.\n",
    "\n",
    "$C(l)$s depend on cosmological parameters, galaxy bias and magnification bias, for which we need to compute $C(l)$.\n",
    "\n",
    "**Note** : Fisher analysis is doable even if the computational time for one model reaches ~20 sec. However, in the real analysis, ~20 sec is too much to run sampling code. \n",
    "I just want to know how people in cosmic shear, like Hikage-san and Hamana-san, or people in 3x2pt, like DES or KiDS, implement code of $C(l)$.?"
   ]
  },
  {
   "cell_type": "code",
   "execution_count": 3,
   "metadata": {},
   "outputs": [
    {
     "name": "stdout",
     "output_type": "stream",
     "text": [
      "initialize cosmo_class\n",
      "Initialize pklin emulator\n",
      "initialize propagator emulator\n",
      "Initialize sigma_d emulator\n",
      "initialize cross-correlation emulator\n",
      "initialize auto-correlation emulator\n",
      "Initialize sigmaM emulator\n",
      "initialize xinl emulator\n"
     ]
    }
   ],
   "source": [
    "power_b1 = hsc3x2pt.power_b1_class()"
   ]
  },
  {
   "cell_type": "code",
   "execution_count": 4,
   "metadata": {},
   "outputs": [],
   "source": [
    "Omega_s_HSC = 140"
   ]
  },
  {
   "cell_type": "markdown",
   "metadata": {},
   "source": [
    "### List of models to compute $C(l)$ to compute **double** source bins anlaysis\n",
    "\n",
    "0. fiducial = Planck cosmology + fiducial galaxy bias, magnification bais + 0 photo-z and multiplicative bias\n",
    "1. $\\omega_b h^2$ +\n",
    "2. $\\omega_c h^2$ +\n",
    "3. $\\Omega_{\\rm de}$ +\n",
    "4. $n_{\\rm s}$ +\n",
    "5. $\\ln 10^{10}A_{\\rm s}$ +\n",
    "6. $\\Delta z_{\\rm ph,1}$ +\n",
    "7. $\\Delta z_{\\rm ph,2}$ +\n",
    "8. $\\Delta z_{\\rm ph,3}$ +\n",
    "9. $\\Delta z_{\\rm ph,4}$ +\n",
    "10. $\\Delta m_1$ + \n",
    "11. $\\Delta m_2$ + \n",
    "12. $\\Delta m_3$ + \n",
    "13. $\\Delta m_4$ + "
   ]
  },
  {
   "cell_type": "code",
   "execution_count": 5,
   "metadata": {},
   "outputs": [],
   "source": [
    "dirname = 'quadruple_source_ClY1'\n",
    "\n",
    "def compute(params, dir_to_save, compute_lens_cross=False):\n",
    "    t0 = time.time()\n",
    "    ombh2, omch2, Ode, sigma8, ns, dzph1, dm1, dzph2, dm2, dzph3, dm3, dzph4, dm4 = params\n",
    "    g_s1 = hsc3x2pt.galaxy_sample_source_class(['s1', 'sourcePzs_Y1/MLZs1.txt', dzph1, dm1, 0.2, '4.37 arcmin^-2'])\n",
    "    g_s2 = hsc3x2pt.galaxy_sample_source_class(['s2', 'sourcePzs_Y1/MLZs2.txt', dzph2, dm2, 0.2, '4.37 arcmin^-2'])\n",
    "    g_s3 = hsc3x2pt.galaxy_sample_source_class(['s3', 'sourcePzs_Y1/MLZs3.txt', dzph3, dm3, 0.2, '4.37 arcmin^-2'])\n",
    "    g_s4 = hsc3x2pt.galaxy_sample_source_class(['s4', 'sourcePzs_Y1/MLZs4.txt', dzph4, dm4, 0.2, '4.37 arcmin^-2'])\n",
    "    pk2cl = hsc3x2pt.pk2cl_class(power_b1)\n",
    "    pk2cl.set_galaxy_sample(g_s1)\n",
    "    pk2cl.set_galaxy_sample(g_s2)\n",
    "    pk2cl.set_galaxy_sample(g_s3)\n",
    "    pk2cl.set_galaxy_sample(g_s4)\n",
    "    # set cosmo\n",
    "    cosmo_dict = dict(zip(['omega_b', 'omega_c', 'Omega_de', 'ln10p10As', 'n_s', 'w_de'], [ombh2, omch2, Ode, 3.094, ns, -1]))\n",
    "    pk2cl.set_cosmology_from_dict(cosmo_dict)\n",
    "    sigma8_temp = pk2cl.pk_class.get_sigma8()\n",
    "    ln10p10As = 3.094 + 2*np.log(sigma8/sigma8_temp)\n",
    "    print(f'ln10p10As={ln10p10As}')\n",
    "    cosmo_dict = dict(zip(['omega_b', 'omega_c', 'Omega_de', 'ln10p10As', 'n_s', 'w_de'], [ombh2, omch2, Ode, ln10p10As, ns, -1]))\n",
    "    pk2cl.set_cosmology_from_dict(cosmo_dict)\n",
    "    \n",
    "    pk2cl.init_pk()\n",
    "    pk2cl.set_Omega_s({'w':8300, 'gamma_t':Omega_s_HSC, 'xi':Omega_s_HSC}) # HSCY1\n",
    "\n",
    "    l = np.logspace(-2, 5, 1000)\n",
    "    with hsc3x2pt.Time():\n",
    "        pk2cl.compute_all_Cl(l, compute_lens_cross=compute_lens_cross)\n",
    "    pk2cl.dump_Cl_cache(f'{dirname}/{dir_to_save}', overwrite=True)\n",
    "    t1 = time.time()\n",
    "    print(f'{t1-t0} sec')"
   ]
  },
  {
   "cell_type": "code",
   "execution_count": 6,
   "metadata": {},
   "outputs": [],
   "source": [
    "dp = 0.01\n",
    "file_param = od()\n",
    "\n",
    "def save_dparam(dparam, dir_to_save):\n",
    "    fname = os.path.join(dirname, 'file_param.json')\n",
    "    if os.path.exists(fname):\n",
    "        file_param = json.load(open(fname, 'r'), object_pairs_hook=od) \n",
    "    else:\n",
    "        file_param = od()\n",
    "    file_param[dir_to_save] = dparam\n",
    "    json.dump(file_param, open(fname, 'w'), indent=2)"
   ]
  },
  {
   "cell_type": "code",
   "execution_count": 8,
   "metadata": {},
   "outputs": [
    {
     "name": "stdout",
     "output_type": "stream",
     "text": [
      "ln10p10As=3.0972126913059492\n",
      ":11.326705932617188 sec\n",
      "saving l to quadruple_source_ClY1/fiducial/l.txt\n",
      "saving s1,s1 to quadruple_source_ClY1/fiducial/s1,s1.txt\n",
      "saving s1,s2 to quadruple_source_ClY1/fiducial/s1,s2.txt\n",
      "saving s1,s3 to quadruple_source_ClY1/fiducial/s1,s3.txt\n",
      "saving s1,s4 to quadruple_source_ClY1/fiducial/s1,s4.txt\n",
      "saving s2,s1 to quadruple_source_ClY1/fiducial/s2,s1.txt\n",
      "saving s2,s2 to quadruple_source_ClY1/fiducial/s2,s2.txt\n",
      "saving s2,s3 to quadruple_source_ClY1/fiducial/s2,s3.txt\n",
      "saving s2,s4 to quadruple_source_ClY1/fiducial/s2,s4.txt\n",
      "saving s3,s1 to quadruple_source_ClY1/fiducial/s3,s1.txt\n",
      "saving s3,s2 to quadruple_source_ClY1/fiducial/s3,s2.txt\n",
      "saving s3,s3 to quadruple_source_ClY1/fiducial/s3,s3.txt\n",
      "saving s3,s4 to quadruple_source_ClY1/fiducial/s3,s4.txt\n",
      "saving s4,s1 to quadruple_source_ClY1/fiducial/s4,s1.txt\n",
      "saving s4,s2 to quadruple_source_ClY1/fiducial/s4,s2.txt\n",
      "saving s4,s3 to quadruple_source_ClY1/fiducial/s4,s3.txt\n",
      "saving s4,s4 to quadruple_source_ClY1/fiducial/s4,s4.txt\n",
      "saving cosmo_dict to quadruple_source_ClY1/fiducial/cosmo_dict.json.\n",
      "saved galaxy sample s1 to galaxy_sample_s1.json\n",
      "saved galaxy sample s2 to galaxy_sample_s2.json\n",
      "saved galaxy sample s3 to galaxy_sample_s3.json\n",
      "saved galaxy sample s4 to galaxy_sample_s4.json\n",
      "11.670485019683838 sec\n"
     ]
    }
   ],
   "source": [
    "param_fiducial = [0.02225, 0.1198, 0.6844, 0.831, 0.9645, 0.0, 0.0, 0.0, 0.0, 0.0, 0.0, 0.0, 0.0]\n",
    "compute(param_fiducial, 'fiducial', compute_lens_cross=True)"
   ]
  },
  {
   "cell_type": "code",
   "execution_count": 9,
   "metadata": {},
   "outputs": [
    {
     "name": "stdout",
     "output_type": "stream",
     "text": [
      "ln10p10As=3.1004205154513964\n",
      ":10.796346187591553 sec\n",
      "saving l to quadruple_source_ClY1/omega_b/l.txt\n",
      "saving s1,s1 to quadruple_source_ClY1/omega_b/s1,s1.txt\n",
      "saving s1,s2 to quadruple_source_ClY1/omega_b/s1,s2.txt\n",
      "saving s1,s3 to quadruple_source_ClY1/omega_b/s1,s3.txt\n",
      "saving s1,s4 to quadruple_source_ClY1/omega_b/s1,s4.txt\n",
      "saving s2,s1 to quadruple_source_ClY1/omega_b/s2,s1.txt\n",
      "saving s2,s2 to quadruple_source_ClY1/omega_b/s2,s2.txt\n",
      "saving s2,s3 to quadruple_source_ClY1/omega_b/s2,s3.txt\n",
      "saving s2,s4 to quadruple_source_ClY1/omega_b/s2,s4.txt\n",
      "saving s3,s1 to quadruple_source_ClY1/omega_b/s3,s1.txt\n",
      "saving s3,s2 to quadruple_source_ClY1/omega_b/s3,s2.txt\n",
      "saving s3,s3 to quadruple_source_ClY1/omega_b/s3,s3.txt\n",
      "saving s3,s4 to quadruple_source_ClY1/omega_b/s3,s4.txt\n",
      "saving s4,s1 to quadruple_source_ClY1/omega_b/s4,s1.txt\n",
      "saving s4,s2 to quadruple_source_ClY1/omega_b/s4,s2.txt\n",
      "saving s4,s3 to quadruple_source_ClY1/omega_b/s4,s3.txt\n",
      "saving s4,s4 to quadruple_source_ClY1/omega_b/s4,s4.txt\n",
      "saving cosmo_dict to quadruple_source_ClY1/omega_b/cosmo_dict.json.\n",
      "saved galaxy sample s1 to galaxy_sample_s1.json\n",
      "saved galaxy sample s2 to galaxy_sample_s2.json\n",
      "saved galaxy sample s3 to galaxy_sample_s3.json\n",
      "saved galaxy sample s4 to galaxy_sample_s4.json\n",
      "11.122533082962036 sec\n"
     ]
    }
   ],
   "source": [
    "param = [0.02225*(1+dp), 0.1198, 0.6844, 0.831, 0.9645, 0.0, 0.0, 0.0, 0.0,0.0, 0.0, 0.0, 0.0]\n",
    "compute(param, 'omega_b')\n",
    "save_dparam(0.02225*dp, 'omega_b')"
   ]
  },
  {
   "cell_type": "code",
   "execution_count": 10,
   "metadata": {},
   "outputs": [
    {
     "name": "stdout",
     "output_type": "stream",
     "text": [
      "ln10p10As=3.082645380931363\n",
      ":11.286634922027588 sec\n",
      "saving l to quadruple_source_ClY1/omega_c/l.txt\n",
      "saving s1,s1 to quadruple_source_ClY1/omega_c/s1,s1.txt\n",
      "saving s1,s2 to quadruple_source_ClY1/omega_c/s1,s2.txt\n",
      "saving s1,s3 to quadruple_source_ClY1/omega_c/s1,s3.txt\n",
      "saving s1,s4 to quadruple_source_ClY1/omega_c/s1,s4.txt\n",
      "saving s2,s1 to quadruple_source_ClY1/omega_c/s2,s1.txt\n",
      "saving s2,s2 to quadruple_source_ClY1/omega_c/s2,s2.txt\n",
      "saving s2,s3 to quadruple_source_ClY1/omega_c/s2,s3.txt\n",
      "saving s2,s4 to quadruple_source_ClY1/omega_c/s2,s4.txt\n",
      "saving s3,s1 to quadruple_source_ClY1/omega_c/s3,s1.txt\n",
      "saving s3,s2 to quadruple_source_ClY1/omega_c/s3,s2.txt\n",
      "saving s3,s3 to quadruple_source_ClY1/omega_c/s3,s3.txt\n",
      "saving s3,s4 to quadruple_source_ClY1/omega_c/s3,s4.txt\n",
      "saving s4,s1 to quadruple_source_ClY1/omega_c/s4,s1.txt\n",
      "saving s4,s2 to quadruple_source_ClY1/omega_c/s4,s2.txt\n",
      "saving s4,s3 to quadruple_source_ClY1/omega_c/s4,s3.txt\n",
      "saving s4,s4 to quadruple_source_ClY1/omega_c/s4,s4.txt\n",
      "saving cosmo_dict to quadruple_source_ClY1/omega_c/cosmo_dict.json.\n",
      "saved galaxy sample s1 to galaxy_sample_s1.json\n",
      "saved galaxy sample s2 to galaxy_sample_s2.json\n",
      "saved galaxy sample s3 to galaxy_sample_s3.json\n",
      "saved galaxy sample s4 to galaxy_sample_s4.json\n",
      "11.85884714126587 sec\n"
     ]
    }
   ],
   "source": [
    "param = [0.02225, 0.1198*(1+dp), 0.6844, 0.831, 0.9645, 0.0, 0.0, 0.0, 0.0,  0.0, 0.0, 0.0, 0.0]\n",
    "compute(param, 'omega_c')\n",
    "save_dparam(0.1198*dp, 'omega_c')"
   ]
  },
  {
   "cell_type": "code",
   "execution_count": 11,
   "metadata": {},
   "outputs": [
    {
     "name": "stdout",
     "output_type": "stream",
     "text": [
      "ln10p10As=3.092196129211238\n",
      ":12.343871831893921 sec\n",
      "saving l to quadruple_source_ClY1/Omega_de/l.txt\n",
      "saving s1,s1 to quadruple_source_ClY1/Omega_de/s1,s1.txt\n",
      "saving s1,s2 to quadruple_source_ClY1/Omega_de/s1,s2.txt\n",
      "saving s1,s3 to quadruple_source_ClY1/Omega_de/s1,s3.txt\n",
      "saving s1,s4 to quadruple_source_ClY1/Omega_de/s1,s4.txt\n",
      "saving s2,s1 to quadruple_source_ClY1/Omega_de/s2,s1.txt\n",
      "saving s2,s2 to quadruple_source_ClY1/Omega_de/s2,s2.txt\n",
      "saving s2,s3 to quadruple_source_ClY1/Omega_de/s2,s3.txt\n",
      "saving s2,s4 to quadruple_source_ClY1/Omega_de/s2,s4.txt\n",
      "saving s3,s1 to quadruple_source_ClY1/Omega_de/s3,s1.txt\n",
      "saving s3,s2 to quadruple_source_ClY1/Omega_de/s3,s2.txt\n",
      "saving s3,s3 to quadruple_source_ClY1/Omega_de/s3,s3.txt\n",
      "saving s3,s4 to quadruple_source_ClY1/Omega_de/s3,s4.txt\n",
      "saving s4,s1 to quadruple_source_ClY1/Omega_de/s4,s1.txt\n",
      "saving s4,s2 to quadruple_source_ClY1/Omega_de/s4,s2.txt\n",
      "saving s4,s3 to quadruple_source_ClY1/Omega_de/s4,s3.txt\n",
      "saving s4,s4 to quadruple_source_ClY1/Omega_de/s4,s4.txt\n",
      "saving cosmo_dict to quadruple_source_ClY1/Omega_de/cosmo_dict.json.\n",
      "saved galaxy sample s1 to galaxy_sample_s1.json\n",
      "saved galaxy sample s2 to galaxy_sample_s2.json\n",
      "saved galaxy sample s3 to galaxy_sample_s3.json\n",
      "saved galaxy sample s4 to galaxy_sample_s4.json\n",
      "12.86308217048645 sec\n"
     ]
    }
   ],
   "source": [
    "param = [0.02225, 0.1198, 0.6844*(1+dp), 0.831, 0.9645,  0.0, 0.0, 0.0, 0.0, 0.0, 0.0, 0.0, 0.0]\n",
    "compute(param, 'Omega_de')\n",
    "save_dparam(0.6844*dp, 'Omega_de')"
   ]
  },
  {
   "cell_type": "code",
   "execution_count": 12,
   "metadata": {},
   "outputs": [
    {
     "name": "stdout",
     "output_type": "stream",
     "text": [
      "ln10p10As=3.117113353012285\n",
      ":12.441304922103882 sec\n",
      "saving l to quadruple_source_ClY1/sigma8/l.txt\n",
      "saving s1,s1 to quadruple_source_ClY1/sigma8/s1,s1.txt\n",
      "saving s1,s2 to quadruple_source_ClY1/sigma8/s1,s2.txt\n",
      "saving s1,s3 to quadruple_source_ClY1/sigma8/s1,s3.txt\n",
      "saving s1,s4 to quadruple_source_ClY1/sigma8/s1,s4.txt\n",
      "saving s2,s1 to quadruple_source_ClY1/sigma8/s2,s1.txt\n",
      "saving s2,s2 to quadruple_source_ClY1/sigma8/s2,s2.txt\n",
      "saving s2,s3 to quadruple_source_ClY1/sigma8/s2,s3.txt\n",
      "saving s2,s4 to quadruple_source_ClY1/sigma8/s2,s4.txt\n",
      "saving s3,s1 to quadruple_source_ClY1/sigma8/s3,s1.txt\n",
      "saving s3,s2 to quadruple_source_ClY1/sigma8/s3,s2.txt\n",
      "saving s3,s3 to quadruple_source_ClY1/sigma8/s3,s3.txt\n",
      "saving s3,s4 to quadruple_source_ClY1/sigma8/s3,s4.txt\n",
      "saving s4,s1 to quadruple_source_ClY1/sigma8/s4,s1.txt\n",
      "saving s4,s2 to quadruple_source_ClY1/sigma8/s4,s2.txt\n",
      "saving s4,s3 to quadruple_source_ClY1/sigma8/s4,s3.txt\n",
      "saving s4,s4 to quadruple_source_ClY1/sigma8/s4,s4.txt\n",
      "saving cosmo_dict to quadruple_source_ClY1/sigma8/cosmo_dict.json.\n",
      "saved galaxy sample s1 to galaxy_sample_s1.json\n",
      "saved galaxy sample s2 to galaxy_sample_s2.json\n",
      "saved galaxy sample s3 to galaxy_sample_s3.json\n",
      "saved galaxy sample s4 to galaxy_sample_s4.json\n",
      "13.128392934799194 sec\n"
     ]
    }
   ],
   "source": [
    "param = [0.02225, 0.1198, 0.6844, 0.831*(1.0+dp), 0.9645, 0.0, 0.0, 0.0, 0.0, 0.0, 0.0, 0.0, 0.0]\n",
    "compute(param, 'sigma8')\n",
    "save_dparam(0.831*dp, 'sigma8')"
   ]
  },
  {
   "cell_type": "code",
   "execution_count": 13,
   "metadata": {},
   "outputs": [
    {
     "name": "stdout",
     "output_type": "stream",
     "text": [
      "ln10p10As=3.0899364412116435\n",
      ":13.500309944152832 sec\n",
      "saving l to quadruple_source_ClY1/ns/l.txt\n",
      "saving s1,s1 to quadruple_source_ClY1/ns/s1,s1.txt\n",
      "saving s1,s2 to quadruple_source_ClY1/ns/s1,s2.txt\n",
      "saving s1,s3 to quadruple_source_ClY1/ns/s1,s3.txt\n",
      "saving s1,s4 to quadruple_source_ClY1/ns/s1,s4.txt\n",
      "saving s2,s1 to quadruple_source_ClY1/ns/s2,s1.txt\n",
      "saving s2,s2 to quadruple_source_ClY1/ns/s2,s2.txt\n",
      "saving s2,s3 to quadruple_source_ClY1/ns/s2,s3.txt\n",
      "saving s2,s4 to quadruple_source_ClY1/ns/s2,s4.txt\n",
      "saving s3,s1 to quadruple_source_ClY1/ns/s3,s1.txt\n",
      "saving s3,s2 to quadruple_source_ClY1/ns/s3,s2.txt\n",
      "saving s3,s3 to quadruple_source_ClY1/ns/s3,s3.txt\n",
      "saving s3,s4 to quadruple_source_ClY1/ns/s3,s4.txt\n",
      "saving s4,s1 to quadruple_source_ClY1/ns/s4,s1.txt\n",
      "saving s4,s2 to quadruple_source_ClY1/ns/s4,s2.txt\n",
      "saving s4,s3 to quadruple_source_ClY1/ns/s4,s3.txt\n",
      "saving s4,s4 to quadruple_source_ClY1/ns/s4,s4.txt\n",
      "saving cosmo_dict to quadruple_source_ClY1/ns/cosmo_dict.json.\n",
      "saved galaxy sample s1 to galaxy_sample_s1.json\n",
      "saved galaxy sample s2 to galaxy_sample_s2.json\n",
      "saved galaxy sample s3 to galaxy_sample_s3.json\n",
      "saved galaxy sample s4 to galaxy_sample_s4.json\n",
      "13.955213069915771 sec\n"
     ]
    }
   ],
   "source": [
    "param = [0.02225, 0.1198, 0.6844, 0.831, 0.9645*(1.0+dp), 0.0, 0.0, 0.0, 0.0, 0.0, 0.0, 0.0, 0.0]\n",
    "compute(param, 'ns')\n",
    "save_dparam(0.9645*dp, 'ns')"
   ]
  },
  {
   "cell_type": "code",
   "execution_count": 14,
   "metadata": {},
   "outputs": [
    {
     "name": "stdout",
     "output_type": "stream",
     "text": [
      "ln10p10As=3.0972126913059492\n",
      ":11.57505202293396 sec\n",
      "saving l to quadruple_source_ClY1/dzph1/l.txt\n",
      "saving s1,s1 to quadruple_source_ClY1/dzph1/s1,s1.txt\n",
      "saving s1,s2 to quadruple_source_ClY1/dzph1/s1,s2.txt\n",
      "saving s1,s3 to quadruple_source_ClY1/dzph1/s1,s3.txt\n",
      "saving s1,s4 to quadruple_source_ClY1/dzph1/s1,s4.txt\n",
      "saving s2,s1 to quadruple_source_ClY1/dzph1/s2,s1.txt\n",
      "saving s2,s2 to quadruple_source_ClY1/dzph1/s2,s2.txt\n",
      "saving s2,s3 to quadruple_source_ClY1/dzph1/s2,s3.txt\n",
      "saving s2,s4 to quadruple_source_ClY1/dzph1/s2,s4.txt\n",
      "saving s3,s1 to quadruple_source_ClY1/dzph1/s3,s1.txt\n",
      "saving s3,s2 to quadruple_source_ClY1/dzph1/s3,s2.txt\n",
      "saving s3,s3 to quadruple_source_ClY1/dzph1/s3,s3.txt\n",
      "saving s3,s4 to quadruple_source_ClY1/dzph1/s3,s4.txt\n",
      "saving s4,s1 to quadruple_source_ClY1/dzph1/s4,s1.txt\n",
      "saving s4,s2 to quadruple_source_ClY1/dzph1/s4,s2.txt\n",
      "saving s4,s3 to quadruple_source_ClY1/dzph1/s4,s3.txt\n",
      "saving s4,s4 to quadruple_source_ClY1/dzph1/s4,s4.txt\n",
      "saving cosmo_dict to quadruple_source_ClY1/dzph1/cosmo_dict.json.\n",
      "saved galaxy sample s1 to galaxy_sample_s1.json\n",
      "saved galaxy sample s2 to galaxy_sample_s2.json\n",
      "saved galaxy sample s3 to galaxy_sample_s3.json\n",
      "saved galaxy sample s4 to galaxy_sample_s4.json\n",
      "11.955435037612915 sec\n"
     ]
    }
   ],
   "source": [
    "param = [0.02225, 0.1198, 0.6844, 0.831, 0.9645, dp, 0.0, 0.0, 0.0, 0.0, 0.0, 0.0, 0.0]\n",
    "compute(param, 'dzph1')\n",
    "save_dparam(dp, 'dzph1')"
   ]
  },
  {
   "cell_type": "code",
   "execution_count": 15,
   "metadata": {},
   "outputs": [
    {
     "name": "stdout",
     "output_type": "stream",
     "text": [
      "ln10p10As=3.0972126913059492\n",
      ":12.013009071350098 sec\n",
      "saving l to quadruple_source_ClY1/dm1/l.txt\n",
      "saving s1,s1 to quadruple_source_ClY1/dm1/s1,s1.txt\n",
      "saving s1,s2 to quadruple_source_ClY1/dm1/s1,s2.txt\n",
      "saving s1,s3 to quadruple_source_ClY1/dm1/s1,s3.txt\n",
      "saving s1,s4 to quadruple_source_ClY1/dm1/s1,s4.txt\n",
      "saving s2,s1 to quadruple_source_ClY1/dm1/s2,s1.txt\n",
      "saving s2,s2 to quadruple_source_ClY1/dm1/s2,s2.txt\n",
      "saving s2,s3 to quadruple_source_ClY1/dm1/s2,s3.txt\n",
      "saving s2,s4 to quadruple_source_ClY1/dm1/s2,s4.txt\n",
      "saving s3,s1 to quadruple_source_ClY1/dm1/s3,s1.txt\n",
      "saving s3,s2 to quadruple_source_ClY1/dm1/s3,s2.txt\n",
      "saving s3,s3 to quadruple_source_ClY1/dm1/s3,s3.txt\n",
      "saving s3,s4 to quadruple_source_ClY1/dm1/s3,s4.txt\n",
      "saving s4,s1 to quadruple_source_ClY1/dm1/s4,s1.txt\n",
      "saving s4,s2 to quadruple_source_ClY1/dm1/s4,s2.txt\n",
      "saving s4,s3 to quadruple_source_ClY1/dm1/s4,s3.txt\n",
      "saving s4,s4 to quadruple_source_ClY1/dm1/s4,s4.txt\n",
      "saving cosmo_dict to quadruple_source_ClY1/dm1/cosmo_dict.json.\n",
      "saved galaxy sample s1 to galaxy_sample_s1.json\n",
      "saved galaxy sample s2 to galaxy_sample_s2.json\n",
      "saved galaxy sample s3 to galaxy_sample_s3.json\n",
      "saved galaxy sample s4 to galaxy_sample_s4.json\n",
      "12.363758087158203 sec\n"
     ]
    }
   ],
   "source": [
    "param = [0.02225, 0.1198, 0.6844, 0.831, 0.9645, 0.0, dp, 0.0, 0.0, 0.0, 0.0, 0.0, 0.0]\n",
    "compute(param, 'dm1')\n",
    "save_dparam(dp, 'dm1')"
   ]
  },
  {
   "cell_type": "code",
   "execution_count": 16,
   "metadata": {},
   "outputs": [
    {
     "name": "stdout",
     "output_type": "stream",
     "text": [
      "ln10p10As=3.0972126913059492\n",
      ":11.926389932632446 sec\n",
      "saving l to quadruple_source_ClY1/dzph2/l.txt\n",
      "saving s1,s1 to quadruple_source_ClY1/dzph2/s1,s1.txt\n",
      "saving s1,s2 to quadruple_source_ClY1/dzph2/s1,s2.txt\n",
      "saving s1,s3 to quadruple_source_ClY1/dzph2/s1,s3.txt\n",
      "saving s1,s4 to quadruple_source_ClY1/dzph2/s1,s4.txt\n",
      "saving s2,s1 to quadruple_source_ClY1/dzph2/s2,s1.txt\n",
      "saving s2,s2 to quadruple_source_ClY1/dzph2/s2,s2.txt\n",
      "saving s2,s3 to quadruple_source_ClY1/dzph2/s2,s3.txt\n",
      "saving s2,s4 to quadruple_source_ClY1/dzph2/s2,s4.txt\n",
      "saving s3,s1 to quadruple_source_ClY1/dzph2/s3,s1.txt\n",
      "saving s3,s2 to quadruple_source_ClY1/dzph2/s3,s2.txt\n",
      "saving s3,s3 to quadruple_source_ClY1/dzph2/s3,s3.txt\n",
      "saving s3,s4 to quadruple_source_ClY1/dzph2/s3,s4.txt\n",
      "saving s4,s1 to quadruple_source_ClY1/dzph2/s4,s1.txt\n",
      "saving s4,s2 to quadruple_source_ClY1/dzph2/s4,s2.txt\n",
      "saving s4,s3 to quadruple_source_ClY1/dzph2/s4,s3.txt\n",
      "saving s4,s4 to quadruple_source_ClY1/dzph2/s4,s4.txt\n",
      "saving cosmo_dict to quadruple_source_ClY1/dzph2/cosmo_dict.json.\n",
      "saved galaxy sample s1 to galaxy_sample_s1.json\n",
      "saved galaxy sample s2 to galaxy_sample_s2.json\n",
      "saved galaxy sample s3 to galaxy_sample_s3.json\n",
      "saved galaxy sample s4 to galaxy_sample_s4.json\n",
      "12.28735899925232 sec\n"
     ]
    }
   ],
   "source": [
    "param = [0.02225, 0.1198, 0.6844, 0.831, 0.9645, 0.0, 0.0, dp, 0.0, 0.0, 0.0, 0.0, 0.0]\n",
    "compute(param, 'dzph2')\n",
    "save_dparam(dp, 'dzph2')"
   ]
  },
  {
   "cell_type": "code",
   "execution_count": 17,
   "metadata": {},
   "outputs": [
    {
     "name": "stdout",
     "output_type": "stream",
     "text": [
      "ln10p10As=3.0972126913059492\n",
      ":13.558404207229614 sec\n",
      "saving l to quadruple_source_ClY1/dm2/l.txt\n",
      "saving s1,s1 to quadruple_source_ClY1/dm2/s1,s1.txt\n",
      "saving s1,s2 to quadruple_source_ClY1/dm2/s1,s2.txt\n",
      "saving s1,s3 to quadruple_source_ClY1/dm2/s1,s3.txt\n",
      "saving s1,s4 to quadruple_source_ClY1/dm2/s1,s4.txt\n",
      "saving s2,s1 to quadruple_source_ClY1/dm2/s2,s1.txt\n",
      "saving s2,s2 to quadruple_source_ClY1/dm2/s2,s2.txt\n",
      "saving s2,s3 to quadruple_source_ClY1/dm2/s2,s3.txt\n",
      "saving s2,s4 to quadruple_source_ClY1/dm2/s2,s4.txt\n",
      "saving s3,s1 to quadruple_source_ClY1/dm2/s3,s1.txt\n",
      "saving s3,s2 to quadruple_source_ClY1/dm2/s3,s2.txt\n",
      "saving s3,s3 to quadruple_source_ClY1/dm2/s3,s3.txt\n",
      "saving s3,s4 to quadruple_source_ClY1/dm2/s3,s4.txt\n",
      "saving s4,s1 to quadruple_source_ClY1/dm2/s4,s1.txt\n",
      "saving s4,s2 to quadruple_source_ClY1/dm2/s4,s2.txt\n",
      "saving s4,s3 to quadruple_source_ClY1/dm2/s4,s3.txt\n",
      "saving s4,s4 to quadruple_source_ClY1/dm2/s4,s4.txt\n",
      "saving cosmo_dict to quadruple_source_ClY1/dm2/cosmo_dict.json.\n",
      "saved galaxy sample s1 to galaxy_sample_s1.json\n",
      "saved galaxy sample s2 to galaxy_sample_s2.json\n",
      "saved galaxy sample s3 to galaxy_sample_s3.json\n",
      "saved galaxy sample s4 to galaxy_sample_s4.json\n",
      "14.054625034332275 sec\n"
     ]
    }
   ],
   "source": [
    "param = [0.02225, 0.1198, 0.6844, 0.831, 0.9645, 0.0, 0.0, 0.0, dp, 0.0, 0.0, 0.0, 0.0]\n",
    "compute(param, 'dm2')\n",
    "save_dparam(dp, 'dm2')"
   ]
  },
  {
   "cell_type": "code",
   "execution_count": 14,
   "metadata": {},
   "outputs": [
    {
     "name": "stdout",
     "output_type": "stream",
     "text": [
      "ln10p10As=3.0972126913059492\n",
      ":11.57505202293396 sec\n",
      "saving l to quadruple_source_ClY1/dzph1/l.txt\n",
      "saving s1,s1 to quadruple_source_ClY1/dzph1/s1,s1.txt\n",
      "saving s1,s2 to quadruple_source_ClY1/dzph1/s1,s2.txt\n",
      "saving s1,s3 to quadruple_source_ClY1/dzph1/s1,s3.txt\n",
      "saving s1,s4 to quadruple_source_ClY1/dzph1/s1,s4.txt\n",
      "saving s2,s1 to quadruple_source_ClY1/dzph1/s2,s1.txt\n",
      "saving s2,s2 to quadruple_source_ClY1/dzph1/s2,s2.txt\n",
      "saving s2,s3 to quadruple_source_ClY1/dzph1/s2,s3.txt\n",
      "saving s2,s4 to quadruple_source_ClY1/dzph1/s2,s4.txt\n",
      "saving s3,s1 to quadruple_source_ClY1/dzph1/s3,s1.txt\n",
      "saving s3,s2 to quadruple_source_ClY1/dzph1/s3,s2.txt\n",
      "saving s3,s3 to quadruple_source_ClY1/dzph1/s3,s3.txt\n",
      "saving s3,s4 to quadruple_source_ClY1/dzph1/s3,s4.txt\n",
      "saving s4,s1 to quadruple_source_ClY1/dzph1/s4,s1.txt\n",
      "saving s4,s2 to quadruple_source_ClY1/dzph1/s4,s2.txt\n",
      "saving s4,s3 to quadruple_source_ClY1/dzph1/s4,s3.txt\n",
      "saving s4,s4 to quadruple_source_ClY1/dzph1/s4,s4.txt\n",
      "saving cosmo_dict to quadruple_source_ClY1/dzph1/cosmo_dict.json.\n",
      "saved galaxy sample s1 to galaxy_sample_s1.json\n",
      "saved galaxy sample s2 to galaxy_sample_s2.json\n",
      "saved galaxy sample s3 to galaxy_sample_s3.json\n",
      "saved galaxy sample s4 to galaxy_sample_s4.json\n",
      "11.955435037612915 sec\n"
     ]
    }
   ],
   "source": [
    "param = [0.02225, 0.1198, 0.6844, 0.831, 0.9645, 0.0, 0.0, 0.0, 0.0, dp, 0.0, 0.0, 0.0]\n",
    "compute(param, 'dzph3')\n",
    "save_dparam(dp, 'dzph3')"
   ]
  },
  {
   "cell_type": "code",
   "execution_count": 18,
   "metadata": {},
   "outputs": [
    {
     "name": "stdout",
     "output_type": "stream",
     "text": [
      "ln10p10As=3.0972126913059492\n",
      ":13.498926162719727 sec\n",
      "saving l to quadruple_source_ClY1/dm4/l.txt\n",
      "saving s1,s1 to quadruple_source_ClY1/dm4/s1,s1.txt\n",
      "saving s1,s2 to quadruple_source_ClY1/dm4/s1,s2.txt\n",
      "saving s1,s3 to quadruple_source_ClY1/dm4/s1,s3.txt\n",
      "saving s1,s4 to quadruple_source_ClY1/dm4/s1,s4.txt\n",
      "saving s2,s1 to quadruple_source_ClY1/dm4/s2,s1.txt\n",
      "saving s2,s2 to quadruple_source_ClY1/dm4/s2,s2.txt\n",
      "saving s2,s3 to quadruple_source_ClY1/dm4/s2,s3.txt\n",
      "saving s2,s4 to quadruple_source_ClY1/dm4/s2,s4.txt\n",
      "saving s3,s1 to quadruple_source_ClY1/dm4/s3,s1.txt\n",
      "saving s3,s2 to quadruple_source_ClY1/dm4/s3,s2.txt\n",
      "saving s3,s3 to quadruple_source_ClY1/dm4/s3,s3.txt\n",
      "saving s3,s4 to quadruple_source_ClY1/dm4/s3,s4.txt\n",
      "saving s4,s1 to quadruple_source_ClY1/dm4/s4,s1.txt\n",
      "saving s4,s2 to quadruple_source_ClY1/dm4/s4,s2.txt\n",
      "saving s4,s3 to quadruple_source_ClY1/dm4/s4,s3.txt\n",
      "saving s4,s4 to quadruple_source_ClY1/dm4/s4,s4.txt\n",
      "saving cosmo_dict to quadruple_source_ClY1/dm4/cosmo_dict.json.\n",
      "saved galaxy sample s1 to galaxy_sample_s1.json\n",
      "saved galaxy sample s2 to galaxy_sample_s2.json\n",
      "saved galaxy sample s3 to galaxy_sample_s3.json\n",
      "saved galaxy sample s4 to galaxy_sample_s4.json\n",
      "13.913975954055786 sec\n"
     ]
    }
   ],
   "source": [
    "param = [0.02225, 0.1198, 0.6844, 0.831, 0.9645, 0.0, 0.0, 0.0, 0.0, 0.0, dp, 0.0, 0.0]\n",
    "compute(param, 'dm4')\n",
    "save_dparam(dp, 'dm4')"
   ]
  },
  {
   "cell_type": "code",
   "execution_count": 19,
   "metadata": {},
   "outputs": [
    {
     "name": "stdout",
     "output_type": "stream",
     "text": [
      "ln10p10As=3.0972126913059492\n",
      ":12.957913875579834 sec\n",
      "saving l to quadruple_source_ClY1/dzph4/l.txt\n",
      "saving s1,s1 to quadruple_source_ClY1/dzph4/s1,s1.txt\n",
      "saving s1,s2 to quadruple_source_ClY1/dzph4/s1,s2.txt\n",
      "saving s1,s3 to quadruple_source_ClY1/dzph4/s1,s3.txt\n",
      "saving s1,s4 to quadruple_source_ClY1/dzph4/s1,s4.txt\n",
      "saving s2,s1 to quadruple_source_ClY1/dzph4/s2,s1.txt\n",
      "saving s2,s2 to quadruple_source_ClY1/dzph4/s2,s2.txt\n",
      "saving s2,s3 to quadruple_source_ClY1/dzph4/s2,s3.txt\n",
      "saving s2,s4 to quadruple_source_ClY1/dzph4/s2,s4.txt\n",
      "saving s3,s1 to quadruple_source_ClY1/dzph4/s3,s1.txt\n",
      "saving s3,s2 to quadruple_source_ClY1/dzph4/s3,s2.txt\n",
      "saving s3,s3 to quadruple_source_ClY1/dzph4/s3,s3.txt\n",
      "saving s3,s4 to quadruple_source_ClY1/dzph4/s3,s4.txt\n",
      "saving s4,s1 to quadruple_source_ClY1/dzph4/s4,s1.txt\n",
      "saving s4,s2 to quadruple_source_ClY1/dzph4/s4,s2.txt\n",
      "saving s4,s3 to quadruple_source_ClY1/dzph4/s4,s3.txt\n",
      "saving s4,s4 to quadruple_source_ClY1/dzph4/s4,s4.txt\n",
      "saving cosmo_dict to quadruple_source_ClY1/dzph4/cosmo_dict.json.\n",
      "saved galaxy sample s1 to galaxy_sample_s1.json\n",
      "saved galaxy sample s2 to galaxy_sample_s2.json\n",
      "saved galaxy sample s3 to galaxy_sample_s3.json\n",
      "saved galaxy sample s4 to galaxy_sample_s4.json\n",
      "13.34987497329712 sec\n"
     ]
    }
   ],
   "source": [
    "param = [0.02225, 0.1198, 0.6844, 0.831, 0.9645, 0.0, 0.0, 0.0, 0.0, 0.0, 0.0, dp, 0.0]\n",
    "compute(param, 'dzph4')\n",
    "save_dparam(dp, 'dzph4')"
   ]
  },
  {
   "cell_type": "code",
   "execution_count": 20,
   "metadata": {},
   "outputs": [
    {
     "name": "stdout",
     "output_type": "stream",
     "text": [
      "ln10p10As=3.0972126913059492\n",
      ":12.665669918060303 sec\n",
      "saving l to quadruple_source_ClY1/dm4/l.txt\n",
      "saving s1,s1 to quadruple_source_ClY1/dm4/s1,s1.txt\n",
      "saving s1,s2 to quadruple_source_ClY1/dm4/s1,s2.txt\n",
      "saving s1,s3 to quadruple_source_ClY1/dm4/s1,s3.txt\n",
      "saving s1,s4 to quadruple_source_ClY1/dm4/s1,s4.txt\n",
      "saving s2,s1 to quadruple_source_ClY1/dm4/s2,s1.txt\n",
      "saving s2,s2 to quadruple_source_ClY1/dm4/s2,s2.txt\n",
      "saving s2,s3 to quadruple_source_ClY1/dm4/s2,s3.txt\n",
      "saving s2,s4 to quadruple_source_ClY1/dm4/s2,s4.txt\n",
      "saving s3,s1 to quadruple_source_ClY1/dm4/s3,s1.txt\n",
      "saving s3,s2 to quadruple_source_ClY1/dm4/s3,s2.txt\n",
      "saving s3,s3 to quadruple_source_ClY1/dm4/s3,s3.txt\n",
      "saving s3,s4 to quadruple_source_ClY1/dm4/s3,s4.txt\n",
      "saving s4,s1 to quadruple_source_ClY1/dm4/s4,s1.txt\n",
      "saving s4,s2 to quadruple_source_ClY1/dm4/s4,s2.txt\n",
      "saving s4,s3 to quadruple_source_ClY1/dm4/s4,s3.txt\n",
      "saving s4,s4 to quadruple_source_ClY1/dm4/s4,s4.txt\n",
      "saving cosmo_dict to quadruple_source_ClY1/dm4/cosmo_dict.json.\n",
      "saved galaxy sample s1 to galaxy_sample_s1.json\n",
      "saved galaxy sample s2 to galaxy_sample_s2.json\n",
      "saved galaxy sample s3 to galaxy_sample_s3.json\n",
      "saved galaxy sample s4 to galaxy_sample_s4.json\n",
      "13.251446962356567 sec\n"
     ]
    }
   ],
   "source": [
    "param = [0.02225, 0.1198, 0.6844, 0.831, 0.9645, 0.0, 0.0, 0.0, 0.0, 0.0, 0.0, 0.0, dp]\n",
    "compute(param, 'dm4')\n",
    "save_dparam(dp, 'dm4')"
   ]
  },
  {
   "cell_type": "code",
   "execution_count": 21,
   "metadata": {},
   "outputs": [],
   "source": [
    "np.savetxt(os.path.join(dirname, 'param_fiducial.txt'), np.array(param_fiducial))"
   ]
  },
  {
   "cell_type": "code",
   "execution_count": null,
   "metadata": {},
   "outputs": [],
   "source": []
  }
 ],
 "metadata": {
  "kernelspec": {
   "display_name": "Python 3",
   "language": "python",
   "name": "python3"
  },
  "language_info": {
   "codemirror_mode": {
    "name": "ipython",
    "version": 3
   },
   "file_extension": ".py",
   "mimetype": "text/x-python",
   "name": "python",
   "nbconvert_exporter": "python",
   "pygments_lexer": "ipython3",
   "version": "3.7.3"
  }
 },
 "nbformat": 4,
 "nbformat_minor": 4
}
