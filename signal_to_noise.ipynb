{
 "cells": [
  {
   "cell_type": "code",
   "execution_count": 1,
   "metadata": {},
   "outputs": [
    {
     "name": "stdout",
     "output_type": "stream",
     "text": [
      "Populating the interactive namespace from numpy and matplotlib\n"
     ]
    }
   ],
   "source": [
    "%load_ext autoreload\n",
    "%autoreload 2\n",
    "%pylab inline"
   ]
  },
  {
   "cell_type": "code",
   "execution_count": 2,
   "metadata": {},
   "outputs": [
    {
     "name": "stdout",
     "output_type": "stream",
     "text": [
      "using dark_emulator at  /lustre/work/sunao.sugiyama/package/dark_emulator_public/dark_emulator/__init__.py\n"
     ]
    }
   ],
   "source": [
    "import numpy as np\n",
    "from dark_emulator_public import dark_emulator\n",
    "import os, sys, time, json, copy\n",
    "import matplotlib.pyplot as plt\n",
    "from collections import OrderedDict as od\n",
    "from scipy.interpolate import InterpolatedUnivariateSpline as ius\n",
    "from scipy.interpolate import interp2d, interp1d\n",
    "from scipy.integrate import simps\n",
    "from tqdm import tqdm\n",
    "import hsc3x2pt"
   ]
  },
  {
   "cell_type": "code",
   "execution_count": 3,
   "metadata": {},
   "outputs": [
    {
     "name": "stdout",
     "output_type": "stream",
     "text": [
      "initialize cosmo_class\n",
      "Initialize pklin emulator\n",
      "initialize propagator emulator\n",
      "Initialize sigma_d emulator\n",
      "initialize cross-correlation emulator\n",
      "initialize auto-correlation emulator\n",
      "Initialize sigmaM emulator\n",
      "initialize xinl emulator\n"
     ]
    }
   ],
   "source": [
    "power_b1 = hsc3x2pt.power_b1_class()"
   ]
  },
  {
   "cell_type": "markdown",
   "metadata": {},
   "source": [
    "## signal-to-noise ratio"
   ]
  },
  {
   "cell_type": "code",
   "execution_count": 4,
   "metadata": {},
   "outputs": [
    {
     "name": "stdout",
     "output_type": "stream",
     "text": [
      "cov.shape = (83, 83), dim(data)=(83,)\n"
     ]
    }
   ],
   "source": [
    "dirname = './single_source_ClY1'\n",
    "x,y,y_dict,cov, pnames, param_fid, F = hsc3x2pt.getFisherMat(dirname, power_b1)"
   ]
  },
  {
   "cell_type": "markdown",
   "metadata": {},
   "source": [
    "### galaxy clustering SNR"
   ]
  },
  {
   "cell_type": "code",
   "execution_count": 5,
   "metadata": {},
   "outputs": [
    {
     "data": {
      "image/png": "[encoded data removed]",
      "text/plain": [
       "<Figure size 432x288 with 1 Axes>"
      ]
     },
     "metadata": {
      "needs_background": "light"
     },
     "output_type": "display_data"
    }
   ],
   "source": [
    "fig, ax = plt.subplots(1,1)\n",
    "\n",
    "sample = 'lowz'\n",
    "names = ','.join([sample]*2)\n",
    "\n",
    "t = x.get_theta('w', names)\n",
    "d = y.get_signal('w', names)\n",
    "c = cov.get_covariance('w', names, 'w', names)\n",
    "v = np.diag(c)**0.5\n",
    "ax.errorbar(t, t*d, t*v, fmt='.')\n",
    "#ax.set_yscale('log')\n",
    "ax.set_xscale('log')\n",
    "\n",
    "plt.show()"
   ]
  },
  {
   "cell_type": "code",
   "execution_count": 6,
   "metadata": {},
   "outputs": [
    {
     "name": "stdout",
     "output_type": "stream",
     "text": [
      "20.407093179475446\n"
     ]
    }
   ],
   "source": [
    "ic = np.linalg.inv(c)\n",
    "sn = np.dot(d, np.dot(ic, d))**0.5\n",
    "print(sn)"
   ]
  },
  {
   "cell_type": "code",
   "execution_count": 7,
   "metadata": {},
   "outputs": [],
   "source": [
    "pk2cl = hsc3x2pt.pk2cl_class(power_b1)\n",
    "pk2cl.load_Cl_cache(dirname+'/fiducial')"
   ]
  },
  {
   "cell_type": "code",
   "execution_count": 8,
   "metadata": {},
   "outputs": [
    {
     "name": "stdout",
     "output_type": "stream",
     "text": [
      "20.407093179475446 399.9028762183872\n",
      "28.17544044352334 180.2343343492555\n",
      "27.34605854405116 315.0597524042487\n"
     ]
    },
    {
     "data": {
      "image/png": "[encoded data removed]",
      "text/plain": [
       "<Figure size 432x288 with 1 Axes>"
      ]
     },
     "metadata": {
      "needs_background": "light"
     },
     "output_type": "display_data"
    }
   ],
   "source": [
    "fig, ax = plt.subplots(1,1)\n",
    "\n",
    "for sample in ['lowz', 'cmass1', 'cmass2']:\n",
    "#for sample in ['lowz','cmass2']:\n",
    "    names = ','.join([sample]*2)\n",
    "    \n",
    "    g_l = pk2cl.galaxy_sample_dict[sample]\n",
    "    zl = g_l.z_lens_eff\n",
    "    chil = g_l.z2chi(zl)\n",
    "    dchil = g_l.get_Delta_chi_g()\n",
    "\n",
    "    t = x.get_theta('w', names)\n",
    "    d = y.get_signal('w', names)\n",
    "    c = cov.get_covariance('w', names, 'w', names)\n",
    "    v = np.diag(c)**0.5\n",
    "    R = t*chil\n",
    "    ax.errorbar(R, R*d*dchil, R*v*dchil, fmt='.', label=sample)\n",
    "    \n",
    "    ic = np.linalg.inv(c)\n",
    "    sn = np.dot(d, np.dot(ic, d))**0.5\n",
    "    print(sn, dchil)\n",
    "\n",
    "ax.set_xscale('log')\n",
    "ax.set_xlabel('R[Mpc/h]')\n",
    "ax.legend()\n",
    "\n",
    "plt.show()"
   ]
  },
  {
   "cell_type": "code",
   "execution_count": null,
   "metadata": {},
   "outputs": [],
   "source": []
  },
  {
   "cell_type": "code",
   "execution_count": null,
   "metadata": {},
   "outputs": [],
   "source": []
  },
  {
   "cell_type": "code",
   "execution_count": null,
   "metadata": {},
   "outputs": [],
   "source": []
  },
  {
   "cell_type": "code",
   "execution_count": null,
   "metadata": {},
   "outputs": [],
   "source": []
  },
  {
   "cell_type": "code",
   "execution_count": null,
   "metadata": {},
   "outputs": [],
   "source": []
  },
  {
   "cell_type": "code",
   "execution_count": null,
   "metadata": {},
   "outputs": [],
   "source": []
  },
  {
   "cell_type": "markdown",
   "metadata": {},
   "source": [
    "## g-g lensing SNR"
   ]
  },
  {
   "cell_type": "code",
   "execution_count": 8,
   "metadata": {},
   "outputs": [],
   "source": [
    "# Sigma_cr"
   ]
  },
  {
   "cell_type": "code",
   "execution_count": 11,
   "metadata": {},
   "outputs": [],
   "source": [
    "pk2cl = hsc3x2pt.pk2cl_class(power_b1)\n",
    "pk2cl.load_Cl_cache(dirname+'/fiducial')"
   ]
  },
  {
   "cell_type": "code",
   "execution_count": 20,
   "metadata": {},
   "outputs": [],
   "source": [
    "g_l = pk2cl.galaxy_sample_dict['cmass2']\n",
    "g_s = pk2cl.galaxy_sample_dict['s12']\n",
    "zl = g_l.z_lens_eff\n",
    "chil = g_l.z2chi(zl)\n",
    "zs = g_s.z_source_eff\n",
    "chis = g_s.z2chi(zs)\n",
    "Sigma_cr = (3.0/2.0*hsc3x2pt.H0**2*(1+zl)*chil*(chis-chil)/chil)**-1.0"
   ]
  },
  {
   "cell_type": "code",
   "execution_count": 30,
   "metadata": {},
   "outputs": [
    {
     "name": "stdout",
     "output_type": "stream",
     "text": [
      "3.958136204295311\n",
      "6.567873699572393\n",
      "9.245255851693303\n"
     ]
    },
    {
     "data": {
      "image/png": "[encoded data removed]",
      "text/plain": [
       "<Figure size 432x288 with 1 Axes>"
      ]
     },
     "metadata": {
      "needs_background": "light"
     },
     "output_type": "display_data"
    }
   ],
   "source": [
    "fig, ax = plt.subplots(1,1)\n",
    "\n",
    "for sample in ['lowz', 'cmass1', 'cmass2']:\n",
    "    names = ','.join([sample, 's12'])\n",
    "\n",
    "    t = x.get_theta('gamma_t', names)\n",
    "    d = y.get_signal('gamma_t', names)\n",
    "    c = cov.get_covariance('gamma_t', names, 'gamma_t', names)\n",
    "    v = np.diag(c)**0.5\n",
    "    \n",
    "    # sigma crit\n",
    "    g_l = pk2cl.galaxy_sample_dict[sample]\n",
    "    g_s = pk2cl.galaxy_sample_dict['s12']\n",
    "    zl = g_l.z_lens_eff\n",
    "    chil = g_l.z2chi(zl)\n",
    "    zs = g_s.z_source_eff\n",
    "    chis = g_s.z2chi(zs)\n",
    "    Sigma_cr = (3.0/2.0*hsc3x2pt.H0**2*(1+zl)*chil*(chis-chil)/chil)**-1.0\n",
    "    \n",
    "    R = t*chil\n",
    "    ax.errorbar(R, R*d*Sigma_cr, R*v*Sigma_cr, fmt='.', label=sample)\n",
    "    \n",
    "    ic = np.linalg.inv(c)\n",
    "    sn = np.dot(d, np.dot(ic, d))**0.5\n",
    "    print(sn)\n",
    "\n",
    "ax.set_xscale('log')\n",
    "ax.set_xlabel('R[Mpc/h]')\n",
    "ax.set_ylabel('RDeltaSigma[Mpc/h]')\n",
    "ax.legend()\n",
    "\n",
    "plt.show()"
   ]
  },
  {
   "cell_type": "code",
   "execution_count": 32,
   "metadata": {},
   "outputs": [
    {
     "data": {
      "image/png": "[encoded data removed]",
      "text/plain": [
       "<Figure size 432x288 with 1 Axes>"
      ]
     },
     "metadata": {
      "needs_background": "light"
     },
     "output_type": "display_data"
    }
   ],
   "source": [
    "fig, ax = plt.subplots(1,1)\n",
    "\n",
    "sample = 'lowz'\n",
    "probe = 'gamma_t'\n",
    "names = ','.join([sample, 's12'])\n",
    "\n",
    "t = x.get_theta(probe, names)\n",
    "d = y.get_signal(probe, names)\n",
    "c = cov.get_covariance(probe, names, probe, names)\n",
    "v = np.diag(c)**0.5\n",
    "ax.errorbar(t, t*d, t*v, fmt='.')\n",
    "#ax.set_yscale('log')\n",
    "ax.set_xscale('log')\n",
    "\n",
    "plt.show()"
   ]
  },
  {
   "cell_type": "code",
   "execution_count": 33,
   "metadata": {},
   "outputs": [
    {
     "name": "stdout",
     "output_type": "stream",
     "text": [
      "4.86651854387884\n"
     ]
    }
   ],
   "source": [
    "ic = np.linalg.inv(c)\n",
    "sn = np.dot(d, np.dot(ic, d))**0.5\n",
    "print(sn)"
   ]
  },
  {
   "cell_type": "code",
   "execution_count": null,
   "metadata": {},
   "outputs": [],
   "source": []
  }
 ],
 "metadata": {
  "kernelspec": {
   "display_name": "Python 3",
   "language": "python",
   "name": "python3"
  },
  "language_info": {
   "codemirror_mode": {
    "name": "ipython",
    "version": 3
   },
   "file_extension": ".py",
   "mimetype": "text/x-python",
   "name": "python",
   "nbconvert_exporter": "python",
   "pygments_lexer": "ipython3",
   "version": "3.8.5"
  }
 },
 "nbformat": 4,
 "nbformat_minor": 4
}
