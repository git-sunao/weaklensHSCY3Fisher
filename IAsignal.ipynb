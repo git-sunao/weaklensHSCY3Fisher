{
 "cells": [
  {
   "cell_type": "code",
   "execution_count": 1,
   "metadata": {},
   "outputs": [
    {
     "name": "stdout",
     "output_type": "stream",
     "text": [
      "Populating the interactive namespace from numpy and matplotlib\n"
     ]
    }
   ],
   "source": [
    "%load_ext autoreload\n",
    "%autoreload 2\n",
    "%pylab inline"
   ]
  },
  {
   "cell_type": "code",
   "execution_count": 2,
   "metadata": {},
   "outputs": [
    {
     "name": "stdout",
     "output_type": "stream",
     "text": [
      "using dark_emulator at  /lustre/work/sunao.sugiyama/package/dark_emulator_public/dark_emulator/__init__.py\n"
     ]
    }
   ],
   "source": [
    "import numpy as np\n",
    "from dark_emulator_public import dark_emulator\n",
    "import os, sys, time, json, copy\n",
    "import matplotlib.pyplot as plt\n",
    "from collections import OrderedDict as od\n",
    "from scipy.interpolate import InterpolatedUnivariateSpline as ius\n",
    "from scipy.interpolate import interp2d, interp1d\n",
    "from scipy.integrate import simps\n",
    "from tqdm import tqdm\n",
    "import hsc3x2pt"
   ]
  },
  {
   "cell_type": "code",
   "execution_count": 3,
   "metadata": {},
   "outputs": [
    {
     "name": "stdout",
     "output_type": "stream",
     "text": [
      "initialize cosmo_class\n",
      "Initialize pklin emulator\n",
      "initialize propagator emulator\n",
      "Initialize sigma_d emulator\n",
      "initialize cross-correlation emulator\n",
      "initialize auto-correlation emulator\n",
      "Initialize sigmaM emulator\n",
      "initialize xinl emulator\n"
     ]
    }
   ],
   "source": [
    "power_b1 = hsc3x2pt.power_b1_class()"
   ]
  },
  {
   "cell_type": "code",
   "execution_count": null,
   "metadata": {},
   "outputs": [],
   "source": []
  },
  {
   "cell_type": "code",
   "execution_count": 52,
   "metadata": {},
   "outputs": [],
   "source": [
    "l = np.logspace(-2, 5, 1000)"
   ]
  },
  {
   "cell_type": "code",
   "execution_count": 53,
   "metadata": {},
   "outputs": [],
   "source": [
    "pk2cl = hsc3x2pt.pk2cl_class(power_b1)\n",
    "g_s12= hsc3x2pt.galaxy_sample_source_IA_class(['s12', 'sourcePzs_Y1/MLZs34.txt', \n",
    "                                               0.0, 0.0, 0.0, 3.0, \n",
    "                                               0.4, '7.5 arcmin^-2'])\n",
    "pk2cl.set_galaxy_sample(g_s12)\n",
    "cosmo_dict = power_b1.get_cosmo_dict()\n",
    "pk2cl.set_cosmology_from_dict(cosmo_dict)\n",
    "pk2cl.init_pk()\n",
    "CGG = pk2cl.CEE('s12', 's12', l)"
   ]
  },
  {
   "cell_type": "code",
   "execution_count": null,
   "metadata": {},
   "outputs": [],
   "source": []
  },
  {
   "cell_type": "code",
   "execution_count": null,
   "metadata": {},
   "outputs": [],
   "source": []
  },
  {
   "cell_type": "code",
   "execution_count": 65,
   "metadata": {},
   "outputs": [],
   "source": [
    "pk2cl = hsc3x2pt.pk2cl_class(power_b1)\n",
    "g_s12= hsc3x2pt.galaxy_sample_source_IA_class(['s12', 'sourcePzs_Y1/MLZs34.txt', \n",
    "                                               0.0, 0.0, 10.0, 3.0, \n",
    "                                               0.4, '7.5 arcmin^-2'])\n",
    "pk2cl.set_galaxy_sample(g_s12)\n",
    "cosmo_dict = power_b1.get_cosmo_dict()\n",
    "pk2cl.set_cosmology_from_dict(cosmo_dict)\n",
    "pk2cl.init_pk()\n",
    "CGGII = pk2cl.CEE('s12', 's12', l)"
   ]
  },
  {
   "cell_type": "code",
   "execution_count": null,
   "metadata": {},
   "outputs": [],
   "source": []
  },
  {
   "cell_type": "code",
   "execution_count": 66,
   "metadata": {},
   "outputs": [
    {
     "data": {
      "image/png": "[encoded data removed]",
      "text/plain": [
       "<Figure size 432x288 with 1 Axes>"
      ]
     },
     "metadata": {
      "needs_background": "light"
     },
     "output_type": "display_data"
    }
   ],
   "source": [
    "plt.figure()\n",
    "plt.loglog(l, CGG)\n",
    "plt.loglog(l, CGGII)\n",
    "plt.loglog(l, CGGII-CGG)\n",
    "plt.show()"
   ]
  },
  {
   "cell_type": "code",
   "execution_count": null,
   "metadata": {},
   "outputs": [],
   "source": []
  },
  {
   "cell_type": "code",
   "execution_count": null,
   "metadata": {},
   "outputs": [],
   "source": []
  },
  {
   "cell_type": "code",
   "execution_count": null,
   "metadata": {},
   "outputs": [],
   "source": []
  }
 ],
 "metadata": {
  "kernelspec": {
   "display_name": "Python 3",
   "language": "python",
   "name": "python3"
  },
  "language_info": {
   "codemirror_mode": {
    "name": "ipython",
    "version": 3
   },
   "file_extension": ".py",
   "mimetype": "text/x-python",
   "name": "python",
   "nbconvert_exporter": "python",
   "pygments_lexer": "ipython3",
   "version": "3.8.5"
  }
 },
 "nbformat": 4,
 "nbformat_minor": 4
}
