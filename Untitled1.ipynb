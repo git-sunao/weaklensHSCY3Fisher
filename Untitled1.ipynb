{
 "cells": [
  {
   "cell_type": "code",
   "execution_count": 1,
   "metadata": {},
   "outputs": [
    {
     "name": "stdout",
     "output_type": "stream",
     "text": [
      "Populating the interactive namespace from numpy and matplotlib\n"
     ]
    }
   ],
   "source": [
    "%load_ext autoreload\n",
    "%autoreload 2\n",
    "%pylab inline"
   ]
  },
  {
   "cell_type": "code",
   "execution_count": 2,
   "metadata": {},
   "outputs": [
    {
     "name": "stdout",
     "output_type": "stream",
     "text": [
      "using dark_emulator at  /Users/sunao-mac/Documents/python_package/dark_emulator_public/dark_emulator/__init__.py\n"
     ]
    }
   ],
   "source": [
    "import numpy as np\n",
    "from dark_emulator_public import dark_emulator\n",
    "import os, sys, time, json, copy\n",
    "import matplotlib.pyplot as plt\n",
    "from collections import OrderedDict as od\n",
    "from scipy.interpolate import InterpolatedUnivariateSpline as ius\n",
    "from scipy.interpolate import interp2d, interp1d\n",
    "from scipy.integrate import simps\n",
    "from tqdm import tqdm\n",
    "import hsc3x2pt"
   ]
  },
  {
   "cell_type": "code",
   "execution_count": 3,
   "metadata": {},
   "outputs": [
    {
     "name": "stdout",
     "output_type": "stream",
     "text": [
      "initialize cosmo_class\n",
      "Initialize pklin emulator\n",
      "initialize propagator emulator\n",
      "Initialize sigma_d emulator\n",
      "initialize cross-correlation emulator\n",
      "initialize auto-correlation emulator\n",
      "Initialize sigmaM emulator\n",
      "initialize xinl emulator\n"
     ]
    }
   ],
   "source": [
    "power_b1 = hsc3x2pt.power_b1_class()"
   ]
  },
  {
   "cell_type": "code",
   "execution_count": 4,
   "metadata": {},
   "outputs": [],
   "source": [
    "fishers_dict = od()"
   ]
  },
  {
   "cell_type": "markdown",
   "metadata": {},
   "source": [
    "## Instantiate Fisher classes"
   ]
  },
  {
   "cell_type": "markdown",
   "metadata": {},
   "source": [
    "### year 3 double source bins"
   ]
  },
  {
   "cell_type": "code",
   "execution_count": 5,
   "metadata": {},
   "outputs": [
    {
     "name": "stdout",
     "output_type": "stream",
     "text": [
      "cov.shape = (90, 90), dim(data)=(90,)\n",
      "cov.shape = (51, 51), dim(data)=(51,)\n",
      "skip b1lowz because this is lens galaxy param, while probes does not include any lens related probe.\n",
      "skip b1cmass1 because this is lens galaxy param, while probes does not include any lens related probe.\n",
      "skip b1cmass2 because this is lens galaxy param, while probes does not include any lens related probe.\n",
      "skip alphamaglowz because this is lens galaxy param, while probes does not include any lens related probe.\n",
      "skip alphamagcmass1 because this is lens galaxy param, while probes does not include any lens related probe.\n",
      "skip alphamagcmass2 because this is lens galaxy param, while probes does not include any lens related probe.\n",
      "cov.shape = (141, 141), dim(data)=(141,)\n"
     ]
    }
   ],
   "source": [
    "dirname = './precomputed_Cl/double_source_ClY3'\n",
    "fisher2x2pt = hsc3x2pt.getFisher(dirname, power_b1, probes=['w', 'gamma_t'], \n",
    "                                 label='2x2pt (Y3, 2bin)')\n",
    "fisher1x2pt = hsc3x2pt.getFisher(dirname, power_b1, probes=['xi+','xi-'], \n",
    "                                 label='Cosmic Shear (Y3, 2bin)')\n",
    "fisher3x2pt = hsc3x2pt.getFisher(dirname, power_b1,\n",
    "                                 label='3x2pt (Y3, 2bin)')\n",
    "\n",
    "fisher2x2ptPrior = fisher2x2pt.addPrior([0.00038, 0.0042, 0.5, 0.5, 0.5, 0.1, 0.1, 0.01, 0.01],\n",
    "                                        ['omega_b', 'ns', \n",
    "                                         'alphamaglowz','alphamagcmass1','alphamagcmass2',\n",
    "                                         'dzph1','dzph2','dm1','dm2'], label='Prior')\n",
    "\n",
    "fisher1x2ptPrior = fisher1x2pt.addPrior([0.00038, 0.0042, 0.1, 0.1, 0.01, 0.01], \n",
    "                                        ['omega_b', 'ns', \n",
    "                                         'dzph1','dzph2','dm1','dm2'], label='Prior')\n",
    "\n",
    "fisher3x2ptPrior = fisher3x2pt.addPrior([0.00038, 0.0042, 0.5, 0.5, 0.5, 0.1, 0.1, 0.01, 0.01], \n",
    "                                        ['omega_b', 'ns', \n",
    "                                         'alphamaglowz','alphamagcmass1','alphamagcmass2',\n",
    "                                         'dzph1','dzph2','dm1','dm2'], label='Prior')\n",
    "\n",
    "fishers_dict['Y3double2x2pt'] = fisher2x2pt\n",
    "fishers_dict['Y3double1x2pt'] = fisher1x2pt\n",
    "fishers_dict['Y3double3x2pt'] = fisher3x2pt\n",
    "fishers_dict['Y3double2x2ptPrior'] = fisher2x2ptPrior\n",
    "fishers_dict['Y3double1x2ptPrior'] = fisher1x2ptPrior\n",
    "fishers_dict['Y3double3x2ptPrior'] = fisher3x2ptPrior"
   ]
  },
  {
   "cell_type": "markdown",
   "metadata": {},
   "source": [
    "## plot"
   ]
  },
  {
   "cell_type": "code",
   "execution_count": 6,
   "metadata": {},
   "outputs": [],
   "source": [
    "corner = hsc3x2pt.corner_class()"
   ]
  },
  {
   "cell_type": "code",
   "execution_count": 8,
   "metadata": {},
   "outputs": [
    {
     "data": {
      "text/html": [
       "<div>\n",
       "<style scoped>\n",
       "    .dataframe tbody tr th:only-of-type {\n",
       "        vertical-align: middle;\n",
       "    }\n",
       "\n",
       "    .dataframe tbody tr th {\n",
       "        vertical-align: top;\n",
       "    }\n",
       "\n",
       "    .dataframe thead th {\n",
       "        text-align: right;\n",
       "    }\n",
       "</style>\n",
       "<table border=\"1\" class=\"dataframe\">\n",
       "  <thead>\n",
       "    <tr style=\"text-align: right;\">\n",
       "      <th></th>\n",
       "      <th>$\\sigma_8$</th>\n",
       "      <th>$\\Omega_\\mathrm{de}$</th>\n",
       "      <th>$S_8$</th>\n",
       "    </tr>\n",
       "  </thead>\n",
       "  <tbody>\n",
       "    <tr>\n",
       "      <th>3x2pt (Y3, 2bin) + Prior</th>\n",
       "      <td>0.04419</td>\n",
       "      <td>0.03816</td>\n",
       "      <td>0.02426</td>\n",
       "    </tr>\n",
       "  </tbody>\n",
       "</table>\n",
       "</div>"
      ],
      "text/plain": [
       "                         $\\sigma_8$ $\\Omega_\\mathrm{de}$    $S_8$\n",
       "3x2pt (Y3, 2bin) + Prior    0.04419              0.03816  0.02426"
      ]
     },
     "execution_count": 8,
     "metadata": {},
     "output_type": "execute_result"
    },
    {
     "data": {
      "image/png": "[encoded data removed]",
      "text/plain": [
       "<Figure size 432x432 with 6 Axes>"
      ]
     },
     "metadata": {
      "needs_background": "light"
     },
     "output_type": "display_data"
    }
   ],
   "source": [
    "fishers = [fishers_dict['Y3double3x2ptPrior']]\n",
    "\n",
    "fig = corner.plot_corner(fishers,\n",
    "                         ['sigma8', 'Omega_de', 'S8'],\n",
    "                         figsize_ratio=2, usetex=True)\n",
    "\n",
    "hsc3x2pt.compare1Sigma(fishers, ['sigma8', 'Omega_de', 'S8'])"
   ]
  },
  {
   "cell_type": "code",
   "execution_count": null,
   "metadata": {},
   "outputs": [],
   "source": []
  },
  {
   "cell_type": "code",
   "execution_count": 9,
   "metadata": {},
   "outputs": [],
   "source": [
    "fisher = fishers_dict['Y3double3x2pt']"
   ]
  },
  {
   "cell_type": "code",
   "execution_count": 10,
   "metadata": {},
   "outputs": [
    {
     "data": {
      "text/plain": [
       "['omega_b',\n",
       " 'omega_c',\n",
       " 'Omega_de',\n",
       " 'sigma8',\n",
       " 'ns',\n",
       " 'b1lowz',\n",
       " 'b1cmass1',\n",
       " 'b1cmass2',\n",
       " 'alphamaglowz',\n",
       " 'alphamagcmass1',\n",
       " 'alphamagcmass2',\n",
       " 'dzph1',\n",
       " 'dzph2',\n",
       " 'dm1',\n",
       " 'dm2']"
      ]
     },
     "execution_count": 10,
     "metadata": {},
     "output_type": "execute_result"
    }
   ],
   "source": [
    "fisher.names"
   ]
  },
  {
   "cell_type": "code",
   "execution_count": 21,
   "metadata": {},
   "outputs": [
    {
     "data": {
      "text/html": [
       "<div>\n",
       "<style scoped>\n",
       "    .dataframe tbody tr th:only-of-type {\n",
       "        vertical-align: middle;\n",
       "    }\n",
       "\n",
       "    .dataframe tbody tr th {\n",
       "        vertical-align: top;\n",
       "    }\n",
       "\n",
       "    .dataframe thead th {\n",
       "        text-align: right;\n",
       "    }\n",
       "</style>\n",
       "<table border=\"1\" class=\"dataframe\">\n",
       "  <thead>\n",
       "    <tr style=\"text-align: right;\">\n",
       "      <th></th>\n",
       "      <th>$\\Omega_\\mathrm{de}$</th>\n",
       "      <th>$\\sigma_8$</th>\n",
       "    </tr>\n",
       "  </thead>\n",
       "  <tbody>\n",
       "    <tr>\n",
       "      <th>3x2pt (Y3, 2bin)</th>\n",
       "      <td>0.06634</td>\n",
       "      <td>0.12558</td>\n",
       "    </tr>\n",
       "  </tbody>\n",
       "</table>\n",
       "</div>"
      ],
      "text/plain": [
       "                 $\\Omega_\\mathrm{de}$ $\\sigma_8$\n",
       "3x2pt (Y3, 2bin)              0.06634    0.12558"
      ]
     },
     "execution_count": 21,
     "metadata": {},
     "output_type": "execute_result"
    }
   ],
   "source": [
    "hsc3x2pt.compare1Sigma(fisher, ['Omega_de', 'sigma8'])"
   ]
  },
  {
   "cell_type": "code",
   "execution_count": 24,
   "metadata": {},
   "outputs": [
    {
     "name": "stdout",
     "output_type": "stream",
     "text": [
      "0.0038396953140856734 0.004296101262356478\n",
      "0.06633951675457592 0.1255843710620638\n"
     ]
    }
   ],
   "source": [
    "idx = [2,3]\n",
    "F = fisher.F[np.ix_(idx, idx)]\n",
    "print(F[0,0]**-0.5, F[1,1]**-0.5)\n",
    "\n",
    "iF = np.linalg.inv(fisher.F)[np.ix_(idx, idx)]\n",
    "print(iF[0,0]**0.5, iF[1,1]**0.5)"
   ]
  },
  {
   "cell_type": "code",
   "execution_count": null,
   "metadata": {},
   "outputs": [],
   "source": []
  },
  {
   "cell_type": "markdown",
   "metadata": {},
   "source": [
    "## covariance"
   ]
  },
  {
   "cell_type": "code",
   "execution_count": 13,
   "metadata": {},
   "outputs": [
    {
     "name": "stdout",
     "output_type": "stream",
     "text": [
      "cov.shape = (141, 141), dim(data)=(141,)\n"
     ]
    }
   ],
   "source": [
    "x,y,y_dict,cov, pnames, param_fid, F = hsc3x2pt.getFisherMat('./precomputed_Cl/double_source_ClY3', power_b1)"
   ]
  },
  {
   "cell_type": "code",
   "execution_count": 16,
   "metadata": {},
   "outputs": [
    {
     "data": {
      "text/plain": [
       "5818.891626822633"
      ]
     },
     "execution_count": 16,
     "metadata": {},
     "output_type": "execute_result"
    }
   ],
   "source": [
    "v_fid = y.get_signal()\n",
    "v = y_dict['sigma8'].get_signal()\n",
    "\n",
    "c = cov.get_full_covariance()\n",
    "ic = np.linalg.inv(c)\n",
    "np.dot(v_fid, np.dot(ic, v_fid))"
   ]
  },
  {
   "cell_type": "code",
   "execution_count": 17,
   "metadata": {},
   "outputs": [
    {
     "data": {
      "image/png": "[encoded data removed]",
      "text/plain": [
       "<Figure size 432x288 with 1 Axes>"
      ]
     },
     "metadata": {
      "needs_background": "light"
     },
     "output_type": "display_data"
    },
    {
     "data": {
      "image/png": "[encoded data removed]",
      "text/plain": [
       "<Figure size 432x288 with 1 Axes>"
      ]
     },
     "metadata": {
      "needs_background": "light"
     },
     "output_type": "display_data"
    }
   ],
   "source": [
    "plt.figure()\n",
    "plt.imshow(c)\n",
    "plt.show()\n",
    "\n",
    "cc = hsc3x2pt.correlation_coeff(c)\n",
    "\n",
    "plt.figure()\n",
    "plt.imshow(cc)\n",
    "plt.show()"
   ]
  },
  {
   "cell_type": "code",
   "execution_count": null,
   "metadata": {},
   "outputs": [],
   "source": []
  },
  {
   "cell_type": "code",
   "execution_count": null,
   "metadata": {},
   "outputs": [],
   "source": []
  }
 ],
 "metadata": {
  "kernelspec": {
   "display_name": "Python 3",
   "language": "python",
   "name": "python3"
  },
  "language_info": {
   "codemirror_mode": {
    "name": "ipython",
    "version": 3
   },
   "file_extension": ".py",
   "mimetype": "text/x-python",
   "name": "python",
   "nbconvert_exporter": "python",
   "pygments_lexer": "ipython3",
   "version": "3.7.2"
  }
 },
 "nbformat": 4,
 "nbformat_minor": 4
}
