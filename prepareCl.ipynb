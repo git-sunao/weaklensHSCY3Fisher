{
 "cells": [
  {
   "cell_type": "code",
   "execution_count": 1,
   "metadata": {},
   "outputs": [
    {
     "name": "stdout",
     "output_type": "stream",
     "text": [
      "Populating the interactive namespace from numpy and matplotlib\n"
     ]
    }
   ],
   "source": [
    "%load_ext autoreload\n",
    "%autoreload 2\n",
    "%pylab inline"
   ]
  },
  {
   "cell_type": "code",
   "execution_count": 2,
   "metadata": {},
   "outputs": [
    {
     "name": "stdout",
     "output_type": "stream",
     "text": [
      "using dark_emulator at  /lustre/work/sunao.sugiyama/package/dark_emulator_public/dark_emulator/__init__.py\n"
     ]
    }
   ],
   "source": [
    "import numpy as np\n",
    "from dark_emulator_public import dark_emulator\n",
    "import os, sys, time\n",
    "import matplotlib.pyplot as plt\n",
    "from collections import OrderedDict as od\n",
    "from scipy.interpolate import InterpolatedUnivariateSpline as ius\n",
    "from scipy.interpolate import interp2d, interp1d\n",
    "from scipy.integrate import simps\n",
    "from tqdm import tqdm\n",
    "import hsc3x2pt"
   ]
  },
  {
   "cell_type": "markdown",
   "metadata": {},
   "source": [
    "## Preparation for Fisher\n",
    "Computation of $C(l)$ takes ~20 sec for each cosmology.\n",
    "So this notebook pre-compute $C(l)$ for cosmologies needed for Fisher analysis.\n",
    "\n",
    "Model parameters of 3x2pt analysis with single(double) source redshift bin are\n",
    "- comsology: 5\n",
    "- galaxy bias: 1x3\n",
    "- magnification bias: 1x3\n",
    "- photo-z: 1x1(2)\n",
    "- multiplicative bais: 1x1(2)\n",
    "\n",
    "13(15) parameters in total.\n",
    "\n",
    "$C(l)$s depend on cosmological parameters, galaxy bias and magnification bias, for which we need to compute $C(l)$.\n",
    "\n",
    "**Note** : Fisher analysis is doable even if the computational time for one model reaches ~20 sec. However, in the real analysis, ~20 sec is too much to run sampling code. \n",
    "I just want to know how people in cosmic shear, like Hikage-san and Hamana-san, or people in 3x2pt, like DES or KiDS, implement code of $C(l)$.?"
   ]
  },
  {
   "cell_type": "code",
   "execution_count": 5,
   "metadata": {},
   "outputs": [
    {
     "name": "stdout",
     "output_type": "stream",
     "text": [
      "initialize cosmo_class\n",
      "Initialize pklin emulator\n",
      "initialize propagator emulator\n",
      "Initialize sigma_d emulator\n",
      "initialize cross-correlation emulator\n",
      "initialize auto-correlation emulator\n",
      "Initialize sigmaM emulator\n",
      "initialize xinl emulator\n"
     ]
    }
   ],
   "source": [
    "power_b1 = hsc3x2pt.power_b1_class()"
   ]
  },
  {
   "cell_type": "markdown",
   "metadata": {},
   "source": [
    "### List of models to compute $C(l)$ to compute **single** source bin anlaysis\n",
    "0. fiducial = Planck cosmology + fiducial galaxy bias, magnification bais + 0 photo-z and multiplicative bias\n",
    "1. $\\omega_b h^2$ +\n",
    "2. $\\omega_c h^2$ +\n",
    "3. $\\Omega_{\\rm de}$ +\n",
    "4. $n_{\\rm s}$ +\n",
    "5. $\\ln 10^{10}A_{\\rm s}$ +\n",
    "6. $b_{\\rm 1,1}$ + \n",
    "7. $b_{\\rm 1,2}$ + \n",
    "8. $b_{\\rm 1,3}$ + \n",
    "9. $\\alpha_{\\rm mag,1}$ + \n",
    "10. $\\alpha_{\\rm mag,2}$ + \n",
    "11. $\\alpha_{\\rm mag,3}$ + \n",
    "12. $\\Delta z_{\\rm ph}$ +\n",
    "13. $\\Delta m$ + = easy. Just multiply $1+\\Delta m$ to fiducial."
   ]
  },
  {
   "cell_type": "code",
   "execution_count": 18,
   "metadata": {},
   "outputs": [
    {
     "name": "stdout",
     "output_type": "stream",
     "text": [
      ":13.081504821777344 sec\n",
      "saving l to single_source_Cl/fiducial/l.txt\n",
      "saving lowz,lowz to single_source_Cl/fiducial/lowz,lowz.txt\n",
      "saving cmass1,cmass1 to single_source_Cl/fiducial/cmass1,cmass1.txt\n",
      "saving cmass2,cmass2 to single_source_Cl/fiducial/cmass2,cmass2.txt\n",
      "saving lowz,s12 to single_source_Cl/fiducial/lowz,s12.txt\n",
      "saving cmass1,s12 to single_source_Cl/fiducial/cmass1,s12.txt\n",
      "saving cmass2,s12 to single_source_Cl/fiducial/cmass2,s12.txt\n",
      "saving s12,s12 to single_source_Cl/fiducial/s12,s12.txt\n",
      "saving cosmo_dict to single_source_Cl/fiducial/cosmo_dict.json.\n",
      "saved galaxy sample lowz to galaxy_sample_lowz.json\n",
      "saved galaxy sample cmass1 to galaxy_sample_cmass1.json\n",
      "saved galaxy sample cmass2 to galaxy_sample_cmass2.json\n",
      "saved galaxy sample s12 to galaxy_sample_s12.json\n",
      "CPU times: user 13.4 s, sys: 14.6 ms, total: 13.4 s\n",
      "Wall time: 13.4 s\n"
     ]
    }
   ],
   "source": [
    "%%time\n",
    "g_l1 = hsc3x2pt.galaxy_sample_lens_class(['lowz'  , 0.15, 0.35, 1.78, '40.36 arcmin^-2', 2.259])\n",
    "g_l2 = hsc3x2pt.galaxy_sample_lens_class(['cmass1', 0.47, 0.55, 2.10, '20.06 arcmin^-2', 3.563])\n",
    "g_l3 = hsc3x2pt.galaxy_sample_lens_class(['cmass2', 0.55, 0.70, 2.28, '30.12 arcmin^-2', 3.729])\n",
    "g_s12= hsc3x2pt.galaxy_sample_source_class(['s12', 'sourcePzs_Y1/MLZs12.txt', 0.0, 0.2, '8.74 arcmin^-2'])\n",
    "pk2cl = hsc3x2pt.pk2cl_class(power_b1)\n",
    "pk2cl.set_galaxy_sample(g_l1)\n",
    "pk2cl.set_galaxy_sample(g_l2)\n",
    "pk2cl.set_galaxy_sample(g_l3)\n",
    "pk2cl.set_galaxy_sample(g_s12)\n",
    "pk2cl.set_cosmology_from_dict()\n",
    "pk2cl.init_pk()\n",
    "pk2cl.set_Omega_s({'w':8300, 'gamma_t':140, 'xi':140}) # HSCY1\n",
    "\n",
    "l = np.logspace(-2, 5, 1000)\n",
    "with hsc3x2pt.Time():\n",
    "    pk2cl.compute_all_Cl(l, compute_lens_cross=False)\n",
    "pk2cl.dump_Cl_cache('single_source_Cl/fiducial', overwrite=True)"
   ]
  },
  {
   "cell_type": "code",
   "execution_count": 17,
   "metadata": {},
   "outputs": [
    {
     "data": {
      "text/plain": [
       "array(1.14660218)"
      ]
     },
     "execution_count": 17,
     "metadata": {},
     "output_type": "execute_result"
    }
   ],
   "source": [
    "g_s12.z_source_eff"
   ]
  },
  {
   "cell_type": "code",
   "execution_count": null,
   "metadata": {},
   "outputs": [],
   "source": []
  },
  {
   "cell_type": "code",
   "execution_count": 9,
   "metadata": {},
   "outputs": [],
   "source": [
    "cosmo_dict = pk2cl.get_cosmo_dict()"
   ]
  },
  {
   "cell_type": "code",
   "execution_count": 10,
   "metadata": {},
   "outputs": [
    {
     "data": {
      "text/plain": [
       "{'omega_b': 0.02225,\n",
       " 'omega_c': 0.1198,\n",
       " 'Omega_de': 0.6844,\n",
       " 'ln10p10As': 3.094,\n",
       " 'n_s': 0.9645,\n",
       " 'w_de': -1.0,\n",
       " 'Omega_de0': 0.6844,\n",
       " 'Omega_K0': 0.0,\n",
       " 'w0': -1.0,\n",
       " 'wa': 0.0,\n",
       " 'h': 0.6724008777737618}"
      ]
     },
     "execution_count": 10,
     "metadata": {},
     "output_type": "execute_result"
    }
   ],
   "source": [
    "cosmo_dict"
   ]
  },
  {
   "cell_type": "markdown",
   "metadata": {},
   "source": [
    "### List of models to compute $C(l)$ to compute **double** source bins anlaysis\n",
    "\n",
    "0. fiducial = Planck cosmology + fiducial galaxy bias, magnification bais + 0 photo-z and multiplicative bias\n",
    "1. $\\omega_b h^2$ +\n",
    "2. $\\omega_c h^2$ +\n",
    "3. $\\Omega_{\\rm de}$ +\n",
    "4. $n_{\\rm s}$ +\n",
    "5. $\\ln 10^{10}A_{\\rm s}$ +\n",
    "6. $b_{\\rm 1,1}$ + \n",
    "7. $b_{\\rm 1,2}$ + \n",
    "8. $b_{\\rm 1,3}$ + \n",
    "9. $\\alpha_{\\rm mag,1}$ + \n",
    "10. $\\alpha_{\\rm mag,2}$ + \n",
    "11. $\\alpha_{\\rm mag,3}$ + \n",
    "12. $\\Delta z_{\\rm ph,1}$ +\n",
    "12. $\\Delta z_{\\rm ph,2}$ +\n",
    "13. $\\Delta m_1$ + = easy. Just multiply $1+\\Delta m_1$ to fiducial.\n",
    "13. $\\Delta m_2$ + = easy. Just multiply $1+\\Delta m_2$ to fiducial."
   ]
  },
  {
   "cell_type": "code",
   "execution_count": null,
   "metadata": {},
   "outputs": [],
   "source": [
    "g_l1 = hsc3x2pt.galaxy_sample_lens_class(['lowz'  , 0.251, 0.15, 0.35, 1.78, '40.36 arcmin^-2', 2.259])\n",
    "g_l2 = hsc3x2pt.galaxy_sample_lens_class(['cmass1', 0.484, 0.47, 0.55, 2.10, '20.06 arcmin^-2', 3.563])\n",
    "g_l3 = hsc3x2pt.galaxy_sample_lens_class(['cmass2', 0.617, 0.55, 0.70, 2.28, '30.12 arcmin^-2', 3.729])\n",
    "g_s1 = hsc3x2pt.galaxy_sample_source_class(['s1' , 1.0, 0.2, '4.37 arcmin^-2'])\n",
    "g_s2 = hsc3x2pt.galaxy_sample_source_class(['s2' , 1.4, 0.2, '4.37 arcmin^-2'])\n",
    "pk2cl = hsc3x2pt.pk2cl_class(power_b1)\n",
    "pk2cl.set_galaxy_sample(g_l1)\n",
    "pk2cl.set_galaxy_sample(g_l2)\n",
    "pk2cl.set_galaxy_sample(g_l3)\n",
    "pk2cl.set_galaxy_sample(g_s1)\n",
    "pk2cl.set_galaxy_sample(g_s2)\n",
    "pk2cl.set_cosmology_from_dict()\n",
    "pk2cl.init_pk()\n",
    "pk2cl.set_Omega_s({'w':8300, 'gamma_t':140, 'xi':140}) # HSCY1"
   ]
  },
  {
   "cell_type": "code",
   "execution_count": null,
   "metadata": {},
   "outputs": [],
   "source": []
  },
  {
   "cell_type": "code",
   "execution_count": null,
   "metadata": {},
   "outputs": [],
   "source": []
  },
  {
   "cell_type": "code",
   "execution_count": null,
   "metadata": {},
   "outputs": [],
   "source": []
  }
 ],
 "metadata": {
  "kernelspec": {
   "display_name": "Python 3",
   "language": "python",
   "name": "python3"
  },
  "language_info": {
   "codemirror_mode": {
    "name": "ipython",
    "version": 3
   },
   "file_extension": ".py",
   "mimetype": "text/x-python",
   "name": "python",
   "nbconvert_exporter": "python",
   "pygments_lexer": "ipython3",
   "version": "3.8.5"
  }
 },
 "nbformat": 4,
 "nbformat_minor": 4
}
