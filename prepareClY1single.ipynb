{
 "cells": [
  {
   "cell_type": "code",
   "execution_count": 31,
   "metadata": {},
   "outputs": [
    {
     "name": "stdout",
     "output_type": "stream",
     "text": [
      "using dark_emulator at  /Users/sunao-mac/Documents/python_package/dark_emulator_public/dark_emulator/__init__.py\n",
      "The autoreload extension is already loaded. To reload it, use:\n",
      "  %reload_ext autoreload\n",
      "Populating the interactive namespace from numpy and matplotlib\n"
     ]
    }
   ],
   "source": [
    "%load_ext autoreload\n",
    "%autoreload 2\n",
    "%pylab inline"
   ]
  },
  {
   "cell_type": "code",
   "execution_count": 32,
   "metadata": {},
   "outputs": [],
   "source": [
    "import numpy as np\n",
    "from dark_emulator_public import dark_emulator\n",
    "import os, sys, time, json\n",
    "import matplotlib.pyplot as plt\n",
    "from collections import OrderedDict as od\n",
    "from scipy.interpolate import InterpolatedUnivariateSpline as ius\n",
    "from scipy.interpolate import interp2d, interp1d\n",
    "from scipy.integrate import simps\n",
    "from tqdm import tqdm\n",
    "import hsc3x2pt"
   ]
  },
  {
   "cell_type": "markdown",
   "metadata": {},
   "source": [
    "## Preparation for Fisher\n",
    "Computation of $C(l)$ takes ~20 sec for each cosmology.\n",
    "So this notebook pre-compute $C(l)$ for cosmologies needed for Fisher analysis.\n",
    "\n",
    "Model parameters of 3x2pt analysis with single(double) source redshift bin are\n",
    "- comsology: 5\n",
    "- galaxy bias: 1x3\n",
    "- magnification bias: 1x3\n",
    "- photo-z: 1x1(2)\n",
    "- multiplicative bais: 1x1(2)\n",
    "\n",
    "13(15) parameters in total.\n",
    "\n",
    "$C(l)$s depend on cosmological parameters, galaxy bias and magnification bias, for which we need to compute $C(l)$.\n",
    "\n",
    "**Note** : Fisher analysis is doable even if the computational time for one model reaches ~20 sec. However, in the real analysis, ~20 sec is too much to run sampling code. \n",
    "I just want to know how people in cosmic shear, like Hikage-san and Hamana-san, or people in 3x2pt, like DES or KiDS, implement code of $C(l)$.?"
   ]
  },
  {
   "cell_type": "code",
   "execution_count": 33,
   "metadata": {},
   "outputs": [
    {
     "name": "stdout",
     "output_type": "stream",
     "text": [
      "initialize cosmo_class\n",
      "Initialize pklin emulator\n",
      "initialize propagator emulator\n",
      "Initialize sigma_d emulator\n",
      "initialize cross-correlation emulator\n",
      "initialize auto-correlation emulator\n",
      "Initialize sigmaM emulator\n",
      "initialize xinl emulator\n"
     ]
    }
   ],
   "source": [
    "power_b1 = hsc3x2pt.power_b1_class()"
   ]
  },
  {
   "cell_type": "code",
   "execution_count": 34,
   "metadata": {},
   "outputs": [],
   "source": [
    "Omega_s_HSC = 140"
   ]
  },
  {
   "cell_type": "markdown",
   "metadata": {},
   "source": [
    "### List of models to compute $C(l)$ to compute **single** source bin anlaysis\n",
    "0. fiducial = Planck cosmology + fiducial galaxy bias, magnification bais + 0 photo-z and multiplicative bias\n",
    "1. $\\omega_b h^2$ +\n",
    "2. $\\omega_c h^2$ +\n",
    "3. $\\Omega_{\\rm de}$ +\n",
    "4. $n_{\\rm s}$ +\n",
    "5. $\\ln 10^{10}A_{\\rm s}$ +\n",
    "6. $b_{\\rm 1,1}$ + \n",
    "7. $b_{\\rm 1,2}$ + \n",
    "8. $b_{\\rm 1,3}$ + \n",
    "9. $\\alpha_{\\rm mag,1}$ + \n",
    "10. $\\alpha_{\\rm mag,2}$ + \n",
    "11. $\\alpha_{\\rm mag,3}$ + \n",
    "12. $\\Delta z_{\\rm ph}$ +\n",
    "13. $\\Delta m$ + = easy. Just multiply $1+\\Delta m$ to fiducial."
   ]
  },
  {
   "cell_type": "code",
   "execution_count": 35,
   "metadata": {},
   "outputs": [],
   "source": [
    "dirname = 'single_source_ClY1'\n",
    "\n",
    "def compute(params, dir_to_save, compute_lens_cross=False):\n",
    "    t0 = time.time()\n",
    "    ombh2, omch2, Ode, sigma8, ns, b11, b12, b13, a1, a2, a3, dzph, dm = params\n",
    "    g_l1 = hsc3x2pt.galaxy_sample_lens_class(['lowz'  , 0.15, 0.35, b11, '40.36 arcmin^-2', a1])\n",
    "    g_l2 = hsc3x2pt.galaxy_sample_lens_class(['cmass1', 0.47, 0.55, b12, '20.06 arcmin^-2', a2])\n",
    "    g_l3 = hsc3x2pt.galaxy_sample_lens_class(['cmass2', 0.55, 0.70, b13, '30.12 arcmin^-2', a3])\n",
    "    g_s12= hsc3x2pt.galaxy_sample_source_class(['s12', 'sourcePzs_Y1/MLZs12.txt', dzph, dm, 0.2, '8.74 arcmin^-2'])\n",
    "    pk2cl = hsc3x2pt.pk2cl_class(power_b1)\n",
    "    pk2cl.set_galaxy_sample(g_l1)\n",
    "    pk2cl.set_galaxy_sample(g_l2)\n",
    "    pk2cl.set_galaxy_sample(g_l3)\n",
    "    pk2cl.set_galaxy_sample(g_s12)\n",
    "    # set cosmo\n",
    "    cosmo_dict = dict(zip(['omega_b', 'omega_c', 'Omega_de', 'ln10p10As', 'n_s', 'w_de'], [ombh2, omch2, Ode, 3.094, ns, -1]))\n",
    "    pk2cl.set_cosmology_from_dict(cosmo_dict)\n",
    "    sigma8_temp = pk2cl.pk_class.get_sigma8()\n",
    "    ln10p10As = 3.094 + 2*np.log(sigma8/sigma8_temp)\n",
    "    print(f'ln10p10As={ln10p10As}')\n",
    "    cosmo_dict = dict(zip(['omega_b', 'omega_c', 'Omega_de', 'ln10p10As', 'n_s', 'w_de'], [ombh2, omch2, Ode, ln10p10As, ns, -1]))\n",
    "    pk2cl.set_cosmology_from_dict(cosmo_dict)\n",
    "    \n",
    "    pk2cl.init_pk()\n",
    "    pk2cl.set_Omega_s({'w':8300, 'gamma_t':Omega_s_HSC, 'xi':Omega_s_HSC}) # HSCY1\n",
    "\n",
    "    l = np.logspace(-2, 5, 1000)\n",
    "    with hsc3x2pt.Time():\n",
    "        pk2cl.compute_all_Cl(l, compute_lens_cross=compute_lens_cross)\n",
    "    pk2cl.dump_Cl_cache(f'{dirname}/{dir_to_save}', overwrite=True)\n",
    "    t1 = time.time()\n",
    "    print(f'{t1-t0} sec')"
   ]
  },
  {
   "cell_type": "code",
   "execution_count": 36,
   "metadata": {},
   "outputs": [],
   "source": [
    "dp = 0.01\n",
    "file_param = od()\n",
    "\n",
    "def save_dparam(dparam, dir_to_save):\n",
    "    fname = os.path.join(dirname, 'file_param.json')\n",
    "    if os.path.exists(fname):\n",
    "        file_param = json.load(open(fname, 'r'), object_pairs_hook=od) \n",
    "    else:\n",
    "        file_param = od()\n",
    "    file_param[dir_to_save] = dparam\n",
    "    json.dump(file_param, open(fname, 'w'), indent=2)"
   ]
  },
  {
   "cell_type": "code",
   "execution_count": 37,
   "metadata": {},
   "outputs": [
    {
     "name": "stdout",
     "output_type": "stream",
     "text": [
      "ln10p10As=3.0972126913059492\n",
      ":22.047406911849976 sec\n",
      "saving l to single_source_ClY1/fiducial/l.txt\n",
      "saving lowz,lowz to single_source_ClY1/fiducial/lowz,lowz.txt\n",
      "saving lowz,cmass1 to single_source_ClY1/fiducial/lowz,cmass1.txt\n",
      "saving lowz,cmass2 to single_source_ClY1/fiducial/lowz,cmass2.txt\n",
      "saving cmass1,lowz to single_source_ClY1/fiducial/cmass1,lowz.txt\n",
      "saving cmass1,cmass1 to single_source_ClY1/fiducial/cmass1,cmass1.txt\n",
      "saving cmass1,cmass2 to single_source_ClY1/fiducial/cmass1,cmass2.txt\n",
      "saving cmass2,lowz to single_source_ClY1/fiducial/cmass2,lowz.txt\n",
      "saving cmass2,cmass1 to single_source_ClY1/fiducial/cmass2,cmass1.txt\n",
      "saving cmass2,cmass2 to single_source_ClY1/fiducial/cmass2,cmass2.txt\n",
      "saving lowz,s12 to single_source_ClY1/fiducial/lowz,s12.txt\n",
      "saving cmass1,s12 to single_source_ClY1/fiducial/cmass1,s12.txt\n",
      "saving cmass2,s12 to single_source_ClY1/fiducial/cmass2,s12.txt\n",
      "saving s12,s12 to single_source_ClY1/fiducial/s12,s12.txt\n",
      "saving cosmo_dict to single_source_ClY1/fiducial/cosmo_dict.json.\n",
      "saved galaxy sample lowz to galaxy_sample_lowz.json\n",
      "saved galaxy sample cmass1 to galaxy_sample_cmass1.json\n",
      "saved galaxy sample cmass2 to galaxy_sample_cmass2.json\n",
      "saved galaxy sample s12 to galaxy_sample_s12.json\n",
      "22.38534927368164 sec\n"
     ]
    }
   ],
   "source": [
    "param_fiducial = [0.02225, 0.1198, 0.6844, 0.831, 0.9645, 1.78, 2.10, 2.28, 2.259, 3.563, 3.729, 0.0, 0.0]\n",
    "compute(param_fiducial, 'fiducial', compute_lens_cross=True)"
   ]
  },
  {
   "cell_type": "code",
   "execution_count": 38,
   "metadata": {},
   "outputs": [
    {
     "name": "stdout",
     "output_type": "stream",
     "text": [
      "ln10p10As=3.1004205154513964\n",
      ":12.44694709777832 sec\n",
      "saving l to single_source_ClY1/omega_b/l.txt\n",
      "saving lowz,lowz to single_source_ClY1/omega_b/lowz,lowz.txt\n",
      "saving cmass1,cmass1 to single_source_ClY1/omega_b/cmass1,cmass1.txt\n",
      "saving cmass2,cmass2 to single_source_ClY1/omega_b/cmass2,cmass2.txt\n",
      "saving lowz,s12 to single_source_ClY1/omega_b/lowz,s12.txt\n",
      "saving cmass1,s12 to single_source_ClY1/omega_b/cmass1,s12.txt\n",
      "saving cmass2,s12 to single_source_ClY1/omega_b/cmass2,s12.txt\n",
      "saving s12,s12 to single_source_ClY1/omega_b/s12,s12.txt\n",
      "saving cosmo_dict to single_source_ClY1/omega_b/cosmo_dict.json.\n",
      "saved galaxy sample lowz to galaxy_sample_lowz.json\n",
      "saved galaxy sample cmass1 to galaxy_sample_cmass1.json\n",
      "saved galaxy sample cmass2 to galaxy_sample_cmass2.json\n",
      "saved galaxy sample s12 to galaxy_sample_s12.json\n",
      "12.814717769622803 sec\n"
     ]
    }
   ],
   "source": [
    "param = [0.02225*(1+dp), 0.1198, 0.6844, 0.831, 0.9645, 1.78, 2.10, 2.28, 2.259, 3.563, 3.729, 0.0, 0.0]\n",
    "compute(param, 'omega_b')\n",
    "save_dparam(0.02225*dp, 'omega_b')"
   ]
  },
  {
   "cell_type": "code",
   "execution_count": 39,
   "metadata": {},
   "outputs": [
    {
     "name": "stdout",
     "output_type": "stream",
     "text": [
      "ln10p10As=3.082645380931363\n",
      ":11.981634140014648 sec\n",
      "saving l to single_source_ClY1/omega_c/l.txt\n",
      "saving lowz,lowz to single_source_ClY1/omega_c/lowz,lowz.txt\n",
      "saving cmass1,cmass1 to single_source_ClY1/omega_c/cmass1,cmass1.txt\n",
      "saving cmass2,cmass2 to single_source_ClY1/omega_c/cmass2,cmass2.txt\n",
      "saving lowz,s12 to single_source_ClY1/omega_c/lowz,s12.txt\n",
      "saving cmass1,s12 to single_source_ClY1/omega_c/cmass1,s12.txt\n",
      "saving cmass2,s12 to single_source_ClY1/omega_c/cmass2,s12.txt\n",
      "saving s12,s12 to single_source_ClY1/omega_c/s12,s12.txt\n",
      "saving cosmo_dict to single_source_ClY1/omega_c/cosmo_dict.json.\n",
      "saved galaxy sample lowz to galaxy_sample_lowz.json\n",
      "saved galaxy sample cmass1 to galaxy_sample_cmass1.json\n",
      "saved galaxy sample cmass2 to galaxy_sample_cmass2.json\n",
      "saved galaxy sample s12 to galaxy_sample_s12.json\n",
      "12.321738958358765 sec\n"
     ]
    }
   ],
   "source": [
    "param = [0.02225, 0.1198*(1+dp), 0.6844, 0.831, 0.9645, 1.78, 2.10, 2.28, 2.259, 3.563, 3.729, 0.0, 0.0]\n",
    "compute(param, 'omega_c')\n",
    "save_dparam(0.1198*dp, 'omega_c')"
   ]
  },
  {
   "cell_type": "code",
   "execution_count": 40,
   "metadata": {},
   "outputs": [
    {
     "name": "stdout",
     "output_type": "stream",
     "text": [
      "ln10p10As=3.092196129211238\n",
      ":12.075910806655884 sec\n",
      "saving l to single_source_ClY1/Omega_de/l.txt\n",
      "saving lowz,lowz to single_source_ClY1/Omega_de/lowz,lowz.txt\n",
      "saving cmass1,cmass1 to single_source_ClY1/Omega_de/cmass1,cmass1.txt\n",
      "saving cmass2,cmass2 to single_source_ClY1/Omega_de/cmass2,cmass2.txt\n",
      "saving lowz,s12 to single_source_ClY1/Omega_de/lowz,s12.txt\n",
      "saving cmass1,s12 to single_source_ClY1/Omega_de/cmass1,s12.txt\n",
      "saving cmass2,s12 to single_source_ClY1/Omega_de/cmass2,s12.txt\n",
      "saving s12,s12 to single_source_ClY1/Omega_de/s12,s12.txt\n",
      "saving cosmo_dict to single_source_ClY1/Omega_de/cosmo_dict.json.\n",
      "saved galaxy sample lowz to galaxy_sample_lowz.json\n",
      "saved galaxy sample cmass1 to galaxy_sample_cmass1.json\n",
      "saved galaxy sample cmass2 to galaxy_sample_cmass2.json\n",
      "saved galaxy sample s12 to galaxy_sample_s12.json\n",
      "12.386327028274536 sec\n"
     ]
    }
   ],
   "source": [
    "param = [0.02225, 0.1198, 0.6844*(1+dp), 0.831, 0.9645, 1.78, 2.10, 2.28, 2.259, 3.563, 3.729, 0.0, 0.0]\n",
    "compute(param, 'Omega_de')\n",
    "save_dparam(0.6844*dp, 'Omega_de')"
   ]
  },
  {
   "cell_type": "code",
   "execution_count": 41,
   "metadata": {},
   "outputs": [
    {
     "name": "stdout",
     "output_type": "stream",
     "text": [
      "ln10p10As=3.117113353012285\n",
      ":12.211494207382202 sec\n",
      "saving l to single_source_ClY1/sigma8/l.txt\n",
      "saving lowz,lowz to single_source_ClY1/sigma8/lowz,lowz.txt\n",
      "saving cmass1,cmass1 to single_source_ClY1/sigma8/cmass1,cmass1.txt\n",
      "saving cmass2,cmass2 to single_source_ClY1/sigma8/cmass2,cmass2.txt\n",
      "saving lowz,s12 to single_source_ClY1/sigma8/lowz,s12.txt\n",
      "saving cmass1,s12 to single_source_ClY1/sigma8/cmass1,s12.txt\n",
      "saving cmass2,s12 to single_source_ClY1/sigma8/cmass2,s12.txt\n",
      "saving s12,s12 to single_source_ClY1/sigma8/s12,s12.txt\n",
      "saving cosmo_dict to single_source_ClY1/sigma8/cosmo_dict.json.\n",
      "saved galaxy sample lowz to galaxy_sample_lowz.json\n",
      "saved galaxy sample cmass1 to galaxy_sample_cmass1.json\n",
      "saved galaxy sample cmass2 to galaxy_sample_cmass2.json\n",
      "saved galaxy sample s12 to galaxy_sample_s12.json\n",
      "12.53929615020752 sec\n"
     ]
    }
   ],
   "source": [
    "param = [0.02225, 0.1198, 0.6844, 0.831*(1.0+dp), 0.9645, 1.78, 2.10, 2.28, 2.259, 3.563, 3.729, 0.0, 0.0]\n",
    "compute(param, 'sigma8')\n",
    "save_dparam(0.831*dp, 'sigma8')"
   ]
  },
  {
   "cell_type": "code",
   "execution_count": 42,
   "metadata": {},
   "outputs": [
    {
     "name": "stdout",
     "output_type": "stream",
     "text": [
      "ln10p10As=3.0899364412116435\n",
      ":11.95534896850586 sec\n",
      "saving l to single_source_ClY1/ns/l.txt\n",
      "saving lowz,lowz to single_source_ClY1/ns/lowz,lowz.txt\n",
      "saving cmass1,cmass1 to single_source_ClY1/ns/cmass1,cmass1.txt\n",
      "saving cmass2,cmass2 to single_source_ClY1/ns/cmass2,cmass2.txt\n",
      "saving lowz,s12 to single_source_ClY1/ns/lowz,s12.txt\n",
      "saving cmass1,s12 to single_source_ClY1/ns/cmass1,s12.txt\n",
      "saving cmass2,s12 to single_source_ClY1/ns/cmass2,s12.txt\n",
      "saving s12,s12 to single_source_ClY1/ns/s12,s12.txt\n",
      "saving cosmo_dict to single_source_ClY1/ns/cosmo_dict.json.\n",
      "saved galaxy sample lowz to galaxy_sample_lowz.json\n",
      "saved galaxy sample cmass1 to galaxy_sample_cmass1.json\n",
      "saved galaxy sample cmass2 to galaxy_sample_cmass2.json\n",
      "saved galaxy sample s12 to galaxy_sample_s12.json\n",
      "12.2799711227417 sec\n"
     ]
    }
   ],
   "source": [
    "param = [0.02225, 0.1198, 0.6844, 0.831, 0.9645*(1.0+dp), 1.78, 2.10, 2.28, 2.259, 3.563, 3.729, 0.0, 0.0]\n",
    "compute(param, 'ns')\n",
    "save_dparam(0.9645*dp, 'ns')"
   ]
  },
  {
   "cell_type": "code",
   "execution_count": 43,
   "metadata": {},
   "outputs": [
    {
     "name": "stdout",
     "output_type": "stream",
     "text": [
      "ln10p10As=3.0972126913059492\n",
      ":11.966985940933228 sec\n",
      "saving l to single_source_ClY1/b1lowz/l.txt\n",
      "saving lowz,lowz to single_source_ClY1/b1lowz/lowz,lowz.txt\n",
      "saving cmass1,cmass1 to single_source_ClY1/b1lowz/cmass1,cmass1.txt\n",
      "saving cmass2,cmass2 to single_source_ClY1/b1lowz/cmass2,cmass2.txt\n",
      "saving lowz,s12 to single_source_ClY1/b1lowz/lowz,s12.txt\n",
      "saving cmass1,s12 to single_source_ClY1/b1lowz/cmass1,s12.txt\n",
      "saving cmass2,s12 to single_source_ClY1/b1lowz/cmass2,s12.txt\n",
      "saving s12,s12 to single_source_ClY1/b1lowz/s12,s12.txt\n",
      "saving cosmo_dict to single_source_ClY1/b1lowz/cosmo_dict.json.\n",
      "saved galaxy sample lowz to galaxy_sample_lowz.json\n",
      "saved galaxy sample cmass1 to galaxy_sample_cmass1.json\n",
      "saved galaxy sample cmass2 to galaxy_sample_cmass2.json\n",
      "saved galaxy sample s12 to galaxy_sample_s12.json\n",
      "12.317566871643066 sec\n"
     ]
    }
   ],
   "source": [
    "param = [0.02225, 0.1198, 0.6844, 0.831, 0.9645, 1.78*(1.0+dp), 2.10, 2.28, 2.259, 3.563, 3.729, 0.0, 0.0]\n",
    "compute(param, 'b1lowz')\n",
    "save_dparam(1.78*dp, 'b1lowz')"
   ]
  },
  {
   "cell_type": "code",
   "execution_count": 44,
   "metadata": {},
   "outputs": [
    {
     "name": "stdout",
     "output_type": "stream",
     "text": [
      "ln10p10As=3.0972126913059492\n",
      ":13.598771810531616 sec\n",
      "saving l to single_source_ClY1/b1cmass1/l.txt\n",
      "saving lowz,lowz to single_source_ClY1/b1cmass1/lowz,lowz.txt\n",
      "saving cmass1,cmass1 to single_source_ClY1/b1cmass1/cmass1,cmass1.txt\n",
      "saving cmass2,cmass2 to single_source_ClY1/b1cmass1/cmass2,cmass2.txt\n",
      "saving lowz,s12 to single_source_ClY1/b1cmass1/lowz,s12.txt\n",
      "saving cmass1,s12 to single_source_ClY1/b1cmass1/cmass1,s12.txt\n",
      "saving cmass2,s12 to single_source_ClY1/b1cmass1/cmass2,s12.txt\n",
      "saving s12,s12 to single_source_ClY1/b1cmass1/s12,s12.txt\n",
      "saving cosmo_dict to single_source_ClY1/b1cmass1/cosmo_dict.json.\n",
      "saved galaxy sample lowz to galaxy_sample_lowz.json\n",
      "saved galaxy sample cmass1 to galaxy_sample_cmass1.json\n",
      "saved galaxy sample cmass2 to galaxy_sample_cmass2.json\n",
      "saved galaxy sample s12 to galaxy_sample_s12.json\n",
      "13.969033002853394 sec\n"
     ]
    }
   ],
   "source": [
    "param = [0.02225, 0.1198, 0.6844, 0.831, 0.9645, 1.78, 2.10*(1.0+dp), 2.28, 2.259, 3.563, 3.729, 0.0, 0.0]\n",
    "compute(param, 'b1cmass1')\n",
    "save_dparam(2.10*dp, 'b1cmass1')"
   ]
  },
  {
   "cell_type": "code",
   "execution_count": 45,
   "metadata": {},
   "outputs": [
    {
     "name": "stdout",
     "output_type": "stream",
     "text": [
      "ln10p10As=3.0972126913059492\n",
      ":12.548655986785889 sec\n",
      "saving l to single_source_ClY1/b1cmass2/l.txt\n",
      "saving lowz,lowz to single_source_ClY1/b1cmass2/lowz,lowz.txt\n",
      "saving cmass1,cmass1 to single_source_ClY1/b1cmass2/cmass1,cmass1.txt\n",
      "saving cmass2,cmass2 to single_source_ClY1/b1cmass2/cmass2,cmass2.txt\n",
      "saving lowz,s12 to single_source_ClY1/b1cmass2/lowz,s12.txt\n",
      "saving cmass1,s12 to single_source_ClY1/b1cmass2/cmass1,s12.txt\n",
      "saving cmass2,s12 to single_source_ClY1/b1cmass2/cmass2,s12.txt\n",
      "saving s12,s12 to single_source_ClY1/b1cmass2/s12,s12.txt\n",
      "saving cosmo_dict to single_source_ClY1/b1cmass2/cosmo_dict.json.\n",
      "saved galaxy sample lowz to galaxy_sample_lowz.json\n",
      "saved galaxy sample cmass1 to galaxy_sample_cmass1.json\n",
      "saved galaxy sample cmass2 to galaxy_sample_cmass2.json\n",
      "saved galaxy sample s12 to galaxy_sample_s12.json\n",
      "12.886399030685425 sec\n"
     ]
    }
   ],
   "source": [
    "param = [0.02225, 0.1198, 0.6844, 0.831, 0.9645, 1.78, 2.10, 2.28*(1.0+dp), 2.259, 3.563, 3.729, 0.0, 0.0]\n",
    "compute(param, 'b1cmass2')\n",
    "save_dparam(2.28*dp, 'b1cmass2')"
   ]
  },
  {
   "cell_type": "code",
   "execution_count": 46,
   "metadata": {},
   "outputs": [
    {
     "name": "stdout",
     "output_type": "stream",
     "text": [
      "ln10p10As=3.0972126913059492\n",
      ":12.651279926300049 sec\n",
      "saving l to single_source_ClY1/alphamaglowz/l.txt\n",
      "saving lowz,lowz to single_source_ClY1/alphamaglowz/lowz,lowz.txt\n",
      "saving cmass1,cmass1 to single_source_ClY1/alphamaglowz/cmass1,cmass1.txt\n",
      "saving cmass2,cmass2 to single_source_ClY1/alphamaglowz/cmass2,cmass2.txt\n",
      "saving lowz,s12 to single_source_ClY1/alphamaglowz/lowz,s12.txt\n",
      "saving cmass1,s12 to single_source_ClY1/alphamaglowz/cmass1,s12.txt\n",
      "saving cmass2,s12 to single_source_ClY1/alphamaglowz/cmass2,s12.txt\n",
      "saving s12,s12 to single_source_ClY1/alphamaglowz/s12,s12.txt\n",
      "saving cosmo_dict to single_source_ClY1/alphamaglowz/cosmo_dict.json.\n",
      "saved galaxy sample lowz to galaxy_sample_lowz.json\n",
      "saved galaxy sample cmass1 to galaxy_sample_cmass1.json\n",
      "saved galaxy sample cmass2 to galaxy_sample_cmass2.json\n",
      "saved galaxy sample s12 to galaxy_sample_s12.json\n",
      "12.991662740707397 sec\n"
     ]
    }
   ],
   "source": [
    "param = [0.02225, 0.1198, 0.6844, 0.831, 0.9645, 1.78, 2.10, 2.28, 2.259*(1.0+dp), 3.563, 3.729, 0.0, 0.0]\n",
    "compute(param, 'alphamaglowz')\n",
    "save_dparam(2.259*dp, 'alphamaglowz')"
   ]
  },
  {
   "cell_type": "code",
   "execution_count": 47,
   "metadata": {},
   "outputs": [
    {
     "name": "stdout",
     "output_type": "stream",
     "text": [
      "ln10p10As=3.0972126913059492\n",
      ":12.164007902145386 sec\n",
      "saving l to single_source_ClY1/alphamagcmass1/l.txt\n",
      "saving lowz,lowz to single_source_ClY1/alphamagcmass1/lowz,lowz.txt\n",
      "saving cmass1,cmass1 to single_source_ClY1/alphamagcmass1/cmass1,cmass1.txt\n",
      "saving cmass2,cmass2 to single_source_ClY1/alphamagcmass1/cmass2,cmass2.txt\n",
      "saving lowz,s12 to single_source_ClY1/alphamagcmass1/lowz,s12.txt\n",
      "saving cmass1,s12 to single_source_ClY1/alphamagcmass1/cmass1,s12.txt\n",
      "saving cmass2,s12 to single_source_ClY1/alphamagcmass1/cmass2,s12.txt\n",
      "saving s12,s12 to single_source_ClY1/alphamagcmass1/s12,s12.txt\n",
      "saving cosmo_dict to single_source_ClY1/alphamagcmass1/cosmo_dict.json.\n",
      "saved galaxy sample lowz to galaxy_sample_lowz.json\n",
      "saved galaxy sample cmass1 to galaxy_sample_cmass1.json\n",
      "saved galaxy sample cmass2 to galaxy_sample_cmass2.json\n",
      "saved galaxy sample s12 to galaxy_sample_s12.json\n",
      "12.494340181350708 sec\n"
     ]
    }
   ],
   "source": [
    "param = [0.02225, 0.1198, 0.6844, 0.831, 0.9645, 1.78, 2.10, 2.28, 2.259, 3.563*(1.0+dp), 3.729, 0.0, 0.0]\n",
    "compute(param, 'alphamagcmass1')\n",
    "save_dparam(3.563*dp, 'alphamagcmass1')"
   ]
  },
  {
   "cell_type": "code",
   "execution_count": 48,
   "metadata": {},
   "outputs": [
    {
     "name": "stdout",
     "output_type": "stream",
     "text": [
      "ln10p10As=3.0972126913059492\n",
      ":12.649302005767822 sec\n",
      "saving l to single_source_ClY1/alphamagcmass2/l.txt\n",
      "saving lowz,lowz to single_source_ClY1/alphamagcmass2/lowz,lowz.txt\n",
      "saving cmass1,cmass1 to single_source_ClY1/alphamagcmass2/cmass1,cmass1.txt\n",
      "saving cmass2,cmass2 to single_source_ClY1/alphamagcmass2/cmass2,cmass2.txt\n",
      "saving lowz,s12 to single_source_ClY1/alphamagcmass2/lowz,s12.txt\n",
      "saving cmass1,s12 to single_source_ClY1/alphamagcmass2/cmass1,s12.txt\n",
      "saving cmass2,s12 to single_source_ClY1/alphamagcmass2/cmass2,s12.txt\n",
      "saving s12,s12 to single_source_ClY1/alphamagcmass2/s12,s12.txt\n",
      "saving cosmo_dict to single_source_ClY1/alphamagcmass2/cosmo_dict.json.\n",
      "saved galaxy sample lowz to galaxy_sample_lowz.json\n",
      "saved galaxy sample cmass1 to galaxy_sample_cmass1.json\n",
      "saved galaxy sample cmass2 to galaxy_sample_cmass2.json\n",
      "saved galaxy sample s12 to galaxy_sample_s12.json\n",
      "12.963857173919678 sec\n"
     ]
    }
   ],
   "source": [
    "param = [0.02225, 0.1198, 0.6844, 0.831, 0.9645, 1.78, 2.10, 2.28, 2.259, 3.563, 3.729*(1.0+dp), 0.0, 0.0]\n",
    "compute(param, 'alphamagcmass2')\n",
    "save_dparam(3.729*dp, 'alphamagcmass2')"
   ]
  },
  {
   "cell_type": "code",
   "execution_count": 49,
   "metadata": {},
   "outputs": [
    {
     "name": "stdout",
     "output_type": "stream",
     "text": [
      "ln10p10As=3.0972126913059492\n",
      ":12.490612983703613 sec\n",
      "saving l to single_source_ClY1/dzph/l.txt\n",
      "saving lowz,lowz to single_source_ClY1/dzph/lowz,lowz.txt\n",
      "saving cmass1,cmass1 to single_source_ClY1/dzph/cmass1,cmass1.txt\n",
      "saving cmass2,cmass2 to single_source_ClY1/dzph/cmass2,cmass2.txt\n",
      "saving lowz,s12 to single_source_ClY1/dzph/lowz,s12.txt\n",
      "saving cmass1,s12 to single_source_ClY1/dzph/cmass1,s12.txt\n",
      "saving cmass2,s12 to single_source_ClY1/dzph/cmass2,s12.txt\n",
      "saving s12,s12 to single_source_ClY1/dzph/s12,s12.txt\n",
      "saving cosmo_dict to single_source_ClY1/dzph/cosmo_dict.json.\n",
      "saved galaxy sample lowz to galaxy_sample_lowz.json\n",
      "saved galaxy sample cmass1 to galaxy_sample_cmass1.json\n",
      "saved galaxy sample cmass2 to galaxy_sample_cmass2.json\n",
      "saved galaxy sample s12 to galaxy_sample_s12.json\n",
      "12.803786993026733 sec\n"
     ]
    }
   ],
   "source": [
    "param = [0.02225, 0.1198, 0.6844, 0.831, 0.9645, 1.78, 2.10, 2.28, 2.259, 3.563, 3.729, dp, 0.0]\n",
    "compute(param, 'dzph')\n",
    "save_dparam(dp, 'dzph')"
   ]
  },
  {
   "cell_type": "code",
   "execution_count": 50,
   "metadata": {},
   "outputs": [
    {
     "name": "stdout",
     "output_type": "stream",
     "text": [
      "ln10p10As=3.0972126913059492\n",
      ":11.887729167938232 sec\n",
      "saving l to single_source_ClY1/dm/l.txt\n",
      "saving lowz,lowz to single_source_ClY1/dm/lowz,lowz.txt\n",
      "saving cmass1,cmass1 to single_source_ClY1/dm/cmass1,cmass1.txt\n",
      "saving cmass2,cmass2 to single_source_ClY1/dm/cmass2,cmass2.txt\n",
      "saving lowz,s12 to single_source_ClY1/dm/lowz,s12.txt\n",
      "saving cmass1,s12 to single_source_ClY1/dm/cmass1,s12.txt\n",
      "saving cmass2,s12 to single_source_ClY1/dm/cmass2,s12.txt\n",
      "saving s12,s12 to single_source_ClY1/dm/s12,s12.txt\n",
      "saving cosmo_dict to single_source_ClY1/dm/cosmo_dict.json.\n",
      "saved galaxy sample lowz to galaxy_sample_lowz.json\n",
      "saved galaxy sample cmass1 to galaxy_sample_cmass1.json\n",
      "saved galaxy sample cmass2 to galaxy_sample_cmass2.json\n",
      "saved galaxy sample s12 to galaxy_sample_s12.json\n",
      "12.20041298866272 sec\n"
     ]
    }
   ],
   "source": [
    "param = [0.02225, 0.1198, 0.6844, 0.831, 0.9645, 1.78, 2.10, 2.28, 2.259, 3.563, 3.729, 0.0, dp]\n",
    "compute(param, 'dm')\n",
    "save_dparam(dp, 'dm')"
   ]
  },
  {
   "cell_type": "code",
   "execution_count": 51,
   "metadata": {},
   "outputs": [],
   "source": [
    "np.savetxt(os.path.join(dirname, 'param_fiducial.txt'), np.array(param_fiducial))"
   ]
  },
  {
   "cell_type": "code",
   "execution_count": null,
   "metadata": {},
   "outputs": [],
   "source": []
  }
 ],
 "metadata": {
  "kernelspec": {
   "display_name": "Python 3",
   "language": "python",
   "name": "python3"
  },
  "language_info": {
   "codemirror_mode": {
    "name": "ipython",
    "version": 3
   },
   "file_extension": ".py",
   "mimetype": "text/x-python",
   "name": "python",
   "nbconvert_exporter": "python",
   "pygments_lexer": "ipython3",
   "version": "3.7.2"
  }
 },
 "nbformat": 4,
 "nbformat_minor": 4
}
