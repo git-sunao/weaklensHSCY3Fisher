{
 "cells": [
  {
   "cell_type": "code",
   "execution_count": 1,
   "metadata": {},
   "outputs": [
    {
     "name": "stdout",
     "output_type": "stream",
     "text": [
      "Populating the interactive namespace from numpy and matplotlib\n"
     ]
    }
   ],
   "source": [
    "%load_ext autoreload\n",
    "%autoreload 2\n",
    "%pylab inline"
   ]
  },
  {
   "cell_type": "code",
   "execution_count": 2,
   "metadata": {},
   "outputs": [
    {
     "name": "stdout",
     "output_type": "stream",
     "text": [
      "using dark_emulator at  /Users/sunao-mac/Documents/python_package/dark_emulator_public/dark_emulator/__init__.py\n"
     ]
    }
   ],
   "source": [
    "import numpy as np\n",
    "from dark_emulator_public import dark_emulator\n",
    "import os, sys, time\n",
    "import matplotlib.pyplot as plt\n",
    "from collections import OrderedDict as od\n",
    "from scipy.interpolate import InterpolatedUnivariateSpline as ius\n",
    "from scipy.interpolate import interp2d, interp1d\n",
    "from scipy.integrate import simps\n",
    "from tqdm import tqdm\n",
    "import hsc3x2pt"
   ]
  },
  {
   "cell_type": "code",
   "execution_count": 3,
   "metadata": {},
   "outputs": [],
   "source": [
    "t0 = time.time()"
   ]
  },
  {
   "cell_type": "markdown",
   "metadata": {},
   "source": [
    "## Preparation for Fisher\n",
    "Computation of $C(l)$ takes ~20 sec for each cosmology.\n",
    "So this notebook pre-compute $C(l)$ for cosmologies needed for Fisher analysis.\n",
    "\n",
    "Model parameters of 3x2pt analysis with single(double) source redshift bin are\n",
    "- comsology: 5\n",
    "- galaxy bias: 1x3\n",
    "- magnification bias: 1x3\n",
    "- photo-z: 1x1(2)\n",
    "- multiplicative bais: 1x1(2)\n",
    "\n",
    "13(15) parameters in total.\n",
    "\n",
    "$C(l)$s depend on cosmological parameters, galaxy bias and magnification bias, for which we need to compute $C(l)$.\n",
    "\n",
    "**Note** : Fisher analysis is doable even if the computational time for one model reaches ~20 sec. However, in the real analysis, ~20 sec is too much to run sampling code. \n",
    "I just want to know how people in cosmic shear, like Hikage-san and Hamana-san, or people in 3x2pt, like DES or KiDS, implement code of $C(l)$.?"
   ]
  },
  {
   "cell_type": "code",
   "execution_count": 4,
   "metadata": {},
   "outputs": [
    {
     "name": "stdout",
     "output_type": "stream",
     "text": [
      "initialize cosmo_class\n",
      "Initialize pklin emulator\n",
      "initialize propagator emulator\n",
      "Initialize sigma_d emulator\n",
      "initialize cross-correlation emulator\n",
      "initialize auto-correlation emulator\n",
      "Initialize sigmaM emulator\n",
      "initialize xinl emulator\n"
     ]
    }
   ],
   "source": [
    "power_b1 = hsc3x2pt.power_b1_class()"
   ]
  },
  {
   "cell_type": "code",
   "execution_count": 5,
   "metadata": {},
   "outputs": [],
   "source": [
    "Omega_s_HSC = 400"
   ]
  },
  {
   "cell_type": "markdown",
   "metadata": {},
   "source": [
    "### List of models to compute $C(l)$ to compute **single** source bin anlaysis\n",
    "0. fiducial = Planck cosmology + fiducial galaxy bias, magnification bais + 0 photo-z and multiplicative bias\n",
    "1. $\\omega_b h^2$ +\n",
    "2. $\\omega_c h^2$ +\n",
    "3. $\\Omega_{\\rm de}$ +\n",
    "4. $n_{\\rm s}$ +\n",
    "5. $\\ln 10^{10}A_{\\rm s}$ +\n",
    "6. $b_{\\rm 1,1}$ + \n",
    "7. $b_{\\rm 1,2}$ + \n",
    "8. $b_{\\rm 1,3}$ + \n",
    "9. $\\alpha_{\\rm mag,1}$ + \n",
    "10. $\\alpha_{\\rm mag,2}$ + \n",
    "11. $\\alpha_{\\rm mag,3}$ + \n",
    "12. $\\Delta z_{\\rm ph}$ +\n",
    "13. $\\Delta m$ + = easy. Just multiply $1+\\Delta m$ to fiducial."
   ]
  },
  {
   "cell_type": "code",
   "execution_count": 6,
   "metadata": {},
   "outputs": [],
   "source": [
    "dirname = 'single_source_ClY3'"
   ]
  },
  {
   "cell_type": "code",
   "execution_count": 7,
   "metadata": {},
   "outputs": [
    {
     "name": "stdout",
     "output_type": "stream",
     "text": [
      ":22.07122302055359 sec\n",
      "saving l to single_source_ClY3/fiducial/l.txt\n",
      "saving lowz,lowz to single_source_ClY3/fiducial/lowz,lowz.txt\n",
      "saving lowz,cmass1 to single_source_ClY3/fiducial/lowz,cmass1.txt\n",
      "saving lowz,cmass2 to single_source_ClY3/fiducial/lowz,cmass2.txt\n",
      "saving cmass1,lowz to single_source_ClY3/fiducial/cmass1,lowz.txt\n",
      "saving cmass1,cmass1 to single_source_ClY3/fiducial/cmass1,cmass1.txt\n",
      "saving cmass1,cmass2 to single_source_ClY3/fiducial/cmass1,cmass2.txt\n",
      "saving cmass2,lowz to single_source_ClY3/fiducial/cmass2,lowz.txt\n",
      "saving cmass2,cmass1 to single_source_ClY3/fiducial/cmass2,cmass1.txt\n",
      "saving cmass2,cmass2 to single_source_ClY3/fiducial/cmass2,cmass2.txt\n",
      "saving lowz,s12 to single_source_ClY3/fiducial/lowz,s12.txt\n",
      "saving cmass1,s12 to single_source_ClY3/fiducial/cmass1,s12.txt\n",
      "saving cmass2,s12 to single_source_ClY3/fiducial/cmass2,s12.txt\n",
      "saving s12,s12 to single_source_ClY3/fiducial/s12,s12.txt\n",
      "saving cosmo_dict to single_source_ClY3/fiducial/cosmo_dict.json.\n",
      "saved galaxy sample lowz to galaxy_sample_lowz.json\n",
      "saved galaxy sample cmass1 to galaxy_sample_cmass1.json\n",
      "saved galaxy sample cmass2 to galaxy_sample_cmass2.json\n",
      "saved galaxy sample s12 to galaxy_sample_s12.json\n",
      "CPU times: user 22.3 s, sys: 233 ms, total: 22.5 s\n",
      "Wall time: 22.4 s\n"
     ]
    }
   ],
   "source": [
    "%%time\n",
    "g_l1 = hsc3x2pt.galaxy_sample_lens_class(['lowz'  , 0.15, 0.35, 1.78, '40.36 arcmin^-2', 2.259])\n",
    "g_l2 = hsc3x2pt.galaxy_sample_lens_class(['cmass1', 0.47, 0.55, 2.10, '20.06 arcmin^-2', 3.563])\n",
    "g_l3 = hsc3x2pt.galaxy_sample_lens_class(['cmass2', 0.55, 0.70, 2.28, '30.12 arcmin^-2', 3.729])\n",
    "g_s12= hsc3x2pt.galaxy_sample_source_class(['s12', 'sourcePzs_Y1/MLZs12.txt', 0.0, 0.0, 0.2, '8.74 arcmin^-2'])\n",
    "pk2cl = hsc3x2pt.pk2cl_class(power_b1)\n",
    "pk2cl.set_galaxy_sample(g_l1)\n",
    "pk2cl.set_galaxy_sample(g_l2)\n",
    "pk2cl.set_galaxy_sample(g_l3)\n",
    "pk2cl.set_galaxy_sample(g_s12)\n",
    "pk2cl.set_cosmology_from_dict()\n",
    "pk2cl.init_pk()\n",
    "pk2cl.set_Omega_s({'w':8300, 'gamma_t':Omega_s_HSC, 'xi':Omega_s_HSC}) # HSCY1\n",
    "\n",
    "l = np.logspace(-2, 5, 1000)\n",
    "with hsc3x2pt.Time():\n",
    "    pk2cl.compute_all_Cl(l, compute_lens_cross=True)\n",
    "pk2cl.dump_Cl_cache(f'{dirname}/fiducial', overwrite=True)"
   ]
  },
  {
   "cell_type": "code",
   "execution_count": 8,
   "metadata": {},
   "outputs": [],
   "source": [
    "cosmo_fiducial = pk2cl.get_cosmo_dict()\n",
    "dp = 0.0001"
   ]
  },
  {
   "cell_type": "code",
   "execution_count": 9,
   "metadata": {},
   "outputs": [
    {
     "name": "stdout",
     "output_type": "stream",
     "text": [
      ":12.118392705917358 sec\n",
      "saving l to single_source_ClY3/omega_b/l.txt\n",
      "saving lowz,lowz to single_source_ClY3/omega_b/lowz,lowz.txt\n",
      "saving cmass1,cmass1 to single_source_ClY3/omega_b/cmass1,cmass1.txt\n",
      "saving cmass2,cmass2 to single_source_ClY3/omega_b/cmass2,cmass2.txt\n",
      "saving lowz,s12 to single_source_ClY3/omega_b/lowz,s12.txt\n",
      "saving cmass1,s12 to single_source_ClY3/omega_b/cmass1,s12.txt\n",
      "saving cmass2,s12 to single_source_ClY3/omega_b/cmass2,s12.txt\n",
      "saving s12,s12 to single_source_ClY3/omega_b/s12,s12.txt\n",
      "saving cosmo_dict to single_source_ClY3/omega_b/cosmo_dict.json.\n",
      "saved galaxy sample lowz to galaxy_sample_lowz.json\n",
      "saved galaxy sample cmass1 to galaxy_sample_cmass1.json\n",
      "saved galaxy sample cmass2 to galaxy_sample_cmass2.json\n",
      "saved galaxy sample s12 to galaxy_sample_s12.json\n",
      "CPU times: user 12.9 s, sys: 102 ms, total: 13 s\n",
      "Wall time: 12.4 s\n"
     ]
    }
   ],
   "source": [
    "%%time\n",
    "g_l1 = hsc3x2pt.galaxy_sample_lens_class(['lowz'  , 0.15, 0.35, 1.78, '40.36 arcmin^-2', 2.259])\n",
    "g_l2 = hsc3x2pt.galaxy_sample_lens_class(['cmass1', 0.47, 0.55, 2.10, '20.06 arcmin^-2', 3.563])\n",
    "g_l3 = hsc3x2pt.galaxy_sample_lens_class(['cmass2', 0.55, 0.70, 2.28, '30.12 arcmin^-2', 3.729])\n",
    "g_s12= hsc3x2pt.galaxy_sample_source_class(['s12', 'sourcePzs_Y1/MLZs12.txt', 0.0, 0.0, 0.2, '8.74 arcmin^-2'])\n",
    "pk2cl = hsc3x2pt.pk2cl_class(power_b1)\n",
    "pk2cl.set_galaxy_sample(g_l1)\n",
    "pk2cl.set_galaxy_sample(g_l2)\n",
    "pk2cl.set_galaxy_sample(g_l3)\n",
    "pk2cl.set_galaxy_sample(g_s12)\n",
    "cosmo_dict = cosmo_fiducial.copy()\n",
    "cosmo_dict['omega_b'] = cosmo_fiducial['omega_b']*(1.0+dp)\n",
    "pk2cl.set_cosmology_from_dict(cosmo_dict)\n",
    "pk2cl.init_pk()\n",
    "pk2cl.set_Omega_s({'w':8300, 'gamma_t':Omega_s_HSC, 'xi':Omega_s_HSC}) # HSCY1\n",
    "\n",
    "l = np.logspace(-2, 5, 1000)\n",
    "with hsc3x2pt.Time():\n",
    "    pk2cl.compute_all_Cl(l, compute_lens_cross=False)\n",
    "pk2cl.dump_Cl_cache(f'{dirname}/omega_b', overwrite=True)"
   ]
  },
  {
   "cell_type": "code",
   "execution_count": 10,
   "metadata": {},
   "outputs": [
    {
     "name": "stdout",
     "output_type": "stream",
     "text": [
      ":12.6399507522583 sec\n",
      "saving l to single_source_ClY3/omega_c/l.txt\n",
      "saving lowz,lowz to single_source_ClY3/omega_c/lowz,lowz.txt\n",
      "saving cmass1,cmass1 to single_source_ClY3/omega_c/cmass1,cmass1.txt\n",
      "saving cmass2,cmass2 to single_source_ClY3/omega_c/cmass2,cmass2.txt\n",
      "saving lowz,s12 to single_source_ClY3/omega_c/lowz,s12.txt\n",
      "saving cmass1,s12 to single_source_ClY3/omega_c/cmass1,s12.txt\n",
      "saving cmass2,s12 to single_source_ClY3/omega_c/cmass2,s12.txt\n",
      "saving s12,s12 to single_source_ClY3/omega_c/s12,s12.txt\n",
      "saving cosmo_dict to single_source_ClY3/omega_c/cosmo_dict.json.\n",
      "saved galaxy sample lowz to galaxy_sample_lowz.json\n",
      "saved galaxy sample cmass1 to galaxy_sample_cmass1.json\n",
      "saved galaxy sample cmass2 to galaxy_sample_cmass2.json\n",
      "saved galaxy sample s12 to galaxy_sample_s12.json\n",
      "CPU times: user 13.3 s, sys: 128 ms, total: 13.5 s\n",
      "Wall time: 12.9 s\n"
     ]
    }
   ],
   "source": [
    "%%time\n",
    "g_l1 = hsc3x2pt.galaxy_sample_lens_class(['lowz'  , 0.15, 0.35, 1.78, '40.36 arcmin^-2', 2.259])\n",
    "g_l2 = hsc3x2pt.galaxy_sample_lens_class(['cmass1', 0.47, 0.55, 2.10, '20.06 arcmin^-2', 3.563])\n",
    "g_l3 = hsc3x2pt.galaxy_sample_lens_class(['cmass2', 0.55, 0.70, 2.28, '30.12 arcmin^-2', 3.729])\n",
    "g_s12= hsc3x2pt.galaxy_sample_source_class(['s12', 'sourcePzs_Y1/MLZs12.txt', 0.0, 0.0, 0.2, '8.74 arcmin^-2'])\n",
    "pk2cl = hsc3x2pt.pk2cl_class(power_b1)\n",
    "pk2cl.set_galaxy_sample(g_l1)\n",
    "pk2cl.set_galaxy_sample(g_l2)\n",
    "pk2cl.set_galaxy_sample(g_l3)\n",
    "pk2cl.set_galaxy_sample(g_s12)\n",
    "cosmo_dict = cosmo_fiducial.copy()\n",
    "cosmo_dict['omega_c'] = cosmo_fiducial['omega_c']*(1.0+dp)\n",
    "pk2cl.set_cosmology_from_dict(cosmo_dict)\n",
    "pk2cl.init_pk()\n",
    "pk2cl.set_Omega_s({'w':8300, 'gamma_t':Omega_s_HSC, 'xi':Omega_s_HSC}) # HSCY1\n",
    "\n",
    "l = np.logspace(-2, 5, 1000)\n",
    "with hsc3x2pt.Time():\n",
    "    pk2cl.compute_all_Cl(l, compute_lens_cross=False)\n",
    "pk2cl.dump_Cl_cache(f'{dirname}/omega_c', overwrite=True)"
   ]
  },
  {
   "cell_type": "code",
   "execution_count": 11,
   "metadata": {},
   "outputs": [
    {
     "name": "stdout",
     "output_type": "stream",
     "text": [
      ":13.067876815795898 sec\n",
      "saving l to single_source_ClY3/Omega_de/l.txt\n",
      "saving lowz,lowz to single_source_ClY3/Omega_de/lowz,lowz.txt\n",
      "saving cmass1,cmass1 to single_source_ClY3/Omega_de/cmass1,cmass1.txt\n",
      "saving cmass2,cmass2 to single_source_ClY3/Omega_de/cmass2,cmass2.txt\n",
      "saving lowz,s12 to single_source_ClY3/Omega_de/lowz,s12.txt\n",
      "saving cmass1,s12 to single_source_ClY3/Omega_de/cmass1,s12.txt\n",
      "saving cmass2,s12 to single_source_ClY3/Omega_de/cmass2,s12.txt\n",
      "saving s12,s12 to single_source_ClY3/Omega_de/s12,s12.txt\n",
      "saving cosmo_dict to single_source_ClY3/Omega_de/cosmo_dict.json.\n",
      "saved galaxy sample lowz to galaxy_sample_lowz.json\n",
      "saved galaxy sample cmass1 to galaxy_sample_cmass1.json\n",
      "saved galaxy sample cmass2 to galaxy_sample_cmass2.json\n",
      "saved galaxy sample s12 to galaxy_sample_s12.json\n",
      "CPU times: user 13.7 s, sys: 151 ms, total: 13.8 s\n",
      "Wall time: 13.4 s\n"
     ]
    }
   ],
   "source": [
    "%%time\n",
    "g_l1 = hsc3x2pt.galaxy_sample_lens_class(['lowz'  , 0.15, 0.35, 1.78, '40.36 arcmin^-2', 2.259])\n",
    "g_l2 = hsc3x2pt.galaxy_sample_lens_class(['cmass1', 0.47, 0.55, 2.10, '20.06 arcmin^-2', 3.563])\n",
    "g_l3 = hsc3x2pt.galaxy_sample_lens_class(['cmass2', 0.55, 0.70, 2.28, '30.12 arcmin^-2', 3.729])\n",
    "g_s12= hsc3x2pt.galaxy_sample_source_class(['s12', 'sourcePzs_Y1/MLZs12.txt', 0.0, 0.0, 0.2, '8.74 arcmin^-2'])\n",
    "pk2cl = hsc3x2pt.pk2cl_class(power_b1)\n",
    "pk2cl.set_galaxy_sample(g_l1)\n",
    "pk2cl.set_galaxy_sample(g_l2)\n",
    "pk2cl.set_galaxy_sample(g_l3)\n",
    "pk2cl.set_galaxy_sample(g_s12)\n",
    "cosmo_dict = cosmo_fiducial.copy()\n",
    "cosmo_dict['Omega_de'] = cosmo_fiducial['Omega_de']*(1.0+dp)\n",
    "pk2cl.set_cosmology_from_dict(cosmo_dict)\n",
    "pk2cl.init_pk()\n",
    "pk2cl.set_Omega_s({'w':8300, 'gamma_t':Omega_s_HSC, 'xi':Omega_s_HSC}) # HSCY1\n",
    "\n",
    "l = np.logspace(-2, 5, 1000)\n",
    "with hsc3x2pt.Time():\n",
    "    pk2cl.compute_all_Cl(l, compute_lens_cross=False)\n",
    "pk2cl.dump_Cl_cache(f'{dirname}/Omega_de', overwrite=True)"
   ]
  },
  {
   "cell_type": "code",
   "execution_count": 12,
   "metadata": {},
   "outputs": [
    {
     "name": "stdout",
     "output_type": "stream",
     "text": [
      ":12.989488124847412 sec\n",
      "saving l to single_source_ClY3/n_s/l.txt\n",
      "saving lowz,lowz to single_source_ClY3/n_s/lowz,lowz.txt\n",
      "saving cmass1,cmass1 to single_source_ClY3/n_s/cmass1,cmass1.txt\n",
      "saving cmass2,cmass2 to single_source_ClY3/n_s/cmass2,cmass2.txt\n",
      "saving lowz,s12 to single_source_ClY3/n_s/lowz,s12.txt\n",
      "saving cmass1,s12 to single_source_ClY3/n_s/cmass1,s12.txt\n",
      "saving cmass2,s12 to single_source_ClY3/n_s/cmass2,s12.txt\n",
      "saving s12,s12 to single_source_ClY3/n_s/s12,s12.txt\n",
      "saving cosmo_dict to single_source_ClY3/n_s/cosmo_dict.json.\n",
      "saved galaxy sample lowz to galaxy_sample_lowz.json\n",
      "saved galaxy sample cmass1 to galaxy_sample_cmass1.json\n",
      "saved galaxy sample cmass2 to galaxy_sample_cmass2.json\n",
      "saved galaxy sample s12 to galaxy_sample_s12.json\n",
      "CPU times: user 13.6 s, sys: 156 ms, total: 13.8 s\n",
      "Wall time: 13.3 s\n"
     ]
    }
   ],
   "source": [
    "%%time\n",
    "g_l1 = hsc3x2pt.galaxy_sample_lens_class(['lowz'  , 0.15, 0.35, 1.78, '40.36 arcmin^-2', 2.259])\n",
    "g_l2 = hsc3x2pt.galaxy_sample_lens_class(['cmass1', 0.47, 0.55, 2.10, '20.06 arcmin^-2', 3.563])\n",
    "g_l3 = hsc3x2pt.galaxy_sample_lens_class(['cmass2', 0.55, 0.70, 2.28, '30.12 arcmin^-2', 3.729])\n",
    "g_s12= hsc3x2pt.galaxy_sample_source_class(['s12', 'sourcePzs_Y1/MLZs12.txt', 0.0, 0.0, 0.2, '8.74 arcmin^-2'])\n",
    "pk2cl = hsc3x2pt.pk2cl_class(power_b1)\n",
    "pk2cl.set_galaxy_sample(g_l1)\n",
    "pk2cl.set_galaxy_sample(g_l2)\n",
    "pk2cl.set_galaxy_sample(g_l3)\n",
    "pk2cl.set_galaxy_sample(g_s12)\n",
    "cosmo_dict = cosmo_fiducial.copy()\n",
    "cosmo_dict['n_s'] = cosmo_fiducial['n_s']*(1.0+dp)\n",
    "pk2cl.set_cosmology_from_dict(cosmo_dict)\n",
    "pk2cl.init_pk()\n",
    "pk2cl.set_Omega_s({'w':8300, 'gamma_t':Omega_s_HSC, 'xi':Omega_s_HSC}) # HSCY1\n",
    "\n",
    "l = np.logspace(-2, 5, 1000)\n",
    "with hsc3x2pt.Time():\n",
    "    pk2cl.compute_all_Cl(l, compute_lens_cross=False)\n",
    "pk2cl.dump_Cl_cache(f'{dirname}/n_s', overwrite=True)"
   ]
  },
  {
   "cell_type": "code",
   "execution_count": 13,
   "metadata": {},
   "outputs": [
    {
     "name": "stdout",
     "output_type": "stream",
     "text": [
      ":12.93839406967163 sec\n",
      "saving l to single_source_ClY3/ln10p10As/l.txt\n",
      "saving lowz,lowz to single_source_ClY3/ln10p10As/lowz,lowz.txt\n",
      "saving cmass1,cmass1 to single_source_ClY3/ln10p10As/cmass1,cmass1.txt\n",
      "saving cmass2,cmass2 to single_source_ClY3/ln10p10As/cmass2,cmass2.txt\n",
      "saving lowz,s12 to single_source_ClY3/ln10p10As/lowz,s12.txt\n",
      "saving cmass1,s12 to single_source_ClY3/ln10p10As/cmass1,s12.txt\n",
      "saving cmass2,s12 to single_source_ClY3/ln10p10As/cmass2,s12.txt\n",
      "saving s12,s12 to single_source_ClY3/ln10p10As/s12,s12.txt\n",
      "saving cosmo_dict to single_source_ClY3/ln10p10As/cosmo_dict.json.\n",
      "saved galaxy sample lowz to galaxy_sample_lowz.json\n",
      "saved galaxy sample cmass1 to galaxy_sample_cmass1.json\n",
      "saved galaxy sample cmass2 to galaxy_sample_cmass2.json\n",
      "saved galaxy sample s12 to galaxy_sample_s12.json\n",
      "CPU times: user 13.6 s, sys: 152 ms, total: 13.7 s\n",
      "Wall time: 13.3 s\n"
     ]
    }
   ],
   "source": [
    "%%time\n",
    "g_l1 = hsc3x2pt.galaxy_sample_lens_class(['lowz'  , 0.15, 0.35, 1.78, '40.36 arcmin^-2', 2.259])\n",
    "g_l2 = hsc3x2pt.galaxy_sample_lens_class(['cmass1', 0.47, 0.55, 2.10, '20.06 arcmin^-2', 3.563])\n",
    "g_l3 = hsc3x2pt.galaxy_sample_lens_class(['cmass2', 0.55, 0.70, 2.28, '30.12 arcmin^-2', 3.729])\n",
    "g_s12= hsc3x2pt.galaxy_sample_source_class(['s12', 'sourcePzs_Y1/MLZs12.txt', 0.0, 0.0, 0.2, '8.74 arcmin^-2'])\n",
    "pk2cl = hsc3x2pt.pk2cl_class(power_b1)\n",
    "pk2cl.set_galaxy_sample(g_l1)\n",
    "pk2cl.set_galaxy_sample(g_l2)\n",
    "pk2cl.set_galaxy_sample(g_l3)\n",
    "pk2cl.set_galaxy_sample(g_s12)\n",
    "cosmo_dict = cosmo_fiducial.copy()\n",
    "cosmo_dict['ln10p10As'] = cosmo_fiducial['ln10p10As']*(1.0+dp)\n",
    "pk2cl.set_cosmology_from_dict(cosmo_dict)\n",
    "pk2cl.init_pk()\n",
    "pk2cl.set_Omega_s({'w':8300, 'gamma_t':Omega_s_HSC, 'xi':Omega_s_HSC}) # HSCY1\n",
    "\n",
    "l = np.logspace(-2, 5, 1000)\n",
    "with hsc3x2pt.Time():\n",
    "    pk2cl.compute_all_Cl(l, compute_lens_cross=False)\n",
    "pk2cl.dump_Cl_cache(f'{dirname}/ln10p10As', overwrite=True)"
   ]
  },
  {
   "cell_type": "code",
   "execution_count": 14,
   "metadata": {},
   "outputs": [
    {
     "name": "stdout",
     "output_type": "stream",
     "text": [
      ":13.595612049102783 sec\n",
      "saving l to single_source_ClY3/b1lowz/l.txt\n",
      "saving lowz,lowz to single_source_ClY3/b1lowz/lowz,lowz.txt\n",
      "saving cmass1,cmass1 to single_source_ClY3/b1lowz/cmass1,cmass1.txt\n",
      "saving cmass2,cmass2 to single_source_ClY3/b1lowz/cmass2,cmass2.txt\n",
      "saving lowz,s12 to single_source_ClY3/b1lowz/lowz,s12.txt\n",
      "saving cmass1,s12 to single_source_ClY3/b1lowz/cmass1,s12.txt\n",
      "saving cmass2,s12 to single_source_ClY3/b1lowz/cmass2,s12.txt\n",
      "saving s12,s12 to single_source_ClY3/b1lowz/s12,s12.txt\n",
      "saving cosmo_dict to single_source_ClY3/b1lowz/cosmo_dict.json.\n",
      "saved galaxy sample lowz to galaxy_sample_lowz.json\n",
      "saved galaxy sample cmass1 to galaxy_sample_cmass1.json\n",
      "saved galaxy sample cmass2 to galaxy_sample_cmass2.json\n",
      "saved galaxy sample s12 to galaxy_sample_s12.json\n",
      "CPU times: user 14.2 s, sys: 167 ms, total: 14.3 s\n",
      "Wall time: 13.9 s\n"
     ]
    }
   ],
   "source": [
    "%%time\n",
    "g_l1 = hsc3x2pt.galaxy_sample_lens_class(['lowz'  , 0.15, 0.35, 1.78*(1.0+dp), '40.36 arcmin^-2', 2.259])\n",
    "g_l2 = hsc3x2pt.galaxy_sample_lens_class(['cmass1', 0.47, 0.55, 2.10, '20.06 arcmin^-2', 3.563])\n",
    "g_l3 = hsc3x2pt.galaxy_sample_lens_class(['cmass2', 0.55, 0.70, 2.28, '30.12 arcmin^-2', 3.729])\n",
    "g_s12= hsc3x2pt.galaxy_sample_source_class(['s12', 'sourcePzs_Y1/MLZs12.txt', 0.0, 0.0, 0.2, '8.74 arcmin^-2'])\n",
    "pk2cl = hsc3x2pt.pk2cl_class(power_b1)\n",
    "pk2cl.set_galaxy_sample(g_l1)\n",
    "pk2cl.set_galaxy_sample(g_l2)\n",
    "pk2cl.set_galaxy_sample(g_l3)\n",
    "pk2cl.set_galaxy_sample(g_s12)\n",
    "cosmo_dict = cosmo_fiducial.copy()\n",
    "pk2cl.set_cosmology_from_dict(cosmo_dict)\n",
    "pk2cl.init_pk()\n",
    "pk2cl.set_Omega_s({'w':8300, 'gamma_t':Omega_s_HSC, 'xi':Omega_s_HSC}) # HSCY1\n",
    "\n",
    "l = np.logspace(-2, 5, 1000)\n",
    "with hsc3x2pt.Time():\n",
    "    pk2cl.compute_all_Cl(l, compute_lens_cross=False)\n",
    "pk2cl.dump_Cl_cache(f'{dirname}/b1lowz', overwrite=True)"
   ]
  },
  {
   "cell_type": "code",
   "execution_count": 15,
   "metadata": {},
   "outputs": [
    {
     "name": "stdout",
     "output_type": "stream",
     "text": [
      ":13.19619083404541 sec\n",
      "saving l to single_source_ClY3/b1cmass1/l.txt\n",
      "saving lowz,lowz to single_source_ClY3/b1cmass1/lowz,lowz.txt\n",
      "saving cmass1,cmass1 to single_source_ClY3/b1cmass1/cmass1,cmass1.txt\n",
      "saving cmass2,cmass2 to single_source_ClY3/b1cmass1/cmass2,cmass2.txt\n",
      "saving lowz,s12 to single_source_ClY3/b1cmass1/lowz,s12.txt\n",
      "saving cmass1,s12 to single_source_ClY3/b1cmass1/cmass1,s12.txt\n",
      "saving cmass2,s12 to single_source_ClY3/b1cmass1/cmass2,s12.txt\n",
      "saving s12,s12 to single_source_ClY3/b1cmass1/s12,s12.txt\n",
      "saving cosmo_dict to single_source_ClY3/b1cmass1/cosmo_dict.json.\n",
      "saved galaxy sample lowz to galaxy_sample_lowz.json\n",
      "saved galaxy sample cmass1 to galaxy_sample_cmass1.json\n",
      "saved galaxy sample cmass2 to galaxy_sample_cmass2.json\n",
      "saved galaxy sample s12 to galaxy_sample_s12.json\n",
      "CPU times: user 13.8 s, sys: 155 ms, total: 14 s\n",
      "Wall time: 13.5 s\n"
     ]
    }
   ],
   "source": [
    "%%time\n",
    "g_l1 = hsc3x2pt.galaxy_sample_lens_class(['lowz'  , 0.15, 0.35, 1.78, '40.36 arcmin^-2', 2.259])\n",
    "g_l2 = hsc3x2pt.galaxy_sample_lens_class(['cmass1', 0.47, 0.55, 2.10*(1+dp), '20.06 arcmin^-2', 3.563])\n",
    "g_l3 = hsc3x2pt.galaxy_sample_lens_class(['cmass2', 0.55, 0.70, 2.28, '30.12 arcmin^-2', 3.729])\n",
    "g_s12= hsc3x2pt.galaxy_sample_source_class(['s12', 'sourcePzs_Y1/MLZs12.txt', 0.0, 0.0, 0.2, '8.74 arcmin^-2'])\n",
    "pk2cl = hsc3x2pt.pk2cl_class(power_b1)\n",
    "pk2cl.set_galaxy_sample(g_l1)\n",
    "pk2cl.set_galaxy_sample(g_l2)\n",
    "pk2cl.set_galaxy_sample(g_l3)\n",
    "pk2cl.set_galaxy_sample(g_s12)\n",
    "cosmo_dict = cosmo_fiducial.copy()\n",
    "pk2cl.set_cosmology_from_dict(cosmo_dict)\n",
    "pk2cl.init_pk()\n",
    "pk2cl.set_Omega_s({'w':8300, 'gamma_t':Omega_s_HSC, 'xi':Omega_s_HSC}) # HSCY1\n",
    "\n",
    "l = np.logspace(-2, 5, 1000)\n",
    "with hsc3x2pt.Time():\n",
    "    pk2cl.compute_all_Cl(l, compute_lens_cross=False)\n",
    "pk2cl.dump_Cl_cache(f'{dirname}/b1cmass1', overwrite=True)"
   ]
  },
  {
   "cell_type": "code",
   "execution_count": 16,
   "metadata": {},
   "outputs": [
    {
     "name": "stdout",
     "output_type": "stream",
     "text": [
      ":12.826854228973389 sec\n",
      "saving l to single_source_ClY3/b1cmass2/l.txt\n",
      "saving lowz,lowz to single_source_ClY3/b1cmass2/lowz,lowz.txt\n",
      "saving cmass1,cmass1 to single_source_ClY3/b1cmass2/cmass1,cmass1.txt\n",
      "saving cmass2,cmass2 to single_source_ClY3/b1cmass2/cmass2,cmass2.txt\n",
      "saving lowz,s12 to single_source_ClY3/b1cmass2/lowz,s12.txt\n",
      "saving cmass1,s12 to single_source_ClY3/b1cmass2/cmass1,s12.txt\n",
      "saving cmass2,s12 to single_source_ClY3/b1cmass2/cmass2,s12.txt\n",
      "saving s12,s12 to single_source_ClY3/b1cmass2/s12,s12.txt\n",
      "saving cosmo_dict to single_source_ClY3/b1cmass2/cosmo_dict.json.\n",
      "saved galaxy sample lowz to galaxy_sample_lowz.json\n",
      "saved galaxy sample cmass1 to galaxy_sample_cmass1.json\n",
      "saved galaxy sample cmass2 to galaxy_sample_cmass2.json\n",
      "saved galaxy sample s12 to galaxy_sample_s12.json\n",
      "CPU times: user 13.5 s, sys: 133 ms, total: 13.6 s\n",
      "Wall time: 13.1 s\n"
     ]
    }
   ],
   "source": [
    "%%time\n",
    "g_l1 = hsc3x2pt.galaxy_sample_lens_class(['lowz'  , 0.15, 0.35, 1.78, '40.36 arcmin^-2', 2.259])\n",
    "g_l2 = hsc3x2pt.galaxy_sample_lens_class(['cmass1', 0.47, 0.55, 2.10, '20.06 arcmin^-2', 3.563])\n",
    "g_l3 = hsc3x2pt.galaxy_sample_lens_class(['cmass2', 0.55, 0.70, 2.28*(1+dp), '30.12 arcmin^-2', 3.729])\n",
    "g_s12= hsc3x2pt.galaxy_sample_source_class(['s12', 'sourcePzs_Y1/MLZs12.txt', 0.0, 0.0, 0.2, '8.74 arcmin^-2'])\n",
    "pk2cl = hsc3x2pt.pk2cl_class(power_b1)\n",
    "pk2cl.set_galaxy_sample(g_l1)\n",
    "pk2cl.set_galaxy_sample(g_l2)\n",
    "pk2cl.set_galaxy_sample(g_l3)\n",
    "pk2cl.set_galaxy_sample(g_s12)\n",
    "cosmo_dict = cosmo_fiducial.copy()\n",
    "pk2cl.set_cosmology_from_dict(cosmo_dict)\n",
    "pk2cl.init_pk()\n",
    "pk2cl.set_Omega_s({'w':8300, 'gamma_t':Omega_s_HSC, 'xi':Omega_s_HSC}) # HSCY1\n",
    "\n",
    "l = np.logspace(-2, 5, 1000)\n",
    "with hsc3x2pt.Time():\n",
    "    pk2cl.compute_all_Cl(l, compute_lens_cross=False)\n",
    "pk2cl.dump_Cl_cache(f'{dirname}/b1cmass2', overwrite=True)"
   ]
  },
  {
   "cell_type": "code",
   "execution_count": 17,
   "metadata": {},
   "outputs": [
    {
     "name": "stdout",
     "output_type": "stream",
     "text": [
      ":12.615675926208496 sec\n",
      "saving l to single_source_ClY3/alphamaglowz/l.txt\n",
      "saving lowz,lowz to single_source_ClY3/alphamaglowz/lowz,lowz.txt\n",
      "saving cmass1,cmass1 to single_source_ClY3/alphamaglowz/cmass1,cmass1.txt\n",
      "saving cmass2,cmass2 to single_source_ClY3/alphamaglowz/cmass2,cmass2.txt\n",
      "saving lowz,s12 to single_source_ClY3/alphamaglowz/lowz,s12.txt\n",
      "saving cmass1,s12 to single_source_ClY3/alphamaglowz/cmass1,s12.txt\n",
      "saving cmass2,s12 to single_source_ClY3/alphamaglowz/cmass2,s12.txt\n",
      "saving s12,s12 to single_source_ClY3/alphamaglowz/s12,s12.txt\n",
      "saving cosmo_dict to single_source_ClY3/alphamaglowz/cosmo_dict.json.\n",
      "saved galaxy sample lowz to galaxy_sample_lowz.json\n",
      "saved galaxy sample cmass1 to galaxy_sample_cmass1.json\n",
      "saved galaxy sample cmass2 to galaxy_sample_cmass2.json\n",
      "saved galaxy sample s12 to galaxy_sample_s12.json\n",
      "CPU times: user 13.3 s, sys: 133 ms, total: 13.4 s\n",
      "Wall time: 12.9 s\n"
     ]
    }
   ],
   "source": [
    "%%time\n",
    "g_l1 = hsc3x2pt.galaxy_sample_lens_class(['lowz'  , 0.15, 0.35, 1.78, '40.36 arcmin^-2', 2.259*(1.0+dp)])\n",
    "g_l2 = hsc3x2pt.galaxy_sample_lens_class(['cmass1', 0.47, 0.55, 2.10, '20.06 arcmin^-2', 3.563])\n",
    "g_l3 = hsc3x2pt.galaxy_sample_lens_class(['cmass2', 0.55, 0.70, 2.28, '30.12 arcmin^-2', 3.729])\n",
    "g_s12= hsc3x2pt.galaxy_sample_source_class(['s12', 'sourcePzs_Y1/MLZs12.txt', 0.0, 0.0, 0.2, '8.74 arcmin^-2'])\n",
    "pk2cl = hsc3x2pt.pk2cl_class(power_b1)\n",
    "pk2cl.set_galaxy_sample(g_l1)\n",
    "pk2cl.set_galaxy_sample(g_l2)\n",
    "pk2cl.set_galaxy_sample(g_l3)\n",
    "pk2cl.set_galaxy_sample(g_s12)\n",
    "cosmo_dict = cosmo_fiducial.copy()\n",
    "pk2cl.set_cosmology_from_dict(cosmo_dict)\n",
    "pk2cl.init_pk()\n",
    "pk2cl.set_Omega_s({'w':8300, 'gamma_t':Omega_s_HSC, 'xi':Omega_s_HSC}) # HSCY1\n",
    "\n",
    "l = np.logspace(-2, 5, 1000)\n",
    "with hsc3x2pt.Time():\n",
    "    pk2cl.compute_all_Cl(l, compute_lens_cross=False)\n",
    "pk2cl.dump_Cl_cache(f'{dirname}/alphamaglowz', overwrite=True)"
   ]
  },
  {
   "cell_type": "code",
   "execution_count": 18,
   "metadata": {},
   "outputs": [
    {
     "name": "stdout",
     "output_type": "stream",
     "text": [
      ":12.922698020935059 sec\n",
      "saving l to single_source_ClY3/alphamagcmass1/l.txt\n",
      "saving lowz,lowz to single_source_ClY3/alphamagcmass1/lowz,lowz.txt\n",
      "saving cmass1,cmass1 to single_source_ClY3/alphamagcmass1/cmass1,cmass1.txt\n",
      "saving cmass2,cmass2 to single_source_ClY3/alphamagcmass1/cmass2,cmass2.txt\n",
      "saving lowz,s12 to single_source_ClY3/alphamagcmass1/lowz,s12.txt\n",
      "saving cmass1,s12 to single_source_ClY3/alphamagcmass1/cmass1,s12.txt\n",
      "saving cmass2,s12 to single_source_ClY3/alphamagcmass1/cmass2,s12.txt\n",
      "saving s12,s12 to single_source_ClY3/alphamagcmass1/s12,s12.txt\n",
      "saving cosmo_dict to single_source_ClY3/alphamagcmass1/cosmo_dict.json.\n",
      "saved galaxy sample lowz to galaxy_sample_lowz.json\n",
      "saved galaxy sample cmass1 to galaxy_sample_cmass1.json\n",
      "saved galaxy sample cmass2 to galaxy_sample_cmass2.json\n",
      "saved galaxy sample s12 to galaxy_sample_s12.json\n",
      "CPU times: user 13.5 s, sys: 145 ms, total: 13.7 s\n",
      "Wall time: 13.2 s\n"
     ]
    }
   ],
   "source": [
    "%%time\n",
    "g_l1 = hsc3x2pt.galaxy_sample_lens_class(['lowz'  , 0.15, 0.35, 1.78, '40.36 arcmin^-2', 2.259])\n",
    "g_l2 = hsc3x2pt.galaxy_sample_lens_class(['cmass1', 0.47, 0.55, 2.10, '20.06 arcmin^-2', 3.563*(1+dp)])\n",
    "g_l3 = hsc3x2pt.galaxy_sample_lens_class(['cmass2', 0.55, 0.70, 2.28, '30.12 arcmin^-2', 3.729])\n",
    "g_s12= hsc3x2pt.galaxy_sample_source_class(['s12', 'sourcePzs_Y1/MLZs12.txt', 0.0, 0.0, 0.2, '8.74 arcmin^-2'])\n",
    "pk2cl = hsc3x2pt.pk2cl_class(power_b1)\n",
    "pk2cl.set_galaxy_sample(g_l1)\n",
    "pk2cl.set_galaxy_sample(g_l2)\n",
    "pk2cl.set_galaxy_sample(g_l3)\n",
    "pk2cl.set_galaxy_sample(g_s12)\n",
    "cosmo_dict = cosmo_fiducial.copy()\n",
    "pk2cl.set_cosmology_from_dict(cosmo_dict)\n",
    "pk2cl.init_pk()\n",
    "pk2cl.set_Omega_s({'w':8300, 'gamma_t':Omega_s_HSC, 'xi':Omega_s_HSC}) # HSCY1\n",
    "\n",
    "l = np.logspace(-2, 5, 1000)\n",
    "with hsc3x2pt.Time():\n",
    "    pk2cl.compute_all_Cl(l, compute_lens_cross=False)\n",
    "pk2cl.dump_Cl_cache(f'{dirname}/alphamagcmass1', overwrite=True)"
   ]
  },
  {
   "cell_type": "code",
   "execution_count": 19,
   "metadata": {},
   "outputs": [
    {
     "name": "stdout",
     "output_type": "stream",
     "text": [
      ":12.88152289390564 sec\n",
      "saving l to single_source_ClY3/alphamagcmass2/l.txt\n",
      "saving lowz,lowz to single_source_ClY3/alphamagcmass2/lowz,lowz.txt\n",
      "saving cmass1,cmass1 to single_source_ClY3/alphamagcmass2/cmass1,cmass1.txt\n",
      "saving cmass2,cmass2 to single_source_ClY3/alphamagcmass2/cmass2,cmass2.txt\n",
      "saving lowz,s12 to single_source_ClY3/alphamagcmass2/lowz,s12.txt\n",
      "saving cmass1,s12 to single_source_ClY3/alphamagcmass2/cmass1,s12.txt\n",
      "saving cmass2,s12 to single_source_ClY3/alphamagcmass2/cmass2,s12.txt\n",
      "saving s12,s12 to single_source_ClY3/alphamagcmass2/s12,s12.txt\n",
      "saving cosmo_dict to single_source_ClY3/alphamagcmass2/cosmo_dict.json.\n",
      "saved galaxy sample lowz to galaxy_sample_lowz.json\n",
      "saved galaxy sample cmass1 to galaxy_sample_cmass1.json\n",
      "saved galaxy sample cmass2 to galaxy_sample_cmass2.json\n",
      "saved galaxy sample s12 to galaxy_sample_s12.json\n",
      "CPU times: user 13.5 s, sys: 148 ms, total: 13.6 s\n",
      "Wall time: 13.2 s\n"
     ]
    }
   ],
   "source": [
    "%%time\n",
    "g_l1 = hsc3x2pt.galaxy_sample_lens_class(['lowz'  , 0.15, 0.35, 1.78, '40.36 arcmin^-2', 2.259])\n",
    "g_l2 = hsc3x2pt.galaxy_sample_lens_class(['cmass1', 0.47, 0.55, 2.10, '20.06 arcmin^-2', 3.563])\n",
    "g_l3 = hsc3x2pt.galaxy_sample_lens_class(['cmass2', 0.55, 0.70, 2.28, '30.12 arcmin^-2', 3.729*(1+dp)])\n",
    "g_s12= hsc3x2pt.galaxy_sample_source_class(['s12', 'sourcePzs_Y1/MLZs12.txt', 0.0, 0.0, 0.2, '8.74 arcmin^-2'])\n",
    "pk2cl = hsc3x2pt.pk2cl_class(power_b1)\n",
    "pk2cl.set_galaxy_sample(g_l1)\n",
    "pk2cl.set_galaxy_sample(g_l2)\n",
    "pk2cl.set_galaxy_sample(g_l3)\n",
    "pk2cl.set_galaxy_sample(g_s12)\n",
    "cosmo_dict = cosmo_fiducial.copy()\n",
    "pk2cl.set_cosmology_from_dict(cosmo_dict)\n",
    "pk2cl.init_pk()\n",
    "pk2cl.set_Omega_s({'w':8300, 'gamma_t':Omega_s_HSC, 'xi':Omega_s_HSC}) # HSCY1\n",
    "\n",
    "l = np.logspace(-2, 5, 1000)\n",
    "with hsc3x2pt.Time():\n",
    "    pk2cl.compute_all_Cl(l, compute_lens_cross=False)\n",
    "pk2cl.dump_Cl_cache(f'{dirname}/alphamagcmass2', overwrite=True)"
   ]
  },
  {
   "cell_type": "code",
   "execution_count": 20,
   "metadata": {},
   "outputs": [
    {
     "name": "stdout",
     "output_type": "stream",
     "text": [
      ":12.415724992752075 sec\n",
      "saving l to single_source_ClY3/dzph/l.txt\n",
      "saving lowz,lowz to single_source_ClY3/dzph/lowz,lowz.txt\n",
      "saving cmass1,cmass1 to single_source_ClY3/dzph/cmass1,cmass1.txt\n",
      "saving cmass2,cmass2 to single_source_ClY3/dzph/cmass2,cmass2.txt\n",
      "saving lowz,s12 to single_source_ClY3/dzph/lowz,s12.txt\n",
      "saving cmass1,s12 to single_source_ClY3/dzph/cmass1,s12.txt\n",
      "saving cmass2,s12 to single_source_ClY3/dzph/cmass2,s12.txt\n",
      "saving s12,s12 to single_source_ClY3/dzph/s12,s12.txt\n",
      "saving cosmo_dict to single_source_ClY3/dzph/cosmo_dict.json.\n",
      "saved galaxy sample lowz to galaxy_sample_lowz.json\n",
      "saved galaxy sample cmass1 to galaxy_sample_cmass1.json\n",
      "saved galaxy sample cmass2 to galaxy_sample_cmass2.json\n",
      "saved galaxy sample s12 to galaxy_sample_s12.json\n",
      "CPU times: user 13.1 s, sys: 115 ms, total: 13.2 s\n",
      "Wall time: 12.7 s\n"
     ]
    }
   ],
   "source": [
    "%%time\n",
    "g_l1 = hsc3x2pt.galaxy_sample_lens_class(['lowz'  , 0.15, 0.35, 1.78, '40.36 arcmin^-2', 2.259])\n",
    "g_l2 = hsc3x2pt.galaxy_sample_lens_class(['cmass1', 0.47, 0.55, 2.10, '20.06 arcmin^-2', 3.563])\n",
    "g_l3 = hsc3x2pt.galaxy_sample_lens_class(['cmass2', 0.55, 0.70, 2.28, '30.12 arcmin^-2', 3.729])\n",
    "g_s12= hsc3x2pt.galaxy_sample_source_class(['s12', 'sourcePzs_Y1/MLZs12.txt', dp, 0.0, 0.2, '8.74 arcmin^-2'])\n",
    "pk2cl = hsc3x2pt.pk2cl_class(power_b1)\n",
    "pk2cl.set_galaxy_sample(g_l1)\n",
    "pk2cl.set_galaxy_sample(g_l2)\n",
    "pk2cl.set_galaxy_sample(g_l3)\n",
    "pk2cl.set_galaxy_sample(g_s12)\n",
    "cosmo_dict = cosmo_fiducial.copy()\n",
    "pk2cl.set_cosmology_from_dict(cosmo_dict)\n",
    "pk2cl.init_pk()\n",
    "pk2cl.set_Omega_s({'w':8300, 'gamma_t':Omega_s_HSC, 'xi':Omega_s_HSC}) # HSCY1\n",
    "\n",
    "l = np.logspace(-2, 5, 1000)\n",
    "with hsc3x2pt.Time():\n",
    "    pk2cl.compute_all_Cl(l, compute_lens_cross=False)\n",
    "pk2cl.dump_Cl_cache(f'{dirname}/dzph', overwrite=True)"
   ]
  },
  {
   "cell_type": "code",
   "execution_count": 21,
   "metadata": {},
   "outputs": [
    {
     "name": "stdout",
     "output_type": "stream",
     "text": [
      ":12.824283838272095 sec\n",
      "saving l to single_source_ClY3/dm/l.txt\n",
      "saving lowz,lowz to single_source_ClY3/dm/lowz,lowz.txt\n",
      "saving cmass1,cmass1 to single_source_ClY3/dm/cmass1,cmass1.txt\n",
      "saving cmass2,cmass2 to single_source_ClY3/dm/cmass2,cmass2.txt\n",
      "saving lowz,s12 to single_source_ClY3/dm/lowz,s12.txt\n",
      "saving cmass1,s12 to single_source_ClY3/dm/cmass1,s12.txt\n",
      "saving cmass2,s12 to single_source_ClY3/dm/cmass2,s12.txt\n",
      "saving s12,s12 to single_source_ClY3/dm/s12,s12.txt\n",
      "saving cosmo_dict to single_source_ClY3/dm/cosmo_dict.json.\n",
      "saved galaxy sample lowz to galaxy_sample_lowz.json\n",
      "saved galaxy sample cmass1 to galaxy_sample_cmass1.json\n",
      "saved galaxy sample cmass2 to galaxy_sample_cmass2.json\n",
      "saved galaxy sample s12 to galaxy_sample_s12.json\n",
      "CPU times: user 13.6 s, sys: 121 ms, total: 13.7 s\n",
      "Wall time: 13.1 s\n"
     ]
    }
   ],
   "source": [
    "%%time\n",
    "g_l1 = hsc3x2pt.galaxy_sample_lens_class(['lowz'  , 0.15, 0.35, 1.78, '40.36 arcmin^-2', 2.259])\n",
    "g_l2 = hsc3x2pt.galaxy_sample_lens_class(['cmass1', 0.47, 0.55, 2.10, '20.06 arcmin^-2', 3.563])\n",
    "g_l3 = hsc3x2pt.galaxy_sample_lens_class(['cmass2', 0.55, 0.70, 2.28, '30.12 arcmin^-2', 3.729])\n",
    "g_s12= hsc3x2pt.galaxy_sample_source_class(['s12', 'sourcePzs_Y1/MLZs12.txt', 0.0, dp, 0.2, '8.74 arcmin^-2'])\n",
    "pk2cl = hsc3x2pt.pk2cl_class(power_b1)\n",
    "pk2cl.set_galaxy_sample(g_l1)\n",
    "pk2cl.set_galaxy_sample(g_l2)\n",
    "pk2cl.set_galaxy_sample(g_l3)\n",
    "pk2cl.set_galaxy_sample(g_s12)\n",
    "cosmo_dict = cosmo_fiducial.copy()\n",
    "pk2cl.set_cosmology_from_dict(cosmo_dict)\n",
    "pk2cl.init_pk()\n",
    "pk2cl.set_Omega_s({'w':8300, 'gamma_t':Omega_s_HSC, 'xi':Omega_s_HSC}) # HSCY1\n",
    "\n",
    "l = np.logspace(-2, 5, 1000)\n",
    "with hsc3x2pt.Time():\n",
    "    pk2cl.compute_all_Cl(l, compute_lens_cross=False)\n",
    "pk2cl.dump_Cl_cache(f'{dirname}/dm', overwrite=True)"
   ]
  },
  {
   "cell_type": "markdown",
   "metadata": {},
   "source": [
    "### List of models to compute $C(l)$ to compute **double** source bins anlaysis\n",
    "\n",
    "0. fiducial = Planck cosmology + fiducial galaxy bias, magnification bais + 0 photo-z and multiplicative bias\n",
    "1. $\\omega_b h^2$ +\n",
    "2. $\\omega_c h^2$ +\n",
    "3. $\\Omega_{\\rm de}$ +\n",
    "4. $n_{\\rm s}$ +\n",
    "5. $\\ln 10^{10}A_{\\rm s}$ +\n",
    "6. $b_{\\rm 1,1}$ + \n",
    "7. $b_{\\rm 1,2}$ + \n",
    "8. $b_{\\rm 1,3}$ + \n",
    "9. $\\alpha_{\\rm mag,1}$ + \n",
    "10. $\\alpha_{\\rm mag,2}$ + \n",
    "11. $\\alpha_{\\rm mag,3}$ + \n",
    "12. $\\Delta z_{\\rm ph,1}$ +\n",
    "12. $\\Delta z_{\\rm ph,2}$ +\n",
    "13. $\\Delta m_1$ + = easy. Just multiply $1+\\Delta m_1$ to fiducial.\n",
    "13. $\\Delta m_2$ + = easy. Just multiply $1+\\Delta m_2$ to fiducial."
   ]
  },
  {
   "cell_type": "code",
   "execution_count": 22,
   "metadata": {},
   "outputs": [],
   "source": [
    "dirname = 'double_source_ClY3'"
   ]
  },
  {
   "cell_type": "code",
   "execution_count": 23,
   "metadata": {},
   "outputs": [
    {
     "name": "stdout",
     "output_type": "stream",
     "text": [
      ":21.839945316314697 sec\n",
      "saving l to double_source_ClY3/fiducial/l.txt\n",
      "saving lowz,lowz to double_source_ClY3/fiducial/lowz,lowz.txt\n",
      "saving lowz,cmass1 to double_source_ClY3/fiducial/lowz,cmass1.txt\n",
      "saving lowz,cmass2 to double_source_ClY3/fiducial/lowz,cmass2.txt\n",
      "saving cmass1,lowz to double_source_ClY3/fiducial/cmass1,lowz.txt\n",
      "saving cmass1,cmass1 to double_source_ClY3/fiducial/cmass1,cmass1.txt\n",
      "saving cmass1,cmass2 to double_source_ClY3/fiducial/cmass1,cmass2.txt\n",
      "saving cmass2,lowz to double_source_ClY3/fiducial/cmass2,lowz.txt\n",
      "saving cmass2,cmass1 to double_source_ClY3/fiducial/cmass2,cmass1.txt\n",
      "saving cmass2,cmass2 to double_source_ClY3/fiducial/cmass2,cmass2.txt\n",
      "saving lowz,s2 to double_source_ClY3/fiducial/lowz,s2.txt\n",
      "saving cmass1,s2 to double_source_ClY3/fiducial/cmass1,s2.txt\n",
      "saving cmass2,s2 to double_source_ClY3/fiducial/cmass2,s2.txt\n",
      "saving s2,s2 to double_source_ClY3/fiducial/s2,s2.txt\n",
      "saving cosmo_dict to double_source_ClY3/fiducial/cosmo_dict.json.\n",
      "saved galaxy sample lowz to galaxy_sample_lowz.json\n",
      "saved galaxy sample cmass1 to galaxy_sample_cmass1.json\n",
      "saved galaxy sample cmass2 to galaxy_sample_cmass2.json\n",
      "saved galaxy sample s2 to galaxy_sample_s2.json\n",
      "CPU times: user 21.8 s, sys: 195 ms, total: 22 s\n",
      "Wall time: 22.1 s\n"
     ]
    }
   ],
   "source": [
    "%%time\n",
    "g_l1 = hsc3x2pt.galaxy_sample_lens_class(['lowz'  , 0.15, 0.35, 1.78, '40.36 arcmin^-2', 2.259])\n",
    "g_l2 = hsc3x2pt.galaxy_sample_lens_class(['cmass1', 0.47, 0.55, 2.10, '20.06 arcmin^-2', 3.563])\n",
    "g_l3 = hsc3x2pt.galaxy_sample_lens_class(['cmass2', 0.55, 0.70, 2.28, '30.12 arcmin^-2', 3.729])\n",
    "g_s12= hsc3x2pt.galaxy_sample_source_class(['s1', 'sourcePzs_Y1/MLZs1.txt', 0.0, 0.0, 0.2, '4.37 arcmin^-2'])\n",
    "g_s12= hsc3x2pt.galaxy_sample_source_class(['s2', 'sourcePzs_Y1/MLZs2.txt', 0.0, 0.0, 0.2, '4.37 arcmin^-2'])\n",
    "pk2cl = hsc3x2pt.pk2cl_class(power_b1)\n",
    "pk2cl.set_galaxy_sample(g_l1)\n",
    "pk2cl.set_galaxy_sample(g_l2)\n",
    "pk2cl.set_galaxy_sample(g_l3)\n",
    "pk2cl.set_galaxy_sample(g_s12)\n",
    "pk2cl.set_cosmology_from_dict()\n",
    "pk2cl.init_pk()\n",
    "pk2cl.set_Omega_s({'w':8300, 'gamma_t':Omega_s_HSC, 'xi':Omega_s_HSC}) # HSCY1\n",
    "\n",
    "l = np.logspace(-2, 5, 1000)\n",
    "with hsc3x2pt.Time():\n",
    "    pk2cl.compute_all_Cl(l, compute_lens_cross=True)\n",
    "pk2cl.dump_Cl_cache(f'{dirname}/fiducial', overwrite=True)"
   ]
  },
  {
   "cell_type": "code",
   "execution_count": 24,
   "metadata": {},
   "outputs": [],
   "source": [
    "cosmo_fiducial = pk2cl.get_cosmo_dict()\n",
    "dp = 0.0001"
   ]
  },
  {
   "cell_type": "code",
   "execution_count": 25,
   "metadata": {},
   "outputs": [
    {
     "name": "stdout",
     "output_type": "stream",
     "text": [
      ":13.372735023498535 sec\n",
      "saving l to double_source_ClY3/omega_b/l.txt\n",
      "saving lowz,lowz to double_source_ClY3/omega_b/lowz,lowz.txt\n",
      "saving cmass1,cmass1 to double_source_ClY3/omega_b/cmass1,cmass1.txt\n",
      "saving cmass2,cmass2 to double_source_ClY3/omega_b/cmass2,cmass2.txt\n",
      "saving lowz,s2 to double_source_ClY3/omega_b/lowz,s2.txt\n",
      "saving cmass1,s2 to double_source_ClY3/omega_b/cmass1,s2.txt\n",
      "saving cmass2,s2 to double_source_ClY3/omega_b/cmass2,s2.txt\n",
      "saving s2,s2 to double_source_ClY3/omega_b/s2,s2.txt\n",
      "saving cosmo_dict to double_source_ClY3/omega_b/cosmo_dict.json.\n",
      "saved galaxy sample lowz to galaxy_sample_lowz.json\n",
      "saved galaxy sample cmass1 to galaxy_sample_cmass1.json\n",
      "saved galaxy sample cmass2 to galaxy_sample_cmass2.json\n",
      "saved galaxy sample s2 to galaxy_sample_s2.json\n",
      "CPU times: user 14 s, sys: 156 ms, total: 14.2 s\n",
      "Wall time: 13.7 s\n"
     ]
    }
   ],
   "source": [
    "%%time\n",
    "g_l1 = hsc3x2pt.galaxy_sample_lens_class(['lowz'  , 0.15, 0.35, 1.78, '40.36 arcmin^-2', 2.259])\n",
    "g_l2 = hsc3x2pt.galaxy_sample_lens_class(['cmass1', 0.47, 0.55, 2.10, '20.06 arcmin^-2', 3.563])\n",
    "g_l3 = hsc3x2pt.galaxy_sample_lens_class(['cmass2', 0.55, 0.70, 2.28, '30.12 arcmin^-2', 3.729])\n",
    "g_s12= hsc3x2pt.galaxy_sample_source_class(['s1', 'sourcePzs_Y1/MLZs1.txt', 0.0, 0.0, 0.2, '4.37 arcmin^-2'])\n",
    "g_s12= hsc3x2pt.galaxy_sample_source_class(['s2', 'sourcePzs_Y1/MLZs2.txt', 0.0, 0.0, 0.2, '4.37 arcmin^-2'])\n",
    "pk2cl = hsc3x2pt.pk2cl_class(power_b1)\n",
    "pk2cl.set_galaxy_sample(g_l1)\n",
    "pk2cl.set_galaxy_sample(g_l2)\n",
    "pk2cl.set_galaxy_sample(g_l3)\n",
    "pk2cl.set_galaxy_sample(g_s12)\n",
    "cosmo_dict = cosmo_fiducial.copy()\n",
    "cosmo_dict['omega_b'] = cosmo_fiducial['omega_b']*(1.0+dp)\n",
    "pk2cl.set_cosmology_from_dict(cosmo_dict)\n",
    "pk2cl.init_pk()\n",
    "pk2cl.set_Omega_s({'w':8300, 'gamma_t':Omega_s_HSC, 'xi':Omega_s_HSC}) # HSCY1\n",
    "\n",
    "l = np.logspace(-2, 5, 1000)\n",
    "with hsc3x2pt.Time():\n",
    "    pk2cl.compute_all_Cl(l, compute_lens_cross=False)\n",
    "pk2cl.dump_Cl_cache(f'{dirname}/omega_b', overwrite=True)"
   ]
  },
  {
   "cell_type": "code",
   "execution_count": 26,
   "metadata": {},
   "outputs": [
    {
     "name": "stdout",
     "output_type": "stream",
     "text": [
      ":12.423795938491821 sec\n",
      "saving l to double_source_ClY3/omega_c/l.txt\n",
      "saving lowz,lowz to double_source_ClY3/omega_c/lowz,lowz.txt\n",
      "saving cmass1,cmass1 to double_source_ClY3/omega_c/cmass1,cmass1.txt\n",
      "saving cmass2,cmass2 to double_source_ClY3/omega_c/cmass2,cmass2.txt\n",
      "saving lowz,s2 to double_source_ClY3/omega_c/lowz,s2.txt\n",
      "saving cmass1,s2 to double_source_ClY3/omega_c/cmass1,s2.txt\n",
      "saving cmass2,s2 to double_source_ClY3/omega_c/cmass2,s2.txt\n",
      "saving s2,s2 to double_source_ClY3/omega_c/s2,s2.txt\n",
      "saving cosmo_dict to double_source_ClY3/omega_c/cosmo_dict.json.\n",
      "saved galaxy sample lowz to galaxy_sample_lowz.json\n",
      "saved galaxy sample cmass1 to galaxy_sample_cmass1.json\n",
      "saved galaxy sample cmass2 to galaxy_sample_cmass2.json\n",
      "saved galaxy sample s2 to galaxy_sample_s2.json\n",
      "CPU times: user 13.1 s, sys: 116 ms, total: 13.3 s\n",
      "Wall time: 12.7 s\n"
     ]
    }
   ],
   "source": [
    "%%time\n",
    "g_l1 = hsc3x2pt.galaxy_sample_lens_class(['lowz'  , 0.15, 0.35, 1.78, '40.36 arcmin^-2', 2.259])\n",
    "g_l2 = hsc3x2pt.galaxy_sample_lens_class(['cmass1', 0.47, 0.55, 2.10, '20.06 arcmin^-2', 3.563])\n",
    "g_l3 = hsc3x2pt.galaxy_sample_lens_class(['cmass2', 0.55, 0.70, 2.28, '30.12 arcmin^-2', 3.729])\n",
    "g_s12= hsc3x2pt.galaxy_sample_source_class(['s1', 'sourcePzs_Y1/MLZs1.txt', 0.0, 0.0, 0.2, '4.37 arcmin^-2'])\n",
    "g_s12= hsc3x2pt.galaxy_sample_source_class(['s2', 'sourcePzs_Y1/MLZs2.txt', 0.0, 0.0, 0.2, '4.37 arcmin^-2'])\n",
    "pk2cl = hsc3x2pt.pk2cl_class(power_b1)\n",
    "pk2cl.set_galaxy_sample(g_l1)\n",
    "pk2cl.set_galaxy_sample(g_l2)\n",
    "pk2cl.set_galaxy_sample(g_l3)\n",
    "pk2cl.set_galaxy_sample(g_s12)\n",
    "cosmo_dict = cosmo_fiducial.copy()\n",
    "cosmo_dict['omega_c'] = cosmo_fiducial['omega_c']*(1.0+dp)\n",
    "pk2cl.set_cosmology_from_dict(cosmo_dict)\n",
    "pk2cl.init_pk()\n",
    "pk2cl.set_Omega_s({'w':8300, 'gamma_t':Omega_s_HSC, 'xi':Omega_s_HSC}) # HSCY1\n",
    "\n",
    "l = np.logspace(-2, 5, 1000)\n",
    "with hsc3x2pt.Time():\n",
    "    pk2cl.compute_all_Cl(l, compute_lens_cross=False)\n",
    "pk2cl.dump_Cl_cache(f'{dirname}/omega_c', overwrite=True)"
   ]
  },
  {
   "cell_type": "code",
   "execution_count": 27,
   "metadata": {},
   "outputs": [
    {
     "name": "stdout",
     "output_type": "stream",
     "text": [
      ":12.549093246459961 sec\n",
      "saving l to double_source_ClY3/Omega_de/l.txt\n",
      "saving lowz,lowz to double_source_ClY3/Omega_de/lowz,lowz.txt\n",
      "saving cmass1,cmass1 to double_source_ClY3/Omega_de/cmass1,cmass1.txt\n",
      "saving cmass2,cmass2 to double_source_ClY3/Omega_de/cmass2,cmass2.txt\n",
      "saving lowz,s2 to double_source_ClY3/Omega_de/lowz,s2.txt\n",
      "saving cmass1,s2 to double_source_ClY3/Omega_de/cmass1,s2.txt\n",
      "saving cmass2,s2 to double_source_ClY3/Omega_de/cmass2,s2.txt\n",
      "saving s2,s2 to double_source_ClY3/Omega_de/s2,s2.txt\n",
      "saving cosmo_dict to double_source_ClY3/Omega_de/cosmo_dict.json.\n",
      "saved galaxy sample lowz to galaxy_sample_lowz.json\n",
      "saved galaxy sample cmass1 to galaxy_sample_cmass1.json\n",
      "saved galaxy sample cmass2 to galaxy_sample_cmass2.json\n",
      "saved galaxy sample s2 to galaxy_sample_s2.json\n",
      "CPU times: user 13.3 s, sys: 120 ms, total: 13.4 s\n",
      "Wall time: 12.9 s\n"
     ]
    }
   ],
   "source": [
    "%%time\n",
    "g_l1 = hsc3x2pt.galaxy_sample_lens_class(['lowz'  , 0.15, 0.35, 1.78, '40.36 arcmin^-2', 2.259])\n",
    "g_l2 = hsc3x2pt.galaxy_sample_lens_class(['cmass1', 0.47, 0.55, 2.10, '20.06 arcmin^-2', 3.563])\n",
    "g_l3 = hsc3x2pt.galaxy_sample_lens_class(['cmass2', 0.55, 0.70, 2.28, '30.12 arcmin^-2', 3.729])\n",
    "g_s12= hsc3x2pt.galaxy_sample_source_class(['s1', 'sourcePzs_Y1/MLZs1.txt', 0.0, 0.0, 0.2, '4.37 arcmin^-2'])\n",
    "g_s12= hsc3x2pt.galaxy_sample_source_class(['s2', 'sourcePzs_Y1/MLZs2.txt', 0.0, 0.0, 0.2, '4.37 arcmin^-2'])\n",
    "pk2cl = hsc3x2pt.pk2cl_class(power_b1)\n",
    "pk2cl.set_galaxy_sample(g_l1)\n",
    "pk2cl.set_galaxy_sample(g_l2)\n",
    "pk2cl.set_galaxy_sample(g_l3)\n",
    "pk2cl.set_galaxy_sample(g_s12)\n",
    "cosmo_dict = cosmo_fiducial.copy()\n",
    "cosmo_dict['Omega_de'] = cosmo_fiducial['Omega_de']*(1.0+dp)\n",
    "pk2cl.set_cosmology_from_dict(cosmo_dict)\n",
    "pk2cl.init_pk()\n",
    "pk2cl.set_Omega_s({'w':8300, 'gamma_t':Omega_s_HSC, 'xi':Omega_s_HSC}) # HSCY1\n",
    "\n",
    "l = np.logspace(-2, 5, 1000)\n",
    "with hsc3x2pt.Time():\n",
    "    pk2cl.compute_all_Cl(l, compute_lens_cross=False)\n",
    "pk2cl.dump_Cl_cache(f'{dirname}/Omega_de', overwrite=True)"
   ]
  },
  {
   "cell_type": "code",
   "execution_count": 28,
   "metadata": {},
   "outputs": [
    {
     "name": "stdout",
     "output_type": "stream",
     "text": [
      ":12.576951026916504 sec\n",
      "saving l to double_source_ClY3/n_s/l.txt\n",
      "saving lowz,lowz to double_source_ClY3/n_s/lowz,lowz.txt\n",
      "saving cmass1,cmass1 to double_source_ClY3/n_s/cmass1,cmass1.txt\n",
      "saving cmass2,cmass2 to double_source_ClY3/n_s/cmass2,cmass2.txt\n",
      "saving lowz,s2 to double_source_ClY3/n_s/lowz,s2.txt\n",
      "saving cmass1,s2 to double_source_ClY3/n_s/cmass1,s2.txt\n",
      "saving cmass2,s2 to double_source_ClY3/n_s/cmass2,s2.txt\n",
      "saving s2,s2 to double_source_ClY3/n_s/s2,s2.txt\n",
      "saving cosmo_dict to double_source_ClY3/n_s/cosmo_dict.json.\n",
      "saved galaxy sample lowz to galaxy_sample_lowz.json\n",
      "saved galaxy sample cmass1 to galaxy_sample_cmass1.json\n",
      "saved galaxy sample cmass2 to galaxy_sample_cmass2.json\n",
      "saved galaxy sample s2 to galaxy_sample_s2.json\n",
      "CPU times: user 13.3 s, sys: 123 ms, total: 13.4 s\n",
      "Wall time: 12.9 s\n"
     ]
    }
   ],
   "source": [
    "%%time\n",
    "g_l1 = hsc3x2pt.galaxy_sample_lens_class(['lowz'  , 0.15, 0.35, 1.78, '40.36 arcmin^-2', 2.259])\n",
    "g_l2 = hsc3x2pt.galaxy_sample_lens_class(['cmass1', 0.47, 0.55, 2.10, '20.06 arcmin^-2', 3.563])\n",
    "g_l3 = hsc3x2pt.galaxy_sample_lens_class(['cmass2', 0.55, 0.70, 2.28, '30.12 arcmin^-2', 3.729])\n",
    "g_s12= hsc3x2pt.galaxy_sample_source_class(['s1', 'sourcePzs_Y1/MLZs1.txt', 0.0, 0.0, 0.2, '4.37 arcmin^-2'])\n",
    "g_s12= hsc3x2pt.galaxy_sample_source_class(['s2', 'sourcePzs_Y1/MLZs2.txt', 0.0, 0.0, 0.2, '4.37 arcmin^-2'])\n",
    "pk2cl = hsc3x2pt.pk2cl_class(power_b1)\n",
    "pk2cl.set_galaxy_sample(g_l1)\n",
    "pk2cl.set_galaxy_sample(g_l2)\n",
    "pk2cl.set_galaxy_sample(g_l3)\n",
    "pk2cl.set_galaxy_sample(g_s12)\n",
    "cosmo_dict = cosmo_fiducial.copy()\n",
    "cosmo_dict['n_s'] = cosmo_fiducial['n_s']*(1.0+dp)\n",
    "pk2cl.set_cosmology_from_dict(cosmo_dict)\n",
    "pk2cl.init_pk()\n",
    "pk2cl.set_Omega_s({'w':8300, 'gamma_t':Omega_s_HSC, 'xi':Omega_s_HSC}) # HSCY1\n",
    "\n",
    "l = np.logspace(-2, 5, 1000)\n",
    "with hsc3x2pt.Time():\n",
    "    pk2cl.compute_all_Cl(l, compute_lens_cross=False)\n",
    "pk2cl.dump_Cl_cache(f'{dirname}/n_s', overwrite=True)"
   ]
  },
  {
   "cell_type": "code",
   "execution_count": 29,
   "metadata": {},
   "outputs": [
    {
     "name": "stdout",
     "output_type": "stream",
     "text": [
      ":12.582479000091553 sec\n",
      "saving l to double_source_ClY3/ln10p10As/l.txt\n",
      "saving lowz,lowz to double_source_ClY3/ln10p10As/lowz,lowz.txt\n",
      "saving cmass1,cmass1 to double_source_ClY3/ln10p10As/cmass1,cmass1.txt\n",
      "saving cmass2,cmass2 to double_source_ClY3/ln10p10As/cmass2,cmass2.txt\n",
      "saving lowz,s2 to double_source_ClY3/ln10p10As/lowz,s2.txt\n",
      "saving cmass1,s2 to double_source_ClY3/ln10p10As/cmass1,s2.txt\n",
      "saving cmass2,s2 to double_source_ClY3/ln10p10As/cmass2,s2.txt\n",
      "saving s2,s2 to double_source_ClY3/ln10p10As/s2,s2.txt\n",
      "saving cosmo_dict to double_source_ClY3/ln10p10As/cosmo_dict.json.\n",
      "saved galaxy sample lowz to galaxy_sample_lowz.json\n",
      "saved galaxy sample cmass1 to galaxy_sample_cmass1.json\n",
      "saved galaxy sample cmass2 to galaxy_sample_cmass2.json\n",
      "saved galaxy sample s2 to galaxy_sample_s2.json\n",
      "CPU times: user 13.3 s, sys: 133 ms, total: 13.4 s\n",
      "Wall time: 12.9 s\n"
     ]
    }
   ],
   "source": [
    "%%time\n",
    "g_l1 = hsc3x2pt.galaxy_sample_lens_class(['lowz'  , 0.15, 0.35, 1.78, '40.36 arcmin^-2', 2.259])\n",
    "g_l2 = hsc3x2pt.galaxy_sample_lens_class(['cmass1', 0.47, 0.55, 2.10, '20.06 arcmin^-2', 3.563])\n",
    "g_l3 = hsc3x2pt.galaxy_sample_lens_class(['cmass2', 0.55, 0.70, 2.28, '30.12 arcmin^-2', 3.729])\n",
    "g_s12= hsc3x2pt.galaxy_sample_source_class(['s1', 'sourcePzs_Y1/MLZs1.txt', 0.0, 0.0, 0.2, '4.37 arcmin^-2'])\n",
    "g_s12= hsc3x2pt.galaxy_sample_source_class(['s2', 'sourcePzs_Y1/MLZs2.txt', 0.0, 0.0, 0.2, '4.37 arcmin^-2'])\n",
    "pk2cl = hsc3x2pt.pk2cl_class(power_b1)\n",
    "pk2cl.set_galaxy_sample(g_l1)\n",
    "pk2cl.set_galaxy_sample(g_l2)\n",
    "pk2cl.set_galaxy_sample(g_l3)\n",
    "pk2cl.set_galaxy_sample(g_s12)\n",
    "cosmo_dict = cosmo_fiducial.copy()\n",
    "cosmo_dict['ln10p10As'] = cosmo_fiducial['ln10p10As']*(1.0+dp)\n",
    "pk2cl.set_cosmology_from_dict(cosmo_dict)\n",
    "pk2cl.init_pk()\n",
    "pk2cl.set_Omega_s({'w':8300, 'gamma_t':Omega_s_HSC, 'xi':Omega_s_HSC}) # HSCY1\n",
    "\n",
    "l = np.logspace(-2, 5, 1000)\n",
    "with hsc3x2pt.Time():\n",
    "    pk2cl.compute_all_Cl(l, compute_lens_cross=False)\n",
    "pk2cl.dump_Cl_cache(f'{dirname}/ln10p10As', overwrite=True)"
   ]
  },
  {
   "cell_type": "code",
   "execution_count": 30,
   "metadata": {},
   "outputs": [
    {
     "name": "stdout",
     "output_type": "stream",
     "text": [
      ":12.396514892578125 sec\n",
      "saving l to double_source_ClY3/b1lowz/l.txt\n",
      "saving lowz,lowz to double_source_ClY3/b1lowz/lowz,lowz.txt\n",
      "saving cmass1,cmass1 to double_source_ClY3/b1lowz/cmass1,cmass1.txt\n",
      "saving cmass2,cmass2 to double_source_ClY3/b1lowz/cmass2,cmass2.txt\n",
      "saving lowz,s2 to double_source_ClY3/b1lowz/lowz,s2.txt\n",
      "saving cmass1,s2 to double_source_ClY3/b1lowz/cmass1,s2.txt\n",
      "saving cmass2,s2 to double_source_ClY3/b1lowz/cmass2,s2.txt\n",
      "saving s2,s2 to double_source_ClY3/b1lowz/s2,s2.txt\n",
      "saving cosmo_dict to double_source_ClY3/b1lowz/cosmo_dict.json.\n",
      "saved galaxy sample lowz to galaxy_sample_lowz.json\n",
      "saved galaxy sample cmass1 to galaxy_sample_cmass1.json\n",
      "saved galaxy sample cmass2 to galaxy_sample_cmass2.json\n",
      "saved galaxy sample s2 to galaxy_sample_s2.json\n",
      "CPU times: user 13.1 s, sys: 121 ms, total: 13.2 s\n",
      "Wall time: 12.7 s\n"
     ]
    }
   ],
   "source": [
    "%%time\n",
    "g_l1 = hsc3x2pt.galaxy_sample_lens_class(['lowz'  , 0.15, 0.35, 1.78*(1.0+dp), '40.36 arcmin^-2', 2.259])\n",
    "g_l2 = hsc3x2pt.galaxy_sample_lens_class(['cmass1', 0.47, 0.55, 2.10, '20.06 arcmin^-2', 3.563])\n",
    "g_l3 = hsc3x2pt.galaxy_sample_lens_class(['cmass2', 0.55, 0.70, 2.28, '30.12 arcmin^-2', 3.729])\n",
    "g_s12= hsc3x2pt.galaxy_sample_source_class(['s1', 'sourcePzs_Y1/MLZs1.txt', 0.0, 0.0, 0.2, '4.37 arcmin^-2'])\n",
    "g_s12= hsc3x2pt.galaxy_sample_source_class(['s2', 'sourcePzs_Y1/MLZs2.txt', 0.0, 0.0, 0.2, '4.37 arcmin^-2'])\n",
    "pk2cl = hsc3x2pt.pk2cl_class(power_b1)\n",
    "pk2cl.set_galaxy_sample(g_l1)\n",
    "pk2cl.set_galaxy_sample(g_l2)\n",
    "pk2cl.set_galaxy_sample(g_l3)\n",
    "pk2cl.set_galaxy_sample(g_s12)\n",
    "cosmo_dict = cosmo_fiducial.copy()\n",
    "pk2cl.set_cosmology_from_dict(cosmo_dict)\n",
    "pk2cl.init_pk()\n",
    "pk2cl.set_Omega_s({'w':8300, 'gamma_t':Omega_s_HSC, 'xi':Omega_s_HSC}) # HSCY1\n",
    "\n",
    "l = np.logspace(-2, 5, 1000)\n",
    "with hsc3x2pt.Time():\n",
    "    pk2cl.compute_all_Cl(l, compute_lens_cross=False)\n",
    "pk2cl.dump_Cl_cache(f'{dirname}/b1lowz', overwrite=True)"
   ]
  },
  {
   "cell_type": "code",
   "execution_count": 31,
   "metadata": {},
   "outputs": [
    {
     "name": "stdout",
     "output_type": "stream",
     "text": [
      ":11.959874153137207 sec\n",
      "saving l to double_source_ClY3/b1cmass1/l.txt\n",
      "saving lowz,lowz to double_source_ClY3/b1cmass1/lowz,lowz.txt\n",
      "saving cmass1,cmass1 to double_source_ClY3/b1cmass1/cmass1,cmass1.txt\n",
      "saving cmass2,cmass2 to double_source_ClY3/b1cmass1/cmass2,cmass2.txt\n",
      "saving lowz,s2 to double_source_ClY3/b1cmass1/lowz,s2.txt\n",
      "saving cmass1,s2 to double_source_ClY3/b1cmass1/cmass1,s2.txt\n",
      "saving cmass2,s2 to double_source_ClY3/b1cmass1/cmass2,s2.txt\n",
      "saving s2,s2 to double_source_ClY3/b1cmass1/s2,s2.txt\n",
      "saving cosmo_dict to double_source_ClY3/b1cmass1/cosmo_dict.json.\n",
      "saved galaxy sample lowz to galaxy_sample_lowz.json\n",
      "saved galaxy sample cmass1 to galaxy_sample_cmass1.json\n",
      "saved galaxy sample cmass2 to galaxy_sample_cmass2.json\n",
      "saved galaxy sample s2 to galaxy_sample_s2.json\n",
      "CPU times: user 12.7 s, sys: 115 ms, total: 12.8 s\n",
      "Wall time: 12.3 s\n"
     ]
    }
   ],
   "source": [
    "%%time\n",
    "g_l1 = hsc3x2pt.galaxy_sample_lens_class(['lowz'  , 0.15, 0.35, 1.78, '40.36 arcmin^-2', 2.259])\n",
    "g_l2 = hsc3x2pt.galaxy_sample_lens_class(['cmass1', 0.47, 0.55, 2.10*(1+dp), '20.06 arcmin^-2', 3.563])\n",
    "g_l3 = hsc3x2pt.galaxy_sample_lens_class(['cmass2', 0.55, 0.70, 2.28, '30.12 arcmin^-2', 3.729])\n",
    "g_s12= hsc3x2pt.galaxy_sample_source_class(['s1', 'sourcePzs_Y1/MLZs1.txt', 0.0, 0.0, 0.2, '4.37 arcmin^-2'])\n",
    "g_s12= hsc3x2pt.galaxy_sample_source_class(['s2', 'sourcePzs_Y1/MLZs2.txt', 0.0, 0.0, 0.2, '4.37 arcmin^-2'])\n",
    "pk2cl = hsc3x2pt.pk2cl_class(power_b1)\n",
    "pk2cl.set_galaxy_sample(g_l1)\n",
    "pk2cl.set_galaxy_sample(g_l2)\n",
    "pk2cl.set_galaxy_sample(g_l3)\n",
    "pk2cl.set_galaxy_sample(g_s12)\n",
    "cosmo_dict = cosmo_fiducial.copy()\n",
    "pk2cl.set_cosmology_from_dict(cosmo_dict)\n",
    "pk2cl.init_pk()\n",
    "pk2cl.set_Omega_s({'w':8300, 'gamma_t':Omega_s_HSC, 'xi':Omega_s_HSC}) # HSCY1\n",
    "\n",
    "l = np.logspace(-2, 5, 1000)\n",
    "with hsc3x2pt.Time():\n",
    "    pk2cl.compute_all_Cl(l, compute_lens_cross=False)\n",
    "pk2cl.dump_Cl_cache(f'{dirname}/b1cmass1', overwrite=True)"
   ]
  },
  {
   "cell_type": "code",
   "execution_count": 32,
   "metadata": {},
   "outputs": [
    {
     "name": "stdout",
     "output_type": "stream",
     "text": [
      ":11.659494876861572 sec\n",
      "saving l to double_source_ClY3/b1cmass2/l.txt\n",
      "saving lowz,lowz to double_source_ClY3/b1cmass2/lowz,lowz.txt\n",
      "saving cmass1,cmass1 to double_source_ClY3/b1cmass2/cmass1,cmass1.txt\n",
      "saving cmass2,cmass2 to double_source_ClY3/b1cmass2/cmass2,cmass2.txt\n",
      "saving lowz,s2 to double_source_ClY3/b1cmass2/lowz,s2.txt\n",
      "saving cmass1,s2 to double_source_ClY3/b1cmass2/cmass1,s2.txt\n",
      "saving cmass2,s2 to double_source_ClY3/b1cmass2/cmass2,s2.txt\n",
      "saving s2,s2 to double_source_ClY3/b1cmass2/s2,s2.txt\n",
      "saving cosmo_dict to double_source_ClY3/b1cmass2/cosmo_dict.json.\n",
      "saved galaxy sample lowz to galaxy_sample_lowz.json\n",
      "saved galaxy sample cmass1 to galaxy_sample_cmass1.json\n",
      "saved galaxy sample cmass2 to galaxy_sample_cmass2.json\n",
      "saved galaxy sample s2 to galaxy_sample_s2.json\n",
      "CPU times: user 12.4 s, sys: 99.7 ms, total: 12.5 s\n",
      "Wall time: 12 s\n"
     ]
    }
   ],
   "source": [
    "%%time\n",
    "g_l1 = hsc3x2pt.galaxy_sample_lens_class(['lowz'  , 0.15, 0.35, 1.78, '40.36 arcmin^-2', 2.259])\n",
    "g_l2 = hsc3x2pt.galaxy_sample_lens_class(['cmass1', 0.47, 0.55, 2.10, '20.06 arcmin^-2', 3.563])\n",
    "g_l3 = hsc3x2pt.galaxy_sample_lens_class(['cmass2', 0.55, 0.70, 2.28*(1+dp), '30.12 arcmin^-2', 3.729])\n",
    "g_s12= hsc3x2pt.galaxy_sample_source_class(['s1', 'sourcePzs_Y1/MLZs1.txt', 0.0, 0.0, 0.2, '4.37 arcmin^-2'])\n",
    "g_s12= hsc3x2pt.galaxy_sample_source_class(['s2', 'sourcePzs_Y1/MLZs2.txt', 0.0, 0.0, 0.2, '4.37 arcmin^-2'])\n",
    "pk2cl = hsc3x2pt.pk2cl_class(power_b1)\n",
    "pk2cl.set_galaxy_sample(g_l1)\n",
    "pk2cl.set_galaxy_sample(g_l2)\n",
    "pk2cl.set_galaxy_sample(g_l3)\n",
    "pk2cl.set_galaxy_sample(g_s12)\n",
    "cosmo_dict = cosmo_fiducial.copy()\n",
    "pk2cl.set_cosmology_from_dict(cosmo_dict)\n",
    "pk2cl.init_pk()\n",
    "pk2cl.set_Omega_s({'w':8300, 'gamma_t':Omega_s_HSC, 'xi':Omega_s_HSC}) # HSCY1\n",
    "\n",
    "l = np.logspace(-2, 5, 1000)\n",
    "with hsc3x2pt.Time():\n",
    "    pk2cl.compute_all_Cl(l, compute_lens_cross=False)\n",
    "pk2cl.dump_Cl_cache(f'{dirname}/b1cmass2', overwrite=True)"
   ]
  },
  {
   "cell_type": "code",
   "execution_count": 33,
   "metadata": {},
   "outputs": [
    {
     "name": "stdout",
     "output_type": "stream",
     "text": [
      ":11.516288995742798 sec\n",
      "saving l to double_source_ClY3/alphamaglowz/l.txt\n",
      "saving lowz,lowz to double_source_ClY3/alphamaglowz/lowz,lowz.txt\n",
      "saving cmass1,cmass1 to double_source_ClY3/alphamaglowz/cmass1,cmass1.txt\n",
      "saving cmass2,cmass2 to double_source_ClY3/alphamaglowz/cmass2,cmass2.txt\n",
      "saving lowz,s2 to double_source_ClY3/alphamaglowz/lowz,s2.txt\n",
      "saving cmass1,s2 to double_source_ClY3/alphamaglowz/cmass1,s2.txt\n",
      "saving cmass2,s2 to double_source_ClY3/alphamaglowz/cmass2,s2.txt\n",
      "saving s2,s2 to double_source_ClY3/alphamaglowz/s2,s2.txt\n",
      "saving cosmo_dict to double_source_ClY3/alphamaglowz/cosmo_dict.json.\n",
      "saved galaxy sample lowz to galaxy_sample_lowz.json\n",
      "saved galaxy sample cmass1 to galaxy_sample_cmass1.json\n",
      "saved galaxy sample cmass2 to galaxy_sample_cmass2.json\n",
      "saved galaxy sample s2 to galaxy_sample_s2.json\n",
      "CPU times: user 12.3 s, sys: 98.3 ms, total: 12.4 s\n",
      "Wall time: 11.8 s\n"
     ]
    }
   ],
   "source": [
    "%%time\n",
    "g_l1 = hsc3x2pt.galaxy_sample_lens_class(['lowz'  , 0.15, 0.35, 1.78, '40.36 arcmin^-2', 2.259*(1.0+dp)])\n",
    "g_l2 = hsc3x2pt.galaxy_sample_lens_class(['cmass1', 0.47, 0.55, 2.10, '20.06 arcmin^-2', 3.563])\n",
    "g_l3 = hsc3x2pt.galaxy_sample_lens_class(['cmass2', 0.55, 0.70, 2.28, '30.12 arcmin^-2', 3.729])\n",
    "g_s12= hsc3x2pt.galaxy_sample_source_class(['s1', 'sourcePzs_Y1/MLZs1.txt', 0.0, 0.0, 0.2, '4.37 arcmin^-2'])\n",
    "g_s12= hsc3x2pt.galaxy_sample_source_class(['s2', 'sourcePzs_Y1/MLZs2.txt', 0.0, 0.0, 0.2, '4.37 arcmin^-2'])\n",
    "pk2cl = hsc3x2pt.pk2cl_class(power_b1)\n",
    "pk2cl.set_galaxy_sample(g_l1)\n",
    "pk2cl.set_galaxy_sample(g_l2)\n",
    "pk2cl.set_galaxy_sample(g_l3)\n",
    "pk2cl.set_galaxy_sample(g_s12)\n",
    "cosmo_dict = cosmo_fiducial.copy()\n",
    "pk2cl.set_cosmology_from_dict(cosmo_dict)\n",
    "pk2cl.init_pk()\n",
    "pk2cl.set_Omega_s({'w':8300, 'gamma_t':Omega_s_HSC, 'xi':Omega_s_HSC}) # HSCY1\n",
    "\n",
    "l = np.logspace(-2, 5, 1000)\n",
    "with hsc3x2pt.Time():\n",
    "    pk2cl.compute_all_Cl(l, compute_lens_cross=False)\n",
    "pk2cl.dump_Cl_cache(f'{dirname}/alphamaglowz', overwrite=True)"
   ]
  },
  {
   "cell_type": "code",
   "execution_count": 34,
   "metadata": {},
   "outputs": [
    {
     "name": "stdout",
     "output_type": "stream",
     "text": [
      ":12.226478099822998 sec\n",
      "saving l to double_source_ClY3/alphamagcmass1/l.txt\n",
      "saving lowz,lowz to double_source_ClY3/alphamagcmass1/lowz,lowz.txt\n",
      "saving cmass1,cmass1 to double_source_ClY3/alphamagcmass1/cmass1,cmass1.txt\n",
      "saving cmass2,cmass2 to double_source_ClY3/alphamagcmass1/cmass2,cmass2.txt\n",
      "saving lowz,s2 to double_source_ClY3/alphamagcmass1/lowz,s2.txt\n",
      "saving cmass1,s2 to double_source_ClY3/alphamagcmass1/cmass1,s2.txt\n",
      "saving cmass2,s2 to double_source_ClY3/alphamagcmass1/cmass2,s2.txt\n",
      "saving s2,s2 to double_source_ClY3/alphamagcmass1/s2,s2.txt\n",
      "saving cosmo_dict to double_source_ClY3/alphamagcmass1/cosmo_dict.json.\n",
      "saved galaxy sample lowz to galaxy_sample_lowz.json\n",
      "saved galaxy sample cmass1 to galaxy_sample_cmass1.json\n",
      "saved galaxy sample cmass2 to galaxy_sample_cmass2.json\n",
      "saved galaxy sample s2 to galaxy_sample_s2.json\n",
      "CPU times: user 12.9 s, sys: 121 ms, total: 13.1 s\n",
      "Wall time: 12.5 s\n"
     ]
    }
   ],
   "source": [
    "%%time\n",
    "g_l1 = hsc3x2pt.galaxy_sample_lens_class(['lowz'  , 0.15, 0.35, 1.78, '40.36 arcmin^-2', 2.259])\n",
    "g_l2 = hsc3x2pt.galaxy_sample_lens_class(['cmass1', 0.47, 0.55, 2.10, '20.06 arcmin^-2', 3.563*(1+dp)])\n",
    "g_l3 = hsc3x2pt.galaxy_sample_lens_class(['cmass2', 0.55, 0.70, 2.28, '30.12 arcmin^-2', 3.729])\n",
    "g_s12= hsc3x2pt.galaxy_sample_source_class(['s1', 'sourcePzs_Y1/MLZs1.txt', 0.0, 0.0, 0.2, '4.37 arcmin^-2'])\n",
    "g_s12= hsc3x2pt.galaxy_sample_source_class(['s2', 'sourcePzs_Y1/MLZs2.txt', 0.0, 0.0, 0.2, '4.37 arcmin^-2'])\n",
    "pk2cl = hsc3x2pt.pk2cl_class(power_b1)\n",
    "pk2cl.set_galaxy_sample(g_l1)\n",
    "pk2cl.set_galaxy_sample(g_l2)\n",
    "pk2cl.set_galaxy_sample(g_l3)\n",
    "pk2cl.set_galaxy_sample(g_s12)\n",
    "cosmo_dict = cosmo_fiducial.copy()\n",
    "pk2cl.set_cosmology_from_dict(cosmo_dict)\n",
    "pk2cl.init_pk()\n",
    "pk2cl.set_Omega_s({'w':8300, 'gamma_t':Omega_s_HSC, 'xi':Omega_s_HSC}) # HSCY1\n",
    "\n",
    "l = np.logspace(-2, 5, 1000)\n",
    "with hsc3x2pt.Time():\n",
    "    pk2cl.compute_all_Cl(l, compute_lens_cross=False)\n",
    "pk2cl.dump_Cl_cache(f'{dirname}/alphamagcmass1', overwrite=True)"
   ]
  },
  {
   "cell_type": "code",
   "execution_count": 35,
   "metadata": {},
   "outputs": [
    {
     "name": "stdout",
     "output_type": "stream",
     "text": [
      ":11.987351179122925 sec\n",
      "saving l to double_source_ClY3/alphamagcmass2/l.txt\n",
      "saving lowz,lowz to double_source_ClY3/alphamagcmass2/lowz,lowz.txt\n",
      "saving cmass1,cmass1 to double_source_ClY3/alphamagcmass2/cmass1,cmass1.txt\n",
      "saving cmass2,cmass2 to double_source_ClY3/alphamagcmass2/cmass2,cmass2.txt\n",
      "saving lowz,s2 to double_source_ClY3/alphamagcmass2/lowz,s2.txt\n",
      "saving cmass1,s2 to double_source_ClY3/alphamagcmass2/cmass1,s2.txt\n",
      "saving cmass2,s2 to double_source_ClY3/alphamagcmass2/cmass2,s2.txt\n",
      "saving s2,s2 to double_source_ClY3/alphamagcmass2/s2,s2.txt\n",
      "saving cosmo_dict to double_source_ClY3/alphamagcmass2/cosmo_dict.json.\n",
      "saved galaxy sample lowz to galaxy_sample_lowz.json\n",
      "saved galaxy sample cmass1 to galaxy_sample_cmass1.json\n",
      "saved galaxy sample cmass2 to galaxy_sample_cmass2.json\n",
      "saved galaxy sample s2 to galaxy_sample_s2.json\n",
      "CPU times: user 12.7 s, sys: 109 ms, total: 12.8 s\n",
      "Wall time: 12.3 s\n"
     ]
    }
   ],
   "source": [
    "%%time\n",
    "g_l1 = hsc3x2pt.galaxy_sample_lens_class(['lowz'  , 0.15, 0.35, 1.78, '40.36 arcmin^-2', 2.259])\n",
    "g_l2 = hsc3x2pt.galaxy_sample_lens_class(['cmass1', 0.47, 0.55, 2.10, '20.06 arcmin^-2', 3.563])\n",
    "g_l3 = hsc3x2pt.galaxy_sample_lens_class(['cmass2', 0.55, 0.70, 2.28, '30.12 arcmin^-2', 3.729*(1+dp)])\n",
    "g_s12= hsc3x2pt.galaxy_sample_source_class(['s1', 'sourcePzs_Y1/MLZs1.txt', 0.0, 0.0, 0.2, '4.37 arcmin^-2'])\n",
    "g_s12= hsc3x2pt.galaxy_sample_source_class(['s2', 'sourcePzs_Y1/MLZs2.txt', 0.0, 0.0, 0.2, '4.37 arcmin^-2'])\n",
    "pk2cl = hsc3x2pt.pk2cl_class(power_b1)\n",
    "pk2cl.set_galaxy_sample(g_l1)\n",
    "pk2cl.set_galaxy_sample(g_l2)\n",
    "pk2cl.set_galaxy_sample(g_l3)\n",
    "pk2cl.set_galaxy_sample(g_s12)\n",
    "cosmo_dict = cosmo_fiducial.copy()\n",
    "pk2cl.set_cosmology_from_dict(cosmo_dict)\n",
    "pk2cl.init_pk()\n",
    "pk2cl.set_Omega_s({'w':8300, 'gamma_t':Omega_s_HSC, 'xi':Omega_s_HSC}) # HSCY1\n",
    "\n",
    "l = np.logspace(-2, 5, 1000)\n",
    "with hsc3x2pt.Time():\n",
    "    pk2cl.compute_all_Cl(l, compute_lens_cross=False)\n",
    "pk2cl.dump_Cl_cache(f'{dirname}/alphamagcmass2', overwrite=True)"
   ]
  },
  {
   "cell_type": "code",
   "execution_count": 36,
   "metadata": {},
   "outputs": [
    {
     "name": "stdout",
     "output_type": "stream",
     "text": [
      ":11.994633913040161 sec\n",
      "saving l to double_source_ClY3/dzph1/l.txt\n",
      "saving lowz,lowz to double_source_ClY3/dzph1/lowz,lowz.txt\n",
      "saving cmass1,cmass1 to double_source_ClY3/dzph1/cmass1,cmass1.txt\n",
      "saving cmass2,cmass2 to double_source_ClY3/dzph1/cmass2,cmass2.txt\n",
      "saving lowz,s2 to double_source_ClY3/dzph1/lowz,s2.txt\n",
      "saving cmass1,s2 to double_source_ClY3/dzph1/cmass1,s2.txt\n",
      "saving cmass2,s2 to double_source_ClY3/dzph1/cmass2,s2.txt\n",
      "saving s2,s2 to double_source_ClY3/dzph1/s2,s2.txt\n",
      "saving cosmo_dict to double_source_ClY3/dzph1/cosmo_dict.json.\n",
      "saved galaxy sample lowz to galaxy_sample_lowz.json\n",
      "saved galaxy sample cmass1 to galaxy_sample_cmass1.json\n",
      "saved galaxy sample cmass2 to galaxy_sample_cmass2.json\n",
      "saved galaxy sample s2 to galaxy_sample_s2.json\n",
      "CPU times: user 12.7 s, sys: 115 ms, total: 12.8 s\n",
      "Wall time: 12.3 s\n"
     ]
    }
   ],
   "source": [
    "%%time\n",
    "g_l1 = hsc3x2pt.galaxy_sample_lens_class(['lowz'  , 0.15, 0.35, 1.78, '40.36 arcmin^-2', 2.259])\n",
    "g_l2 = hsc3x2pt.galaxy_sample_lens_class(['cmass1', 0.47, 0.55, 2.10, '20.06 arcmin^-2', 3.563])\n",
    "g_l3 = hsc3x2pt.galaxy_sample_lens_class(['cmass2', 0.55, 0.70, 2.28, '30.12 arcmin^-2', 3.729])\n",
    "g_s12= hsc3x2pt.galaxy_sample_source_class(['s1', 'sourcePzs_Y1/MLZs1.txt', dp, 0.0, 0.2, '4.37 arcmin^-2'])\n",
    "g_s12= hsc3x2pt.galaxy_sample_source_class(['s2', 'sourcePzs_Y1/MLZs2.txt', 0.0, 0.0, 0.2, '4.37 arcmin^-2'])\n",
    "pk2cl = hsc3x2pt.pk2cl_class(power_b1)\n",
    "pk2cl.set_galaxy_sample(g_l1)\n",
    "pk2cl.set_galaxy_sample(g_l2)\n",
    "pk2cl.set_galaxy_sample(g_l3)\n",
    "pk2cl.set_galaxy_sample(g_s12)\n",
    "cosmo_dict = cosmo_fiducial.copy()\n",
    "pk2cl.set_cosmology_from_dict(cosmo_dict)\n",
    "pk2cl.init_pk()\n",
    "pk2cl.set_Omega_s({'w':8300, 'gamma_t':Omega_s_HSC, 'xi':Omega_s_HSC}) # HSCY1\n",
    "\n",
    "l = np.logspace(-2, 5, 1000)\n",
    "with hsc3x2pt.Time():\n",
    "    pk2cl.compute_all_Cl(l, compute_lens_cross=False)\n",
    "pk2cl.dump_Cl_cache(f'{dirname}/dzph1', overwrite=True)"
   ]
  },
  {
   "cell_type": "code",
   "execution_count": 37,
   "metadata": {},
   "outputs": [
    {
     "name": "stdout",
     "output_type": "stream",
     "text": [
      ":12.989307880401611 sec\n",
      "saving l to double_source_ClY3/dzph2/l.txt\n",
      "saving lowz,lowz to double_source_ClY3/dzph2/lowz,lowz.txt\n",
      "saving cmass1,cmass1 to double_source_ClY3/dzph2/cmass1,cmass1.txt\n",
      "saving cmass2,cmass2 to double_source_ClY3/dzph2/cmass2,cmass2.txt\n",
      "saving lowz,s2 to double_source_ClY3/dzph2/lowz,s2.txt\n",
      "saving cmass1,s2 to double_source_ClY3/dzph2/cmass1,s2.txt\n",
      "saving cmass2,s2 to double_source_ClY3/dzph2/cmass2,s2.txt\n",
      "saving s2,s2 to double_source_ClY3/dzph2/s2,s2.txt\n",
      "saving cosmo_dict to double_source_ClY3/dzph2/cosmo_dict.json.\n",
      "saved galaxy sample lowz to galaxy_sample_lowz.json\n",
      "saved galaxy sample cmass1 to galaxy_sample_cmass1.json\n",
      "saved galaxy sample cmass2 to galaxy_sample_cmass2.json\n",
      "saved galaxy sample s2 to galaxy_sample_s2.json\n",
      "CPU times: user 13.6 s, sys: 160 ms, total: 13.8 s\n",
      "Wall time: 13.3 s\n"
     ]
    }
   ],
   "source": [
    "%%time\n",
    "g_l1 = hsc3x2pt.galaxy_sample_lens_class(['lowz'  , 0.15, 0.35, 1.78, '40.36 arcmin^-2', 2.259])\n",
    "g_l2 = hsc3x2pt.galaxy_sample_lens_class(['cmass1', 0.47, 0.55, 2.10, '20.06 arcmin^-2', 3.563])\n",
    "g_l3 = hsc3x2pt.galaxy_sample_lens_class(['cmass2', 0.55, 0.70, 2.28, '30.12 arcmin^-2', 3.729])\n",
    "g_s12= hsc3x2pt.galaxy_sample_source_class(['s1', 'sourcePzs_Y1/MLZs1.txt', 0.0, 0.0, 0.2, '4.37 arcmin^-2'])\n",
    "g_s12= hsc3x2pt.galaxy_sample_source_class(['s2', 'sourcePzs_Y1/MLZs2.txt', dp, 0.0, 0.2, '4.37 arcmin^-2'])\n",
    "pk2cl = hsc3x2pt.pk2cl_class(power_b1)\n",
    "pk2cl.set_galaxy_sample(g_l1)\n",
    "pk2cl.set_galaxy_sample(g_l2)\n",
    "pk2cl.set_galaxy_sample(g_l3)\n",
    "pk2cl.set_galaxy_sample(g_s12)\n",
    "cosmo_dict = cosmo_fiducial.copy()\n",
    "pk2cl.set_cosmology_from_dict(cosmo_dict)\n",
    "pk2cl.init_pk()\n",
    "pk2cl.set_Omega_s({'w':8300, 'gamma_t':Omega_s_HSC, 'xi':Omega_s_HSC}) # HSCY1\n",
    "\n",
    "l = np.logspace(-2, 5, 1000)\n",
    "with hsc3x2pt.Time():\n",
    "    pk2cl.compute_all_Cl(l, compute_lens_cross=False)\n",
    "pk2cl.dump_Cl_cache(f'{dirname}/dzph2', overwrite=True)"
   ]
  },
  {
   "cell_type": "code",
   "execution_count": 38,
   "metadata": {},
   "outputs": [
    {
     "name": "stdout",
     "output_type": "stream",
     "text": [
      ":13.024590015411377 sec\n",
      "saving l to double_source_ClY3/dm1/l.txt\n",
      "saving lowz,lowz to double_source_ClY3/dm1/lowz,lowz.txt\n",
      "saving cmass1,cmass1 to double_source_ClY3/dm1/cmass1,cmass1.txt\n",
      "saving cmass2,cmass2 to double_source_ClY3/dm1/cmass2,cmass2.txt\n",
      "saving lowz,s2 to double_source_ClY3/dm1/lowz,s2.txt\n",
      "saving cmass1,s2 to double_source_ClY3/dm1/cmass1,s2.txt\n",
      "saving cmass2,s2 to double_source_ClY3/dm1/cmass2,s2.txt\n",
      "saving s2,s2 to double_source_ClY3/dm1/s2,s2.txt\n",
      "saving cosmo_dict to double_source_ClY3/dm1/cosmo_dict.json.\n",
      "saved galaxy sample lowz to galaxy_sample_lowz.json\n",
      "saved galaxy sample cmass1 to galaxy_sample_cmass1.json\n",
      "saved galaxy sample cmass2 to galaxy_sample_cmass2.json\n",
      "saved galaxy sample s2 to galaxy_sample_s2.json\n",
      "CPU times: user 13.6 s, sys: 167 ms, total: 13.8 s\n",
      "Wall time: 13.3 s\n"
     ]
    }
   ],
   "source": [
    "%%time\n",
    "g_l1 = hsc3x2pt.galaxy_sample_lens_class(['lowz'  , 0.15, 0.35, 1.78, '40.36 arcmin^-2', 2.259])\n",
    "g_l2 = hsc3x2pt.galaxy_sample_lens_class(['cmass1', 0.47, 0.55, 2.10, '20.06 arcmin^-2', 3.563])\n",
    "g_l3 = hsc3x2pt.galaxy_sample_lens_class(['cmass2', 0.55, 0.70, 2.28, '30.12 arcmin^-2', 3.729])\n",
    "g_s12= hsc3x2pt.galaxy_sample_source_class(['s1', 'sourcePzs_Y1/MLZs1.txt', 0.0, dp, 0.2, '4.37 arcmin^-2'])\n",
    "g_s12= hsc3x2pt.galaxy_sample_source_class(['s2', 'sourcePzs_Y1/MLZs2.txt', 0.0, 0.0, 0.2, '4.37 arcmin^-2'])\n",
    "pk2cl = hsc3x2pt.pk2cl_class(power_b1)\n",
    "pk2cl.set_galaxy_sample(g_l1)\n",
    "pk2cl.set_galaxy_sample(g_l2)\n",
    "pk2cl.set_galaxy_sample(g_l3)\n",
    "pk2cl.set_galaxy_sample(g_s12)\n",
    "cosmo_dict = cosmo_fiducial.copy()\n",
    "pk2cl.set_cosmology_from_dict(cosmo_dict)\n",
    "pk2cl.init_pk()\n",
    "pk2cl.set_Omega_s({'w':8300, 'gamma_t':Omega_s_HSC, 'xi':Omega_s_HSC}) # HSCY1\n",
    "\n",
    "l = np.logspace(-2, 5, 1000)\n",
    "with hsc3x2pt.Time():\n",
    "    pk2cl.compute_all_Cl(l, compute_lens_cross=False)\n",
    "pk2cl.dump_Cl_cache(f'{dirname}/dm1', overwrite=True)"
   ]
  },
  {
   "cell_type": "code",
   "execution_count": 39,
   "metadata": {},
   "outputs": [
    {
     "name": "stdout",
     "output_type": "stream",
     "text": [
      ":12.410616874694824 sec\n",
      "saving l to double_source_ClY3/dm2/l.txt\n",
      "saving lowz,lowz to double_source_ClY3/dm2/lowz,lowz.txt\n",
      "saving cmass1,cmass1 to double_source_ClY3/dm2/cmass1,cmass1.txt\n",
      "saving cmass2,cmass2 to double_source_ClY3/dm2/cmass2,cmass2.txt\n",
      "saving lowz,s2 to double_source_ClY3/dm2/lowz,s2.txt\n",
      "saving cmass1,s2 to double_source_ClY3/dm2/cmass1,s2.txt\n",
      "saving cmass2,s2 to double_source_ClY3/dm2/cmass2,s2.txt\n",
      "saving s2,s2 to double_source_ClY3/dm2/s2,s2.txt\n",
      "saving cosmo_dict to double_source_ClY3/dm2/cosmo_dict.json.\n",
      "saved galaxy sample lowz to galaxy_sample_lowz.json\n",
      "saved galaxy sample cmass1 to galaxy_sample_cmass1.json\n",
      "saved galaxy sample cmass2 to galaxy_sample_cmass2.json\n",
      "saved galaxy sample s2 to galaxy_sample_s2.json\n",
      "CPU times: user 13 s, sys: 143 ms, total: 13.1 s\n",
      "Wall time: 12.8 s\n"
     ]
    }
   ],
   "source": [
    "%%time\n",
    "g_l1 = hsc3x2pt.galaxy_sample_lens_class(['lowz'  , 0.15, 0.35, 1.78, '40.36 arcmin^-2', 2.259])\n",
    "g_l2 = hsc3x2pt.galaxy_sample_lens_class(['cmass1', 0.47, 0.55, 2.10, '20.06 arcmin^-2', 3.563])\n",
    "g_l3 = hsc3x2pt.galaxy_sample_lens_class(['cmass2', 0.55, 0.70, 2.28, '30.12 arcmin^-2', 3.729])\n",
    "g_s12= hsc3x2pt.galaxy_sample_source_class(['s1', 'sourcePzs_Y1/MLZs1.txt', 0.0, 0.0, 0.2, '4.37 arcmin^-2'])\n",
    "g_s12= hsc3x2pt.galaxy_sample_source_class(['s2', 'sourcePzs_Y1/MLZs2.txt', 0.0, dp, 0.2, '4.37 arcmin^-2'])\n",
    "pk2cl = hsc3x2pt.pk2cl_class(power_b1)\n",
    "pk2cl.set_galaxy_sample(g_l1)\n",
    "pk2cl.set_galaxy_sample(g_l2)\n",
    "pk2cl.set_galaxy_sample(g_l3)\n",
    "pk2cl.set_galaxy_sample(g_s12)\n",
    "cosmo_dict = cosmo_fiducial.copy()\n",
    "pk2cl.set_cosmology_from_dict(cosmo_dict)\n",
    "pk2cl.init_pk()\n",
    "pk2cl.set_Omega_s({'w':8300, 'gamma_t':140, 'xi':140}) # HSCY1\n",
    "\n",
    "l = np.logspace(-2, 5, 1000)\n",
    "with hsc3x2pt.Time():\n",
    "    pk2cl.compute_all_Cl(l, compute_lens_cross=False)\n",
    "pk2cl.dump_Cl_cache(f'{dirname}/dm2', overwrite=True)"
   ]
  },
  {
   "cell_type": "code",
   "execution_count": 40,
   "metadata": {},
   "outputs": [
    {
     "name": "stdout",
     "output_type": "stream",
     "text": [
      "408.02498722076416 sec\n"
     ]
    }
   ],
   "source": [
    "t1 = time.time()\n",
    "print(f'{t1-t0} sec')"
   ]
  },
  {
   "cell_type": "code",
   "execution_count": null,
   "metadata": {},
   "outputs": [],
   "source": []
  }
 ],
 "metadata": {
  "kernelspec": {
   "display_name": "Python 3",
   "language": "python",
   "name": "python3"
  },
  "language_info": {
   "codemirror_mode": {
    "name": "ipython",
    "version": 3
   },
   "file_extension": ".py",
   "mimetype": "text/x-python",
   "name": "python",
   "nbconvert_exporter": "python",
   "pygments_lexer": "ipython3",
   "version": "3.7.3"
  }
 },
 "nbformat": 4,
 "nbformat_minor": 4
}
