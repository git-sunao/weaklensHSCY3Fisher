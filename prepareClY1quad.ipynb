{
 "cells": [
  {
   "cell_type": "code",
   "execution_count": 1,
   "metadata": {},
   "outputs": [
    {
     "name": "stdout",
     "output_type": "stream",
     "text": [
      "Populating the interactive namespace from numpy and matplotlib\n"
     ]
    }
   ],
   "source": [
    "%load_ext autoreload\n",
    "%autoreload 2\n",
    "%pylab inline"
   ]
  },
  {
   "cell_type": "code",
   "execution_count": 2,
   "metadata": {},
   "outputs": [
    {
     "name": "stdout",
     "output_type": "stream",
     "text": [
      "using dark_emulator at  /lustre/work/sunao.sugiyama/package/dark_emulator_public/dark_emulator/__init__.py\n"
     ]
    }
   ],
   "source": [
    "import numpy as np\n",
    "from dark_emulator_public import dark_emulator\n",
    "import os, sys, time, json\n",
    "import matplotlib.pyplot as plt\n",
    "from collections import OrderedDict as od\n",
    "from scipy.interpolate import InterpolatedUnivariateSpline as ius\n",
    "from scipy.interpolate import interp2d, interp1d\n",
    "from scipy.integrate import simps\n",
    "from tqdm import tqdm\n",
    "import hsc3x2pt"
   ]
  },
  {
   "cell_type": "markdown",
   "metadata": {},
   "source": [
    "## Preparation for Fisher\n",
    "Computation of $C(l)$ takes ~20 sec for each cosmology.\n",
    "So this notebook pre-compute $C(l)$ for cosmologies needed for Fisher analysis.\n",
    "\n",
    "Model parameters of 3x2pt analysis with single(double) source redshift bin are\n",
    "- comsology: 5\n",
    "- galaxy bias: 1x3\n",
    "- magnification bias: 1x3\n",
    "- photo-z: 1x1(2)\n",
    "- multiplicative bais: 1\n",
    "\n",
    "14 parameters in total.\n",
    "\n",
    "$C(l)$s depend on cosmological parameters, galaxy bias and magnification bias, for which we need to compute $C(l)$.\n",
    "\n",
    "**Note** : Fisher analysis is doable even if the computational time for one model reaches ~20 sec. However, in the real analysis, ~20 sec is too much to run sampling code. \n",
    "I just want to know how people in cosmic shear, like Hikage-san and Hamana-san, or people in 3x2pt, like DES or KiDS, implement code of $C(l)$.?"
   ]
  },
  {
   "cell_type": "code",
   "execution_count": 3,
   "metadata": {},
   "outputs": [
    {
     "name": "stdout",
     "output_type": "stream",
     "text": [
      "initialize cosmo_class\n",
      "Initialize pklin emulator\n",
      "initialize propagator emulator\n",
      "Initialize sigma_d emulator\n",
      "initialize cross-correlation emulator\n",
      "initialize auto-correlation emulator\n",
      "Initialize sigmaM emulator\n",
      "initialize xinl emulator\n"
     ]
    }
   ],
   "source": [
    "power_b1 = hsc3x2pt.power_b1_class()"
   ]
  },
  {
   "cell_type": "code",
   "execution_count": 4,
   "metadata": {},
   "outputs": [],
   "source": [
    "Omega_s_HSC = 140"
   ]
  },
  {
   "cell_type": "markdown",
   "metadata": {},
   "source": [
    "### List of models to compute $C(l)$ to compute **double** source bins anlaysis\n",
    "\n",
    "0. fiducial = Planck cosmology + fiducial galaxy bias, magnification bais + 0 photo-z and multiplicative bias\n",
    "1. $\\omega_b h^2$ +\n",
    "2. $\\omega_c h^2$ +\n",
    "3. $\\Omega_{\\rm de}$ +\n",
    "4. $n_{\\rm s}$ +\n",
    "5. $\\ln 10^{10}A_{\\rm s}$ +\n",
    "6. $b_{\\rm 1,1}$ + \n",
    "7. $b_{\\rm 1,2}$ + \n",
    "8. $b_{\\rm 1,3}$ + \n",
    "9. $\\alpha_{\\rm mag,1}$ + \n",
    "10. $\\alpha_{\\rm mag,2}$ + \n",
    "11. $\\alpha_{\\rm mag,3}$ + \n",
    "12. $\\Delta z_{\\rm ph,1}$ +\n",
    "12. $\\Delta z_{\\rm ph,2}$ +\n",
    "13. $\\Delta m_1$"
   ]
  },
  {
   "cell_type": "code",
   "execution_count": 5,
   "metadata": {},
   "outputs": [],
   "source": [
    "dirname = 'precomputed_Cl/quadruple_source_ClY1'\n",
    "\n",
    "def compute(params, dir_to_save, compute_lens_cross=False):\n",
    "    t0 = time.time()\n",
    "    ombh2, omch2, Ode, sigma8, ns, b11, b12, b13, a1, a2, a3, dzph1, dzph2, dzph3, dzph4, dm1,dm2, dm3, dm4 = params\n",
    "    g_l1 = hsc3x2pt.galaxy_sample_lens_class(['lowz'  , 0.15, 0.30, b11, '40.36e-4 arcmin^-2', a1])\n",
    "    g_l2 = hsc3x2pt.galaxy_sample_lens_class(['cmass1', 0.47, 0.55, b12, '20.06e-4 arcmin^-2', a2])\n",
    "    g_l3 = hsc3x2pt.galaxy_sample_lens_class(['cmass2', 0.55, 0.70, b13, '30.12e-4 arcmin^-2', a3])\n",
    "    g_s1 = hsc3x2pt.galaxy_sample_source_class(['s1', 'sourcePzs_Y1/MLZs1.txt', dzph1, dm1, 0.4, '5.5 arcmin^-2'])\n",
    "    g_s2 = hsc3x2pt.galaxy_sample_source_class(['s2', 'sourcePzs_Y1/MLZs2.txt', dzph2, dm2, 0.4, '5.5 arcmin^-2'])\n",
    "    g_s3 = hsc3x2pt.galaxy_sample_source_class(['s3', 'sourcePzs_Y1/MLZs3.txt', dzph3, dm3, 0.4, '4.2 arcmin^-2'])\n",
    "    g_s4 = hsc3x2pt.galaxy_sample_source_class(['s4', 'sourcePzs_Y1/MLZs4.txt', dzph4, dm4, 0.4, '2.4 arcmin^-2'])\n",
    "    pk2cl = hsc3x2pt.pk2cl_class(power_b1)\n",
    "    pk2cl.set_galaxy_sample(g_l1)\n",
    "    pk2cl.set_galaxy_sample(g_l2)\n",
    "    pk2cl.set_galaxy_sample(g_l3)\n",
    "    pk2cl.set_galaxy_sample(g_s1)\n",
    "    pk2cl.set_galaxy_sample(g_s2)\n",
    "    pk2cl.set_galaxy_sample(g_s3)\n",
    "    pk2cl.set_galaxy_sample(g_s4)\n",
    "    # set cosmo\n",
    "    cosmo_dict = dict(zip(['omega_b', 'omega_c', 'Omega_de', 'ln10p10As', 'n_s', 'w_de'], [ombh2, omch2, Ode, 3.094, ns, -1]))\n",
    "    pk2cl.set_cosmology_from_dict(cosmo_dict)\n",
    "    sigma8_temp = pk2cl.pk_class.get_sigma8()\n",
    "    ln10p10As = 3.094 + 2*np.log(sigma8/sigma8_temp)\n",
    "    print(f'ln10p10As={ln10p10As}')\n",
    "    cosmo_dict = dict(zip(['omega_b', 'omega_c', 'Omega_de', 'ln10p10As', 'n_s', 'w_de'], [ombh2, omch2, Ode, ln10p10As, ns, -1]))\n",
    "    pk2cl.set_cosmology_from_dict(cosmo_dict)\n",
    "    \n",
    "    pk2cl.init_pk()\n",
    "    pk2cl.set_Omega_s({'w':8300, 'gamma_t':Omega_s_HSC, 'xi':Omega_s_HSC}) # HSCY1\n",
    "\n",
    "    l = np.logspace(-2, 5, 1000)\n",
    "    with hsc3x2pt.Time():\n",
    "        pk2cl.compute_all_Cl(l, compute_lens_cross=compute_lens_cross)\n",
    "    pk2cl.dump_Cl_cache(f'{dirname}/{dir_to_save}', overwrite=True, silent=True)\n",
    "    t1 = time.time()\n",
    "    print(f'{t1-t0} sec')"
   ]
  },
  {
   "cell_type": "code",
   "execution_count": 6,
   "metadata": {},
   "outputs": [],
   "source": [
    "dp = 0.01\n",
    "file_param = od()\n",
    "\n",
    "def save_dparam(dparam, dir_to_save):\n",
    "    fname = os.path.join(dirname, 'file_param.json')\n",
    "    if os.path.exists(fname):\n",
    "        file_param = json.load(open(fname, 'r'), object_pairs_hook=od) \n",
    "    else:\n",
    "        file_param = od()\n",
    "    file_param[dir_to_save] = dparam\n",
    "    json.dump(file_param, open(fname, 'w'), indent=2)"
   ]
  },
  {
   "cell_type": "code",
   "execution_count": 7,
   "metadata": {},
   "outputs": [
    {
     "name": "stdout",
     "output_type": "stream",
     "text": [
      "ln10p10As=3.097214912859019\n",
      ":46.73165416717529 sec\n",
      "47.30442547798157 sec\n"
     ]
    }
   ],
   "source": [
    "param_fiducial = [0.02225, 0.1198, 0.6844, 0.831, 0.9645, 1.78, 2.10, 2.28, 2.259, 3.563, 3.729, 0.0, 0.0, 0.0, 0.0, 0.0, 0.0, 0.0, 0.0]\n",
    "compute(param_fiducial, 'fiducial', compute_lens_cross=True)"
   ]
  },
  {
   "cell_type": "code",
   "execution_count": 8,
   "metadata": {},
   "outputs": [
    {
     "name": "stdout",
     "output_type": "stream",
     "text": [
      "ln10p10As=3.1004231384103087\n",
      ":39.357056856155396 sec\n",
      "39.84320068359375 sec\n"
     ]
    }
   ],
   "source": [
    "param = [0.02225*(1+dp), 0.1198, 0.6844, 0.831, 0.9645, 1.78, 2.10, 2.28, 2.259, 3.563, 3.729, 0.0, 0.0, 0.0, 0.0, 0.0, 0.0, 0.0, 0.0]\n",
    "compute(param, 'omega_b')\n",
    "save_dparam(0.02225*dp, 'omega_b')"
   ]
  },
  {
   "cell_type": "code",
   "execution_count": 9,
   "metadata": {},
   "outputs": [
    {
     "name": "stdout",
     "output_type": "stream",
     "text": [
      "ln10p10As=3.082647998157684\n",
      ":37.38372278213501 sec\n",
      "37.874561071395874 sec\n"
     ]
    }
   ],
   "source": [
    "param = [0.02225, 0.1198*(1+dp), 0.6844, 0.831, 0.9645, 1.78, 2.10, 2.28, 2.259, 3.563, 3.729, 0.0, 0.0, 0.0, 0.0,0.0, 0.0, 0.0, 0.0]\n",
    "compute(param, 'omega_c')\n",
    "save_dparam(0.1198*dp, 'omega_c')"
   ]
  },
  {
   "cell_type": "code",
   "execution_count": 10,
   "metadata": {},
   "outputs": [
    {
     "name": "stdout",
     "output_type": "stream",
     "text": [
      "ln10p10As=3.092198150550478\n",
      ":37.37420034408569 sec\n",
      "37.86842322349548 sec\n"
     ]
    }
   ],
   "source": [
    "param = [0.02225, 0.1198, 0.6844*(1+dp), 0.831, 0.9645, 1.78, 2.10, 2.28, 2.259, 3.563, 3.729, 0.0, 0.0, 0.0, 0.0, 0.0, 0.0, 0.0, 0.0]\n",
    "compute(param, 'Omega_de')\n",
    "save_dparam(0.6844*dp, 'Omega_de')"
   ]
  },
  {
   "cell_type": "code",
   "execution_count": 11,
   "metadata": {},
   "outputs": [
    {
     "name": "stdout",
     "output_type": "stream",
     "text": [
      "ln10p10As=3.117115574565356\n",
      ":39.48728156089783 sec\n",
      "39.992132902145386 sec\n"
     ]
    }
   ],
   "source": [
    "param = [0.02225, 0.1198, 0.6844, 0.831*(1.0+dp), 0.9645, 1.78, 2.10, 2.28, 2.259, 3.563, 3.729, 0.0, 0.0, 0.0, 0.0, 0.0, 0.0, 0.0, 0.0]\n",
    "compute(param, 'sigma8')\n",
    "save_dparam(0.831*dp, 'sigma8')"
   ]
  },
  {
   "cell_type": "code",
   "execution_count": 12,
   "metadata": {},
   "outputs": [
    {
     "name": "stdout",
     "output_type": "stream",
     "text": [
      "ln10p10As=3.0899386610164075\n",
      ":38.088449239730835 sec\n",
      "38.59465837478638 sec\n"
     ]
    }
   ],
   "source": [
    "param = [0.02225, 0.1198, 0.6844, 0.831, 0.9645*(1.0+dp), 1.78, 2.10, 2.28, 2.259, 3.563, 3.729, 0.0, 0.0, 0.0, 0.0, 0.0, 0.0, 0.0, 0.0]\n",
    "compute(param, 'ns')\n",
    "save_dparam(0.9645*dp, 'ns')"
   ]
  },
  {
   "cell_type": "code",
   "execution_count": 13,
   "metadata": {},
   "outputs": [
    {
     "name": "stdout",
     "output_type": "stream",
     "text": [
      "ln10p10As=3.097214912859019\n",
      ":39.235968351364136 sec\n",
      "39.801687717437744 sec\n"
     ]
    }
   ],
   "source": [
    "param = [0.02225, 0.1198, 0.6844, 0.831, 0.9645, 1.78*(1.0+dp), 2.10, 2.28, 2.259, 3.563, 3.729, 0.0, 0.0, 0.0, 0.0, 0.0, 0.0, 0.0, 0.0]\n",
    "compute(param, 'b1lowz')\n",
    "save_dparam(1.78*dp, 'b1lowz')"
   ]
  },
  {
   "cell_type": "code",
   "execution_count": 14,
   "metadata": {},
   "outputs": [
    {
     "name": "stdout",
     "output_type": "stream",
     "text": [
      "ln10p10As=3.097214912859019\n",
      ":37.36944270133972 sec\n",
      "37.873589754104614 sec\n"
     ]
    }
   ],
   "source": [
    "param = [0.02225, 0.1198, 0.6844, 0.831, 0.9645, 1.78, 2.10*(1.0+dp), 2.28, 2.259, 3.563, 3.729, 0.0, 0.0, 0.0, 0.0, 0.0, 0.0, 0.0, 0.0]\n",
    "compute(param, 'b1cmass1')\n",
    "save_dparam(2.10*dp, 'b1cmass1')"
   ]
  },
  {
   "cell_type": "code",
   "execution_count": 15,
   "metadata": {},
   "outputs": [
    {
     "name": "stdout",
     "output_type": "stream",
     "text": [
      "ln10p10As=3.097214912859019\n",
      ":37.48956036567688 sec\n",
      "37.97834658622742 sec\n"
     ]
    }
   ],
   "source": [
    "param = [0.02225, 0.1198, 0.6844, 0.831, 0.9645, 1.78, 2.10, 2.28*(1.0+dp), 2.259, 3.563, 3.729, 0.0, 0.0, 0.0, 0.0, 0.0, 0.0, 0.0, 0.0]\n",
    "compute(param, 'b1cmass2')\n",
    "save_dparam(2.28*dp, 'b1cmass2')"
   ]
  },
  {
   "cell_type": "code",
   "execution_count": 16,
   "metadata": {},
   "outputs": [
    {
     "name": "stdout",
     "output_type": "stream",
     "text": [
      "ln10p10As=3.097214912859019\n",
      ":40.34187841415405 sec\n",
      "40.855334758758545 sec\n"
     ]
    }
   ],
   "source": [
    "param = [0.02225, 0.1198, 0.6844, 0.831, 0.9645, 1.78, 2.10, 2.28, 2.259*(1.0+dp), 3.563, 3.729, 0.0, 0.0, 0.0, 0.0, 0.0, 0.0, 0.0, 0.0]\n",
    "compute(param, 'alphamaglowz')\n",
    "save_dparam(2.259*dp, 'alphamaglowz')"
   ]
  },
  {
   "cell_type": "code",
   "execution_count": 17,
   "metadata": {},
   "outputs": [
    {
     "name": "stdout",
     "output_type": "stream",
     "text": [
      "ln10p10As=3.097214912859019\n",
      ":40.24890756607056 sec\n",
      "40.75344252586365 sec\n"
     ]
    }
   ],
   "source": [
    "param = [0.02225, 0.1198, 0.6844, 0.831, 0.9645, 1.78, 2.10, 2.28, 2.259, 3.563*(1.0+dp), 3.729, 0.0, 0.0, 0.0, 0.0, 0.0, 0.0, 0.0, 0.0]\n",
    "compute(param, 'alphamagcmass1')\n",
    "save_dparam(3.563*dp, 'alphamagcmass1')"
   ]
  },
  {
   "cell_type": "code",
   "execution_count": 18,
   "metadata": {},
   "outputs": [
    {
     "name": "stdout",
     "output_type": "stream",
     "text": [
      "ln10p10As=3.097214912859019\n",
      ":38.21232485771179 sec\n",
      "38.70346188545227 sec\n"
     ]
    }
   ],
   "source": [
    "param = [0.02225, 0.1198, 0.6844, 0.831, 0.9645, 1.78, 2.10, 2.28, 2.259, 3.563, 3.729*(1.0+dp), 0.0, 0.0, 0.0, 0.0, 0.0, 0.0, 0.0, 0.0]\n",
    "compute(param, 'alphamagcmass2')\n",
    "save_dparam(3.729*dp, 'alphamagcmass2')"
   ]
  },
  {
   "cell_type": "code",
   "execution_count": 19,
   "metadata": {},
   "outputs": [
    {
     "name": "stdout",
     "output_type": "stream",
     "text": [
      "ln10p10As=3.097214912859019\n",
      ":40.2496395111084 sec\n",
      "40.76218056678772 sec\n"
     ]
    }
   ],
   "source": [
    "param = [0.02225, 0.1198, 0.6844, 0.831, 0.9645, 1.78, 2.10, 2.28, 2.259, 3.563, 3.729, dp, 0.0, 0.0, 0.0, 0.0, 0.0, 0.0, 0.0]\n",
    "compute(param, 'dzph1')\n",
    "save_dparam(dp, 'dzph1')"
   ]
  },
  {
   "cell_type": "code",
   "execution_count": 20,
   "metadata": {},
   "outputs": [
    {
     "name": "stdout",
     "output_type": "stream",
     "text": [
      "ln10p10As=3.097214912859019\n",
      ":40.229361057281494 sec\n",
      "40.74851369857788 sec\n"
     ]
    }
   ],
   "source": [
    "param = [0.02225, 0.1198, 0.6844, 0.831, 0.9645, 1.78, 2.10, 2.28, 2.259, 3.563, 3.729, 0.0, dp, 0.0, 0.0, 0.0, 0.0, 0.0, 0.0]\n",
    "compute(param, 'dzph2')\n",
    "save_dparam(dp, 'dzph2')"
   ]
  },
  {
   "cell_type": "code",
   "execution_count": 21,
   "metadata": {},
   "outputs": [
    {
     "name": "stdout",
     "output_type": "stream",
     "text": [
      "ln10p10As=3.097214912859019\n",
      ":40.19100284576416 sec\n",
      "40.696914196014404 sec\n"
     ]
    }
   ],
   "source": [
    "param = [0.02225, 0.1198, 0.6844, 0.831, 0.9645, 1.78, 2.10, 2.28, 2.259, 3.563, 3.729, 0.0, 0.0, dp, 0.0, 0.0, 0.0, 0.0, 0.0]\n",
    "compute(param, 'dzph3')\n",
    "save_dparam(dp, 'dzph3')"
   ]
  },
  {
   "cell_type": "code",
   "execution_count": 22,
   "metadata": {},
   "outputs": [
    {
     "name": "stdout",
     "output_type": "stream",
     "text": [
      "ln10p10As=3.097214912859019\n",
      ":40.22932052612305 sec\n",
      "40.760886907577515 sec\n"
     ]
    }
   ],
   "source": [
    "param = [0.02225, 0.1198, 0.6844, 0.831, 0.9645, 1.78, 2.10, 2.28, 2.259, 3.563, 3.729, 0.0, 0.0, 0.0, dp, 0.0, 0.0, 0.0, 0.0]\n",
    "compute(param, 'dzph4')\n",
    "save_dparam(dp, 'dzph4')"
   ]
  },
  {
   "cell_type": "code",
   "execution_count": 23,
   "metadata": {},
   "outputs": [
    {
     "name": "stdout",
     "output_type": "stream",
     "text": [
      "ln10p10As=3.097214912859019\n",
      ":40.32244324684143 sec\n",
      "40.84111499786377 sec\n"
     ]
    }
   ],
   "source": [
    "param = [0.02225, 0.1198, 0.6844, 0.831, 0.9645, 1.78, 2.10, 2.28, 2.259, 3.563, 3.729, 0.0, 0.0, 0.0, 0.0, dp, 0.0, 0.0, 0.0]\n",
    "compute(param, 'dm1')\n",
    "save_dparam(dp, 'dm1')"
   ]
  },
  {
   "cell_type": "code",
   "execution_count": 24,
   "metadata": {},
   "outputs": [
    {
     "name": "stdout",
     "output_type": "stream",
     "text": [
      "ln10p10As=3.097214912859019\n",
      ":40.2649462223053 sec\n",
      "40.77750587463379 sec\n"
     ]
    }
   ],
   "source": [
    "param = [0.02225, 0.1198, 0.6844, 0.831, 0.9645, 1.78, 2.10, 2.28, 2.259, 3.563, 3.729, 0.0, 0.0, 0.0, 0.0, 0.0, dp, 0.0, 0.0]\n",
    "compute(param, 'dm2')\n",
    "save_dparam(dp, 'dm2')"
   ]
  },
  {
   "cell_type": "code",
   "execution_count": 25,
   "metadata": {},
   "outputs": [
    {
     "name": "stdout",
     "output_type": "stream",
     "text": [
      "ln10p10As=3.097214912859019\n",
      ":40.39406728744507 sec\n",
      "40.923179626464844 sec\n"
     ]
    }
   ],
   "source": [
    "param = [0.02225, 0.1198, 0.6844, 0.831, 0.9645, 1.78, 2.10, 2.28, 2.259, 3.563, 3.729, 0.0, 0.0, 0.0, 0.0, 0.0, 0.0, dp, 0.0]\n",
    "compute(param, 'dm3')\n",
    "save_dparam(dp, 'dm3')"
   ]
  },
  {
   "cell_type": "code",
   "execution_count": 26,
   "metadata": {},
   "outputs": [
    {
     "name": "stdout",
     "output_type": "stream",
     "text": [
      "ln10p10As=3.097214912859019\n",
      ":40.160040855407715 sec\n",
      "40.67052435874939 sec\n"
     ]
    }
   ],
   "source": [
    "param = [0.02225, 0.1198, 0.6844, 0.831, 0.9645, 1.78, 2.10, 2.28, 2.259, 3.563, 3.729, 0.0, 0.0, 0.0, 0.0, 0.0, 0.0, 0.0, dp]\n",
    "compute(param, 'dm4')\n",
    "save_dparam(dp, 'dm4')"
   ]
  },
  {
   "cell_type": "code",
   "execution_count": 27,
   "metadata": {},
   "outputs": [],
   "source": [
    "np.savetxt(os.path.join(dirname, 'param_fiducial.txt'), np.array(param_fiducial))"
   ]
  },
  {
   "cell_type": "markdown",
   "metadata": {},
   "source": [
    "## Prepare for Fisher analysis"
   ]
  },
  {
   "cell_type": "code",
   "execution_count": 6,
   "metadata": {},
   "outputs": [
    {
     "name": "stdout",
     "output_type": "stream",
     "text": [
      "cov.shape = (90, 90), dim(data)=(90,)\n",
      "cov.shape = (170, 170), dim(data)=(170,)\n",
      "skip b1lowz because this is lens galaxy param, while probes does not include any lens related probe.\n",
      "skip b1cmass1 because this is lens galaxy param, while probes does not include any lens related probe.\n",
      "skip b1cmass2 because this is lens galaxy param, while probes does not include any lens related probe.\n",
      "skip alphamaglowz because this is lens galaxy param, while probes does not include any lens related probe.\n",
      "skip alphamagcmass1 because this is lens galaxy param, while probes does not include any lens related probe.\n",
      "skip alphamagcmass2 because this is lens galaxy param, while probes does not include any lens related probe.\n",
      "cov.shape = (260, 260), dim(data)=(260,)\n"
     ]
    }
   ],
   "source": [
    "probe_names_dict_to_skip={'gamma_t':[['lowz', 's1'], ['lowz', 's2'],\n",
    "                                     ['cmass1', 's1'], ['cmass1', 's2'], \n",
    "                                     ['cmass2', 's1'], ['cmass2', 's2']]}\n",
    "\n",
    "fisher2x2pt = hsc3x2pt.getFisher(dirname, power_b1, probes=['w', 'gamma_t'], \n",
    "                                 label='2x2pt (Y1, 4bin)', probe_names_dict_to_skip=probe_names_dict_to_skip)\n",
    "fisher1x2pt = hsc3x2pt.getFisher(dirname, power_b1, probes=['xi+','xi-'], \n",
    "                                 label='Cosmic Shear (Y1, 4bin)')\n",
    "fisher3x2pt = hsc3x2pt.getFisher(dirname, power_b1,\n",
    "                                 label='3x2pt (Y1, 4bin)', probe_names_dict_to_skip=probe_names_dict_to_skip)"
   ]
  },
  {
   "cell_type": "code",
   "execution_count": 7,
   "metadata": {},
   "outputs": [
    {
     "data": {
      "text/plain": [
       "['FisherMats/quadruple_source_ClY1/fisher3x2pt.cmp']"
      ]
     },
     "execution_count": 7,
     "metadata": {},
     "output_type": "execute_result"
    }
   ],
   "source": [
    "import joblib\n",
    "dirname_fisher = os.path.join('FisherMats/', os.path.basename(dirname))\n",
    "if not os.path.exists(dirname_fisher):\n",
    "    os.mkdir(dirname_fisher)\n",
    "joblib.dump(fisher1x2pt, os.path.join(dirname_fisher, 'fisher1x2pt.cmp'), compress=True)\n",
    "joblib.dump(fisher2x2pt, os.path.join(dirname_fisher, 'fisher2x2pt.cmp'), compress=True)\n",
    "joblib.dump(fisher3x2pt, os.path.join(dirname_fisher, 'fisher3x2pt.cmp'), compress=True)"
   ]
  },
  {
   "cell_type": "code",
   "execution_count": null,
   "metadata": {},
   "outputs": [],
   "source": []
  },
  {
   "cell_type": "code",
   "execution_count": null,
   "metadata": {},
   "outputs": [],
   "source": []
  }
 ],
 "metadata": {
  "kernelspec": {
   "display_name": "Python 3",
   "language": "python",
   "name": "python3"
  },
  "language_info": {
   "codemirror_mode": {
    "name": "ipython",
    "version": 3
   },
   "file_extension": ".py",
   "mimetype": "text/x-python",
   "name": "python",
   "nbconvert_exporter": "python",
   "pygments_lexer": "ipython3",
   "version": "3.8.5"
  }
 },
 "nbformat": 4,
 "nbformat_minor": 4
}
