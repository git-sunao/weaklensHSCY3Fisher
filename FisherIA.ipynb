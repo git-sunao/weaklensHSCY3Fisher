{
 "cells": [
  {
   "cell_type": "code",
   "execution_count": 1,
   "metadata": {},
   "outputs": [
    {
     "name": "stdout",
     "output_type": "stream",
     "text": [
      "Populating the interactive namespace from numpy and matplotlib\n"
     ]
    }
   ],
   "source": [
    "%load_ext autoreload\n",
    "%autoreload 2\n",
    "%pylab inline"
   ]
  },
  {
   "cell_type": "code",
   "execution_count": 2,
   "metadata": {},
   "outputs": [
    {
     "name": "stdout",
     "output_type": "stream",
     "text": [
      "using dark_emulator at  /Users/sunao-mac/Documents/python_package/dark_emulator_public/dark_emulator/__init__.py\n"
     ]
    }
   ],
   "source": [
    "import numpy as np\n",
    "from dark_emulator_public import dark_emulator\n",
    "import os, sys, time, json, copy\n",
    "import matplotlib.pyplot as plt\n",
    "from collections import OrderedDict as od\n",
    "from scipy.interpolate import InterpolatedUnivariateSpline as ius\n",
    "from scipy.interpolate import interp2d, interp1d\n",
    "from scipy.integrate import simps\n",
    "from tqdm import tqdm\n",
    "import hsc3x2pt"
   ]
  },
  {
   "cell_type": "code",
   "execution_count": 3,
   "metadata": {},
   "outputs": [
    {
     "name": "stdout",
     "output_type": "stream",
     "text": [
      "initialize cosmo_class\n",
      "Initialize pklin emulator\n",
      "initialize propagator emulator\n",
      "Initialize sigma_d emulator\n",
      "initialize cross-correlation emulator\n",
      "initialize auto-correlation emulator\n",
      "Initialize sigmaM emulator\n",
      "initialize xinl emulator\n"
     ]
    }
   ],
   "source": [
    "power_b1 = hsc3x2pt.power_b1_class()"
   ]
  },
  {
   "cell_type": "code",
   "execution_count": 4,
   "metadata": {},
   "outputs": [],
   "source": [
    "fishers_dict = od()"
   ]
  },
  {
   "cell_type": "markdown",
   "metadata": {},
   "source": [
    "## Instantiate Fisher classes"
   ]
  },
  {
   "cell_type": "markdown",
   "metadata": {},
   "source": [
    "## with IA"
   ]
  },
  {
   "cell_type": "markdown",
   "metadata": {},
   "source": [
    "### Year **3** single source bin"
   ]
  },
  {
   "cell_type": "code",
   "execution_count": 5,
   "metadata": {},
   "outputs": [
    {
     "name": "stdout",
     "output_type": "stream",
     "text": [
      "cov.shape = (66, 66), dim(data)=(66,)\n",
      "cov.shape = (17, 17), dim(data)=(17,)\n",
      "skip b1lowz because this is lens galaxy param, while probes does not include any lens related probe.\n",
      "skip b1cmass1 because this is lens galaxy param, while probes does not include any lens related probe.\n",
      "skip b1cmass2 because this is lens galaxy param, while probes does not include any lens related probe.\n",
      "skip alphamaglowz because this is lens galaxy param, while probes does not include any lens related probe.\n",
      "skip alphamagcmass1 because this is lens galaxy param, while probes does not include any lens related probe.\n",
      "skip alphamagcmass2 because this is lens galaxy param, while probes does not include any lens related probe.\n",
      "cov.shape = (83, 83), dim(data)=(83,)\n"
     ]
    }
   ],
   "source": [
    "dirname = './precomputed_Cl/single_source_ClY3IA'\n",
    "fisher2x2pt = hsc3x2pt.getFisher(dirname, power_b1, probes=['w', 'gamma_t'], \n",
    "                                 label='2x2pt IA (Y3, 1bin)')\n",
    "fisher1x2pt = hsc3x2pt.getFisher(dirname, power_b1, probes=['xi+','xi-'], \n",
    "                                 label='Cosmic Shear IA (Y3, 1bin)')\n",
    "fisher3x2pt = hsc3x2pt.getFisher(dirname, power_b1,\n",
    "                                 label='3x2pt IA (Y3, 1bin)')\n",
    "\n",
    "fisher2x2ptPrior = fisher2x2pt.addPrior([0.00038, 0.0042, 0.5, 0.5, 0.5, 0.1, 0.01, 100], # to avoid singular Fisher matrix of 2x2pt at A_IA param.\n",
    "                                        ['omega_b', 'ns', \n",
    "                                         'alphamaglowz','alphamagcmass1','alphamagcmass2',\n",
    "                                         'dzph','dm', 'A_IA'], label='Prior')\n",
    "\n",
    "fisher1x2ptPrior = fisher1x2pt.addPrior([0.00038, 0.0042, 0.1, 0.01], \n",
    "                                        ['omega_b', 'ns', \n",
    "                                         'dzph','dm'], label='Prior')\n",
    "\n",
    "fisher3x2ptPrior = fisher3x2pt.addPrior([0.00038, 0.0042, 0.5, 0.5, 0.5, 0.1, 0.01], \n",
    "                                        ['omega_b', 'ns', \n",
    "                                         'alphamaglowz','alphamagcmass1','alphamagcmass2',\n",
    "                                         'dzph','dm'], label='Prior')\n",
    "\n",
    "fishers_dict['Y3IAsingle2x2pt'] = fisher2x2pt\n",
    "fishers_dict['Y3IAsingle1x2pt'] = fisher1x2pt\n",
    "fishers_dict['Y3IAsingle3x2pt'] = fisher3x2pt\n",
    "fishers_dict['Y3IAsingle2x2ptPrior'] = fisher2x2ptPrior\n",
    "fishers_dict['Y3IAsingle1x2ptPrior'] = fisher1x2ptPrior\n",
    "fishers_dict['Y3IAsingle3x2ptPrior'] = fisher3x2ptPrior"
   ]
  },
  {
   "cell_type": "markdown",
   "metadata": {},
   "source": [
    "### year 3 double source bins"
   ]
  },
  {
   "cell_type": "code",
   "execution_count": 7,
   "metadata": {},
   "outputs": [
    {
     "name": "stdout",
     "output_type": "stream",
     "text": [
      "cov.shape = (90, 90), dim(data)=(90,)\n",
      "cov.shape = (51, 51), dim(data)=(51,)\n",
      "skip b1lowz because this is lens galaxy param, while probes does not include any lens related probe.\n",
      "skip b1cmass1 because this is lens galaxy param, while probes does not include any lens related probe.\n",
      "skip b1cmass2 because this is lens galaxy param, while probes does not include any lens related probe.\n",
      "skip alphamaglowz because this is lens galaxy param, while probes does not include any lens related probe.\n",
      "skip alphamagcmass1 because this is lens galaxy param, while probes does not include any lens related probe.\n",
      "skip alphamagcmass2 because this is lens galaxy param, while probes does not include any lens related probe.\n",
      "cov.shape = (141, 141), dim(data)=(141,)\n"
     ]
    }
   ],
   "source": [
    "dirname = './precomputed_Cl/double_source_ClY3IA'\n",
    "fisher2x2pt = hsc3x2pt.getFisher(dirname, power_b1, probes=['w', 'gamma_t'], \n",
    "                                 label='2x2pt IA (Y3, 2bin)')\n",
    "fisher1x2pt = hsc3x2pt.getFisher(dirname, power_b1, probes=['xi+','xi-'], \n",
    "                                 label='Cosmic Shear IA (Y3, 2bin)')\n",
    "fisher3x2pt = hsc3x2pt.getFisher(dirname, power_b1,\n",
    "                                 label='3x2pt IA (Y3, 2bin)')\n",
    "\n",
    "fisher2x2ptPrior = fisher2x2pt.addPrior([0.00038, 0.0042, 0.5, 0.5, 0.5, 0.1, 0.1, 0.01, 0.01, 100], # to avoid singular Fisher matrix of 2x2p\n",
    "                                        ['omega_b', 'ns', \n",
    "                                         'alphamaglowz','alphamagcmass1','alphamagcmass2',\n",
    "                                         'dzph1','dzph2','dm1','dm2', 'A_IA'], label='Prior')\n",
    "\n",
    "fisher1x2ptPrior = fisher1x2pt.addPrior([0.00038, 0.0042, 0.1, 0.1, 0.01, 0.01], \n",
    "                                        ['omega_b', 'ns', \n",
    "                                         'dzph1','dzph2','dm1','dm2'], label='Prior')\n",
    "\n",
    "fisher3x2ptPrior = fisher3x2pt.addPrior([0.00038, 0.0042, 0.5, 0.5, 0.5, 0.1, 0.1, 0.01, 0.01], \n",
    "                                        ['omega_b', 'ns', \n",
    "                                         'alphamaglowz','alphamagcmass1','alphamagcmass2',\n",
    "                                         'dzph1','dzph2','dm1','dm2'], label='Prior')\n",
    "\n",
    "fishers_dict['Y3IAdouble2x2pt'] = fisher2x2pt\n",
    "fishers_dict['Y3IAdouble1x2pt'] = fisher1x2pt\n",
    "fishers_dict['Y3IAdouble3x2pt'] = fisher3x2pt\n",
    "fishers_dict['Y3IAdouble2x2ptPrior'] = fisher2x2ptPrior\n",
    "fishers_dict['Y3IAdouble1x2ptPrior'] = fisher1x2ptPrior\n",
    "fishers_dict['Y3IAdouble3x2ptPrior'] = fisher3x2ptPrior"
   ]
  },
  {
   "cell_type": "markdown",
   "metadata": {},
   "source": [
    "### Year 3 quadruple source bins"
   ]
  },
  {
   "cell_type": "code",
   "execution_count": 8,
   "metadata": {},
   "outputs": [
    {
     "name": "stdout",
     "output_type": "stream",
     "text": [
      "cov.shape = (90, 90), dim(data)=(90,)\n",
      "cov.shape = (170, 170), dim(data)=(170,)\n",
      "skip b1lowz because this is lens galaxy param, while probes does not include any lens related probe.\n",
      "skip b1cmass1 because this is lens galaxy param, while probes does not include any lens related probe.\n",
      "skip b1cmass2 because this is lens galaxy param, while probes does not include any lens related probe.\n",
      "skip alphamaglowz because this is lens galaxy param, while probes does not include any lens related probe.\n",
      "skip alphamagcmass1 because this is lens galaxy param, while probes does not include any lens related probe.\n",
      "skip alphamagcmass2 because this is lens galaxy param, while probes does not include any lens related probe.\n",
      "cov.shape = (260, 260), dim(data)=(260,)\n",
      "CPU times: user 1min 47s, sys: 10.8 s, total: 1min 58s\n",
      "Wall time: 1min 29s\n"
     ]
    }
   ],
   "source": [
    "%%time\n",
    "# to avoid overlap of lens galaxy and source galaxy in 1,2 bins.\n",
    "probe_names_dict_to_skip={'gamma_t':[['lowz', 's1'], ['lowz', 's2'],\n",
    "                                     ['cmass1', 's1'], ['cmass1', 's2'], \n",
    "                                     ['cmass2', 's1'], ['cmass2', 's2']]}\n",
    "\n",
    "dirname = './precomputed_Cl/quadruple_source_ClY3IA'\n",
    "\n",
    "fisher2x2pt = hsc3x2pt.getFisher(dirname, power_b1, probes=['w', 'gamma_t'], \n",
    "                                 label='2x2pt IA (Y3, 4bin)', probe_names_dict_to_skip=probe_names_dict_to_skip)\n",
    "fisher1x2pt = hsc3x2pt.getFisher(dirname, power_b1, probes=['xi+','xi-'], \n",
    "                                 label='Cosmic Shear IA (Y3, 4bin)')\n",
    "fisher3x2pt = hsc3x2pt.getFisher(dirname, power_b1,\n",
    "                                 label='3x2pt IA (Y3, 4bin)', probe_names_dict_to_skip=probe_names_dict_to_skip)\n",
    "\n",
    "fisher2x2ptPrior = fisher2x2pt.addPrior([0.00038, 0.0042, 0.5, 0.5, 0.5, 0.1, 0.1, 0.1, 0.1, 0.01, 0.01, 0.01, 0.01, 100], # to avoid singular Fisher matrix of 2x2p\n",
    "                                        ['omega_b', 'ns', \n",
    "                                         'alphamaglowz','alphamagcmass1','alphamagcmass2',\n",
    "                                         'dzph1','dzph2','dzph3','dzph4','dm1','dm2','dm3','dm4', 'A_IA'], label='Prior')\n",
    "\n",
    "fisher1x2ptPrior = fisher1x2pt.addPrior([0.00038, 0.0042, 0.1, 0.1, 0.1, 0.1, 0.01, 0.01, 0.01, 0.01], \n",
    "                                        ['omega_b', 'ns', \n",
    "                                         'dzph1','dzph2','dzph3','dzph4','dm1','dm2','dm3','dm4'], label='Prior')\n",
    "\n",
    "fisher3x2ptPrior = fisher3x2pt.addPrior([0.00038, 0.0042, 0.5, 0.5, 0.5, 0.1, 0.1, 0.1, 0.1, 0.01, 0.01, 0.01, 0.01], \n",
    "                                        ['omega_b', 'ns', \n",
    "                                         'alphamaglowz','alphamagcmass1','alphamagcmass2',\n",
    "                                         'dzph1','dzph2','dzph3','dzph4','dm1','dm2','dm3','dm4'], label='Prior')\n",
    "\n",
    "fishers_dict['Y3IAquadruple2x2pt'] = fisher2x2pt\n",
    "fishers_dict['Y3IAquadruple1x2pt'] = fisher1x2pt\n",
    "fishers_dict['Y3IAquadruple3x2pt'] = fisher3x2pt\n",
    "fishers_dict['Y3IAquadruple2x2ptPrior'] = fisher2x2ptPrior\n",
    "fishers_dict['Y3IAquadruple1x2ptPrior'] = fisher1x2ptPrior\n",
    "fishers_dict['Y3IAquadruple3x2ptPrior'] = fisher3x2ptPrior"
   ]
  },
  {
   "cell_type": "markdown",
   "metadata": {},
   "source": [
    "## without IA"
   ]
  },
  {
   "cell_type": "markdown",
   "metadata": {},
   "source": [
    "### Year **3** single source bin"
   ]
  },
  {
   "cell_type": "code",
   "execution_count": 9,
   "metadata": {},
   "outputs": [
    {
     "name": "stdout",
     "output_type": "stream",
     "text": [
      "cov.shape = (66, 66), dim(data)=(66,)\n",
      "cov.shape = (17, 17), dim(data)=(17,)\n",
      "skip b1lowz because this is lens galaxy param, while probes does not include any lens related probe.\n",
      "skip b1cmass1 because this is lens galaxy param, while probes does not include any lens related probe.\n",
      "skip b1cmass2 because this is lens galaxy param, while probes does not include any lens related probe.\n",
      "skip alphamaglowz because this is lens galaxy param, while probes does not include any lens related probe.\n",
      "skip alphamagcmass1 because this is lens galaxy param, while probes does not include any lens related probe.\n",
      "skip alphamagcmass2 because this is lens galaxy param, while probes does not include any lens related probe.\n",
      "cov.shape = (83, 83), dim(data)=(83,)\n"
     ]
    }
   ],
   "source": [
    "dirname = './precomputed_Cl/single_source_ClY3'\n",
    "fisher2x2pt = hsc3x2pt.getFisher(dirname, power_b1, probes=['w', 'gamma_t'], \n",
    "                                 label='2x2pt (Y3, 1bin)')\n",
    "fisher1x2pt = hsc3x2pt.getFisher(dirname, power_b1, probes=['xi+','xi-'], \n",
    "                                 label='Cosmic Shear (Y3, 1bin)')\n",
    "fisher3x2pt = hsc3x2pt.getFisher(dirname, power_b1,\n",
    "                                 label='3x2pt (Y3, 1bin)')\n",
    "\n",
    "fisher2x2ptPrior = fisher2x2pt.addPrior([0.00038, 0.0042, 0.5, 0.5, 0.5, 0.1, 0.01],\n",
    "                                        ['omega_b', 'ns', \n",
    "                                         'alphamaglowz','alphamagcmass1','alphamagcmass2',\n",
    "                                         'dzph','dm'], label='Prior')\n",
    "\n",
    "fisher1x2ptPrior = fisher1x2pt.addPrior([0.00038, 0.0042, 0.1, 0.01], \n",
    "                                        ['omega_b', 'ns', \n",
    "                                         'dzph','dm'], label='Prior')\n",
    "\n",
    "fisher3x2ptPrior = fisher3x2pt.addPrior([0.00038, 0.0042, 0.5, 0.5, 0.5, 0.1, 0.01], \n",
    "                                        ['omega_b', 'ns', \n",
    "                                         'alphamaglowz','alphamagcmass1','alphamagcmass2',\n",
    "                                         'dzph','dm'], label='Prior')\n",
    "\n",
    "fishers_dict['Y3single2x2pt'] = fisher2x2pt\n",
    "fishers_dict['Y3single1x2pt'] = fisher1x2pt\n",
    "fishers_dict['Y3single3x2pt'] = fisher3x2pt\n",
    "fishers_dict['Y3single2x2ptPrior'] = fisher2x2ptPrior\n",
    "fishers_dict['Y3single1x2ptPrior'] = fisher1x2ptPrior\n",
    "fishers_dict['Y3single3x2ptPrior'] = fisher3x2ptPrior"
   ]
  },
  {
   "cell_type": "markdown",
   "metadata": {},
   "source": [
    "### year 3 double source bins"
   ]
  },
  {
   "cell_type": "code",
   "execution_count": 10,
   "metadata": {},
   "outputs": [
    {
     "name": "stdout",
     "output_type": "stream",
     "text": [
      "cov.shape = (90, 90), dim(data)=(90,)\n",
      "cov.shape = (51, 51), dim(data)=(51,)\n",
      "skip b1lowz because this is lens galaxy param, while probes does not include any lens related probe.\n",
      "skip b1cmass1 because this is lens galaxy param, while probes does not include any lens related probe.\n",
      "skip b1cmass2 because this is lens galaxy param, while probes does not include any lens related probe.\n",
      "skip alphamaglowz because this is lens galaxy param, while probes does not include any lens related probe.\n",
      "skip alphamagcmass1 because this is lens galaxy param, while probes does not include any lens related probe.\n",
      "skip alphamagcmass2 because this is lens galaxy param, while probes does not include any lens related probe.\n",
      "cov.shape = (141, 141), dim(data)=(141,)\n"
     ]
    }
   ],
   "source": [
    "dirname = './precomputed_Cl/double_source_ClY3'\n",
    "fisher2x2pt = hsc3x2pt.getFisher(dirname, power_b1, probes=['w', 'gamma_t'], \n",
    "                                 label='2x2pt (Y3, 2bin)')\n",
    "fisher1x2pt = hsc3x2pt.getFisher(dirname, power_b1, probes=['xi+','xi-'], \n",
    "                                 label='Cosmic Shear (Y3, 2bin)')\n",
    "fisher3x2pt = hsc3x2pt.getFisher(dirname, power_b1,\n",
    "                                 label='3x2pt (Y3, 2bin)')\n",
    "\n",
    "fisher2x2ptPrior = fisher2x2pt.addPrior([0.00038, 0.0042, 0.5, 0.5, 0.5, 0.1, 0.1, 0.01, 0.01],\n",
    "                                        ['omega_b', 'ns', \n",
    "                                         'alphamaglowz','alphamagcmass1','alphamagcmass2',\n",
    "                                         'dzph1','dzph2','dm1','dm2'], label='Prior')\n",
    "\n",
    "fisher1x2ptPrior = fisher1x2pt.addPrior([0.00038, 0.0042, 0.1, 0.1, 0.01, 0.01], \n",
    "                                        ['omega_b', 'ns', \n",
    "                                         'dzph1','dzph2','dm1','dm2'], label='Prior')\n",
    "\n",
    "fisher3x2ptPrior = fisher3x2pt.addPrior([0.00038, 0.0042, 0.5, 0.5, 0.5, 0.1, 0.1, 0.01, 0.01], \n",
    "                                        ['omega_b', 'ns', \n",
    "                                         'alphamaglowz','alphamagcmass1','alphamagcmass2',\n",
    "                                         'dzph1','dzph2','dm1','dm2'], label='Prior')\n",
    "\n",
    "fishers_dict['Y3double2x2pt'] = fisher2x2pt\n",
    "fishers_dict['Y3double1x2pt'] = fisher1x2pt\n",
    "fishers_dict['Y3double3x2pt'] = fisher3x2pt\n",
    "fishers_dict['Y3double2x2ptPrior'] = fisher2x2ptPrior\n",
    "fishers_dict['Y3double1x2ptPrior'] = fisher1x2ptPrior\n",
    "fishers_dict['Y3double3x2ptPrior'] = fisher3x2ptPrior"
   ]
  },
  {
   "cell_type": "markdown",
   "metadata": {},
   "source": [
    "### Year 3 quadruple source bins"
   ]
  },
  {
   "cell_type": "code",
   "execution_count": 11,
   "metadata": {},
   "outputs": [
    {
     "name": "stdout",
     "output_type": "stream",
     "text": [
      "cov.shape = (90, 90), dim(data)=(90,)\n",
      "cov.shape = (170, 170), dim(data)=(170,)\n",
      "skip b1lowz because this is lens galaxy param, while probes does not include any lens related probe.\n",
      "skip b1cmass1 because this is lens galaxy param, while probes does not include any lens related probe.\n",
      "skip b1cmass2 because this is lens galaxy param, while probes does not include any lens related probe.\n",
      "skip alphamaglowz because this is lens galaxy param, while probes does not include any lens related probe.\n",
      "skip alphamagcmass1 because this is lens galaxy param, while probes does not include any lens related probe.\n",
      "skip alphamagcmass2 because this is lens galaxy param, while probes does not include any lens related probe.\n",
      "cov.shape = (260, 260), dim(data)=(260,)\n",
      "CPU times: user 1min 48s, sys: 11.8 s, total: 1min 59s\n",
      "Wall time: 1min 32s\n"
     ]
    }
   ],
   "source": [
    "%%time\n",
    "# to avoid overlap of lens galaxy and source galaxy in 1,2 bins.\n",
    "probe_names_dict_to_skip={'gamma_t':[['lowz', 's1'], ['lowz', 's2'],\n",
    "                                     ['cmass1', 's1'], ['cmass1', 's2'], \n",
    "                                     ['cmass2', 's1'], ['cmass2', 's2']]}\n",
    "\n",
    "dirname = './precomputed_Cl/quadruple_source_ClY3'\n",
    "\n",
    "fisher2x2pt = hsc3x2pt.getFisher(dirname, power_b1, probes=['w', 'gamma_t'], \n",
    "                                 label='2x2pt (Y3, 4bin)', probe_names_dict_to_skip=probe_names_dict_to_skip)\n",
    "fisher1x2pt = hsc3x2pt.getFisher(dirname, power_b1, probes=['xi+','xi-'], \n",
    "                                 label='Cosmic Shear (Y3, 4bin)')\n",
    "fisher3x2pt = hsc3x2pt.getFisher(dirname, power_b1,\n",
    "                                 label='3x2pt (Y3, 4bin)', probe_names_dict_to_skip=probe_names_dict_to_skip)\n",
    "\n",
    "fisher2x2ptPrior = fisher2x2pt.addPrior([0.00038, 0.0042, 0.5, 0.5, 0.5, 0.1, 0.1, 0.1, 0.1, 0.01, 0.01, 0.01, 0.01],\n",
    "                                        ['omega_b', 'ns', \n",
    "                                         'alphamaglowz','alphamagcmass1','alphamagcmass2',\n",
    "                                         'dzph1','dzph2','dzph3','dzph4','dm1','dm2','dm3','dm4'], label='Prior')\n",
    "\n",
    "fisher1x2ptPrior = fisher1x2pt.addPrior([0.00038, 0.0042, 0.1, 0.1, 0.1, 0.1, 0.01, 0.01, 0.01, 0.01], \n",
    "                                        ['omega_b', 'ns', \n",
    "                                         'dzph1','dzph2','dzph3','dzph4','dm1','dm2','dm3','dm4'], label='Prior')\n",
    "\n",
    "fisher3x2ptPrior = fisher3x2pt.addPrior([0.00038, 0.0042, 0.5, 0.5, 0.5, 0.1, 0.1, 0.1, 0.1, 0.01, 0.01, 0.01, 0.01], \n",
    "                                        ['omega_b', 'ns', \n",
    "                                         'alphamaglowz','alphamagcmass1','alphamagcmass2',\n",
    "                                         'dzph1','dzph2','dzph3','dzph4','dm1','dm2','dm3','dm4'], label='Prior')\n",
    "\n",
    "fishers_dict['Y3quadruple2x2pt'] = fisher2x2pt\n",
    "fishers_dict['Y3quadruple1x2pt'] = fisher1x2pt\n",
    "fishers_dict['Y3quadruple3x2pt'] = fisher3x2pt\n",
    "fishers_dict['Y3quadruple2x2ptPrior'] = fisher2x2ptPrior\n",
    "fishers_dict['Y3quadruple1x2ptPrior'] = fisher1x2ptPrior\n",
    "fishers_dict['Y3quadruple3x2ptPrior'] = fisher3x2ptPrior"
   ]
  },
  {
   "cell_type": "markdown",
   "metadata": {},
   "source": [
    "## Plot"
   ]
  },
  {
   "cell_type": "code",
   "execution_count": 12,
   "metadata": {},
   "outputs": [],
   "source": [
    "corner = hsc3x2pt.corner_class()"
   ]
  },
  {
   "cell_type": "markdown",
   "metadata": {},
   "source": [
    "### 3x2pt: single vs double vs quadruple"
   ]
  },
  {
   "cell_type": "code",
   "execution_count": 13,
   "metadata": {},
   "outputs": [
    {
     "name": "stderr",
     "output_type": "stream",
     "text": [
      "/Users/sunao-mac/Documents/study/weaklensHSCY3Fisher/hsc3x2pt.py:1892: RuntimeWarning: invalid value encountered in less_equal\n",
      "  l = np.min(Psorted[cumsum<=a])\n"
     ]
    },
    {
     "ename": "ValueError",
     "evalue": "zero-size array to reduction operation minimum which has no identity",
     "output_type": "error",
     "traceback": [
      "\u001b[0;31m---------------------------------------------------------------------------\u001b[0m",
      "\u001b[0;31mValueError\u001b[0m                                Traceback (most recent call last)",
      "\u001b[0;32m<ipython-input-13-27caa8f413fc>\u001b[0m in \u001b[0;36m<module>\u001b[0;34m\u001b[0m\n\u001b[1;32m      3\u001b[0m fig = corner.plot_corner(fishers,\n\u001b[1;32m      4\u001b[0m                          \u001b[0;34m[\u001b[0m\u001b[0;34m'Omega_de'\u001b[0m\u001b[0;34m,\u001b[0m \u001b[0;34m'sigma8'\u001b[0m\u001b[0;34m,\u001b[0m \u001b[0;34m'omega_c'\u001b[0m\u001b[0;34m,\u001b[0m \u001b[0;34m'dm'\u001b[0m\u001b[0;34m,\u001b[0m \u001b[0;34m'dzph'\u001b[0m\u001b[0;34m,\u001b[0m \u001b[0;34m'b1lowz'\u001b[0m\u001b[0;34m,\u001b[0m \u001b[0;34m'alphamaglowz'\u001b[0m\u001b[0;34m]\u001b[0m\u001b[0;34m,\u001b[0m\u001b[0;34m\u001b[0m\u001b[0;34m\u001b[0m\u001b[0m\n\u001b[0;32m----> 5\u001b[0;31m                          figsize_ratio=2, usetex=True)\n\u001b[0m\u001b[1;32m      6\u001b[0m \u001b[0;31m#fig.export('figures/corner_fY3IAsingle3x2ptPrior_fY3IAdouble3x2ptPrior_fY3IAquadruple3x2ptPrior.pdf')\u001b[0m\u001b[0;34m\u001b[0m\u001b[0;34m\u001b[0m\u001b[0;34m\u001b[0m\u001b[0m\n\u001b[1;32m      7\u001b[0m \u001b[0;34m\u001b[0m\u001b[0m\n",
      "\u001b[0;32m~/Documents/study/weaklensHSCY3Fisher/hsc3x2pt.py\u001b[0m in \u001b[0;36mplot_corner\u001b[0;34m(self, fishers, names, colors, figsize_ratio, fill2d, alpha2d, usetex)\u001b[0m\n\u001b[1;32m   1942\u001b[0m                     \u001b[0max\u001b[0m \u001b[0;34m=\u001b[0m \u001b[0mself\u001b[0m\u001b[0;34m.\u001b[0m\u001b[0m_get_corner_ax\u001b[0m\u001b[0;34m(\u001b[0m\u001b[0mi\u001b[0m\u001b[0;34m,\u001b[0m \u001b[0mj\u001b[0m\u001b[0;34m)\u001b[0m\u001b[0;34m\u001b[0m\u001b[0;34m\u001b[0m\u001b[0m\n\u001b[1;32m   1943\u001b[0m                     \u001b[0;32mfor\u001b[0m \u001b[0mk\u001b[0m\u001b[0;34m,\u001b[0m \u001b[0;34m(\u001b[0m\u001b[0mfisher\u001b[0m\u001b[0;34m,\u001b[0m \u001b[0mcolor\u001b[0m\u001b[0;34m)\u001b[0m \u001b[0;32min\u001b[0m \u001b[0menumerate\u001b[0m\u001b[0;34m(\u001b[0m\u001b[0mzip\u001b[0m\u001b[0;34m(\u001b[0m\u001b[0mfishers\u001b[0m\u001b[0;34m,\u001b[0m \u001b[0mcolors\u001b[0m\u001b[0;34m)\u001b[0m\u001b[0;34m)\u001b[0m\u001b[0;34m:\u001b[0m\u001b[0;34m\u001b[0m\u001b[0;34m\u001b[0m\u001b[0m\n\u001b[0;32m-> 1944\u001b[0;31m                         \u001b[0mself\u001b[0m\u001b[0;34m.\u001b[0m\u001b[0m_plot2d\u001b[0m\u001b[0;34m(\u001b[0m\u001b[0mfisher\u001b[0m\u001b[0;34m,\u001b[0m \u001b[0mname1\u001b[0m\u001b[0;34m,\u001b[0m \u001b[0mname2\u001b[0m\u001b[0;34m,\u001b[0m \u001b[0;32mNone\u001b[0m\u001b[0;34m,\u001b[0m \u001b[0;32mNone\u001b[0m\u001b[0;34m,\u001b[0m \u001b[0mcolor\u001b[0m\u001b[0;34m,\u001b[0m \u001b[0max\u001b[0m\u001b[0;34m,\u001b[0m \u001b[0mfill2d\u001b[0m\u001b[0;34m,\u001b[0m \u001b[0malpha2d\u001b[0m\u001b[0;34m*\u001b[0m\u001b[0;36m0.6\u001b[0m\u001b[0;34m**\u001b[0m\u001b[0mk\u001b[0m\u001b[0;34m)\u001b[0m\u001b[0;34m\u001b[0m\u001b[0;34m\u001b[0m\u001b[0m\n\u001b[0m\u001b[1;32m   1945\u001b[0m \u001b[0;34m\u001b[0m\u001b[0m\n\u001b[1;32m   1946\u001b[0m         \u001b[0max\u001b[0m \u001b[0;34m=\u001b[0m \u001b[0mself\u001b[0m\u001b[0;34m.\u001b[0m\u001b[0m_get_corner_ax\u001b[0m\u001b[0;34m(\u001b[0m\u001b[0;36m0\u001b[0m\u001b[0;34m)\u001b[0m\u001b[0;34m\u001b[0m\u001b[0;34m\u001b[0m\u001b[0m\n",
      "\u001b[0;32m~/Documents/study/weaklensHSCY3Fisher/hsc3x2pt.py\u001b[0m in \u001b[0;36m_plot2d\u001b[0;34m(self, fisher, name1, name2, xlabel, ylabel, color, ax, fill, alpha)\u001b[0m\n\u001b[1;32m   1897\u001b[0m         \u001b[0md\u001b[0m \u001b[0;34m=\u001b[0m \u001b[0mfisher\u001b[0m\u001b[0;34m.\u001b[0m\u001b[0mget2DDensity\u001b[0m\u001b[0;34m(\u001b[0m\u001b[0mname1\u001b[0m\u001b[0;34m,\u001b[0m \u001b[0mname2\u001b[0m\u001b[0;34m)\u001b[0m\u001b[0;34m\u001b[0m\u001b[0;34m\u001b[0m\u001b[0m\n\u001b[1;32m   1898\u001b[0m         \u001b[0;32mif\u001b[0m \u001b[0md\u001b[0m \u001b[0;32mis\u001b[0m \u001b[0;32mnot\u001b[0m \u001b[0;32mNone\u001b[0m\u001b[0;34m:\u001b[0m\u001b[0;34m\u001b[0m\u001b[0;34m\u001b[0m\u001b[0m\n\u001b[0;32m-> 1899\u001b[0;31m             \u001b[0mlevels\u001b[0m \u001b[0;34m=\u001b[0m \u001b[0mget_levels\u001b[0m\u001b[0;34m(\u001b[0m\u001b[0md\u001b[0m\u001b[0;34m.\u001b[0m\u001b[0mP\u001b[0m\u001b[0;34m)\u001b[0m\u001b[0;34m\u001b[0m\u001b[0;34m\u001b[0m\u001b[0m\n\u001b[0m\u001b[1;32m   1900\u001b[0m             \u001b[0mpcolor\u001b[0m \u001b[0;34m=\u001b[0m \u001b[0mget_paler_colors\u001b[0m\u001b[0;34m(\u001b[0m\u001b[0mcolor\u001b[0m\u001b[0;34m,\u001b[0m \u001b[0mlen\u001b[0m\u001b[0;34m(\u001b[0m\u001b[0mlevels\u001b[0m\u001b[0;34m)\u001b[0m\u001b[0;34m-\u001b[0m\u001b[0;36m1\u001b[0m\u001b[0;34m)\u001b[0m\u001b[0;34m\u001b[0m\u001b[0;34m\u001b[0m\u001b[0m\n\u001b[1;32m   1901\u001b[0m             \u001b[0max\u001b[0m\u001b[0;34m.\u001b[0m\u001b[0mcontour\u001b[0m\u001b[0;34m(\u001b[0m\u001b[0md\u001b[0m\u001b[0;34m.\u001b[0m\u001b[0mx\u001b[0m\u001b[0;34m,\u001b[0m \u001b[0md\u001b[0m\u001b[0;34m.\u001b[0m\u001b[0my\u001b[0m\u001b[0;34m,\u001b[0m \u001b[0md\u001b[0m\u001b[0;34m.\u001b[0m\u001b[0mP\u001b[0m\u001b[0;34m,\u001b[0m \u001b[0mlevels\u001b[0m\u001b[0;34m=\u001b[0m\u001b[0mlevels\u001b[0m\u001b[0;34m,\u001b[0m \u001b[0mcolors\u001b[0m\u001b[0;34m=\u001b[0m\u001b[0mpcolor\u001b[0m\u001b[0;34m,\u001b[0m \u001b[0malpha\u001b[0m\u001b[0;34m=\u001b[0m\u001b[0malpha\u001b[0m\u001b[0;34m)\u001b[0m\u001b[0;34m\u001b[0m\u001b[0;34m\u001b[0m\u001b[0m\n",
      "\u001b[0;32m~/Documents/study/weaklensHSCY3Fisher/hsc3x2pt.py\u001b[0m in \u001b[0;36mget_levels\u001b[0;34m(P, alphas)\u001b[0m\n\u001b[1;32m   1890\u001b[0m             \u001b[0mlevels\u001b[0m \u001b[0;34m=\u001b[0m \u001b[0;34m[\u001b[0m\u001b[0;34m]\u001b[0m\u001b[0;34m\u001b[0m\u001b[0;34m\u001b[0m\u001b[0m\n\u001b[1;32m   1891\u001b[0m             \u001b[0;32mfor\u001b[0m \u001b[0ma\u001b[0m \u001b[0;32min\u001b[0m \u001b[0malphas\u001b[0m\u001b[0;34m:\u001b[0m\u001b[0;34m\u001b[0m\u001b[0;34m\u001b[0m\u001b[0m\n\u001b[0;32m-> 1892\u001b[0;31m                 \u001b[0ml\u001b[0m \u001b[0;34m=\u001b[0m \u001b[0mnp\u001b[0m\u001b[0;34m.\u001b[0m\u001b[0mmin\u001b[0m\u001b[0;34m(\u001b[0m\u001b[0mPsorted\u001b[0m\u001b[0;34m[\u001b[0m\u001b[0mcumsum\u001b[0m\u001b[0;34m<=\u001b[0m\u001b[0ma\u001b[0m\u001b[0;34m]\u001b[0m\u001b[0;34m)\u001b[0m\u001b[0;34m\u001b[0m\u001b[0;34m\u001b[0m\u001b[0m\n\u001b[0m\u001b[1;32m   1893\u001b[0m                 \u001b[0mlevels\u001b[0m\u001b[0;34m.\u001b[0m\u001b[0mappend\u001b[0m\u001b[0;34m(\u001b[0m\u001b[0ml\u001b[0m\u001b[0;34m)\u001b[0m\u001b[0;34m\u001b[0m\u001b[0;34m\u001b[0m\u001b[0m\n\u001b[1;32m   1894\u001b[0m             \u001b[0mlevels\u001b[0m\u001b[0;34m.\u001b[0m\u001b[0mappend\u001b[0m\u001b[0;34m(\u001b[0m\u001b[0mmax\u001b[0m\u001b[0;34m(\u001b[0m\u001b[0mPsorted\u001b[0m\u001b[0;34m)\u001b[0m\u001b[0;34m)\u001b[0m\u001b[0;34m\u001b[0m\u001b[0;34m\u001b[0m\u001b[0m\n",
      "\u001b[0;32m<__array_function__ internals>\u001b[0m in \u001b[0;36mamin\u001b[0;34m(*args, **kwargs)\u001b[0m\n",
      "\u001b[0;32m~/.pyenv/versions/anaconda3-5.3.1/lib/python3.7/site-packages/numpy/core/fromnumeric.py\u001b[0m in \u001b[0;36mamin\u001b[0;34m(a, axis, out, keepdims, initial, where)\u001b[0m\n\u001b[1;32m   2791\u001b[0m     \"\"\"\n\u001b[1;32m   2792\u001b[0m     return _wrapreduction(a, np.minimum, 'min', axis, None, out,\n\u001b[0;32m-> 2793\u001b[0;31m                           keepdims=keepdims, initial=initial, where=where)\n\u001b[0m\u001b[1;32m   2794\u001b[0m \u001b[0;34m\u001b[0m\u001b[0m\n\u001b[1;32m   2795\u001b[0m \u001b[0;34m\u001b[0m\u001b[0m\n",
      "\u001b[0;32m~/.pyenv/versions/anaconda3-5.3.1/lib/python3.7/site-packages/numpy/core/fromnumeric.py\u001b[0m in \u001b[0;36m_wrapreduction\u001b[0;34m(obj, ufunc, method, axis, dtype, out, **kwargs)\u001b[0m\n\u001b[1;32m     88\u001b[0m                 \u001b[0;32mreturn\u001b[0m \u001b[0mreduction\u001b[0m\u001b[0;34m(\u001b[0m\u001b[0maxis\u001b[0m\u001b[0;34m=\u001b[0m\u001b[0maxis\u001b[0m\u001b[0;34m,\u001b[0m \u001b[0mout\u001b[0m\u001b[0;34m=\u001b[0m\u001b[0mout\u001b[0m\u001b[0;34m,\u001b[0m \u001b[0;34m**\u001b[0m\u001b[0mpasskwargs\u001b[0m\u001b[0;34m)\u001b[0m\u001b[0;34m\u001b[0m\u001b[0;34m\u001b[0m\u001b[0m\n\u001b[1;32m     89\u001b[0m \u001b[0;34m\u001b[0m\u001b[0m\n\u001b[0;32m---> 90\u001b[0;31m     \u001b[0;32mreturn\u001b[0m \u001b[0mufunc\u001b[0m\u001b[0;34m.\u001b[0m\u001b[0mreduce\u001b[0m\u001b[0;34m(\u001b[0m\u001b[0mobj\u001b[0m\u001b[0;34m,\u001b[0m \u001b[0maxis\u001b[0m\u001b[0;34m,\u001b[0m \u001b[0mdtype\u001b[0m\u001b[0;34m,\u001b[0m \u001b[0mout\u001b[0m\u001b[0;34m,\u001b[0m \u001b[0;34m**\u001b[0m\u001b[0mpasskwargs\u001b[0m\u001b[0;34m)\u001b[0m\u001b[0;34m\u001b[0m\u001b[0;34m\u001b[0m\u001b[0m\n\u001b[0m\u001b[1;32m     91\u001b[0m \u001b[0;34m\u001b[0m\u001b[0m\n\u001b[1;32m     92\u001b[0m \u001b[0;34m\u001b[0m\u001b[0m\n",
      "\u001b[0;31mValueError\u001b[0m: zero-size array to reduction operation minimum which has no identity"
     ]
    },
    {
     "data": {
      "image/png": "[encoded data removed]",
      "text/plain": [
       "<Figure size 1008x1008 with 28 Axes>"
      ]
     },
     "metadata": {
      "needs_background": "light"
     },
     "output_type": "display_data"
    }
   ],
   "source": [
    "fishers = [fishers_dict[key] for key in ['Y3IAsingle3x2ptPrior', 'Y3IAdouble3x2ptPrior', 'Y3IAquadruple3x2ptPrior']]\n",
    "\n",
    "fig = corner.plot_corner(fishers,\n",
    "                         ['Omega_de', 'sigma8', 'omega_c', 'dm', 'dzph', 'b1lowz', 'alphamaglowz'], \n",
    "                         figsize_ratio=2, usetex=True)\n",
    "#fig.export('figures/corner_fY3IAsingle3x2ptPrior_fY3IAdouble3x2ptPrior_fY3IAquadruple3x2ptPrior.pdf')\n",
    "\n",
    "hsc3x2pt.compare1Sigma(fishers, ['sigma8', 'Omega_de', 'S8'])"
   ]
  },
  {
   "cell_type": "code",
   "execution_count": null,
   "metadata": {},
   "outputs": [],
   "source": [
    "fishers = [fishers_dict[key] for key in ['Y3IAsingle3x2ptPrior', 'Y3IAdouble3x2ptPrior', 'Y3IAquadruple3x2ptPrior']]\n",
    "df = hsc3x2pt.compare1Sigma(fishers, ['sigma8', 'Omega_de', 'S8'])\n",
    "\n",
    "print(df.to_latex(escape=False))\n",
    "\n",
    "with open('figures/Y3IA_single_double_quadruple_table.tex', 'w') as f:\n",
    "    f.write(df.to_latex(escape=False))\n",
    "    \n",
    "df"
   ]
  },
  {
   "cell_type": "code",
   "execution_count": null,
   "metadata": {},
   "outputs": [],
   "source": [
    "fishers = [fishers_dict[key] for key in ['Y3IAsingle3x2ptPrior', 'Y3IAdouble3x2ptPrior', 'Y3IAquadruple3x2ptPrior']]\n",
    "\n",
    "fig = corner.plot_corner(fishers,\n",
    "                         ['Omega_de', 'sigma8', 'S8'],\n",
    "                         figsize_ratio=2, usetex=True)\n",
    "#fig.export('figures/corner_fY3IAsingle3x2ptPrior_fY3IAdouble3x2ptPrior_fY3IAquadruple3x2ptPrior_sigma8Ode.pdf')\n",
    "\n",
    "hsc3x2pt.compare1Sigma(fishers, ['sigma8', 'Omega_de', 'S8'])"
   ]
  },
  {
   "cell_type": "markdown",
   "metadata": {},
   "source": [
    "## same but with optimized $\\alpha$ of $S_8$"
   ]
  },
  {
   "cell_type": "code",
   "execution_count": null,
   "metadata": {},
   "outputs": [],
   "source": [
    "fishers = [fishers_dict[key] for key in ['Y3IAsingle3x2ptPrior', 'Y3IAdouble3x2ptPrior', 'Y3IAquadruple3x2ptPrior']]\n",
    "df = hsc3x2pt.compare1Sigma(fishers, ['sigma8', 'Omega_de', 'S8', 'S8opt'])\n",
    "\n",
    "print(df.to_latex(escape=False))\n",
    "\n",
    "with open('figures/Y3IA_single_double_quadruple_table_S8alphaopt.tex', 'w') as f:\n",
    "    f.write(df.to_latex(escape=False))\n",
    "df"
   ]
  },
  {
   "cell_type": "code",
   "execution_count": null,
   "metadata": {},
   "outputs": [],
   "source": [
    "fishers = [fishers_dict[key] for key in ['Y3IAsingle3x2ptPrior', 'Y3IAdouble3x2ptPrior', 'Y3IAquadruple3x2ptPrior']]\n",
    "\n",
    "fig = corner.plot_corner(fishers,\n",
    "                         ['Omega_de', 'sigma8', 'S8opt'],\n",
    "                         figsize_ratio=2, usetex=True)\n",
    "#fig.export('figures/corner_fY3IAsingle3x2ptPrior_fY3IAdouble3x2ptPrior_fY3IAquadruple3x2ptPrior_sigma8Ode_S8alphaopt.pdf')\n",
    "\n",
    "hsc3x2pt.compare1Sigma(fishers, ['sigma8', 'Omega_de', 'S8', 'S8opt'])"
   ]
  },
  {
   "cell_type": "code",
   "execution_count": null,
   "metadata": {},
   "outputs": [],
   "source": [
    "fishers = [fishers_dict[key] for key in ['Y3IAsingle3x2ptPrior', 'Y3IAdouble3x2ptPrior', 'Y3IAquadruple3x2ptPrior']]\n",
    "\n",
    "fig = corner.plot_corner(fishers,\n",
    "                         ['Omega_de', 'sigma8', 'S8','S8opt'],\n",
    "                         figsize_ratio=2, usetex=True)\n",
    "#fig.export('figures/corner_fY3IAsingle3x2ptPrior_fY3IAdouble3x2ptPrior_fY3IAquadruple3x2ptPrior_sigma8Ode_S8_S8alphaopt.pdf')\n",
    "\n",
    "hsc3x2pt.compare1Sigma(fishers, ['sigma8', 'Omega_de', 'S8', 'S8opt'])"
   ]
  },
  {
   "cell_type": "markdown",
   "metadata": {},
   "source": [
    "### single: degeneracy breaking comparing 1x2pt, 2x2pt, 3x2pt"
   ]
  },
  {
   "cell_type": "code",
   "execution_count": null,
   "metadata": {},
   "outputs": [],
   "source": [
    "fishers = [fishers_dict[key] for key in ['Y3IAsingle1x2ptPrior', 'Y3IAsingle2x2ptPrior', 'Y3IAsingle3x2ptPrior']]\n",
    "\n",
    "fig = corner.plot_corner(fishers,\n",
    "                         ['Omega_de', 'sigma8', 'omega_c', 'dm', 'dzph', 'b1lowz', 'alphamaglowz', 'A_IA', 'eta_IA'], \n",
    "                         figsize_ratio=2, usetex=True)\n",
    "#fig.export('figures/corner_fY3IAsingle1x2ptPrior_fY3IAsingle2x2ptPrior_fY3IAsingle3x2ptPrior.pdf')\n",
    "\n",
    "hsc3x2pt.compare1Sigma(fishers, ['sigma8', 'Omega_de', 'S8'])"
   ]
  },
  {
   "cell_type": "code",
   "execution_count": null,
   "metadata": {},
   "outputs": [],
   "source": [
    "fishers = [fishers_dict[key] for key in ['Y3IAsingle1x2ptPrior', 'Y3IAsingle2x2ptPrior', 'Y3IAsingle3x2ptPrior']]\n",
    "\n",
    "fig = corner.plot_corner(fishers,\n",
    "                         ['Omega_de', 'sigma8', 'S8'],#, 'omega_c', 'dm', 'dzph', 'b1lowz', 'alphamaglowz'], \n",
    "                         figsize_ratio=2, usetex=True)\n",
    "#fig.export('figures/corner_fY1IAsingle1x2ptPrior_fY1IAsingle2x2ptPrior_fY1IAsingle3x2ptPrior.pdf')\n",
    "\n",
    "hsc3x2pt.compare1Sigma(fishers, ['sigma8', 'Omega_de', 'S8'])"
   ]
  },
  {
   "cell_type": "code",
   "execution_count": null,
   "metadata": {},
   "outputs": [],
   "source": [
    "fishers = [fishers_dict[key] for key in ['Y3IAquadruple1x2ptPrior', 'Y3IAquadruple2x2ptPrior', 'Y3IAquadruple3x2ptPrior']]\n",
    "\n",
    "fig = corner.plot_corner(fishers,\n",
    "                         ['Omega_de', 'sigma8', 'S8'],#, 'omega_c', 'dm', 'dzph', 'b1lowz', 'alphamaglowz'], \n",
    "                         figsize_ratio=2, usetex=True)"
   ]
  },
  {
   "cell_type": "markdown",
   "metadata": {},
   "source": [
    "## with and without IA"
   ]
  },
  {
   "cell_type": "code",
   "execution_count": null,
   "metadata": {},
   "outputs": [],
   "source": [
    "fishers = [fishers_dict[key] for key in ['Y3IAsingle3x2ptPrior', 'Y3single3x2ptPrior']]\n",
    "\n",
    "fig = corner.plot_corner(fishers,\n",
    "                         ['Omega_de', 'sigma8', 'S8'],#, 'omega_c', 'dm', 'dzph', 'b1lowz', 'alphamaglowz'], \n",
    "                         figsize_ratio=2, usetex=True)\n",
    "#fig.export('figures/corner_fY1IAsingle1x2ptPrior_fY1IAsingle2x2ptPrior_fY1IAsingle3x2ptPrior.pdf')\n",
    "\n",
    "hsc3x2pt.compare1Sigma(fishers, ['sigma8', 'Omega_de', 'S8'])"
   ]
  },
  {
   "cell_type": "code",
   "execution_count": null,
   "metadata": {},
   "outputs": [],
   "source": [
    "fishers = [fishers_dict[key] for key in ['Y3IAdouble1x2ptPrior', 'Y3double1x2ptPrior']]\n",
    "\n",
    "fig = corner.plot_corner(fishers,\n",
    "                         ['Omega_de', 'sigma8', 'S8'],#, 'omega_c', 'dm', 'dzph', 'b1lowz', 'alphamaglowz'], \n",
    "                         figsize_ratio=2, usetex=True)\n",
    "#fig.export('figures/corner_fY1IAsingle1x2ptPrior_fY1IAsingle2x2ptPrior_fY1IAsingle3x2ptPrior.pdf')\n",
    "\n",
    "hsc3x2pt.compare1Sigma(fishers, ['sigma8', 'Omega_de', 'S8'])"
   ]
  },
  {
   "cell_type": "code",
   "execution_count": null,
   "metadata": {},
   "outputs": [],
   "source": [
    "fishers = [fishers_dict[key] for key in ['Y3IAquadruple1x2ptPrior', 'Y3quadruple1x2ptPrior']]\n",
    "\n",
    "fig = corner.plot_corner(fishers,\n",
    "                         ['Omega_de', 'sigma8', 'S8'],#, 'omega_c', 'dm', 'dzph', 'b1lowz', 'alphamaglowz'], \n",
    "                         figsize_ratio=2, usetex=True)\n",
    "#fig.export('figures/corner_fY1IAsingle1x2ptPrior_fY1IAsingle2x2ptPrior_fY1IAsingle3x2ptPrior.pdf')\n",
    "\n",
    "hsc3x2pt.compare1Sigma(fishers, ['sigma8', 'Omega_de', 'S8'])"
   ]
  },
  {
   "cell_type": "code",
   "execution_count": null,
   "metadata": {},
   "outputs": [],
   "source": []
  }
 ],
 "metadata": {
  "kernelspec": {
   "display_name": "Python 3",
   "language": "python",
   "name": "python3"
  },
  "language_info": {
   "codemirror_mode": {
    "name": "ipython",
    "version": 3
   },
   "file_extension": ".py",
   "mimetype": "text/x-python",
   "name": "python",
   "nbconvert_exporter": "python",
   "pygments_lexer": "ipython3",
   "version": "3.7.2"
  }
 },
 "nbformat": 4,
 "nbformat_minor": 4
}
