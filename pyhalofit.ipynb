{
 "cells": [
  {
   "cell_type": "code",
   "execution_count": 1,
   "metadata": {},
   "outputs": [
    {
     "name": "stdout",
     "output_type": "stream",
     "text": [
      "Populating the interactive namespace from numpy and matplotlib\n"
     ]
    }
   ],
   "source": [
    "%load_ext autoreload\n",
    "%autoreload 2\n",
    "%pylab inline"
   ]
  },
  {
   "cell_type": "code",
   "execution_count": 2,
   "metadata": {},
   "outputs": [
    {
     "name": "stdout",
     "output_type": "stream",
     "text": [
      "using dark_emulator at  /Users/sunao-mac/Documents/python_package/dark_emulator_public/dark_emulator/__init__.py\n"
     ]
    }
   ],
   "source": [
    "import numpy as np\n",
    "from dark_emulator_public import dark_emulator\n",
    "import os, sys\n",
    "import matplotlib.pyplot as plt\n",
    "import my_python_package as mpp\n",
    "from collections import OrderedDict as od\n",
    "from pyhalofit import pyhalofit\n",
    "from scipy.interpolate import InterpolatedUnivariateSpline as ius\n",
    "from scipy.interpolate import interp2d\n",
    "from time import time\n",
    "from scipy.integrate import simps\n",
    "from tqdm import tqdm\n",
    "import hsc3x2pt"
   ]
  },
  {
   "cell_type": "markdown",
   "metadata": {},
   "source": [
    "## pyhalofitのaccuracy担保\n",
    "notebook `highz_halofit` によって、highzではnaiveにlinear powerを突っ込んだだけでは正しいhalofitを返さないことがわかった。これはhigh-zではlinear growthが小さいので、$\\sigma(R)=1$となるようなRが小さく、すなわちhigh kまでのlinear power spectrumの値を知っている必要があるからである。\n",
    "なので、linear growth, $D_1(z)$が与えられたときに、どの程度high kまでのlinear powerを持っている必要があるか調べておけば、適宜linear powerを外挿or再計算することで対応できる。\n",
    "$$\n",
    "\\begin{align}\n",
    "    \\sigma^2(R)\n",
    "    &\\equiv\\int_0^\\infty {\\rm d}\\ln k\\Delta^2(k, z)e^{-k^2R^2}\\\\\n",
    "    &= D_1^2(z) \\int_0^\\infty {\\rm d}\\ln k\\Delta_0^2(k)e^{-k^2R^2}\\\\\n",
    "    &= D_1^2(z)\\sigma_0^2(R)\n",
    "\\end{align}\n",
    "$$\n",
    "ここで$\\Delta_0^2(k)$はredshift依存性を外に出した形。\n",
    "\n",
    "Dark emulatorは$k>10$では外挿している。ので外挿で行こう"
   ]
  },
  {
   "cell_type": "code",
   "execution_count": 3,
   "metadata": {},
   "outputs": [
    {
     "name": "stdout",
     "output_type": "stream",
     "text": [
      "initialize cosmo_class\n",
      "Initialize pklin emulator\n",
      "initialize propagator emulator\n",
      "Initialize sigma_d emulator\n",
      "initialize cross-correlation emulator\n",
      "initialize auto-correlation emulator\n",
      "Initialize sigmaM emulator\n",
      "initialize xinl emulator\n"
     ]
    }
   ],
   "source": [
    "power_b1 = hsc3x2pt.power_b1_class()"
   ]
  },
  {
   "cell_type": "code",
   "execution_count": 4,
   "metadata": {},
   "outputs": [
    {
     "name": "stdout",
     "output_type": "stream",
     "text": [
      "CPU times: user 104 ms, sys: 3.02 ms, total: 107 ms\n",
      "Wall time: 27.5 ms\n"
     ]
    }
   ],
   "source": [
    "%%time\n",
    "power_b1.init_pklin(10.0, kmax=1e3, kbin=1000)"
   ]
  },
  {
   "cell_type": "code",
   "execution_count": 5,
   "metadata": {},
   "outputs": [
    {
     "name": "stdout",
     "output_type": "stream",
     "text": [
      "CPU times: user 655 ms, sys: 10.3 ms, total: 666 ms\n",
      "Wall time: 212 ms\n"
     ]
    }
   ],
   "source": [
    "%%time\n",
    "power_b1.init_pkhalo()"
   ]
  },
  {
   "cell_type": "code",
   "execution_count": 6,
   "metadata": {},
   "outputs": [
    {
     "name": "stdout",
     "output_type": "stream",
     "text": [
      "10.0\n"
     ]
    },
    {
     "data": {
      "image/png": "[encoded data removed]",
      "text/plain": [
       "<Figure size 432x288 with 1 Axes>"
      ]
     },
     "metadata": {
      "needs_background": "light"
     },
     "output_type": "display_data"
    }
   ],
   "source": [
    "i = -1\n",
    "\n",
    "k = 10**power_b1.pk_data['logk']\n",
    "pkL = power_b1.pk_data['pkL']\n",
    "Dp = power_b1.pk_data['Dp'][i]\n",
    "z = power_b1.pk_data['z'][i]\n",
    "pklin = pkL * Dp**2\n",
    "pkhalo = power_b1.pk_data['pkhalo'][i,:]\n",
    "\n",
    "print(z)\n",
    "\n",
    "plt.figure()\n",
    "plt.loglog(k, pklin)\n",
    "plt.loglog(k, pkhalo)\n",
    "plt.show()"
   ]
  },
  {
   "cell_type": "code",
   "execution_count": null,
   "metadata": {},
   "outputs": [],
   "source": []
  },
  {
   "cell_type": "code",
   "execution_count": 7,
   "metadata": {},
   "outputs": [
    {
     "name": "stdout",
     "output_type": "stream",
     "text": [
      "[0.00836309]\n"
     ]
    },
    {
     "data": {
      "image/png": "[encoded data removed]",
      "text/plain": [
       "<Figure size 432x288 with 1 Axes>"
      ]
     },
     "metadata": {
      "needs_background": "light"
     },
     "output_type": "display_data"
    }
   ],
   "source": [
    "power_b1.halofit.set_pklin(k, pklin, z)\n",
    "R_sigma = power_b1.halofit.R_sigma\n",
    "power_b1.halofit.sigma(R_sigma)\n",
    "print(R_sigma)\n",
    "\n",
    "Delta = pklin*k**3/2/np.pi**2\n",
    "\n",
    "plt.figure()\n",
    "plt.ylim(1e-9, 1e1)\n",
    "plt.loglog(k, Delta/Delta.max())\n",
    "\n",
    "R = R_sigma\n",
    "dump = np.exp(-k**2*R**2)\n",
    "plt.loglog(k, dump/dump.max())\n",
    "\n",
    "integrand = Delta*dump\n",
    "plt.loglog(k, integrand/Delta.max())\n",
    "\n",
    "plt.axvline(3.0/R)\n",
    "plt.show()"
   ]
  },
  {
   "cell_type": "markdown",
   "metadata": {},
   "source": [
    "### conclusion\n",
    "takahashi halofitはz<=10までvalidationしている。z=10ではR=0.008程度なので、k~1/0.08*3程度まであれば十分。なのでtakahashi halofitを使う場合はkmax=1e3に設定すれば良い。"
   ]
  },
  {
   "cell_type": "code",
   "execution_count": null,
   "metadata": {},
   "outputs": [],
   "source": []
  },
  {
   "cell_type": "code",
   "execution_count": null,
   "metadata": {},
   "outputs": [],
   "source": []
  },
  {
   "cell_type": "code",
   "execution_count": null,
   "metadata": {},
   "outputs": [],
   "source": []
  },
  {
   "cell_type": "code",
   "execution_count": null,
   "metadata": {},
   "outputs": [],
   "source": []
  }
 ],
 "metadata": {
  "kernelspec": {
   "display_name": "Python 3",
   "language": "python",
   "name": "python3"
  },
  "language_info": {
   "codemirror_mode": {
    "name": "ipython",
    "version": 3
   },
   "file_extension": ".py",
   "mimetype": "text/x-python",
   "name": "python",
   "nbconvert_exporter": "python",
   "pygments_lexer": "ipython3",
   "version": "3.7.2"
  }
 },
 "nbformat": 4,
 "nbformat_minor": 4
}
