{
 "cells": [
  {
   "cell_type": "code",
   "execution_count": 1,
   "metadata": {},
   "outputs": [
    {
     "name": "stdout",
     "output_type": "stream",
     "text": [
      "Populating the interactive namespace from numpy and matplotlib\n"
     ]
    }
   ],
   "source": [
    "%load_ext autoreload\n",
    "%autoreload 2\n",
    "%pylab inline"
   ]
  },
  {
   "cell_type": "code",
   "execution_count": 2,
   "metadata": {},
   "outputs": [
    {
     "name": "stdout",
     "output_type": "stream",
     "text": [
      "using dark_emulator at  /Users/sugiyamasunao/Documents/python_package/dark_emulator_public/dark_emulator/__init__.py\n"
     ]
    }
   ],
   "source": [
    "import numpy as np\n",
    "from dark_emulator_public import dark_emulator\n",
    "import os, sys\n",
    "import matplotlib.pyplot as plt\n",
    "import my_python_package as mpp\n",
    "from collections import OrderedDict as od\n",
    "from pyhalofit import pyhalofit\n",
    "from scipy.interpolate import InterpolatedUnivariateSpline as ius\n",
    "from scipy.interpolate import interp2d\n",
    "from time import time\n",
    "from scipy.integrate import simps\n",
    "from tqdm import tqdm\n",
    "import hsc3x2pt"
   ]
  },
  {
   "cell_type": "markdown",
   "metadata": {},
   "source": [
    "### pyhalofit high zで合わない？\n",
    "gglensing解析の時は$z<0.7$程度までしかCAMBとの一位度のテストはしなかった。\n",
    "しかし、z>1について調べると、CAMBのtakahashi halofitと合わない。"
   ]
  },
  {
   "cell_type": "markdown",
   "metadata": {},
   "source": [
    "## pyhalofit"
   ]
  },
  {
   "cell_type": "code",
   "execution_count": 3,
   "metadata": {},
   "outputs": [
    {
     "name": "stdout",
     "output_type": "stream",
     "text": [
      "initialize cosmo_class\n",
      "Initialize pklin emulator\n",
      "initialize propagator emulator\n",
      "Initialize sigma_d emulator\n",
      "initialize cross-correlation emulator\n",
      "initialize auto-correlation emulator\n",
      "Initialize sigmaM emulator\n",
      "initialize xinl emulator\n"
     ]
    }
   ],
   "source": [
    "power_b1 = hsc3x2pt.power_b1_class()"
   ]
  },
  {
   "cell_type": "code",
   "execution_count": 4,
   "metadata": {},
   "outputs": [
    {
     "name": "stdout",
     "output_type": "stream",
     "text": [
      "CPU times: user 88.6 ms, sys: 1.9 ms, total: 90.5 ms\n",
      "Wall time: 23.2 ms\n"
     ]
    }
   ],
   "source": [
    "%%time\n",
    "power_b1.init_pklin(4.0, kmax=1e2)"
   ]
  },
  {
   "cell_type": "code",
   "execution_count": 5,
   "metadata": {},
   "outputs": [
    {
     "name": "stdout",
     "output_type": "stream",
     "text": [
      "CPU times: user 452 ms, sys: 7.25 ms, total: 460 ms\n",
      "Wall time: 194 ms\n"
     ]
    }
   ],
   "source": [
    "%%time\n",
    "power_b1.init_pkhalo()"
   ]
  },
  {
   "cell_type": "code",
   "execution_count": 6,
   "metadata": {},
   "outputs": [],
   "source": [
    "cosmo_dict = power_b1.get_cosmo_dict()"
   ]
  },
  {
   "cell_type": "markdown",
   "metadata": {},
   "source": [
    "### CAMB"
   ]
  },
  {
   "cell_type": "code",
   "execution_count": 7,
   "metadata": {},
   "outputs": [],
   "source": [
    "import camb\n",
    "from camb.dark_energy import DarkEnergyPPF"
   ]
  },
  {
   "cell_type": "code",
   "execution_count": 8,
   "metadata": {},
   "outputs": [
    {
     "name": "stdout",
     "output_type": "stream",
     "text": [
      "Note: redshifts have been re-sorted (earliest first)\n"
     ]
    }
   ],
   "source": [
    "pars = camb.CAMBparams()\n",
    "h = cosmo_dict['h']\n",
    "pars.set_cosmology(H0=100*cosmo_dict['h'], \n",
    "                   ombh2=cosmo_dict['omega_b'], \n",
    "                   omch2=cosmo_dict['omega_c'], mnu=0.06)\n",
    "As = np.exp(cosmo_dict['ln10p10As'])*1e-10\n",
    "pars.InitPower.set_params(ns=cosmo_dict['n_s'],As=As)\n",
    "pars.DarkEnergy = DarkEnergyPPF(w=cosmo_dict['w_de'], wa=0.0)\n",
    "\n",
    "redshifts = power_b1.pk_data['z']\n",
    "\n",
    "pars.set_matter_power(redshifts=redshifts, kmax=2.0)\n",
    "pars.NonLinearModel.set_params(halofit_version='takahashi')\n",
    "\n",
    "results = camb.get_results(pars)\n",
    "kh_nonlin, _, pk_takahashi = results.get_nonlinear_matter_power_spectrum(params=pars)\n",
    "kh, _, pk = results.get_matter_power_spectrum(minkh=1e-4, maxkh=1, npoints=200)\n",
    "#pk_takahashi = pk_takahashi[::-1]"
   ]
  },
  {
   "cell_type": "code",
   "execution_count": 9,
   "metadata": {},
   "outputs": [
    {
     "data": {
      "text/plain": [
       "100"
      ]
     },
     "execution_count": 9,
     "metadata": {},
     "output_type": "execute_result"
    }
   ],
   "source": [
    "len(redshifts)"
   ]
  },
  {
   "cell_type": "code",
   "execution_count": 11,
   "metadata": {},
   "outputs": [
    {
     "name": "stdout",
     "output_type": "stream",
     "text": [
      "2.4242424242424243\n"
     ]
    },
    {
     "data": {
      "image/png": "[encoded data removed]",
      "text/plain": [
       "<Figure size 432x288 with 1 Axes>"
      ]
     },
     "metadata": {
      "needs_background": "light"
     },
     "output_type": "display_data"
    }
   ],
   "source": [
    "i = 60\n",
    "print(redshifts[i])\n",
    "plt.figure()\n",
    "#for i, redshift in enumerate(redshifts[:1]):\n",
    "plt.loglog(kh_nonlin, pk_takahashi[i, :])\n",
    "    \n",
    "k = 10**power_b1.pk_data['logk']\n",
    "#for pkhalo in power_b1.pk_data['pkhalo'][:1]:\n",
    "pkhalo = power_b1.pk_data['pkhalo'][i,:]\n",
    "plt.loglog(k, pkhalo, ls='--')\n",
    "    \n",
    "plt.show()"
   ]
  },
  {
   "cell_type": "code",
   "execution_count": 12,
   "metadata": {},
   "outputs": [
    {
     "data": {
      "image/png": "[encoded data removed]",
      "text/plain": [
       "<Figure size 432x288 with 1 Axes>"
      ]
     },
     "metadata": {
      "needs_background": "light"
     },
     "output_type": "display_data"
    }
   ],
   "source": [
    "plt.figure()\n",
    "#for i, redshift in enumerate(redshifts[:1]):\n",
    "plt.loglog(kh, pk[i, :])\n",
    "    \n",
    "k = 10**power_b1.pk_data['logk']\n",
    "#for Dp in power_b1.pk_data['Dp'][:1]:\n",
    "Dp = power_b1.pk_data['Dp'][i]\n",
    "plt.loglog(k, power_b1.pk_data['pkL']*Dp**2, ls='--')\n",
    "    \n",
    "plt.show()"
   ]
  },
  {
   "cell_type": "code",
   "execution_count": 13,
   "metadata": {},
   "outputs": [
    {
     "data": {
      "image/png": "[encoded data removed]",
      "text/plain": [
       "<Figure size 432x288 with 1 Axes>"
      ]
     },
     "metadata": {
      "needs_background": "light"
     },
     "output_type": "display_data"
    }
   ],
   "source": [
    "plt.figure()\n",
    "\n",
    "k = 10**power_b1.pk_data['logk']\n",
    "#for i, pkhalo in enumerate(power_b1.pk_data['pkhalo'][:1]):\n",
    "pkhalo = power_b1.pk_data['pkhalo'][i,:]\n",
    "p = ius(kh_nonlin, pk_takahashi[i, :])(k)\n",
    "plt.semilogx(k, pkhalo/p, ls='-')\n",
    "    \n",
    "plt.axhline(1.0, color='k')\n",
    "plt.show()"
   ]
  },
  {
   "cell_type": "code",
   "execution_count": 14,
   "metadata": {},
   "outputs": [
    {
     "data": {
      "image/png": "[encoded data removed]",
      "text/plain": [
       "<Figure size 432x288 with 1 Axes>"
      ]
     },
     "metadata": {
      "needs_background": "light"
     },
     "output_type": "display_data"
    }
   ],
   "source": [
    "plt.figure()\n",
    "    \n",
    "k = 10**power_b1.pk_data['logk']\n",
    "#for i, Dp in enumerate(power_b1.pk_data['Dp'][:1]):\n",
    "Dp = power_b1.pk_data['Dp'][i]\n",
    "p = ius(kh, pk[i, :])(k)\n",
    "plt.semilogx(k, power_b1.pk_data['pkL']*Dp**2/p, ls='-')\n",
    "    \n",
    "plt.ylim(0.9, 1.2)\n",
    "plt.axhline(1.0, color='k')\n",
    "plt.show()"
   ]
  },
  {
   "cell_type": "markdown",
   "metadata": {},
   "source": [
    "## conclusion\n",
    "$\\sigma(R)$を計算するところを間違えるらしい。\n",
    "pklinをsamplingするときにhigh kまでとるとsigma(R)の評価、すなわちsigma(R_sigma)=1の評価が正しくなる。CAMBの値に等しくなる。\n"
   ]
  },
  {
   "cell_type": "code",
   "execution_count": null,
   "metadata": {},
   "outputs": [],
   "source": []
  },
  {
   "cell_type": "code",
   "execution_count": null,
   "metadata": {},
   "outputs": [],
   "source": []
  },
  {
   "cell_type": "code",
   "execution_count": 14,
   "metadata": {},
   "outputs": [],
   "source": [
    "k = 10**power_b1.pk_data['logk']\n",
    "pkL = power_b1.pk_data['pkL']\n",
    "\n",
    "sigmaR = []\n",
    "for _z, _Dp in zip(power_b1.pk_data['z'], power_b1.pk_data['Dp']):\n",
    "    pklin = pkL*_Dp**2\n",
    "    power_b1.halofit.set_pklin(k, pklin, _z)\n",
    "    s = power_b1.halofit.sigma(0.0)\n",
    "    sigmaR.append(s)\n",
    "sigmaR = np.array(sigmaR)"
   ]
  },
  {
   "cell_type": "code",
   "execution_count": 15,
   "metadata": {},
   "outputs": [
    {
     "data": {
      "image/png": "[encoded data removed]",
      "text/plain": [
       "<Figure size 432x288 with 1 Axes>"
      ]
     },
     "metadata": {
      "needs_background": "light"
     },
     "output_type": "display_data"
    }
   ],
   "source": [
    "plt.figure()\n",
    "plt.semilogx(power_b1.pk_data['z'], sigmaR)\n",
    "plt.axhline(1.0)\n",
    "plt.axvline(3.0)\n",
    "plt.show()"
   ]
  },
  {
   "cell_type": "code",
   "execution_count": null,
   "metadata": {},
   "outputs": [],
   "source": []
  },
  {
   "cell_type": "code",
   "execution_count": null,
   "metadata": {},
   "outputs": [],
   "source": []
  },
  {
   "cell_type": "code",
   "execution_count": 22,
   "metadata": {},
   "outputs": [
    {
     "data": {
      "image/png": "[encoded data removed]",
      "text/plain": [
       "<Figure size 432x288 with 1 Axes>"
      ]
     },
     "metadata": {
      "needs_background": "light"
     },
     "output_type": "display_data"
    },
    {
     "name": "stdout",
     "output_type": "stream",
     "text": [
      "166.2893699873815\n",
      "0.6247731292396285\n"
     ]
    }
   ],
   "source": [
    "k = np.logspace(-4, 6, 1000)\n",
    "pkL = power_b1.pkL.get(k)\n",
    "\n",
    "z = 4.0\n",
    "Dp = power_b1.get_Dgrowth(z)\n",
    "\n",
    "\n",
    "Delta_L = pkL*Dp**2*k**3/(2*np.pi**2)\n",
    "\n",
    "\n",
    "R=0\n",
    "plt.figure()\n",
    "plt.loglog(k, Delta_L)\n",
    "plt.show()\n",
    "\n",
    "k_sigma = 10.**(-1.065+4.332e-1*(1.+z)-2.516e-2*pow(1.+z,2)+9.069e-4*pow(1.+z,3))\n",
    "\n",
    "s = simps(Delta_L*np.exp(-(k*R)**2), np.log(k))\n",
    "print(s)\n",
    "\n",
    "R = 1.0/k_sigma\n",
    "s = simps(Delta_L*np.exp(-(k*R)**2), np.log(k))\n",
    "print(s)"
   ]
  },
  {
   "cell_type": "code",
   "execution_count": 23,
   "metadata": {},
   "outputs": [],
   "source": [
    "\n",
    "from scipy.optimize import fsolve"
   ]
  },
  {
   "cell_type": "code",
   "execution_count": 24,
   "metadata": {},
   "outputs": [],
   "source": [
    "k_sigma = 10.**(-1.065+4.332e-1*(1.+z)-2.516e-2*pow(1.+z,2)+9.069e-4*pow(1.+z,3))\n",
    "\n",
    "def sigma(R):\n",
    "    return simps(Delta_L*np.exp(-(k*R)**2), np.log(k))\n",
    "\n",
    "def eq(R):\n",
    "    return sigma(R) - 1.0\n",
    "        \n",
    "R_sigma = abs(fsolve(eq, [1./k_sigma]))"
   ]
  },
  {
   "cell_type": "code",
   "execution_count": 26,
   "metadata": {},
   "outputs": [
    {
     "data": {
      "text/plain": [
       "array([0.12773174])"
      ]
     },
     "execution_count": 26,
     "metadata": {},
     "output_type": "execute_result"
    }
   ],
   "source": [
    "R_sigma"
   ]
  },
  {
   "cell_type": "code",
   "execution_count": 27,
   "metadata": {},
   "outputs": [
    {
     "data": {
      "text/plain": [
       "0.9999999999999999"
      ]
     },
     "execution_count": 27,
     "metadata": {},
     "output_type": "execute_result"
    }
   ],
   "source": [
    "sigma(R_sigma)"
   ]
  },
  {
   "cell_type": "code",
   "execution_count": null,
   "metadata": {},
   "outputs": [],
   "source": []
  }
 ],
 "metadata": {
  "kernelspec": {
   "display_name": "Python 3",
   "language": "python",
   "name": "python3"
  },
  "language_info": {
   "codemirror_mode": {
    "name": "ipython",
    "version": 3
   },
   "file_extension": ".py",
   "mimetype": "text/x-python",
   "name": "python",
   "nbconvert_exporter": "python",
   "pygments_lexer": "ipython3",
   "version": "3.7.2"
  }
 },
 "nbformat": 4,
 "nbformat_minor": 4
}
