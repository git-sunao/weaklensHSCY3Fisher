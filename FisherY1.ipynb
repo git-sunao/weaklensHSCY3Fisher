{
 "cells": [
  {
   "cell_type": "code",
   "execution_count": 1,
   "metadata": {},
   "outputs": [
    {
     "name": "stdout",
     "output_type": "stream",
     "text": [
      "Populating the interactive namespace from numpy and matplotlib\n"
     ]
    }
   ],
   "source": [
    "%load_ext autoreload\n",
    "%autoreload 2\n",
    "%pylab inline"
   ]
  },
  {
   "cell_type": "code",
   "execution_count": 2,
   "metadata": {},
   "outputs": [
    {
     "name": "stdout",
     "output_type": "stream",
     "text": [
      "using dark_emulator at  /Users/sugiyamasunao/Documents/python_package/dark_emulator_public/dark_emulator/__init__.py\n"
     ]
    }
   ],
   "source": [
    "import numpy as np\n",
    "from dark_emulator_public import dark_emulator\n",
    "import os, sys, time, json, copy\n",
    "import matplotlib.pyplot as plt\n",
    "from collections import OrderedDict as od\n",
    "from scipy.interpolate import InterpolatedUnivariateSpline as ius\n",
    "from scipy.interpolate import interp2d, interp1d\n",
    "from scipy.integrate import simps\n",
    "from tqdm import tqdm\n",
    "import hsc3x2pt"
   ]
  },
  {
   "cell_type": "code",
   "execution_count": 3,
   "metadata": {},
   "outputs": [
    {
     "name": "stdout",
     "output_type": "stream",
     "text": [
      "initialize cosmo_class\n",
      "Initialize pklin emulator\n",
      "initialize propagator emulator\n",
      "Initialize sigma_d emulator\n",
      "initialize cross-correlation emulator\n",
      "initialize auto-correlation emulator\n",
      "Initialize sigmaM emulator\n",
      "initialize xinl emulator\n"
     ]
    }
   ],
   "source": [
    "power_b1 = hsc3x2pt.power_b1_class()"
   ]
  },
  {
   "cell_type": "code",
   "execution_count": 24,
   "metadata": {},
   "outputs": [],
   "source": [
    "def skip_column(arr, i):\n",
    "    if arr.ndim == 1:\n",
    "        return np.hstack([arr[:i], arr[i+1:]])\n",
    "    else:\n",
    "        return np.vstack([arr[:i, :], arr[i+1:, :]])\n",
    "\n",
    "def skipMat(mat, i):\n",
    "    return skip_column(skip_column(mat, i).T, i).T\n",
    "\n",
    "def getSigma(F, i):\n",
    "    F11 = F[i,i]\n",
    "    F12 = skip_column(F[i, :], i)\n",
    "    F22 = skipMat(F, i)\n",
    "    iF22 = np.linalg.inv(F22)\n",
    "\n",
    "    isigma2 = F11 - np.dot(F12, np.dot(iF22, F12))\n",
    "    sigma = 1.0/isigma2**0.5\n",
    "    return sigma"
   ]
  },
  {
   "cell_type": "markdown",
   "metadata": {},
   "source": [
    "# Year 1, single source bin analysis"
   ]
  },
  {
   "cell_type": "code",
   "execution_count": 35,
   "metadata": {},
   "outputs": [
    {
     "name": "stdout",
     "output_type": "stream",
     "text": [
      "CPU times: user 12.3 s, sys: 511 ms, total: 12.8 s\n",
      "Wall time: 3.25 s\n"
     ]
    }
   ],
   "source": [
    "%%time\n",
    "dirname = './single_source_ClY1'\n",
    "x,y,y_dict,cov, pnames, F = getFisherMat(dirname, power_b1)"
   ]
  },
  {
   "cell_type": "code",
   "execution_count": 36,
   "metadata": {},
   "outputs": [
    {
     "name": "stdout",
     "output_type": "stream",
     "text": [
      "omega_b 0.034503387229671376\n",
      "omega_c 0.0731334020313097\n",
      "Omega_de 0.01452649267307007\n",
      "n_s 0.106338054748982\n",
      "ln10p10As 0.4948429498753375\n",
      "b1lowz 0.34159058659545827\n",
      "b1cmass1 0.2215382070833047\n",
      "b1cmass2 0.22975031866490267\n",
      "alphamaglowz 65.33857389713602\n",
      "alphamagcmass1 5.982145067861211\n",
      "alphamagcmass2 4.349090886781821\n",
      "dzph 0.42891780199605267\n",
      "dm 0.408529411128198\n"
     ]
    }
   ],
   "source": [
    "for i in range(13):\n",
    "    sigma = getSigma(F, i)\n",
    "    print(pnames[i], sigma)"
   ]
  },
  {
   "cell_type": "code",
   "execution_count": null,
   "metadata": {},
   "outputs": [],
   "source": []
  },
  {
   "cell_type": "code",
   "execution_count": null,
   "metadata": {},
   "outputs": [],
   "source": []
  },
  {
   "cell_type": "code",
   "execution_count": null,
   "metadata": {},
   "outputs": [],
   "source": []
  },
  {
   "cell_type": "code",
   "execution_count": null,
   "metadata": {},
   "outputs": [],
   "source": []
  },
  {
   "cell_type": "code",
   "execution_count": null,
   "metadata": {},
   "outputs": [],
   "source": []
  },
  {
   "cell_type": "code",
   "execution_count": null,
   "metadata": {},
   "outputs": [],
   "source": []
  },
  {
   "cell_type": "code",
   "execution_count": 6,
   "metadata": {},
   "outputs": [],
   "source": [
    "pk2cl_fid = hsc3x2pt.pk2cl_class(power_b1)\n",
    "pk2cl_fid.load_Cl_cache(os.path.join(dirname, 'fiducial'))"
   ]
  },
  {
   "cell_type": "code",
   "execution_count": 7,
   "metadata": {},
   "outputs": [],
   "source": [
    "x = hsc3x2pt.radial_bin_class(pk2cl_fid.get_all_galaxy_sample())"
   ]
  },
  {
   "cell_type": "code",
   "execution_count": 8,
   "metadata": {},
   "outputs": [],
   "source": [
    "cov = hsc3x2pt.covariance_class(x)\n",
    "cov.set_covariance_from_pk2cl(pk2cl_fid)\n",
    "c = cov.get_full_covariance()\n",
    "cc = hsc3x2pt.correlation_coeff(c)\n",
    "ic = np.linalg.inv(c)"
   ]
  },
  {
   "cell_type": "code",
   "execution_count": 9,
   "metadata": {},
   "outputs": [],
   "source": [
    "y = hsc3x2pt.signal_class(x)\n",
    "y.set_signal_from_pk2cl(pk2cl_fid)\n",
    "v_fid = y.get_signal()"
   ]
  },
  {
   "cell_type": "code",
   "execution_count": 10,
   "metadata": {},
   "outputs": [],
   "source": [
    "F = getFisherMat(dirname, power_b1, ic, v_fid)"
   ]
  },
  {
   "cell_type": "code",
   "execution_count": null,
   "metadata": {},
   "outputs": [],
   "source": []
  },
  {
   "cell_type": "code",
   "execution_count": null,
   "metadata": {},
   "outputs": [],
   "source": []
  },
  {
   "cell_type": "code",
   "execution_count": null,
   "metadata": {},
   "outputs": [],
   "source": []
  },
  {
   "cell_type": "code",
   "execution_count": null,
   "metadata": {},
   "outputs": [],
   "source": []
  },
  {
   "cell_type": "code",
   "execution_count": null,
   "metadata": {},
   "outputs": [],
   "source": []
  },
  {
   "cell_type": "code",
   "execution_count": null,
   "metadata": {},
   "outputs": [],
   "source": []
  }
 ],
 "metadata": {
  "kernelspec": {
   "display_name": "Python 3",
   "language": "python",
   "name": "python3"
  },
  "language_info": {
   "codemirror_mode": {
    "name": "ipython",
    "version": 3
   },
   "file_extension": ".py",
   "mimetype": "text/x-python",
   "name": "python",
   "nbconvert_exporter": "python",
   "pygments_lexer": "ipython3",
   "version": "3.7.3"
  }
 },
 "nbformat": 4,
 "nbformat_minor": 4
}
