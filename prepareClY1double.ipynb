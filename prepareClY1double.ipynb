{
 "cells": [
  {
   "cell_type": "code",
   "execution_count": 49,
   "metadata": {},
   "outputs": [
    {
     "name": "stdout",
     "output_type": "stream",
     "text": [
      "using dark_emulator at  /Users/sunao-mac/Documents/python_package/dark_emulator_public/dark_emulator/__init__.py\n",
      "The autoreload extension is already loaded. To reload it, use:\n",
      "  %reload_ext autoreload\n",
      "Populating the interactive namespace from numpy and matplotlib\n"
     ]
    }
   ],
   "source": [
    "%load_ext autoreload\n",
    "%autoreload 2\n",
    "%pylab inline"
   ]
  },
  {
   "cell_type": "code",
   "execution_count": 50,
   "metadata": {},
   "outputs": [],
   "source": [
    "import numpy as np\n",
    "from dark_emulator_public import dark_emulator\n",
    "import os, sys, time, json\n",
    "import matplotlib.pyplot as plt\n",
    "from collections import OrderedDict as od\n",
    "from scipy.interpolate import InterpolatedUnivariateSpline as ius\n",
    "from scipy.interpolate import interp2d, interp1d\n",
    "from scipy.integrate import simps\n",
    "from tqdm import tqdm\n",
    "import hsc3x2pt"
   ]
  },
  {
   "cell_type": "markdown",
   "metadata": {},
   "source": [
    "## Preparation for Fisher\n",
    "Computation of $C(l)$ takes ~20 sec for each cosmology.\n",
    "So this notebook pre-compute $C(l)$ for cosmologies needed for Fisher analysis.\n",
    "\n",
    "Model parameters of 3x2pt analysis with single(double) source redshift bin are\n",
    "- comsology: 5\n",
    "- galaxy bias: 1x3\n",
    "- magnification bias: 1x3\n",
    "- photo-z: 1x1(2)\n",
    "- multiplicative bais: 1x1(2)\n",
    "\n",
    "13(15) parameters in total.\n",
    "\n",
    "$C(l)$s depend on cosmological parameters, galaxy bias and magnification bias, for which we need to compute $C(l)$.\n",
    "\n",
    "**Note** : Fisher analysis is doable even if the computational time for one model reaches ~20 sec. However, in the real analysis, ~20 sec is too much to run sampling code. \n",
    "I just want to know how people in cosmic shear, like Hikage-san and Hamana-san, or people in 3x2pt, like DES or KiDS, implement code of $C(l)$.?"
   ]
  },
  {
   "cell_type": "code",
   "execution_count": 52,
   "metadata": {},
   "outputs": [
    {
     "name": "stdout",
     "output_type": "stream",
     "text": [
      "initialize cosmo_class\n",
      "Initialize pklin emulator\n",
      "initialize propagator emulator\n",
      "Initialize sigma_d emulator\n",
      "initialize cross-correlation emulator\n",
      "initialize auto-correlation emulator\n",
      "Initialize sigmaM emulator\n",
      "initialize xinl emulator\n"
     ]
    }
   ],
   "source": [
    "power_b1 = hsc3x2pt.power_b1_class()"
   ]
  },
  {
   "cell_type": "code",
   "execution_count": 53,
   "metadata": {},
   "outputs": [],
   "source": [
    "Omega_s_HSC = 140"
   ]
  },
  {
   "cell_type": "markdown",
   "metadata": {},
   "source": [
    "### List of models to compute $C(l)$ to compute **double** source bins anlaysis\n",
    "\n",
    "0. fiducial = Planck cosmology + fiducial galaxy bias, magnification bais + 0 photo-z and multiplicative bias\n",
    "1. $\\omega_b h^2$ +\n",
    "2. $\\omega_c h^2$ +\n",
    "3. $\\Omega_{\\rm de}$ +\n",
    "4. $n_{\\rm s}$ +\n",
    "5. $\\ln 10^{10}A_{\\rm s}$ +\n",
    "6. $b_{\\rm 1,1}$ + \n",
    "7. $b_{\\rm 1,2}$ + \n",
    "8. $b_{\\rm 1,3}$ + \n",
    "9. $\\alpha_{\\rm mag,1}$ + \n",
    "10. $\\alpha_{\\rm mag,2}$ + \n",
    "11. $\\alpha_{\\rm mag,3}$ + \n",
    "12. $\\Delta z_{\\rm ph,1}$ +\n",
    "12. $\\Delta z_{\\rm ph,2}$ +\n",
    "13. $\\Delta m_1$ + = easy. Just multiply $1+\\Delta m_1$ to fiducial.\n",
    "13. $\\Delta m_2$ + = easy. Just multiply $1+\\Delta m_2$ to fiducial."
   ]
  },
  {
   "cell_type": "code",
   "execution_count": 54,
   "metadata": {},
   "outputs": [],
   "source": [
    "dirname = 'double_source_ClY1'\n",
    "\n",
    "def compute(params, dir_to_save, compute_lens_cross=False):\n",
    "    t0 = time.time()\n",
    "    ombh2, omch2, Ode, sigma8, ns, b11, b12, b13, a1, a2, a3, dzph1, dm1, dzph2, dm2 = params\n",
    "    g_l1 = hsc3x2pt.galaxy_sample_lens_class(['lowz'  , 0.15, 0.35, b11, '40.36 arcmin^-2', a1])\n",
    "    g_l2 = hsc3x2pt.galaxy_sample_lens_class(['cmass1', 0.47, 0.55, b12, '20.06 arcmin^-2', a2])\n",
    "    g_l3 = hsc3x2pt.galaxy_sample_lens_class(['cmass2', 0.55, 0.70, b13, '30.12 arcmin^-2', a3])\n",
    "    g_s1 = hsc3x2pt.galaxy_sample_source_class(['s1', 'sourcePzs_Y1/MLZs1.txt', dzph1, dm1, 0.2, '4.37 arcmin^-2'])\n",
    "    g_s2 = hsc3x2pt.galaxy_sample_source_class(['s2', 'sourcePzs_Y1/MLZs2.txt', dzph2, dm2, 0.2, '4.37 arcmin^-2'])\n",
    "    pk2cl = hsc3x2pt.pk2cl_class(power_b1)\n",
    "    pk2cl.set_galaxy_sample(g_l1)\n",
    "    pk2cl.set_galaxy_sample(g_l2)\n",
    "    pk2cl.set_galaxy_sample(g_l3)\n",
    "    pk2cl.set_galaxy_sample(g_s1)\n",
    "    pk2cl.set_galaxy_sample(g_s2)\n",
    "    # set cosmo\n",
    "    cosmo_dict = dict(zip(['omega_b', 'omega_c', 'Omega_de', 'ln10p10As', 'n_s', 'w_de'], [ombh2, omch2, Ode, 3.094, ns, -1]))\n",
    "    pk2cl.set_cosmology_from_dict(cosmo_dict)\n",
    "    sigma8_temp = pk2cl.pk_class.get_sigma8()\n",
    "    ln10p10As = 3.094 + 2*np.log(sigma8/sigma8_temp)\n",
    "    print(f'ln10p10As={ln10p10As}')\n",
    "    cosmo_dict = dict(zip(['omega_b', 'omega_c', 'Omega_de', 'ln10p10As', 'n_s', 'w_de'], [ombh2, omch2, Ode, ln10p10As, ns, -1]))\n",
    "    pk2cl.set_cosmology_from_dict(cosmo_dict)\n",
    "    \n",
    "    pk2cl.init_pk()\n",
    "    pk2cl.set_Omega_s({'w':8300, 'gamma_t':Omega_s_HSC, 'xi':Omega_s_HSC}) # HSCY1\n",
    "\n",
    "    l = np.logspace(-2, 5, 1000)\n",
    "    with hsc3x2pt.Time():\n",
    "        pk2cl.compute_all_Cl(l, compute_lens_cross=compute_lens_cross)\n",
    "    pk2cl.dump_Cl_cache(f'{dirname}/{dir_to_save}', overwrite=True)\n",
    "    t1 = time.time()\n",
    "    print(f'{t1-t0} sec')"
   ]
  },
  {
   "cell_type": "code",
   "execution_count": 55,
   "metadata": {},
   "outputs": [],
   "source": [
    "dp = 0.01\n",
    "file_param = od()\n",
    "\n",
    "def save_dparam(dparam, dir_to_save):\n",
    "    fname = os.path.join(dirname, 'file_param.json')\n",
    "    if os.path.exists(fname):\n",
    "        file_param = json.load(open(fname, 'r'), object_pairs_hook=od) \n",
    "    else:\n",
    "        file_param = od()\n",
    "    file_param[dir_to_save] = dparam\n",
    "    json.dump(file_param, open(fname, 'w'), indent=2)"
   ]
  },
  {
   "cell_type": "code",
   "execution_count": 56,
   "metadata": {},
   "outputs": [
    {
     "name": "stdout",
     "output_type": "stream",
     "text": [
      "ln10p10As=3.0972126913059492\n",
      ":27.97263503074646 sec\n",
      "saving l to double_source_ClY1/fiducial/l.txt\n",
      "saving lowz,lowz to double_source_ClY1/fiducial/lowz,lowz.txt\n",
      "saving lowz,cmass1 to double_source_ClY1/fiducial/lowz,cmass1.txt\n",
      "saving lowz,cmass2 to double_source_ClY1/fiducial/lowz,cmass2.txt\n",
      "saving cmass1,lowz to double_source_ClY1/fiducial/cmass1,lowz.txt\n",
      "saving cmass1,cmass1 to double_source_ClY1/fiducial/cmass1,cmass1.txt\n",
      "saving cmass1,cmass2 to double_source_ClY1/fiducial/cmass1,cmass2.txt\n",
      "saving cmass2,lowz to double_source_ClY1/fiducial/cmass2,lowz.txt\n",
      "saving cmass2,cmass1 to double_source_ClY1/fiducial/cmass2,cmass1.txt\n",
      "saving cmass2,cmass2 to double_source_ClY1/fiducial/cmass2,cmass2.txt\n",
      "saving lowz,s1 to double_source_ClY1/fiducial/lowz,s1.txt\n",
      "saving lowz,s2 to double_source_ClY1/fiducial/lowz,s2.txt\n",
      "saving cmass1,s1 to double_source_ClY1/fiducial/cmass1,s1.txt\n",
      "saving cmass1,s2 to double_source_ClY1/fiducial/cmass1,s2.txt\n",
      "saving cmass2,s1 to double_source_ClY1/fiducial/cmass2,s1.txt\n",
      "saving cmass2,s2 to double_source_ClY1/fiducial/cmass2,s2.txt\n",
      "saving s1,s1 to double_source_ClY1/fiducial/s1,s1.txt\n",
      "saving s1,s2 to double_source_ClY1/fiducial/s1,s2.txt\n",
      "saving s2,s1 to double_source_ClY1/fiducial/s2,s1.txt\n",
      "saving s2,s2 to double_source_ClY1/fiducial/s2,s2.txt\n",
      "saving cosmo_dict to double_source_ClY1/fiducial/cosmo_dict.json.\n",
      "saved galaxy sample lowz to galaxy_sample_lowz.json\n",
      "saved galaxy sample cmass1 to galaxy_sample_cmass1.json\n",
      "saved galaxy sample cmass2 to galaxy_sample_cmass2.json\n",
      "saved galaxy sample s1 to galaxy_sample_s1.json\n",
      "saved galaxy sample s2 to galaxy_sample_s2.json\n"
     ]
    }
   ],
   "source": [
    "param_fiducial = [0.02225, 0.1198, 0.6844, 0.831, 0.9645, 1.78, 2.10, 2.28, 2.259, 3.563, 3.729, 0.0, 0.0, 0.0, 0.0]\n",
    "compute(param_fiducial, 'fiducial', compute_lens_cross=True)"
   ]
  },
  {
   "cell_type": "code",
   "execution_count": 57,
   "metadata": {},
   "outputs": [
    {
     "name": "stdout",
     "output_type": "stream",
     "text": [
      "ln10p10As=3.1004205154513964\n",
      ":18.781662940979004 sec\n",
      "saving l to double_source_ClY1/omega_b/l.txt\n",
      "saving lowz,lowz to double_source_ClY1/omega_b/lowz,lowz.txt\n",
      "saving cmass1,cmass1 to double_source_ClY1/omega_b/cmass1,cmass1.txt\n",
      "saving cmass2,cmass2 to double_source_ClY1/omega_b/cmass2,cmass2.txt\n",
      "saving lowz,s1 to double_source_ClY1/omega_b/lowz,s1.txt\n",
      "saving lowz,s2 to double_source_ClY1/omega_b/lowz,s2.txt\n",
      "saving cmass1,s1 to double_source_ClY1/omega_b/cmass1,s1.txt\n",
      "saving cmass1,s2 to double_source_ClY1/omega_b/cmass1,s2.txt\n",
      "saving cmass2,s1 to double_source_ClY1/omega_b/cmass2,s1.txt\n",
      "saving cmass2,s2 to double_source_ClY1/omega_b/cmass2,s2.txt\n",
      "saving s1,s1 to double_source_ClY1/omega_b/s1,s1.txt\n",
      "saving s1,s2 to double_source_ClY1/omega_b/s1,s2.txt\n",
      "saving s2,s1 to double_source_ClY1/omega_b/s2,s1.txt\n",
      "saving s2,s2 to double_source_ClY1/omega_b/s2,s2.txt\n",
      "saving cosmo_dict to double_source_ClY1/omega_b/cosmo_dict.json.\n",
      "saved galaxy sample lowz to galaxy_sample_lowz.json\n",
      "saved galaxy sample cmass1 to galaxy_sample_cmass1.json\n",
      "saved galaxy sample cmass2 to galaxy_sample_cmass2.json\n",
      "saved galaxy sample s1 to galaxy_sample_s1.json\n",
      "saved galaxy sample s2 to galaxy_sample_s2.json\n"
     ]
    }
   ],
   "source": [
    "param = [0.02225*(1+dp), 0.1198, 0.6844, 0.831, 0.9645, 1.78, 2.10, 2.28, 2.259, 3.563, 3.729, 0.0, 0.0, 0.0, 0.0]\n",
    "compute(param, 'omega_b')\n",
    "save_dparam(0.02225*dp, 'omega_b')"
   ]
  },
  {
   "cell_type": "code",
   "execution_count": 58,
   "metadata": {},
   "outputs": [
    {
     "name": "stdout",
     "output_type": "stream",
     "text": [
      "ln10p10As=3.082645380931363\n",
      ":18.397737979888916 sec\n",
      "saving l to double_source_ClY1/omega_c/l.txt\n",
      "saving lowz,lowz to double_source_ClY1/omega_c/lowz,lowz.txt\n",
      "saving cmass1,cmass1 to double_source_ClY1/omega_c/cmass1,cmass1.txt\n",
      "saving cmass2,cmass2 to double_source_ClY1/omega_c/cmass2,cmass2.txt\n",
      "saving lowz,s1 to double_source_ClY1/omega_c/lowz,s1.txt\n",
      "saving lowz,s2 to double_source_ClY1/omega_c/lowz,s2.txt\n",
      "saving cmass1,s1 to double_source_ClY1/omega_c/cmass1,s1.txt\n",
      "saving cmass1,s2 to double_source_ClY1/omega_c/cmass1,s2.txt\n",
      "saving cmass2,s1 to double_source_ClY1/omega_c/cmass2,s1.txt\n",
      "saving cmass2,s2 to double_source_ClY1/omega_c/cmass2,s2.txt\n",
      "saving s1,s1 to double_source_ClY1/omega_c/s1,s1.txt\n",
      "saving s1,s2 to double_source_ClY1/omega_c/s1,s2.txt\n",
      "saving s2,s1 to double_source_ClY1/omega_c/s2,s1.txt\n",
      "saving s2,s2 to double_source_ClY1/omega_c/s2,s2.txt\n",
      "saving cosmo_dict to double_source_ClY1/omega_c/cosmo_dict.json.\n",
      "saved galaxy sample lowz to galaxy_sample_lowz.json\n",
      "saved galaxy sample cmass1 to galaxy_sample_cmass1.json\n",
      "saved galaxy sample cmass2 to galaxy_sample_cmass2.json\n",
      "saved galaxy sample s1 to galaxy_sample_s1.json\n",
      "saved galaxy sample s2 to galaxy_sample_s2.json\n"
     ]
    }
   ],
   "source": [
    "param = [0.02225, 0.1198*(1+dp), 0.6844, 0.831, 0.9645, 1.78, 2.10, 2.28, 2.259, 3.563, 3.729, 0.0, 0.0, 0.0, 0.0]\n",
    "compute(param, 'omega_c')\n",
    "save_dparam(0.1198*dp, 'omega_c')"
   ]
  },
  {
   "cell_type": "code",
   "execution_count": 59,
   "metadata": {},
   "outputs": [
    {
     "name": "stdout",
     "output_type": "stream",
     "text": [
      "ln10p10As=3.092196129211238\n",
      ":18.7086923122406 sec\n",
      "saving l to double_source_ClY1/Omega_de/l.txt\n",
      "saving lowz,lowz to double_source_ClY1/Omega_de/lowz,lowz.txt\n",
      "saving cmass1,cmass1 to double_source_ClY1/Omega_de/cmass1,cmass1.txt\n",
      "saving cmass2,cmass2 to double_source_ClY1/Omega_de/cmass2,cmass2.txt\n",
      "saving lowz,s1 to double_source_ClY1/Omega_de/lowz,s1.txt\n",
      "saving lowz,s2 to double_source_ClY1/Omega_de/lowz,s2.txt\n",
      "saving cmass1,s1 to double_source_ClY1/Omega_de/cmass1,s1.txt\n",
      "saving cmass1,s2 to double_source_ClY1/Omega_de/cmass1,s2.txt\n",
      "saving cmass2,s1 to double_source_ClY1/Omega_de/cmass2,s1.txt\n",
      "saving cmass2,s2 to double_source_ClY1/Omega_de/cmass2,s2.txt\n",
      "saving s1,s1 to double_source_ClY1/Omega_de/s1,s1.txt\n",
      "saving s1,s2 to double_source_ClY1/Omega_de/s1,s2.txt\n",
      "saving s2,s1 to double_source_ClY1/Omega_de/s2,s1.txt\n",
      "saving s2,s2 to double_source_ClY1/Omega_de/s2,s2.txt\n",
      "saving cosmo_dict to double_source_ClY1/Omega_de/cosmo_dict.json.\n",
      "saved galaxy sample lowz to galaxy_sample_lowz.json\n",
      "saved galaxy sample cmass1 to galaxy_sample_cmass1.json\n",
      "saved galaxy sample cmass2 to galaxy_sample_cmass2.json\n",
      "saved galaxy sample s1 to galaxy_sample_s1.json\n",
      "saved galaxy sample s2 to galaxy_sample_s2.json\n"
     ]
    }
   ],
   "source": [
    "param = [0.02225, 0.1198, 0.6844*(1+dp), 0.831, 0.9645, 1.78, 2.10, 2.28, 2.259, 3.563, 3.729, 0.0, 0.0, 0.0, 0.0]\n",
    "compute(param, 'Omega_de')\n",
    "save_dparam(0.6844*dp, 'Omega_de')"
   ]
  },
  {
   "cell_type": "code",
   "execution_count": 60,
   "metadata": {},
   "outputs": [
    {
     "name": "stdout",
     "output_type": "stream",
     "text": [
      "ln10p10As=3.117113353012285\n",
      ":19.120997190475464 sec\n",
      "saving l to double_source_ClY1/sigma8/l.txt\n",
      "saving lowz,lowz to double_source_ClY1/sigma8/lowz,lowz.txt\n",
      "saving cmass1,cmass1 to double_source_ClY1/sigma8/cmass1,cmass1.txt\n",
      "saving cmass2,cmass2 to double_source_ClY1/sigma8/cmass2,cmass2.txt\n",
      "saving lowz,s1 to double_source_ClY1/sigma8/lowz,s1.txt\n",
      "saving lowz,s2 to double_source_ClY1/sigma8/lowz,s2.txt\n",
      "saving cmass1,s1 to double_source_ClY1/sigma8/cmass1,s1.txt\n",
      "saving cmass1,s2 to double_source_ClY1/sigma8/cmass1,s2.txt\n",
      "saving cmass2,s1 to double_source_ClY1/sigma8/cmass2,s1.txt\n",
      "saving cmass2,s2 to double_source_ClY1/sigma8/cmass2,s2.txt\n",
      "saving s1,s1 to double_source_ClY1/sigma8/s1,s1.txt\n",
      "saving s1,s2 to double_source_ClY1/sigma8/s1,s2.txt\n",
      "saving s2,s1 to double_source_ClY1/sigma8/s2,s1.txt\n",
      "saving s2,s2 to double_source_ClY1/sigma8/s2,s2.txt\n",
      "saving cosmo_dict to double_source_ClY1/sigma8/cosmo_dict.json.\n",
      "saved galaxy sample lowz to galaxy_sample_lowz.json\n",
      "saved galaxy sample cmass1 to galaxy_sample_cmass1.json\n",
      "saved galaxy sample cmass2 to galaxy_sample_cmass2.json\n",
      "saved galaxy sample s1 to galaxy_sample_s1.json\n",
      "saved galaxy sample s2 to galaxy_sample_s2.json\n"
     ]
    }
   ],
   "source": [
    "param = [0.02225, 0.1198, 0.6844, 0.831*(1.0+dp), 0.9645, 1.78, 2.10, 2.28, 2.259, 3.563, 3.729, 0.0, 0.0, 0.0, 0.0]\n",
    "compute(param, 'sigma8')\n",
    "save_dparam(0.831*dp, 'sigma8')"
   ]
  },
  {
   "cell_type": "code",
   "execution_count": 61,
   "metadata": {},
   "outputs": [
    {
     "name": "stdout",
     "output_type": "stream",
     "text": [
      "ln10p10As=3.0899364412116435\n",
      ":20.33146858215332 sec\n",
      "saving l to double_source_ClY1/ns/l.txt\n",
      "saving lowz,lowz to double_source_ClY1/ns/lowz,lowz.txt\n",
      "saving cmass1,cmass1 to double_source_ClY1/ns/cmass1,cmass1.txt\n",
      "saving cmass2,cmass2 to double_source_ClY1/ns/cmass2,cmass2.txt\n",
      "saving lowz,s1 to double_source_ClY1/ns/lowz,s1.txt\n",
      "saving lowz,s2 to double_source_ClY1/ns/lowz,s2.txt\n",
      "saving cmass1,s1 to double_source_ClY1/ns/cmass1,s1.txt\n",
      "saving cmass1,s2 to double_source_ClY1/ns/cmass1,s2.txt\n",
      "saving cmass2,s1 to double_source_ClY1/ns/cmass2,s1.txt\n",
      "saving cmass2,s2 to double_source_ClY1/ns/cmass2,s2.txt\n",
      "saving s1,s1 to double_source_ClY1/ns/s1,s1.txt\n",
      "saving s1,s2 to double_source_ClY1/ns/s1,s2.txt\n",
      "saving s2,s1 to double_source_ClY1/ns/s2,s1.txt\n",
      "saving s2,s2 to double_source_ClY1/ns/s2,s2.txt\n",
      "saving cosmo_dict to double_source_ClY1/ns/cosmo_dict.json.\n",
      "saved galaxy sample lowz to galaxy_sample_lowz.json\n",
      "saved galaxy sample cmass1 to galaxy_sample_cmass1.json\n",
      "saved galaxy sample cmass2 to galaxy_sample_cmass2.json\n",
      "saved galaxy sample s1 to galaxy_sample_s1.json\n",
      "saved galaxy sample s2 to galaxy_sample_s2.json\n"
     ]
    }
   ],
   "source": [
    "param = [0.02225, 0.1198, 0.6844, 0.831, 0.9645*(1.0+dp), 1.78, 2.10, 2.28, 2.259, 3.563, 3.729, 0.0, 0.0, 0.0, 0.0]\n",
    "compute(param, 'ns')\n",
    "save_dparam(0.9645*dp, 'ns')"
   ]
  },
  {
   "cell_type": "code",
   "execution_count": 62,
   "metadata": {},
   "outputs": [
    {
     "name": "stdout",
     "output_type": "stream",
     "text": [
      "ln10p10As=3.0972126913059492\n",
      ":18.705849170684814 sec\n",
      "saving l to double_source_ClY1/b1lowz/l.txt\n",
      "saving lowz,lowz to double_source_ClY1/b1lowz/lowz,lowz.txt\n",
      "saving cmass1,cmass1 to double_source_ClY1/b1lowz/cmass1,cmass1.txt\n",
      "saving cmass2,cmass2 to double_source_ClY1/b1lowz/cmass2,cmass2.txt\n",
      "saving lowz,s1 to double_source_ClY1/b1lowz/lowz,s1.txt\n",
      "saving lowz,s2 to double_source_ClY1/b1lowz/lowz,s2.txt\n",
      "saving cmass1,s1 to double_source_ClY1/b1lowz/cmass1,s1.txt\n",
      "saving cmass1,s2 to double_source_ClY1/b1lowz/cmass1,s2.txt\n",
      "saving cmass2,s1 to double_source_ClY1/b1lowz/cmass2,s1.txt\n",
      "saving cmass2,s2 to double_source_ClY1/b1lowz/cmass2,s2.txt\n",
      "saving s1,s1 to double_source_ClY1/b1lowz/s1,s1.txt\n",
      "saving s1,s2 to double_source_ClY1/b1lowz/s1,s2.txt\n",
      "saving s2,s1 to double_source_ClY1/b1lowz/s2,s1.txt\n",
      "saving s2,s2 to double_source_ClY1/b1lowz/s2,s2.txt\n",
      "saving cosmo_dict to double_source_ClY1/b1lowz/cosmo_dict.json.\n",
      "saved galaxy sample lowz to galaxy_sample_lowz.json\n",
      "saved galaxy sample cmass1 to galaxy_sample_cmass1.json\n",
      "saved galaxy sample cmass2 to galaxy_sample_cmass2.json\n",
      "saved galaxy sample s1 to galaxy_sample_s1.json\n",
      "saved galaxy sample s2 to galaxy_sample_s2.json\n"
     ]
    }
   ],
   "source": [
    "param = [0.02225, 0.1198, 0.6844, 0.831, 0.9645, 1.78*(1.0+dp), 2.10, 2.28, 2.259, 3.563, 3.729, 0.0, 0.0, 0.0, 0.0]\n",
    "compute(param, 'b1lowz')\n",
    "save_dparam(1.78*dp, 'b1lowz')"
   ]
  },
  {
   "cell_type": "code",
   "execution_count": 63,
   "metadata": {},
   "outputs": [
    {
     "name": "stdout",
     "output_type": "stream",
     "text": [
      "ln10p10As=3.0972126913059492\n",
      ":19.28544592857361 sec\n",
      "saving l to double_source_ClY1/b1cmass1/l.txt\n",
      "saving lowz,lowz to double_source_ClY1/b1cmass1/lowz,lowz.txt\n",
      "saving cmass1,cmass1 to double_source_ClY1/b1cmass1/cmass1,cmass1.txt\n",
      "saving cmass2,cmass2 to double_source_ClY1/b1cmass1/cmass2,cmass2.txt\n",
      "saving lowz,s1 to double_source_ClY1/b1cmass1/lowz,s1.txt\n",
      "saving lowz,s2 to double_source_ClY1/b1cmass1/lowz,s2.txt\n",
      "saving cmass1,s1 to double_source_ClY1/b1cmass1/cmass1,s1.txt\n",
      "saving cmass1,s2 to double_source_ClY1/b1cmass1/cmass1,s2.txt\n",
      "saving cmass2,s1 to double_source_ClY1/b1cmass1/cmass2,s1.txt\n",
      "saving cmass2,s2 to double_source_ClY1/b1cmass1/cmass2,s2.txt\n",
      "saving s1,s1 to double_source_ClY1/b1cmass1/s1,s1.txt\n",
      "saving s1,s2 to double_source_ClY1/b1cmass1/s1,s2.txt\n",
      "saving s2,s1 to double_source_ClY1/b1cmass1/s2,s1.txt\n",
      "saving s2,s2 to double_source_ClY1/b1cmass1/s2,s2.txt\n",
      "saving cosmo_dict to double_source_ClY1/b1cmass1/cosmo_dict.json.\n",
      "saved galaxy sample lowz to galaxy_sample_lowz.json\n",
      "saved galaxy sample cmass1 to galaxy_sample_cmass1.json\n",
      "saved galaxy sample cmass2 to galaxy_sample_cmass2.json\n",
      "saved galaxy sample s1 to galaxy_sample_s1.json\n",
      "saved galaxy sample s2 to galaxy_sample_s2.json\n"
     ]
    }
   ],
   "source": [
    "param = [0.02225, 0.1198, 0.6844, 0.831, 0.9645, 1.78, 2.10*(1.0+dp), 2.28, 2.259, 3.563, 3.729, 0.0, 0.0, 0.0, 0.0]\n",
    "compute(param, 'b1cmass1')\n",
    "save_dparam(2.10*dp, 'b1cmass1')"
   ]
  },
  {
   "cell_type": "code",
   "execution_count": 64,
   "metadata": {},
   "outputs": [
    {
     "name": "stdout",
     "output_type": "stream",
     "text": [
      "ln10p10As=3.0972126913059492\n",
      ":18.41946291923523 sec\n",
      "saving l to double_source_ClY1/b1cmass2/l.txt\n",
      "saving lowz,lowz to double_source_ClY1/b1cmass2/lowz,lowz.txt\n",
      "saving cmass1,cmass1 to double_source_ClY1/b1cmass2/cmass1,cmass1.txt\n",
      "saving cmass2,cmass2 to double_source_ClY1/b1cmass2/cmass2,cmass2.txt\n",
      "saving lowz,s1 to double_source_ClY1/b1cmass2/lowz,s1.txt\n",
      "saving lowz,s2 to double_source_ClY1/b1cmass2/lowz,s2.txt\n",
      "saving cmass1,s1 to double_source_ClY1/b1cmass2/cmass1,s1.txt\n",
      "saving cmass1,s2 to double_source_ClY1/b1cmass2/cmass1,s2.txt\n",
      "saving cmass2,s1 to double_source_ClY1/b1cmass2/cmass2,s1.txt\n",
      "saving cmass2,s2 to double_source_ClY1/b1cmass2/cmass2,s2.txt\n",
      "saving s1,s1 to double_source_ClY1/b1cmass2/s1,s1.txt\n",
      "saving s1,s2 to double_source_ClY1/b1cmass2/s1,s2.txt\n",
      "saving s2,s1 to double_source_ClY1/b1cmass2/s2,s1.txt\n",
      "saving s2,s2 to double_source_ClY1/b1cmass2/s2,s2.txt\n",
      "saving cosmo_dict to double_source_ClY1/b1cmass2/cosmo_dict.json.\n",
      "saved galaxy sample lowz to galaxy_sample_lowz.json\n",
      "saved galaxy sample cmass1 to galaxy_sample_cmass1.json\n",
      "saved galaxy sample cmass2 to galaxy_sample_cmass2.json\n",
      "saved galaxy sample s1 to galaxy_sample_s1.json\n",
      "saved galaxy sample s2 to galaxy_sample_s2.json\n"
     ]
    }
   ],
   "source": [
    "param = [0.02225, 0.1198, 0.6844, 0.831, 0.9645, 1.78, 2.10, 2.28*(1.0+dp), 2.259, 3.563, 3.729, 0.0, 0.0, 0.0, 0.0]\n",
    "compute(param, 'b1cmass2')\n",
    "save_dparam(2.28*dp, 'b1cmass2')"
   ]
  },
  {
   "cell_type": "code",
   "execution_count": 65,
   "metadata": {},
   "outputs": [
    {
     "name": "stdout",
     "output_type": "stream",
     "text": [
      "ln10p10As=3.0972126913059492\n",
      ":18.431395053863525 sec\n",
      "saving l to double_source_ClY1/alphamaglowz/l.txt\n",
      "saving lowz,lowz to double_source_ClY1/alphamaglowz/lowz,lowz.txt\n",
      "saving cmass1,cmass1 to double_source_ClY1/alphamaglowz/cmass1,cmass1.txt\n",
      "saving cmass2,cmass2 to double_source_ClY1/alphamaglowz/cmass2,cmass2.txt\n",
      "saving lowz,s1 to double_source_ClY1/alphamaglowz/lowz,s1.txt\n",
      "saving lowz,s2 to double_source_ClY1/alphamaglowz/lowz,s2.txt\n",
      "saving cmass1,s1 to double_source_ClY1/alphamaglowz/cmass1,s1.txt\n",
      "saving cmass1,s2 to double_source_ClY1/alphamaglowz/cmass1,s2.txt\n",
      "saving cmass2,s1 to double_source_ClY1/alphamaglowz/cmass2,s1.txt\n",
      "saving cmass2,s2 to double_source_ClY1/alphamaglowz/cmass2,s2.txt\n",
      "saving s1,s1 to double_source_ClY1/alphamaglowz/s1,s1.txt\n",
      "saving s1,s2 to double_source_ClY1/alphamaglowz/s1,s2.txt\n",
      "saving s2,s1 to double_source_ClY1/alphamaglowz/s2,s1.txt\n",
      "saving s2,s2 to double_source_ClY1/alphamaglowz/s2,s2.txt\n",
      "saving cosmo_dict to double_source_ClY1/alphamaglowz/cosmo_dict.json.\n",
      "saved galaxy sample lowz to galaxy_sample_lowz.json\n",
      "saved galaxy sample cmass1 to galaxy_sample_cmass1.json\n",
      "saved galaxy sample cmass2 to galaxy_sample_cmass2.json\n",
      "saved galaxy sample s1 to galaxy_sample_s1.json\n",
      "saved galaxy sample s2 to galaxy_sample_s2.json\n"
     ]
    }
   ],
   "source": [
    "param = [0.02225, 0.1198, 0.6844, 0.831, 0.9645, 1.78, 2.10, 2.28, 2.259*(1.0+dp), 3.563, 3.729, 0.0, 0.0, 0.0, 0.0]\n",
    "compute(param, 'alphamaglowz')\n",
    "save_dparam(2.259*dp, 'alphamaglowz')"
   ]
  },
  {
   "cell_type": "code",
   "execution_count": 66,
   "metadata": {},
   "outputs": [
    {
     "name": "stdout",
     "output_type": "stream",
     "text": [
      "ln10p10As=3.0972126913059492\n",
      ":17.593789100646973 sec\n",
      "saving l to double_source_ClY1/alphamagcmass1/l.txt\n",
      "saving lowz,lowz to double_source_ClY1/alphamagcmass1/lowz,lowz.txt\n",
      "saving cmass1,cmass1 to double_source_ClY1/alphamagcmass1/cmass1,cmass1.txt\n",
      "saving cmass2,cmass2 to double_source_ClY1/alphamagcmass1/cmass2,cmass2.txt\n",
      "saving lowz,s1 to double_source_ClY1/alphamagcmass1/lowz,s1.txt\n",
      "saving lowz,s2 to double_source_ClY1/alphamagcmass1/lowz,s2.txt\n",
      "saving cmass1,s1 to double_source_ClY1/alphamagcmass1/cmass1,s1.txt\n",
      "saving cmass1,s2 to double_source_ClY1/alphamagcmass1/cmass1,s2.txt\n",
      "saving cmass2,s1 to double_source_ClY1/alphamagcmass1/cmass2,s1.txt\n",
      "saving cmass2,s2 to double_source_ClY1/alphamagcmass1/cmass2,s2.txt\n",
      "saving s1,s1 to double_source_ClY1/alphamagcmass1/s1,s1.txt\n",
      "saving s1,s2 to double_source_ClY1/alphamagcmass1/s1,s2.txt\n",
      "saving s2,s1 to double_source_ClY1/alphamagcmass1/s2,s1.txt\n",
      "saving s2,s2 to double_source_ClY1/alphamagcmass1/s2,s2.txt\n",
      "saving cosmo_dict to double_source_ClY1/alphamagcmass1/cosmo_dict.json.\n",
      "saved galaxy sample lowz to galaxy_sample_lowz.json\n",
      "saved galaxy sample cmass1 to galaxy_sample_cmass1.json\n",
      "saved galaxy sample cmass2 to galaxy_sample_cmass2.json\n",
      "saved galaxy sample s1 to galaxy_sample_s1.json\n",
      "saved galaxy sample s2 to galaxy_sample_s2.json\n"
     ]
    }
   ],
   "source": [
    "param = [0.02225, 0.1198, 0.6844, 0.831, 0.9645, 1.78, 2.10, 2.28, 2.259, 3.563*(1.0+dp), 3.729, 0.0, 0.0, 0.0, 0.0]\n",
    "compute(param, 'alphamagcmass1')\n",
    "save_dparam(3.563*dp, 'alphamagcmass1')"
   ]
  },
  {
   "cell_type": "code",
   "execution_count": 67,
   "metadata": {},
   "outputs": [
    {
     "name": "stdout",
     "output_type": "stream",
     "text": [
      "ln10p10As=3.0972126913059492\n",
      ":18.80568504333496 sec\n",
      "saving l to double_source_ClY1/alphamagcmass2/l.txt\n",
      "saving lowz,lowz to double_source_ClY1/alphamagcmass2/lowz,lowz.txt\n",
      "saving cmass1,cmass1 to double_source_ClY1/alphamagcmass2/cmass1,cmass1.txt\n",
      "saving cmass2,cmass2 to double_source_ClY1/alphamagcmass2/cmass2,cmass2.txt\n",
      "saving lowz,s1 to double_source_ClY1/alphamagcmass2/lowz,s1.txt\n",
      "saving lowz,s2 to double_source_ClY1/alphamagcmass2/lowz,s2.txt\n",
      "saving cmass1,s1 to double_source_ClY1/alphamagcmass2/cmass1,s1.txt\n",
      "saving cmass1,s2 to double_source_ClY1/alphamagcmass2/cmass1,s2.txt\n",
      "saving cmass2,s1 to double_source_ClY1/alphamagcmass2/cmass2,s1.txt\n",
      "saving cmass2,s2 to double_source_ClY1/alphamagcmass2/cmass2,s2.txt\n",
      "saving s1,s1 to double_source_ClY1/alphamagcmass2/s1,s1.txt\n",
      "saving s1,s2 to double_source_ClY1/alphamagcmass2/s1,s2.txt\n",
      "saving s2,s1 to double_source_ClY1/alphamagcmass2/s2,s1.txt\n",
      "saving s2,s2 to double_source_ClY1/alphamagcmass2/s2,s2.txt\n",
      "saving cosmo_dict to double_source_ClY1/alphamagcmass2/cosmo_dict.json.\n",
      "saved galaxy sample lowz to galaxy_sample_lowz.json\n",
      "saved galaxy sample cmass1 to galaxy_sample_cmass1.json\n",
      "saved galaxy sample cmass2 to galaxy_sample_cmass2.json\n",
      "saved galaxy sample s1 to galaxy_sample_s1.json\n",
      "saved galaxy sample s2 to galaxy_sample_s2.json\n"
     ]
    }
   ],
   "source": [
    "param = [0.02225, 0.1198, 0.6844, 0.831, 0.9645, 1.78, 2.10, 2.28, 2.259, 3.563, 3.729*(1.0+dp), 0.0, 0.0, 0.0, 0.0]\n",
    "compute(param, 'alphamagcmass2')\n",
    "save_dparam(3.729*dp, 'alphamagcmass2')"
   ]
  },
  {
   "cell_type": "code",
   "execution_count": 68,
   "metadata": {},
   "outputs": [
    {
     "name": "stdout",
     "output_type": "stream",
     "text": [
      "ln10p10As=3.0972126913059492\n",
      ":19.68395686149597 sec\n",
      "saving l to double_source_ClY1/dzph1/l.txt\n",
      "saving lowz,lowz to double_source_ClY1/dzph1/lowz,lowz.txt\n",
      "saving cmass1,cmass1 to double_source_ClY1/dzph1/cmass1,cmass1.txt\n",
      "saving cmass2,cmass2 to double_source_ClY1/dzph1/cmass2,cmass2.txt\n",
      "saving lowz,s1 to double_source_ClY1/dzph1/lowz,s1.txt\n",
      "saving lowz,s2 to double_source_ClY1/dzph1/lowz,s2.txt\n",
      "saving cmass1,s1 to double_source_ClY1/dzph1/cmass1,s1.txt\n",
      "saving cmass1,s2 to double_source_ClY1/dzph1/cmass1,s2.txt\n",
      "saving cmass2,s1 to double_source_ClY1/dzph1/cmass2,s1.txt\n",
      "saving cmass2,s2 to double_source_ClY1/dzph1/cmass2,s2.txt\n",
      "saving s1,s1 to double_source_ClY1/dzph1/s1,s1.txt\n",
      "saving s1,s2 to double_source_ClY1/dzph1/s1,s2.txt\n",
      "saving s2,s1 to double_source_ClY1/dzph1/s2,s1.txt\n",
      "saving s2,s2 to double_source_ClY1/dzph1/s2,s2.txt\n",
      "saving cosmo_dict to double_source_ClY1/dzph1/cosmo_dict.json.\n",
      "saved galaxy sample lowz to galaxy_sample_lowz.json\n",
      "saved galaxy sample cmass1 to galaxy_sample_cmass1.json\n",
      "saved galaxy sample cmass2 to galaxy_sample_cmass2.json\n",
      "saved galaxy sample s1 to galaxy_sample_s1.json\n",
      "saved galaxy sample s2 to galaxy_sample_s2.json\n"
     ]
    }
   ],
   "source": [
    "param = [0.02225, 0.1198, 0.6844, 0.831, 0.9645, 1.78, 2.10, 2.28, 2.259, 3.563, 3.729, dp, 0.0, 0.0, 0.0]\n",
    "compute(param, 'dzph1')\n",
    "save_dparam(dp, 'dzph1')"
   ]
  },
  {
   "cell_type": "code",
   "execution_count": 69,
   "metadata": {},
   "outputs": [
    {
     "name": "stdout",
     "output_type": "stream",
     "text": [
      "ln10p10As=3.0972126913059492\n",
      ":19.093994855880737 sec\n",
      "saving l to double_source_ClY1/dm1/l.txt\n",
      "saving lowz,lowz to double_source_ClY1/dm1/lowz,lowz.txt\n",
      "saving cmass1,cmass1 to double_source_ClY1/dm1/cmass1,cmass1.txt\n",
      "saving cmass2,cmass2 to double_source_ClY1/dm1/cmass2,cmass2.txt\n",
      "saving lowz,s1 to double_source_ClY1/dm1/lowz,s1.txt\n",
      "saving lowz,s2 to double_source_ClY1/dm1/lowz,s2.txt\n",
      "saving cmass1,s1 to double_source_ClY1/dm1/cmass1,s1.txt\n",
      "saving cmass1,s2 to double_source_ClY1/dm1/cmass1,s2.txt\n",
      "saving cmass2,s1 to double_source_ClY1/dm1/cmass2,s1.txt\n",
      "saving cmass2,s2 to double_source_ClY1/dm1/cmass2,s2.txt\n",
      "saving s1,s1 to double_source_ClY1/dm1/s1,s1.txt\n",
      "saving s1,s2 to double_source_ClY1/dm1/s1,s2.txt\n",
      "saving s2,s1 to double_source_ClY1/dm1/s2,s1.txt\n",
      "saving s2,s2 to double_source_ClY1/dm1/s2,s2.txt\n",
      "saving cosmo_dict to double_source_ClY1/dm1/cosmo_dict.json.\n",
      "saved galaxy sample lowz to galaxy_sample_lowz.json\n",
      "saved galaxy sample cmass1 to galaxy_sample_cmass1.json\n",
      "saved galaxy sample cmass2 to galaxy_sample_cmass2.json\n",
      "saved galaxy sample s1 to galaxy_sample_s1.json\n",
      "saved galaxy sample s2 to galaxy_sample_s2.json\n"
     ]
    }
   ],
   "source": [
    "param = [0.02225, 0.1198, 0.6844, 0.831, 0.9645, 1.78, 2.10, 2.28, 2.259, 3.563, 3.729, 0.0, dp, 0.0, 0.0]\n",
    "compute(param, 'dm1')\n",
    "save_dparam(dp, 'dm1')"
   ]
  },
  {
   "cell_type": "code",
   "execution_count": 70,
   "metadata": {},
   "outputs": [
    {
     "name": "stdout",
     "output_type": "stream",
     "text": [
      "ln10p10As=3.0972126913059492\n",
      ":19.195322275161743 sec\n",
      "saving l to double_source_ClY1/dzph2/l.txt\n",
      "saving lowz,lowz to double_source_ClY1/dzph2/lowz,lowz.txt\n",
      "saving cmass1,cmass1 to double_source_ClY1/dzph2/cmass1,cmass1.txt\n",
      "saving cmass2,cmass2 to double_source_ClY1/dzph2/cmass2,cmass2.txt\n",
      "saving lowz,s1 to double_source_ClY1/dzph2/lowz,s1.txt\n",
      "saving lowz,s2 to double_source_ClY1/dzph2/lowz,s2.txt\n",
      "saving cmass1,s1 to double_source_ClY1/dzph2/cmass1,s1.txt\n",
      "saving cmass1,s2 to double_source_ClY1/dzph2/cmass1,s2.txt\n",
      "saving cmass2,s1 to double_source_ClY1/dzph2/cmass2,s1.txt\n",
      "saving cmass2,s2 to double_source_ClY1/dzph2/cmass2,s2.txt\n",
      "saving s1,s1 to double_source_ClY1/dzph2/s1,s1.txt\n",
      "saving s1,s2 to double_source_ClY1/dzph2/s1,s2.txt\n",
      "saving s2,s1 to double_source_ClY1/dzph2/s2,s1.txt\n",
      "saving s2,s2 to double_source_ClY1/dzph2/s2,s2.txt\n",
      "saving cosmo_dict to double_source_ClY1/dzph2/cosmo_dict.json.\n",
      "saved galaxy sample lowz to galaxy_sample_lowz.json\n",
      "saved galaxy sample cmass1 to galaxy_sample_cmass1.json\n",
      "saved galaxy sample cmass2 to galaxy_sample_cmass2.json\n",
      "saved galaxy sample s1 to galaxy_sample_s1.json\n",
      "saved galaxy sample s2 to galaxy_sample_s2.json\n"
     ]
    }
   ],
   "source": [
    "param = [0.02225, 0.1198, 0.6844, 0.831, 0.9645, 1.78, 2.10, 2.28, 2.259, 3.563, 3.729, 0.0, 0.0, dp, 0.0]\n",
    "compute(param, 'dzph2')\n",
    "save_dparam(dp, 'dzph2')"
   ]
  },
  {
   "cell_type": "code",
   "execution_count": 71,
   "metadata": {},
   "outputs": [
    {
     "name": "stdout",
     "output_type": "stream",
     "text": [
      "ln10p10As=3.0972126913059492\n",
      ":19.446731090545654 sec\n",
      "saving l to double_source_ClY1/dm2/l.txt\n",
      "saving lowz,lowz to double_source_ClY1/dm2/lowz,lowz.txt\n",
      "saving cmass1,cmass1 to double_source_ClY1/dm2/cmass1,cmass1.txt\n",
      "saving cmass2,cmass2 to double_source_ClY1/dm2/cmass2,cmass2.txt\n",
      "saving lowz,s1 to double_source_ClY1/dm2/lowz,s1.txt\n",
      "saving lowz,s2 to double_source_ClY1/dm2/lowz,s2.txt\n",
      "saving cmass1,s1 to double_source_ClY1/dm2/cmass1,s1.txt\n",
      "saving cmass1,s2 to double_source_ClY1/dm2/cmass1,s2.txt\n",
      "saving cmass2,s1 to double_source_ClY1/dm2/cmass2,s1.txt\n",
      "saving cmass2,s2 to double_source_ClY1/dm2/cmass2,s2.txt\n",
      "saving s1,s1 to double_source_ClY1/dm2/s1,s1.txt\n",
      "saving s1,s2 to double_source_ClY1/dm2/s1,s2.txt\n",
      "saving s2,s1 to double_source_ClY1/dm2/s2,s1.txt\n",
      "saving s2,s2 to double_source_ClY1/dm2/s2,s2.txt\n",
      "saving cosmo_dict to double_source_ClY1/dm2/cosmo_dict.json.\n",
      "saved galaxy sample lowz to galaxy_sample_lowz.json\n",
      "saved galaxy sample cmass1 to galaxy_sample_cmass1.json\n",
      "saved galaxy sample cmass2 to galaxy_sample_cmass2.json\n",
      "saved galaxy sample s1 to galaxy_sample_s1.json\n",
      "saved galaxy sample s2 to galaxy_sample_s2.json\n"
     ]
    }
   ],
   "source": [
    "param = [0.02225, 0.1198, 0.6844, 0.831, 0.9645, 1.78, 2.10, 2.28, 2.259, 3.563, 3.729, 0.0, 0.0, 0.0, dp]\n",
    "compute(param, 'dm2')\n",
    "save_dparam(dp, 'dm2')"
   ]
  },
  {
   "cell_type": "code",
   "execution_count": 72,
   "metadata": {},
   "outputs": [],
   "source": [
    "np.savetxt(os.path.join(dirname, 'param_fiducial.txt'), np.array(param_fiducial))"
   ]
  },
  {
   "cell_type": "code",
   "execution_count": null,
   "metadata": {},
   "outputs": [],
   "source": []
  },
  {
   "cell_type": "code",
   "execution_count": null,
   "metadata": {},
   "outputs": [],
   "source": []
  }
 ],
 "metadata": {
  "kernelspec": {
   "display_name": "Python 3",
   "language": "python",
   "name": "python3"
  },
  "language_info": {
   "codemirror_mode": {
    "name": "ipython",
    "version": 3
   },
   "file_extension": ".py",
   "mimetype": "text/x-python",
   "name": "python",
   "nbconvert_exporter": "python",
   "pygments_lexer": "ipython3",
   "version": "3.7.2"
  }
 },
 "nbformat": 4,
 "nbformat_minor": 4
}
