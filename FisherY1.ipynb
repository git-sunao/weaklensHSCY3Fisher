{
 "cells": [
  {
   "cell_type": "code",
   "execution_count": 1,
   "metadata": {},
   "outputs": [
    {
     "name": "stdout",
     "output_type": "stream",
     "text": [
      "Populating the interactive namespace from numpy and matplotlib\n"
     ]
    }
   ],
   "source": [
    "%load_ext autoreload\n",
    "%autoreload 2\n",
    "%pylab inline"
   ]
  },
  {
   "cell_type": "code",
   "execution_count": 2,
   "metadata": {},
   "outputs": [
    {
     "name": "stdout",
     "output_type": "stream",
     "text": [
      "using dark_emulator at  /Users/sugiyamasunao/Documents/python_package/dark_emulator_public/dark_emulator/__init__.py\n"
     ]
    }
   ],
   "source": [
    "import numpy as np\n",
    "from dark_emulator_public import dark_emulator\n",
    "import os, sys, time, json\n",
    "import matplotlib.pyplot as plt\n",
    "from collections import OrderedDict as od\n",
    "from scipy.interpolate import InterpolatedUnivariateSpline as ius\n",
    "from scipy.interpolate import interp2d, interp1d\n",
    "from scipy.integrate import simps\n",
    "from tqdm import tqdm\n",
    "import hsc3x2pt"
   ]
  },
  {
   "cell_type": "code",
   "execution_count": 3,
   "metadata": {},
   "outputs": [
    {
     "name": "stdout",
     "output_type": "stream",
     "text": [
      "initialize cosmo_class\n",
      "Initialize pklin emulator\n",
      "initialize propagator emulator\n",
      "Initialize sigma_d emulator\n",
      "initialize cross-correlation emulator\n",
      "initialize auto-correlation emulator\n",
      "Initialize sigmaM emulator\n",
      "initialize xinl emulator\n"
     ]
    }
   ],
   "source": [
    "power_b1 = hsc3x2pt.power_b1_class()"
   ]
  },
  {
   "cell_type": "code",
   "execution_count": 33,
   "metadata": {},
   "outputs": [],
   "source": [
    "def getFisherMat(dirname, power_b1):\n",
    "    pk2cl_fid = hsc3x2pt.pk2cl_class(power_b1)\n",
    "    pk2cl_fid.load_Cl_cache(os.path.join(dirname, 'fiducial'))\n",
    "    \n",
    "    x = hsc3x2pt.radial_bin_class(pk2cl_fid.get_all_galaxy_sample())\n",
    "    \n",
    "    cov = hsc3x2pt.covariance_class(x)\n",
    "    cov.set_covariance_from_pk2cl(pk2cl_fid)\n",
    "    c = cov.get_full_covariance()\n",
    "    cc = hsc3x2pt.correlation_coeff(c)\n",
    "    ic = np.linalg.inv(c)\n",
    "    \n",
    "    y = hsc3x2pt.signal_class(x)\n",
    "    y.set_signal_from_pk2cl(pk2cl_fid)\n",
    "    v_fid = y.get_signal()\n",
    "    \n",
    "    file_param = json.load(open(os.path.join(dirname, 'file_param.json'), 'r'), object_pairs_hook=od)\n",
    "\n",
    "    v_list = []\n",
    "    dvdp_list = []\n",
    "    for fname, dp in file_param.items():\n",
    "        pk2cl = hsc3x2pt.pk2cl_class(power_b1)\n",
    "        pk2cl.load_Cl_cache(os.path.join(dirname, fname))\n",
    "        y.set_signal_from_pk2cl(pk2cl)\n",
    "        v = y.get_signal()\n",
    "        v_list.append(v)\n",
    "        dvdp = (v-v_fid)/dp\n",
    "        dvdp_list.append(dvdp)\n",
    "    dvdp_list = np.array(dvdp_list)\n",
    "    \n",
    "    F = np.dot(dvdp_list, np.dot(ic, dvdp_list.T))\n",
    "    param_names = list(file_param.keys())\n",
    "    return param_names,F"
   ]
  },
  {
   "cell_type": "code",
   "execution_count": 34,
   "metadata": {},
   "outputs": [],
   "source": [
    "def skip_column(arr, i):\n",
    "    if arr.ndim == 1:\n",
    "        return np.hstack([arr[:i], arr[i+1:]])\n",
    "    else:\n",
    "        return np.vstack([arr[:i, :], arr[i+1:, :]])\n",
    "\n",
    "def skipMat(mat, i):\n",
    "    return skip_column(skip_column(mat, i).T, i).T\n",
    "\n",
    "def getSigma(F, i):\n",
    "    F11 = F[i,i]\n",
    "    F12 = skip_column(F[i, :], i)\n",
    "    F22 = skipMat(F, i)\n",
    "    iF22 = np.linalg.inv(F22)\n",
    "\n",
    "    isigma2 = F11 - np.dot(F12, np.dot(iF22, F12))\n",
    "    sigma = 1.0/isigma2**0.5\n",
    "    return sigma"
   ]
  },
  {
   "cell_type": "markdown",
   "metadata": {},
   "source": [
    "# Year 1, single source bin analysis"
   ]
  },
  {
   "cell_type": "code",
   "execution_count": 36,
   "metadata": {},
   "outputs": [
    {
     "name": "stdout",
     "output_type": "stream",
     "text": [
      "CPU times: user 18.1 s, sys: 921 ms, total: 19 s\n",
      "Wall time: 4.98 s\n"
     ]
    }
   ],
   "source": [
    "%%time\n",
    "dirname = './single_source_ClY1'\n",
    "pnames, F = getFisherMat(dirname, power_b1)"
   ]
  },
  {
   "cell_type": "code",
   "execution_count": 37,
   "metadata": {},
   "outputs": [
    {
     "name": "stdout",
     "output_type": "stream",
     "text": [
      "omega_b 0.039067965586619346\n",
      "omega_c 0.08725041644590159\n",
      "Omega_de 0.06531512993236395\n",
      "n_s 0.09434801893222415\n",
      "ln10p10As 0.6027872131776162\n",
      "b1lowz 0.2805740986879434\n",
      "b1cmass1 0.2012227284421203\n",
      "b1cmass2 0.21148498307778432\n",
      "alphamaglowz 46.955828264095864\n",
      "alphamagcmass1 3.566664369993745\n",
      "alphamagcmass2 2.6923238913942926\n",
      "dzph 0.2928971036637266\n",
      "dm 0.35065637471566535\n"
     ]
    }
   ],
   "source": [
    "for i in range(13):\n",
    "    sigma = getSigma(F, i)\n",
    "    print(pnames[i], sigma)"
   ]
  },
  {
   "cell_type": "code",
   "execution_count": 26,
   "metadata": {},
   "outputs": [
    {
     "data": {
      "text/plain": [
       "(12,)"
      ]
     },
     "execution_count": 26,
     "metadata": {},
     "output_type": "execute_result"
    }
   ],
   "source": []
  },
  {
   "cell_type": "code",
   "execution_count": 27,
   "metadata": {},
   "outputs": [
    {
     "data": {
      "text/plain": [
       "(12, 12)"
      ]
     },
     "execution_count": 27,
     "metadata": {},
     "output_type": "execute_result"
    }
   ],
   "source": [
    "iF22.shape"
   ]
  },
  {
   "cell_type": "code",
   "execution_count": 24,
   "metadata": {},
   "outputs": [
    {
     "data": {
      "text/plain": [
       "(12, 12)"
      ]
     },
     "execution_count": 24,
     "metadata": {},
     "output_type": "execute_result"
    }
   ],
   "source": [
    "F22.shape"
   ]
  },
  {
   "cell_type": "code",
   "execution_count": null,
   "metadata": {},
   "outputs": [],
   "source": []
  },
  {
   "cell_type": "code",
   "execution_count": null,
   "metadata": {},
   "outputs": [],
   "source": []
  },
  {
   "cell_type": "code",
   "execution_count": 6,
   "metadata": {},
   "outputs": [],
   "source": [
    "pk2cl_fid = hsc3x2pt.pk2cl_class(power_b1)\n",
    "pk2cl_fid.load_Cl_cache(os.path.join(dirname, 'fiducial'))"
   ]
  },
  {
   "cell_type": "code",
   "execution_count": 7,
   "metadata": {},
   "outputs": [],
   "source": [
    "x = hsc3x2pt.radial_bin_class(pk2cl_fid.get_all_galaxy_sample())"
   ]
  },
  {
   "cell_type": "code",
   "execution_count": 8,
   "metadata": {},
   "outputs": [],
   "source": [
    "cov = hsc3x2pt.covariance_class(x)\n",
    "cov.set_covariance_from_pk2cl(pk2cl_fid)\n",
    "c = cov.get_full_covariance()\n",
    "cc = hsc3x2pt.correlation_coeff(c)\n",
    "ic = np.linalg.inv(c)"
   ]
  },
  {
   "cell_type": "code",
   "execution_count": 9,
   "metadata": {},
   "outputs": [],
   "source": [
    "y = hsc3x2pt.signal_class(x)\n",
    "y.set_signal_from_pk2cl(pk2cl_fid)\n",
    "v_fid = y.get_signal()"
   ]
  },
  {
   "cell_type": "code",
   "execution_count": 10,
   "metadata": {},
   "outputs": [],
   "source": [
    "F = getFisherMat(dirname, power_b1, ic, v_fid)"
   ]
  },
  {
   "cell_type": "code",
   "execution_count": null,
   "metadata": {},
   "outputs": [],
   "source": []
  },
  {
   "cell_type": "code",
   "execution_count": null,
   "metadata": {},
   "outputs": [],
   "source": []
  },
  {
   "cell_type": "code",
   "execution_count": null,
   "metadata": {},
   "outputs": [],
   "source": []
  },
  {
   "cell_type": "code",
   "execution_count": null,
   "metadata": {},
   "outputs": [],
   "source": []
  },
  {
   "cell_type": "code",
   "execution_count": null,
   "metadata": {},
   "outputs": [],
   "source": []
  },
  {
   "cell_type": "code",
   "execution_count": null,
   "metadata": {},
   "outputs": [],
   "source": []
  }
 ],
 "metadata": {
  "kernelspec": {
   "display_name": "Python 3",
   "language": "python",
   "name": "python3"
  },
  "language_info": {
   "codemirror_mode": {
    "name": "ipython",
    "version": 3
   },
   "file_extension": ".py",
   "mimetype": "text/x-python",
   "name": "python",
   "nbconvert_exporter": "python",
   "pygments_lexer": "ipython3",
   "version": "3.7.3"
  }
 },
 "nbformat": 4,
 "nbformat_minor": 4
}
